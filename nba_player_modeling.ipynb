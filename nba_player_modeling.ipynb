{
 "cells": [
  {
   "cell_type": "code",
   "execution_count": null,
   "metadata": {
    "ExecuteTime": {
     "end_time": "2019-12-28T22:27:44.483829Z",
     "start_time": "2019-12-28T22:27:44.477560Z"
    }
   },
   "outputs": [],
   "source": [
    "import requests\n",
    "import lxml\n",
    "from pprint import pprint\n",
    "from bs4 import BeautifulSoup\n",
    "from selenium import webdriver\n",
    "\n",
    "\n",
    "# url = \"https://stats.nba.com/player/1628369/boxscores-traditional/\"\n",
    "\n",
    "# page = requests.get(url,'lxml')\n",
    "\n",
    "# soup = BeautifulSoup(page.content)\n",
    "# pprint(soup.prettify()[:1000])\n"
   ]
  },
  {
   "cell_type": "markdown",
   "metadata": {},
   "source": [
    "### NOW SCRAPING THE INDEX OF PLAYERS"
   ]
  },
  {
   "cell_type": "code",
   "execution_count": null,
   "metadata": {
    "ExecuteTime": {
     "end_time": "2019-12-28T15:13:58.658227Z",
     "start_time": "2019-12-28T15:13:55.197844Z"
    }
   },
   "outputs": [],
   "source": [
    "driver = webdriver.Chrome()\n",
    "url = 'https://stats.nba.com/players/list/'\n",
    "driver.get(url)"
   ]
  },
  {
   "cell_type": "code",
   "execution_count": null,
   "metadata": {},
   "outputs": [],
   "source": [
    "soup = BeautifulSoup(driver.page_source)\n",
    "soup.find_all('li',class_='players-list__name')[:5]"
   ]
  },
  {
   "cell_type": "code",
   "execution_count": null,
   "metadata": {},
   "outputs": [],
   "source": [
    "players = soup.find_all('li',class_='players-list__name')\n",
    "players[0]"
   ]
  },
  {
   "cell_type": "code",
   "execution_count": null,
   "metadata": {},
   "outputs": [],
   "source": [
    "## Get player index \n",
    "player_index = []\n",
    "for player in players:\n",
    "    tag = player.find('a')\n",
    "    player_index.append([tag.text, tag['href']])\n",
    "\n",
    "player_index\n"
   ]
  },
  {
   "cell_type": "code",
   "execution_count": null,
   "metadata": {
    "ExecuteTime": {
     "end_time": "2019-12-29T23:42:15.592777Z",
     "start_time": "2019-12-29T23:42:15.406816Z"
    }
   },
   "outputs": [],
   "source": [
    "PLAYERS = {}\n",
    "for i in range(len(player_index)):\n",
    "\n",
    "    player = player_index[i]\n",
    "    PLAYERS[player[0]] = player[1].split('/')[-2]\n",
    "\n",
    "PLAYERS"
   ]
  },
  {
   "cell_type": "code",
   "execution_count": null,
   "metadata": {},
   "outputs": [],
   "source": [
    "import pandas as pd\n",
    "df = pd.Series(PLAYERS)#,columns=['Player','ID'])#.to_csv(\"data/players/players-index.csv\")\n",
    "df =df.reset_index()\n",
    "df.columns = ['player','stats.nba id']\n",
    "df"
   ]
  },
  {
   "cell_type": "code",
   "execution_count": null,
   "metadata": {},
   "outputs": [],
   "source": [
    "df.to_csv(\"data/players/players-index.csv\")"
   ]
  },
  {
   "cell_type": "markdown",
   "metadata": {},
   "source": [
    "## SAVED INDEX"
   ]
  },
  {
   "cell_type": "code",
   "execution_count": null,
   "metadata": {},
   "outputs": [],
   "source": [
    "\n",
    "exp = re.compile(r'player/(\\d+)/..([A-Za-z- ,]+)')\n",
    "exp.findall(player_index[0][1])"
   ]
  },
  {
   "cell_type": "code",
   "execution_count": null,
   "metadata": {},
   "outputs": [],
   "source": [
    "import re\n",
    "for player in player_info:\n",
    "    print(tyupe(player))\n",
    "    exp = re.compile(r'player/(\\d+)/..([A-Za-z- ,]+)')\n",
    "    matches = re.findall(,player)\n",
    "    "
   ]
  },
  {
   "cell_type": "code",
   "execution_count": null,
   "metadata": {},
   "outputs": [],
   "source": [
    "players[0].find_all('a',href=True)[0]['href']"
   ]
  },
  {
   "cell_type": "code",
   "execution_count": null,
   "metadata": {},
   "outputs": [],
   "source": []
  },
  {
   "cell_type": "code",
   "execution_count": null,
   "metadata": {},
   "outputs": [],
   "source": []
  },
  {
   "cell_type": "code",
   "execution_count": null,
   "metadata": {},
   "outputs": [],
   "source": []
  },
  {
   "cell_type": "code",
   "execution_count": null,
   "metadata": {},
   "outputs": [],
   "source": []
  },
  {
   "cell_type": "code",
   "execution_count": null,
   "metadata": {},
   "outputs": [],
   "source": []
  },
  {
   "cell_type": "code",
   "execution_count": null,
   "metadata": {},
   "outputs": [],
   "source": [
    "row_tags = soup.find_all('tr')\n",
    "row_tags[0].text"
   ]
  },
  {
   "cell_type": "code",
   "execution_count": null,
   "metadata": {},
   "outputs": [],
   "source": []
  },
  {
   "cell_type": "code",
   "execution_count": null,
   "metadata": {},
   "outputs": [],
   "source": [
    "row_tags[1].text"
   ]
  },
  {
   "cell_type": "code",
   "execution_count": null,
   "metadata": {},
   "outputs": [],
   "source": [
    "headers = row_tags[0].text.replace('\\n',',')\n",
    "if headers[0]==',':\n",
    "    headers = headers[1:]\n",
    "headers"
   ]
  },
  {
   "cell_type": "code",
   "execution_count": null,
   "metadata": {},
   "outputs": [],
   "source": [
    "headers = row_tags[0].text.split('\\n')\n",
    "row1 = row_tags[1].text.split('\\n')\n",
    "row2 = row_tags[2].text.split('\\n')\n",
    "\n",
    "print(len(headers),len(row1),len(row2))\n",
    "print(headers,row1,row2,sep='\\n\\n')"
   ]
  },
  {
   "cell_type": "code",
   "execution_count": null,
   "metadata": {},
   "outputs": [],
   "source": [
    "row_data = row_tags[1].text.replace('\\n',',')\n",
    "row_data"
   ]
  },
  {
   "cell_type": "code",
   "execution_count": null,
   "metadata": {},
   "outputs": [],
   "source": []
  },
  {
   "cell_type": "markdown",
   "metadata": {},
   "source": [
    "### Summary:\n",
    "- Using the .text and splitting may not be the best strategy\n",
    "- Try searching for tags like `td` inside of the table rows for better extraction"
   ]
  },
  {
   "cell_type": "code",
   "execution_count": null,
   "metadata": {},
   "outputs": [],
   "source": [
    "head = row_tags[0]\n",
    "print(len(head.find_all('th')))\n",
    "\n",
    "\n",
    "column_names = [t.text for t in head.find_all('th')]\n",
    "column_names"
   ]
  },
  {
   "cell_type": "code",
   "execution_count": null,
   "metadata": {},
   "outputs": [],
   "source": [
    "row = row_tags[1]\n",
    "len(row.find_all('td'))\n",
    "[print(i,':',t.text) for i,t in enumerate(row.find_all('td'))]"
   ]
  },
  {
   "cell_type": "code",
   "execution_count": null,
   "metadata": {},
   "outputs": [],
   "source": [
    "row_data = [t.text.strip('\\n').strip() for t in row.find_all('td')]\n",
    "len(row_data)"
   ]
  },
  {
   "cell_type": "code",
   "execution_count": null,
   "metadata": {},
   "outputs": [],
   "source": [
    "import pandas as pd\n",
    "pd.set_option('display.max_columns',0)\n",
    "## Get header/column names\n",
    "head = row_tags[0]\n",
    "column_names = [t.text for t in head.find_all('th')]\n",
    "\n",
    "data = []\n",
    "for row in row_tags[1:]:\n",
    "    row_data = [t.text.strip('\\n').strip() for t in row.find_all('td')]\n",
    "    data.append(row_data)\n",
    "\n",
    "df = pd.DataFrame(data,columns=column_names)\n",
    "df.head(5)"
   ]
  },
  {
   "cell_type": "code",
   "execution_count": null,
   "metadata": {},
   "outputs": [],
   "source": [
    "df.dtypes"
   ]
  },
  {
   "cell_type": "code",
   "execution_count": null,
   "metadata": {},
   "outputs": [],
   "source": [
    "\n",
    "df.columns"
   ]
  },
  {
   "cell_type": "code",
   "execution_count": null,
   "metadata": {},
   "outputs": [],
   "source": [
    "float_cols= [col for col in df.columns if '%' in col]\n",
    "float_cols"
   ]
  },
  {
   "cell_type": "code",
   "execution_count": null,
   "metadata": {},
   "outputs": [],
   "source": [
    "obj_cols= ['Match Up','W/L']\n",
    "int_cols = [col for col in df.columns if (col not in float_cols) and (col not in obj_cols)]\n",
    "int_cols"
   ]
  },
  {
   "cell_type": "code",
   "execution_count": null,
   "metadata": {},
   "outputs": [],
   "source": [
    "\n",
    "df[~df.isna()]"
   ]
  },
  {
   "cell_type": "code",
   "execution_count": null,
   "metadata": {},
   "outputs": [],
   "source": [
    "\n",
    "df.dropna(inplace=True)"
   ]
  },
  {
   "cell_type": "code",
   "execution_count": null,
   "metadata": {},
   "outputs": [],
   "source": [
    "df[int_cols] = df[int_cols].astype('int')\n",
    "df[float_cols] = df[float_cols].astype('float')\n",
    "df.info()"
   ]
  },
  {
   "cell_type": "markdown",
   "metadata": {},
   "source": [
    "## Now Use Selenium to Select the Last 2 Seasons and repeat"
   ]
  },
  {
   "cell_type": "code",
   "execution_count": null,
   "metadata": {},
   "outputs": [],
   "source": [
    "\n",
    "sel_season = soup.find_all('select',attrs=dict(name='Season'))\n",
    "sel_season[0].find_all('option')"
   ]
  },
  {
   "cell_type": "code",
   "execution_count": null,
   "metadata": {},
   "outputs": [],
   "source": [
    "option = driver.find_element_by_css_selector('option')\n",
    "option.click()"
   ]
  },
  {
   "cell_type": "code",
   "execution_count": null,
   "metadata": {},
   "outputs": [],
   "source": [
    "season = driver.find_element_by_xpath(\"/html/body/main/div[2]/div/div/div[3]/div/div/div/div[1]/div[1]/div/div/label/select\")\n",
    "season.click()\n"
   ]
  },
  {
   "cell_type": "markdown",
   "metadata": {},
   "source": [
    "\n",
    "#### Page URLS May be easier to generate than click on interface\n"
   ]
  },
  {
   "cell_type": "code",
   "execution_count": null,
   "metadata": {},
   "outputs": [],
   "source": [
    "url_2019_20 = 'https://stats.nba.com/player/1628369/boxscores-traditional/?Season=2019-20&SeasonType=Regular%20Season'\n",
    "url_2018_19 = 'https://stats.nba.com/player/1628369/boxscores-traditional/?Season=2018-19&SeasonType=Regular%20Season'\n",
    "url_2017_18 = 'https://stats.nba.com/player/1628369/boxscores-traditional/?Season=2017-18&SeasonType=Regular%20Season'\n",
    "\n",
    "## SEPARATING ABOVE INTO F_STRING \n",
    "player_id = '1628369'\n",
    "base_url = f\"https://stats.nba.com/player/{player_id}/boxscores-traditional/\"\n",
    "\n",
    "\n",
    "\n",
    "seasons= {}\n",
    "seasons[2019] = dict(start_YR = '2019', end_yr = '20')\n",
    "seasons[2018] = dict(start_YR = '2018', end_yr = '19')\n",
    "seasons[2017] = dict(start_YR = '2017', end_yr = '18')\n",
    "\n",
    "## seasons have 4 digit start year and 2 digit end year\n",
    "season_urls = []\n",
    "for year in seasons:\n",
    "    start_YR = seasons[year]['start_YR']\n",
    "    end_yr = seasons[year]['end_yr']\n",
    "    season_suffix = f\"?Season={start_YR}-{end_yr}&SeasonType=Regular%20Season\"\n",
    "    full_url = base_url+season_suffix\n",
    "    season_urls.append(full_url)\n",
    "\n",
    "print(season_urls)\n",
    "\n"
   ]
  },
  {
   "cell_type": "code",
   "execution_count": null,
   "metadata": {},
   "outputs": [],
   "source": [
    "# for url in season_urls:\n",
    "#     driver.get(url)\n",
    "# # driver.get(full_url)"
   ]
  },
  {
   "cell_type": "code",
   "execution_count": null,
   "metadata": {},
   "outputs": [],
   "source": [
    "import nba_stats as ns\n",
    "\n",
    "df = ns.get_season_df(season_urls[0])"
   ]
  },
  {
   "cell_type": "code",
   "execution_count": null,
   "metadata": {},
   "outputs": [],
   "source": [
    "df['date'] = df['Match Up'].apply(lambda x: x.split('-')[0])\n",
    "df['teams'] = df['Match Up'].apply(lambda x: x.split('-')[1])"
   ]
  },
  {
   "cell_type": "code",
   "execution_count": null,
   "metadata": {},
   "outputs": [],
   "source": [
    "import pandas as pd\n",
    "df['date'] = pd.to_datetime(df['date'])\n",
    "df.set_index('date')"
   ]
  },
  {
   "cell_type": "code",
   "execution_count": null,
   "metadata": {},
   "outputs": [],
   "source": [
    "import fsds_100719 as fs \n",
    "fs.reload(ns)"
   ]
  },
  {
   "cell_type": "code",
   "execution_count": null,
   "metadata": {},
   "outputs": [],
   "source": [
    "df2 = ns.get_season_df(season_urls[1])\n",
    "df2"
   ]
  },
  {
   "cell_type": "code",
   "execution_count": null,
   "metadata": {},
   "outputs": [],
   "source": [
    "season_years=[2019,2018,2017]\n",
    "seasons= {}\n",
    "for year in season_years:\n",
    "    seasons[year] = dict(start_YR = str(year), end_yr = str(year+1)[-2:])\n",
    "seasons"
   ]
  },
  {
   "cell_type": "code",
   "execution_count": null,
   "metadata": {},
   "outputs": [],
   "source": [
    "fs.reload(ns)\n",
    "ns.make_season_urls_from_playerid()"
   ]
  },
  {
   "cell_type": "code",
   "execution_count": null,
   "metadata": {},
   "outputs": [],
   "source": [
    "fs.reload(ns)\n",
    "\n",
    "df_list = ns.get_all_seasons_df(player_id=1628369)"
   ]
  },
  {
   "cell_type": "code",
   "execution_count": null,
   "metadata": {},
   "outputs": [],
   "source": [
    "df_list[0]"
   ]
  },
  {
   "cell_type": "code",
   "execution_count": null,
   "metadata": {},
   "outputs": [],
   "source": [
    "df_combined = pd.concat(df_list,axis=0)\n",
    "df_combined"
   ]
  },
  {
   "cell_type": "code",
   "execution_count": null,
   "metadata": {},
   "outputs": [],
   "source": [
    "fs.reload(ns)\n",
    "df_full = ns.get_all_seasons_df(player_id=1628369)\n",
    "display(df_full.head(),df_full.tail())"
   ]
  },
  {
   "cell_type": "code",
   "execution_count": null,
   "metadata": {},
   "outputs": [],
   "source": [
    "season_urls"
   ]
  },
  {
   "cell_type": "code",
   "execution_count": null,
   "metadata": {},
   "outputs": [],
   "source": [
    "season_urls[0].split('/')[4]"
   ]
  },
  {
   "cell_type": "markdown",
   "metadata": {},
   "source": [
    "# SAVING COPIED MARKDOWN TABLES TO CSVS"
   ]
  },
  {
   "cell_type": "code",
   "execution_count": null,
   "metadata": {},
   "outputs": [],
   "source": [
    "# df_nba_stats_glossary = pd.read_clipboard(sep='|')"
   ]
  },
  {
   "cell_type": "code",
   "execution_count": null,
   "metadata": {},
   "outputs": [],
   "source": [
    "# df_nba_stats_glossary.columns = [col.strip() for col in df_nba_stats_glossary.columns]"
   ]
  },
  {
   "cell_type": "code",
   "execution_count": null,
   "metadata": {},
   "outputs": [],
   "source": [
    "# df_nba_stats_glossary = df_nba_stats_glossary[['COLUMN','MEANING']]"
   ]
  },
  {
   "cell_type": "code",
   "execution_count": null,
   "metadata": {},
   "outputs": [],
   "source": [
    "# df_nba_stats_glossary.drop(0,inplace=True)\n",
    "# df_nba_stats_glossary"
   ]
  },
  {
   "cell_type": "code",
   "execution_count": null,
   "metadata": {},
   "outputs": [],
   "source": [
    "# df_nba_stats_glossary.to_csv('nba_stats_glossary.csv')\n",
    "df_nba_stats_glossary=pd.read_csv('nba_stats_glossary.csv',index_col=0)\n",
    "df_nba_stats_glossary"
   ]
  },
  {
   "cell_type": "code",
   "execution_count": null,
   "metadata": {},
   "outputs": [],
   "source": [
    "# df_pts = pd.read_clipboard(sep='|')\n",
    "# df_pts.columns = [col.strip() for col in df_pts.columns]\n",
    "# df_pts.drop(0,inplace=True)\n",
    "# df_pts = df_pts[['STAT','PTS']]\n",
    "# df_pts"
   ]
  },
  {
   "cell_type": "code",
   "execution_count": null,
   "metadata": {},
   "outputs": [],
   "source": [
    "# df_pts.to_csv('fantasy_points_conversion.csv')\n",
    "df_pts = pd.read_csv('fantasy_points_conversion.csv',index_col=0)\n",
    "df_pts"
   ]
  },
  {
   "cell_type": "markdown",
   "metadata": {},
   "source": [
    "## SAVING PLAYER CSV\n",
    "- Now in ns.save_player_df"
   ]
  },
  {
   "cell_type": "code",
   "execution_count": null,
   "metadata": {},
   "outputs": [],
   "source": [
    "# import os,sys\n",
    "# print(os.listdir())\n",
    "# os.makedirs(\"data/players/\" ,exist_ok=True)\n",
    "# # print('\\n\\n',os.listdir('/data'))\n",
    "df_full.head()"
   ]
  },
  {
   "cell_type": "code",
   "execution_count": null,
   "metadata": {},
   "outputs": [],
   "source": [
    "filename=f\"data/players/player_id_{df_full['player_id'][0]}.csv\"\n",
    "filename\n",
    "df_full.to_csv(filename)"
   ]
  },
  {
   "cell_type": "markdown",
   "metadata": {},
   "source": [
    "# CALCULATING FANTASY POINTS"
   ]
  },
  {
   "cell_type": "code",
   "execution_count": null,
   "metadata": {},
   "outputs": [],
   "source": [
    "points = pd.read_csv('fantasy_points_conversion.csv',index_col=0)\n",
    "points"
   ]
  },
  {
   "cell_type": "code",
   "execution_count": null,
   "metadata": {},
   "outputs": [],
   "source": [
    "pts = dict(zip(points['STAT'],points['PTS']))\n",
    "pts"
   ]
  },
  {
   "cell_type": "code",
   "execution_count": null,
   "metadata": {},
   "outputs": [],
   "source": [
    "df_fantasy = df_full.copy()\n",
    "pts_cols= []\n",
    "for k,v in pts.items():\n",
    "    col_name = k+'_pts'\n",
    "    df_fantasy[col_name] = df_fantasy[k].apply(lambda x: x*pts[k])\n",
    "    pts_cols.append(col_name)\n",
    "\n",
    "\n",
    "df_fantasy['total_pts'] = df_fantasy.apply(lambda x: x[pts_cols].sum(),axis=1)\n",
    "df_fantasy\n",
    "    "
   ]
  },
  {
   "cell_type": "code",
   "execution_count": null,
   "metadata": {},
   "outputs": [],
   "source": [
    "fs.reload(ns)\n",
    "test_df = ns.calc_fantasy_stats(df_full)"
   ]
  },
  {
   "cell_type": "code",
   "execution_count": null,
   "metadata": {},
   "outputs": [],
   "source": [
    "test_df"
   ]
  },
  {
   "cell_type": "markdown",
   "metadata": {},
   "source": [
    "# WORKFLOW SUMMARY"
   ]
  },
  {
   "cell_type": "markdown",
   "metadata": {},
   "source": [
    "1. Get player's nba_stats id#\n",
    "2. `import nba_stats as ns`\n",
    "3. Can directly run `df = ns.get_all_seasons_df(player_id= the_players_id)` (see note below: \\$:)\n",
    "4. `df = ns.calc_fantasy_stats(df)`\n",
    "5. `ns.save_player_df(df)`\n",
    "\n",
    "\\$: Can instead run helper functions individually if don't want all seasons\n",
    "- `season_urls=ns.make_season_urls_from_playerid`\n",
    "- `df = ns.get_season_df(season_url[0])`\n",
    "\n",
    "\n",
    "\n"
   ]
  },
  {
   "cell_type": "code",
   "execution_count": null,
   "metadata": {},
   "outputs": [],
   "source": [
    "import nba_stats as ns\n",
    "player_id=1628369\n",
    "df = ns.get_all_seasons_df(player_id=player_id)\n",
    "df = ns.calc_fantasy_stats(df)\n",
    "ns.save_player_df(df)\n"
   ]
  },
  {
   "cell_type": "markdown",
   "metadata": {},
   "source": [
    "# TESTING EXTRACTING TODAY'S PLAYERS FROM NBA STATS"
   ]
  },
  {
   "cell_type": "code",
   "execution_count": null,
   "metadata": {},
   "outputs": [],
   "source": [
    "\n",
    "player_index = pd.read_csv('data/players/players-index.csv',index_col=0)\n",
    "player_index.set_index('player',inplace=True)"
   ]
  },
  {
   "cell_type": "code",
   "execution_count": null,
   "metadata": {},
   "outputs": [],
   "source": [
    "df_game = pd.read_csv('data/AFTER-HOURS-MULTI-FanDuel-NBA-2019-12-27-42081-players-list.csv')\n",
    "df_game"
   ]
  },
  {
   "cell_type": "code",
   "execution_count": null,
   "metadata": {},
   "outputs": [],
   "source": [
    "df_game['nba_name'] = df_game['Last Name'] +', '+df_game['First Name']\n",
    "df_game"
   ]
  },
  {
   "cell_type": "code",
   "execution_count": null,
   "metadata": {},
   "outputs": [],
   "source": [
    "def lookup_player(x):\n",
    "    if x in player_index.index:\n",
    "        return player_index.loc[x]\n",
    "    else:\n",
    "        print(f\"{x} not in player index\")\n",
    "\n",
    "df_game['nba_id'] = df_game['nba_name'].apply(lookup_player)\n",
    "df_game"
   ]
  },
  {
   "cell_type": "code",
   "execution_count": null,
   "metadata": {},
   "outputs": [],
   "source": [
    "todays_players= list(df_game['nba_name'])\n",
    "list(sorted(todays_players))"
   ]
  },
  {
   "cell_type": "code",
   "execution_count": null,
   "metadata": {},
   "outputs": [],
   "source": [
    "player_index.index"
   ]
  },
  {
   "cell_type": "code",
   "execution_count": null,
   "metadata": {},
   "outputs": [],
   "source": [
    "for player in todays_players:\n",
    "    print(player,player in player_index.index,sep='\\t\\t')"
   ]
  },
  {
   "cell_type": "code",
   "execution_count": null,
   "metadata": {},
   "outputs": [],
   "source": []
  },
  {
   "cell_type": "code",
   "execution_count": null,
   "metadata": {},
   "outputs": [],
   "source": []
  }
 ],
 "metadata": {
  "file_extension": ".py",
  "kernelspec": {
   "display_name": "Python 3",
   "language": "python",
   "name": "python3"
  },
  "language_info": {
   "codemirror_mode": {
    "name": "ipython",
    "version": 3
   },
   "file_extension": ".py",
   "mimetype": "text/x-python",
   "name": "python",
   "nbconvert_exporter": "python",
   "pygments_lexer": "ipython3",
   "version": "3.6.9"
  },
  "mimetype": "text/x-python",
  "name": "python",
  "npconvert_exporter": "python",
  "pygments_lexer": "ipython3",
  "toc": {
   "base_numbering": 1,
   "nav_menu": {},
   "number_sections": false,
   "sideBar": true,
   "skip_h1_title": false,
   "title_cell": "Table of Contents",
   "title_sidebar": "Contents",
   "toc_cell": false,
   "toc_position": {},
   "toc_section_display": true,
   "toc_window_display": true
  },
  "version": 3
 },
 "nbformat": 4,
 "nbformat_minor": 2
}
