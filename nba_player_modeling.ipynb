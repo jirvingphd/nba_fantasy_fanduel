{
 "nbformat": 4,
 "nbformat_minor": 2,
 "metadata": {
  "language_info": {
   "name": "python",
   "codemirror_mode": {
    "name": "ipython",
    "version": 3
   },
   "version": "3.6.9"
  },
  "orig_nbformat": 2,
  "file_extension": ".py",
  "mimetype": "text/x-python",
  "name": "python",
  "npconvert_exporter": "python",
  "pygments_lexer": "ipython3",
  "version": 3
 },
 "cells": [
  {
   "cell_type": "code",
   "execution_count": 1,
   "metadata": {},
   "outputs": [],
   "source": [
    "import requests\n",
    "import lxml\n",
    "from pprint import pprint\n",
    "from bs4 import BeautifulSoup\n",
    "from selenium import webdriver\n",
    "\n",
    "\n",
    "# url = \"https://stats.nba.com/player/1628369/boxscores-traditional/\"\n",
    "\n",
    "# page = requests.get(url,'lxml')\n",
    "\n",
    "# soup = BeautifulSoup(page.content)\n",
    "# pprint(soup.prettify()[:1000])\n"
   ]
  },
  {
   "cell_type": "markdown",
   "execution_count": null,
   "metadata": {},
   "outputs": [],
   "source": [
    "### NOW SCRAPING THE INDEX OF PLAYERS"
   ]
  },
  {
   "cell_type": "code",
   "execution_count": 22,
   "metadata": {},
   "outputs": [],
   "source": [
    "driver = webdriver.Chrome()\n",
    "url = 'https://stats.nba.com/players/list/'\n",
    "driver.get(url)"
   ]
  },
  {
   "cell_type": "code",
   "execution_count": 49,
   "metadata": {},
   "outputs": [
    {
     "data": {
      "text/plain": "[<li class=\"players-list__name\" ng-repeat=\"player in letter.items\"><a href=\"/player/203500/\">Adams, Steven</a></li>,\n <li class=\"players-list__name\" ng-repeat=\"player in letter.items\"><a href=\"/player/1628389/\">Adebayo, Bam</a></li>,\n <li class=\"players-list__name\" ng-repeat=\"player in letter.items\"><a href=\"/player/200746/\">Aldridge, LaMarcus</a></li>,\n <li class=\"players-list__name\" ng-repeat=\"player in letter.items\"><a href=\"/player/1629638/\">Alexander-Walker, Nickeil</a></li>,\n <li class=\"players-list__name\" ng-repeat=\"player in letter.items\"><a href=\"/player/1628960/\">Allen, Grayson</a></li>]"
     },
     "execution_count": 49,
     "metadata": {},
     "output_type": "execute_result"
    }
   ],
   "source": [
    "soup = BeautifulSoup(driver.page_source)\n",
    "soup.find_all('li',class_='players-list__name')[:5]"
   ]
  },
  {
   "cell_type": "code",
   "execution_count": 50,
   "metadata": {},
   "outputs": [
    {
     "data": {
      "text/plain": "<li class=\"players-list__name\" ng-repeat=\"player in letter.items\"><a href=\"/player/203500/\">Adams, Steven</a></li>"
     },
     "execution_count": 50,
     "metadata": {},
     "output_type": "execute_result"
    }
   ],
   "source": [
    "players = soup.find_all('li',class_='players-list__name')\n",
    "players[0]"
   ]
  },
  {
   "cell_type": "code",
   "execution_count": 69,
   "metadata": {},
   "outputs": [
    {
     "data": {
      "text/plain": "1/'],\n ['Ayton, Deandre', '/player/1629028/'],\n ['Bacon, Dwayne', '/player/1628407/'],\n ['Bagley III, Marvin', '/player/1628963/'],\n ['Ball, Lonzo', '/player/1628366/'],\n ['Bamba, Mo', '/player/1628964/'],\n ['Barea, J.J.', '/player/200826/'],\n ['Barnes, Harrison', '/player/203084/'],\n ['Barrett, RJ', '/player/1629628/'],\n ['Barton, Will', '/player/203115/'],\n ['Bates-Diop, Keita', '/player/1628966/'],\n ['Batum, Nicolas', '/player/201587/'],\n ['Baynes, Aron', '/player/203382/'],\n ['Bazemore, Kent', '/player/203145/'],\n ['Bazley, Darius', '/player/1629647/'],\n ['Beal, Bradley', '/player/203078/'],\n ['Beasley, Malik', '/player/1627736/'],\n ['Belinelli, Marco', '/player/201158/'],\n ['Bell, Jordan', '/player/1628395/'],\n [\"Bembry, DeAndre'\", '/player/1627761/'],\n ['Bender, Dragan', '/player/1627733/'],\n ['Bertans, Davis', '/player/202722/'],\n ['Beverley, Patrick', '/player/201976/'],\n ['Birch, Khem', '/player/203920/'],\n ['Bitadze, Goga', '/player/1629048/'],\n ['Biyombo, Bismack', '/player/202687/'],\n ['Bjelica, Nemanja', '/player/202357/'],\n ['Bledsoe, Eric', '/player/202339/'],\n ['Bogdanovic, Bogdan', '/player/203992/'],\n ['Bogdanovic, Bojan', '/player/202711/'],\n ['Bol, Bol', '/player/1629626/'],\n ['Bolden, Jonah', '/player/1628413/'],\n ['Bone, Jordan', '/player/1629648/'],\n ['Bonga, Isaac', '/player/1629067/'],\n ['Booker, Devin', '/player/1626164/'],\n ['Boucher, Chris', '/player/1628449/'],\n ['Bowen II, Brian', '/player/1628968/'],\n ['Bowman, Ky', '/player/1629065/'],\n ['Bradley, Avery', '/player/202340/'],\n ['Bradley, Tony', '/player/1628396/'],\n ['Brantley, Jarrell', '/player/1629714/'],\n ['Brazdeikis, Ignas', '/player/1629649/'],\n ['Bridges, Mikal', '/player/1628969/'],\n ['Bridges, Miles', '/player/1628970/'],\n ['Brissett, Oshae', '/player/1629052/'],\n ['Broekhoff, Ryan', '/player/1629151/'],\n ['Brogdon, Malcolm', '/player/1627763/'],\n ['Brooks, Dillon', '/player/1628415/'],\n ['Brown, Bruce', '/player/1628971/'],\n ['Brown, Jaylen', '/player/1627759/'],\n ['Brown, Moses', '/player/1629650/'],\n ['Brown, Sterling', '/player/1628425/'],\n ['Brown Jr., Charles', '/player/1629718/'],\n ['Brown Jr., Troy', '/player/1628972/'],\n ['Brunson, Jalen', '/player/1628973/'],\n ['Bryant, Thomas', '/player/1628418/'],\n ['Bullock, Reggie', '/player/203493/'],\n ['Burke, Trey', '/player/203504/'],\n ['Burks, Alec', '/player/202692/'],\n ['Burton, Deonte', '/player/1629126/'],\n ['Butler, Jimmy', '/player/202710/'],\n ['Caboclo, Bruno', '/player/203998/'],\n ['Cacok, Devontae', '/player/1629719/'],\n ['Caldwell-Pope, Kentavious', '/player/203484/'],\n ['Cancar, Vlatko', '/player/1628427/'],\n ['Capela, Clint', '/player/203991/'],\n ['Carroll, DeMarre', '/player/201960/'],\n ['Carter, Jevon', '/player/1628975/'],\n ['Carter, Vince', '/player/1713/'],\n ['Carter Jr., Wendell', '/player/1628976/'],\n ['Carter-Williams, Michael', '/player/203487/'],\n ['Caruso, Alex', '/player/1627936/'],\n ['Cauley-Stein, Willie', '/player/1626161/'],\n ['Chandler, Tyson', '/player/2199/'],\n ['Chandler, Wilson', '/player/201163/'],\n ['Cheatham, Zylan', '/player/1629597/'],\n ['Chiozza, Chris', '/player/1629185/'],\n ['Chriss, Marquese', '/player/1627737/'],\n ['Clark, Gary', '/player/1629109/'],\n ['Clarke, Brandon', '/player/1629634/'],\n ['Clarkson, Jordan', '/player/203903/'],\n ['Claxton, Nicolas', '/player/1629651/'],\n ['Clemons, Chris', '/player/1629598/'],\n ['Cleveland, Antonius', '/player/1628499/'],\n ['Coffey, Amir', '/player/1629599/'],\n ['Collins, John', '/player/1628381/'],\n ['Collins, Zach', '/player/1628380/'],\n ['Conley, Mike', '/player/201144/'],\n ['Connaughton, Pat', '/player/1626192/'],\n ['Cook, Quinn', '/player/1626188/'],\n ['Cook, Tyler', '/player/1629076/'],\n ['Cousins, DeMarcus', '/player/202326/'],\n ['Covington, Robert', '/player/203496/'],\n ['Crabbe, Allen', '/player/203459/'],\n ['Craig, Torrey', '/player/1628470/'],\n ['Crowder, Jae', '/player/203109/'],\n ['Culver, Jarrett', '/player/1629633/'],\n ['Curry, Seth', '/player/203552/'],\n ['Curry, Stephen', '/player/201939/'],\n ['Daniels, Troy', '/player/203584/'],\n ['Davis, Anthony', '/player/203076/'],\n ['Davis, Ed', '/player/202334/'],\n ['Davis, Terence', '/player/1629056/'],\n ['DeRozan, DeMar', '/player/201942/'],\n ['Dedmon, Dewayne', '/player/203473/'],\n ['Dellavedova, Matthew', '/player/203521/'],\n ['DiVincenzo, Donte', '/player/1628978/'],\n ['Diallo, Cheick', '/player/1627767/'],\n ['Diallo, Hamidou', '/player/1628977/'],\n ['Dieng, Gorgui', '/player/203476/'],\n ['Dinwiddie, Spencer', '/player/203915/'],\n ['Doncic, Luka', '/player/1629029/'],\n ['Dort, Luguentz', '/player/1629652/'],\n ['Dotson, Damyean', '/player/1628422/'],\n ['Doumbouya, Sekou', '/player/1629635/'],\n ['Dozier, PJ', '/player/1628408/'],\n ['Dragic, Goran', '/player/201609/'],\n ['Drummond, Andre', '/player/203083/'],\n ['Dudley, Jared', '/player/201162/'],\n ['Dunn, Kris', '/player/1627739/'],\n ['Durant, Kevin', '/player/201142/'],\n ['Edwards, Carsen', '/player/1629035/'],\n ['Ellenson, Henry', '/player/1627740/'],\n ['Ellington, Wayne', '/player/201961/'],\n ['Embiid, Joel', '/player/203954/'],\n ['Ennis III, James', '/player/203516/'],\n ['Eubanks, Drew', '/player/1629234/'],\n ['Evans, Jacob', '/player/1628980/'],\n ['Exum, Dante', '/player/203957/'],\n ['Fall, Tacko', '/player/1629605/'],\n ['Favors, Derrick', '/player/202324/'],\n ['Felicio, Cristiano', '/player/1626245/'],\n ['Ferguson, Terrance', '/player/1628390/'],\n ['Fernando, Bruno', '/player/1628981/'],\n ['Ferrell, Yogi', '/player/1627812/'],\n ['Finney-Smith, Dorian', '/player/1627827/'],\n ['Forbes, Bryn', '/player/1627854/'],\n ['Fournier, Evan', '/player/203095/'],\n [\"Fox, De'Aaron\", '/player/1628368/'],\n ['Franks, Robert', '/player/1629606/'],\n ['Frazier, Michael', '/player/1626187/'],\n ['Frazier, Tim', '/player/204025/'],\n ['Frazier Jr., Melvin', '/player/1628982/'],\n ['Fultz, Markelle', '/player/1628365/'],\n ['Gabriel, Wenyen', '/player/1629117/'],\n ['Gafford, Daniel', '/player/1629655/'],\n ['Gallinari, Danilo', '/player/201568/'],\n ['Galloway, Langston', '/player/204038/'],\n ['Garland, Darius', '/player/1629636/'],\n ['Gasol, Marc', '/player/201188/'],\n ['Gay, Rudy', '/player/200752/'],\n ['George, Paul', '/player/202331/'],\n ['Gibson, Taj', '/player/201959/'],\n ['Giles III, Harry', '/player/1628385/'],\n ['Gilgeous-Alexander, Shai', '/player/1628983/'],\n ['Gobert, Rudy', '/player/203497/'],\n ['Goodwin, Brandon', '/player/1629164/'],\n ['Gordon, Aaron', '/player/203932/'],\n ['Gordon, Eric', '/player/201569/'],\n [\"Graham, Devonte'\", '/player/1628984/'],\n ['Graham, Treveon', '/player/1626203/'],\n ['Grant, Jerami', '/player/203924/'],\n ['Gray, Josh', '/player/1627982/'],\n ['Green, Danny', '/player/201980/'],\n ['Green, Draymond', '/player/203110/'],\n ['Green, Gerald', '/player/101123/'],\n ['Green, JaMychal', '/player/203210/'],\n ['Green, Javonte', '/player/1629750/'],\n ['Green, Jeff', '/player/201145/'],\n ['Griffin, Blake', '/player/201933/'],\n ['Guduric, Marko', '/player/1629741/'],\n ['Guy, Kyle', '/player/1629657/'],\n ['Hachimura, Rui', '/player/1629060/'],\n ['Hall, Devon', '/player/1628985/'],\n ['Hardaway Jr., Tim', '/player/203501/'],\n ['Harden, James', '/player/201935/'],\n ['Harkless, Maurice', '/player/203090/'],\n ['Harper, Jared', '/player/1629607/'],\n ['Harrell, Montrezl', '/player/1626149/'],\n ['Harris, Gary', '/player/203914/'],\n ['Harris, Joe', '/player/203925/'],\n ['Harris, Tobias', '/player/202699/'],\n ['Harrison, Shaquille', '/player/1627885/'],\n ['Hart, Josh', '/player/1628404/'],\n ['Hartenstein, Isaiah', '/player/1628392/'],\n ['Haslem, Udonis', '/player/2617/'],\n ['Hayes, Jaxson', '/player/1629637/'],\n ['Hayward, Gordon', '/player/202330/'],\n ['Henson, John', '/player/203089/'],\n ['Hernandez, Dewan', '/player/1629608/'],\n ['Hernangomez, Juancho', '/player/1627823/'],\n ['Hernangomez, Willy', '/player/1626195/'],\n ['Herro, Tyler', '/player/1629639/'],\n ['Hervey, Kevin', '/player/1628987/'],\n ['Hezonja, Mario', '/player/1626209/'],\n ['Hield, Buddy', '/player/1627741/'],\n ['Hill, George', '/player/201588/'],\n ['Hill, Solomon', '/player/203524/'],\n ['Hoard, Jaylen', '/player/1629658/'],\n ['Holiday, Aaron', '/player/1628988/'],\n ['Holiday, Jrue', '/player/201950/'],\n ['Holiday, Justin', '/player/203200/'],\n ['Hollis-Jefferson, Rondae', '/player/1626178/'],\n ['Holmes, Richaun', '/player/1626158/'],\n ['Hood, Rodney', '/player/203918/'],\n ['Horford, Al', '/player/201143/'],\n ['Horton-Tucker, Talen', '/player/1629659/'],\n ['House Jr., Danuel', '/player/1627863/'],\n ['Howard, Dwight', '/player/2730/'],\n ['Huerter, Kevin', '/player/1628989/'],\n [\"Hunter, De'Andre\", '/player/1629631/'],\n ['Hutchison, Chandler', '/player/1628990/'],\n ['Ibaka, Serge', '/player/201586/'],\n ['Iguodala, Andre', '/player/2738/'],\n ['Ilyasova, Ersan', '/player/101141/'],\n ['Ingles, Joe', '/player/204060/'],\n ['Ingram, Brandon', '/player/1627742/'],\n ['Irving, Kyrie', '/player/202681/'],\n ['Isaac, Jonathan', '/player/1628371/'],\n ['Iwundu, Wes', '/player/1628411/'],\n ['Jackson, Frank', '/player/1628402/'],\n ['Jackson, Josh', '/player/1628367/'],\n ['Jackson, Justin', '/player/1628382/'],\n ['Jackson, Reggie', '/player/202704/'],\n ['Jackson Jr., Jaren', '/player/1628991/'],\n ['James, Justin', '/player/1629713/'],\n ['James, LeBron', '/player/2544/'],\n ['Jefferson, Amile', '/player/1628518/'],\n ['Jeffries, DaQuan', '/player/1629610/'],\n ['Jerome, Ty', '/player/1629660/'],\n ['Johnson, Alize', '/player/1628993/'],\n ['Johnson, BJ', '/player/1629168/'],\n ['Johnson, Cameron', '/player/1629661/'],\n ['Johnson, James', '/player/201949/'],\n ['Johnson, Keldon', '/player/1629640/'],\n ['Johnson, Stanley', '/player/1626169/'],\n ['Johnson, Tyler', '/player/204020/'],\n ['Jokic, Nikola', '/player/203999/'],\n ['Jones, Damian', '/player/1627745/'],\n ['Jones, Tyus', '/player/1626145/'],\n ['Jones Jr., Derrick', '/player/1627884/'],\n ['Jordan, DeAndre', '/player/201599/'],\n ['Joseph, Cory', '/player/202709/'],\n ['Kabengele, Mfiondu', '/player/1629662/'],\n ['Kaminsky, Frank', '/player/1626163/'],\n ['Kanter, Enes', '/player/202683/'],\n ['Kennard, Luke', '/player/1628379/'],\n ['Kidd, Stanton', '/player/1629742/'],\n ['Kidd-Gilchrist, Michael', '/player/203077/'],\n ['King, Louis', '/player/1629663/'],\n ['Kleber, Maxi', '/player/1628467/'],\n ['Knight, Brandon', '/player/202688/'],\n ['Knox II, Kevin', '/player/1628995/'],\n ['Konchar, John', '/player/1629723/'],\n ['Korkmaz, Furkan', '/player/1627788/'],\n ['Kornet, Luke', '/player/1628436/'],\n ['Korver, Kyle', '/player/2594/'],\n ['Kurucs, Rodions', '/player/1629066/'],\n ['Kuzma, Kyle', '/player/1628398/'],\n ['LaVine, Zach', '/player/203897/'],\n ['Labissiere, Skal', '/player/1627746/'],\n ['Lamb, Jeremy', '/player/203087/'],\n ['Langford, Romeo', '/player/1629641/'],\n ['Layman, Jake', '/player/1627774/'],\n ['LeVert, Caris', '/player/1627747/'],\n ['Leaf, TJ', '/player/1628388/'],\n ['Lecque, Jalen', '/player/1629665/'],\n ['Lee, Courtney', '/player/201584/'],\n ['Lee, Damion', '/player/1627814/'],\n ['Len, Alex', '/player/203458/'],\n ['Leonard, Kawhi', '/player/202695/'],\n ['Leonard, Meyers', '/player/203086/'],\n ['Lillard, Damian', '/player/203081/'],\n ['Little, Nassir', '/player/1629642/'],\n ['Looney, Kevon', '/player/1626172/'],\n ['Lopez, Brook', '/player/201572/'],\n ['Lopez, Robin', '/player/201577/'],\n ['Love, Kevin', '/player/201567/'],\n ['Lowry, Kyle', '/player/200768/'],\n ['Luwawu-Cabarrot, Timothe', '/player/1627789/'],\n ['Lyles, Trey', '/player/1626168/'],\n ['Macon, Daryl', '/player/1629133/'],\n ['Magette, Josh', '/player/203705/'],\n ['Mahinmi, Ian', '/player/101133/'],\n ['Maker, Thon', '/player/1627748/'],\n ['Mann, Terance', '/player/1629611/'],\n ['Marjanovic, Boban', '/player/1626246/'],\n ['Markkanen, Lauri', '/player/1628374/'],\n ['Martin, Caleb', '/player/1628997/'],\n ['Martin, Cody', '/player/1628998/'],\n ['Martin, Kelan', '/player/1629103/'],\n ['Mason, Frank', '/player/1628412/'],\n ['Mathews, Garrison', '/player/1629726/'],\n ['Matthews, Wesley', '/player/202083/'],\n ['McCaw, Patrick', '/player/1627775/'],\n ['McCollum, CJ', '/player/203468/'],\n ['McConnell, T.J.', '/player/204456/'],\n ['McDaniels, Jalen', '/player/1629667/'],\n ['McDermott, Doug', '/player/203926/'],\n ['McGee, JaVale', '/player/201580/'],\n ['McGruder, Rodney', '/player/203585/'],\n ['McKinnie, Alfonzo', '/player/1628035/'],\n ['McLaughlin, Jordan', '/player/1629162/'],\n ['McLemore, Ben', '/player/203463/'],\n ['McRae, Jordan', '/player/203895/'],\n ['Melli, Nicolo', '/player/1629740/'],\n [\"Melton, De'Anthony\", '/player/1629001/'],\n ['Metu, Chimezie', '/player/1629002/'],\n ['Middleton, Khris', '/player/203114/'],\n ['Miles, CJ', '/player/101139/'],\n ['Miller, Darius', '/player/203121/'],\n ['Miller, Malcolm', '/player/1626259/'],\n ['Mills, Patty', '/player/201988/'],\n ['Millsap, Paul', '/player/200794/'],\n ['Milton, Shake', '/player/1629003/'],\n ['Mitchell, Donovan', '/player/1628378/'],\n ['Mitrou-Long, Naz', '/player/1628513/'],\n ['Mokoka, Adam', '/player/1629690/'],\n ['Monk, Malik', '/player/1628370/'],\n [\"Moore, E'Twaun\", '/player/202734/'],\n ['Morant, Ja', '/player/1629630/'],\n ['Morgan, Juwan', '/player/1629752/'],\n ['Morris, Markieff', '/player/202693/'],\n ['Morris, Monte', '/player/1628420/'],\n ['Morris Sr., Marcus', '/player/202694/'],\n ['Motley, Johnathan', '/player/1628405/'],\n ['Mudiay, Emmanuel', '/player/1626144/'],\n ['Murray, Dejounte', '/player/1627749/'],\n ['Murray, Jamal', '/player/1627750/'],\n ['Musa, Dzanan', '/player/1629058/'],\n ['Muscala, Mike', '/player/203488/'],\n ['Mykhailiuk, Svi', '/player/1629004/'],\n ['Nene', '/player/2403/'],\n ['Nader, Abdel', '/player/1627846/'],\n ['Nance Jr., Larry', '/player/1626204/'],\n ['Napier, Shabazz', '/player/203894/'],\n ['Neto, Raul', '/player/203526/'],\n ['Niang, Georges', '/player/1627777/'],\n ['Noel, Nerlens', '/player/203457/'],\n ['Norvell Jr., Zach', '/player/1629668/'],\n ['Nowell, Jaylen', '/player/1629669/'],\n ['Ntilikina, Frank', '/player/1628373/'],\n ['Nunn, Kendrick', '/player/1629134/'],\n ['Nurkic, Jusuf', '/player/203994/'],\n ['Nwaba, David', '/player/1628021/'],\n [\"O'Neale, Royce\", '/player/1626220/'],\n [\"O'Quinn, Kyle\", '/player/203124/'],\n ['Ojeleye, Semi', '/player/1628400/'],\n ['Okafor, Jahlil', '/player/1626143/'],\n ['Okobo, Elie', '/player/1629059/'],\n ['Okogie, Josh', '/player/1629006/'],\n ['Okpala, KZ', '/player/1629644/'],\n ['Oladipo, Victor', '/player/203506/'],\n ['Olynyk, Kelly', '/player/203482/'],\n ['Oni, Miye', '/player/1629671/'],\n ['Osman, Cedi', '/player/1626224/'],\n ['Oubre Jr., Kelly', '/player/1626162/'],\n ['Parker, Jabari', '/player/203953/'],\n ['Parsons, Chandler', '/player/202718/'],\n ['Paschall, Eric', '/player/1629672/'],\n ['Pasecniks, Anzejs', '/player/1628394/'],\n ['Patterson, Patrick', '/player/202335/'],\n ['Patton, Justin', '/player/1628383/'],\n ['Paul, Chris', '/player/101108/'],\n ['Payton, Elfrid', '/player/203901/'],\n ['Payton II, Gary', '/player/1627780/'],\n ['Pelle, Norvel', '/player/203658/'],\n ['Pinson, Theo', '/player/1629033/'],\n ['Plumlee, Mason', '/player/203486/'],\n ['Poeltl, Jakob', '/player/1627751/'],\n ['Poirier, Vincent', '/player/1629738/'],\n ['Ponds, Shamorie', '/player/1629044/'],\n ['Poole, Jordan', '/player/1629673/'],\n ['Porter Jr., Kevin', '/player/1629645/'],\n ['Porter Jr., Michael', '/player/1629008/'],\n ['Porter Jr., Otto', '/player/203490/'],\n ['Portis, Bobby', '/player/1626171/'],\n ['Porzingis, Kristaps', '/player/204001/'],\n ['Powell, Dwight', '/player/203939/'],\n ['Powell, Norman', '/player/1626181/'],\n ['Prince, Taurean', '/player/1627752/'],\n ['Rabb, Ivan', '/player/1628397/'],\n ['Randle, Julius', '/player/203944/'],\n ['Reaves, Josh', '/player/1629729/'],\n ['Reddish, Cam', '/player/1629629/'],\n ['Redick, JJ', '/player/200755/'],\n ['Reid, Naz', '/player/1629675/'],\n ['Reynolds, Cameron', '/player/1629244/'],\n ['Richardson, Josh', '/player/1626196/'],\n ['Rivers, Austin', '/player/203085/'],\n ['Roberson, Andre', '/player/203460/'],\n ['Robinson, Duncan', '/player/1629130/'],\n ['Robinson, Jerome', '/player/1629010/'],\n ['Robinson, Justin', '/player/1629620/'],\n ['Robinson, Mitchell', '/player/1629011/'],\n ['Robinson III, Glenn', '/player/203922/'],\n ['Roby, Isaiah', '/player/1629676/'],\n ['Rondo, Rajon', '/player/200765/'],\n ['Rose, Derrick', '/player/201565/'],\n ['Ross, Terrence', '/player/203082/'],\n ['Rozier, Terry', '/player/1626179/'],\n ['Rubio, Ricky', '/player/201937/'],\n [\"Russell, D'Angelo\", '/player/1626156/'],\n ['Sabonis, Domantas', '/player/1627734/'],\n ['Samanic, Luka', '/player/1629677/'],\n ['Sampson, JaKarr', '/player/203960/'],\n ['Saric, Dario', '/player/203967/'],\n ['Satoransky, Tomas', '/player/203107/'],\n ['Schofield, Admiral', '/player/1629678/'],\n ['Schroder, Dennis', '/player/203471/'],\n ['Scott, Mike', '/player/203118/'],\n ['Sefolosha, Thabo', '/player/200757/'],\n ['Sexton, Collin', '/player/1629012/'],\n ['Shamet, Landry', '/player/1629013/'],\n ['Shayok, Marial', '/player/1629621/'],\n ['Shumpert, Iman', '/player/202697/'],\n ['Siakam, Pascal', '/player/1627783/'],\n ['Silva, Chris', '/player/1629735/'],\n ['Simmons, Ben', '/player/1627732/'],\n ['Simmons, Kobi', '/player/1628424/'],\n ['Simons, Anfernee', '/player/1629014/'],\n ['Smailagic, Alen', '/player/1629346/'],\n ['Smart, Marcus', '/player/203935/'],\n ['Smith, Ish', '/player/202397/'],\n ['Smith, Zhaire', '/player/1629015/'],\n ['Smith Jr., Dennis', '/player/1628372/'],\n ['Snell, Tony', '/player/203503/'],\n ['Spellman, Omari', '/player/1629016/'],\n ['Strus, Max', '/player/1629622/'],\n ['Sumner, Edmond', '/player/1628410/'],\n ['Swanigan, Caleb', '/player/1628403/'],\n ['Tatum, Jayson', '/player/1628369/'],\n ['Teague, Jeff', '/player/201952/'],\n ['Temple, Garrett', '/player/202066/'],\n ['Theis, Daniel', '/player/1628464/'],\n ['Thomas, Isaiah', '/player/202738/'],\n ['Thomas, Khyri', '/player/1629017/'],\n ['Thomas, Matt', '/player/1629744/'],\n ['Thompson, Klay', '/player/202691/'],\n ['Thompson, Tristan', '/player/202684/'],\n ['Thybulle, Matisse', '/player/1629680/'],\n ['Tolliver, Anthony', '/player/201229/'],\n ['Towns, Karl-Anthony', '/player/1626157/'],\n ['Trent Jr., Gary', '/player/1629018/'],\n ['Trier, Allonzo', '/player/1629019/'],\n ['Tucker, P.J.', '/player/200782/'],\n ['Tucker, Rayjon', '/player/1629730/'],\n ['Turner, Evan', '/player/202323/'],\n ['Turner, Myles', '/player/1626167/'],\n ['Valanciunas, Jonas', '/player/202685/'],\n ['Valentine, Denzel', '/player/1627756/'],\n ['VanVleet, Fred', '/player/1627832/'],\n ['Vanderbilt, Jarred', '/player/1629020/'],\n ['Vonleh, Noah', '/player/203943/'],\n ['Vucevic, Nikola', '/player/202696/'],\n ['Wade, Dean', '/player/1629731/'],\n ['Wagner, Moritz', '/player/1629021/'],\n ['Waiters, Dion', '/player/203079/'],\n ['Walker, Kemba', '/player/202689/'],\n ['Walker IV, Lonnie', '/player/1629022/'],\n ['Wall, John', '/player/202322/'],\n ['Wallace, Tyrone', '/player/1627820/'],\n ['Walton Jr., Derrick', '/player/1628476/'],\n ['Wanamaker, Brad', '/player/202954/'],\n ['Warren, T.J.', '/player/203933/'],\n ['Washington, P.J.', '/player/1629023/'],\n ['Watanabe, Yuta', '/player/1629139/'],\n ['Waters, Tremont', '/player/1629682/'],\n ['Weatherspoon, Quinndary', '/player/1629683/'],\n ['Westbrook, Russell', '/player/201566/'],\n ['White, Coby', '/player/1629632/'],\n ['White, Derrick', '/player/1628401/'],\n ['Whiteside, Hassan', '/player/202355/'],\n ['Wiggins, Andrew', '/player/203952/'],\n ['Williams, Grant', '/player/1629684/'],\n ['Williams, Kenrich', '/player/1629026/'],\n ['Williams, Lou', '/player/101150/'],\n ['Williams, Marvin', '/player/101107/'],\n ['Williams III, Robert', '/player/1629057/'],\n ['Williams-Goss, Nigel', '/player/1628430/'],\n ['Williamson, Zion', '/player/1629627/'],\n ['Wilson, D.J.', '/player/1628391/'],\n ['Windler, Dylan', '/player/1629685/'],\n ['Winslow, Justise', '/player/1626159/'],\n ['Wood, Christian', '/player/1626174/'],\n ['Wright, Delon', '/player/1626153/'],\n ['Wright-Foreman, Justin', '/player/1629625/'],\n ['Young, Thaddeus', '/player/201152/'],\n ['Young, Trae', '/player/1629027/'],\n ['Zeller, Cody', '/player/203469/'],\n ['Zizic, Ante', '/player/1627790/'],\n ['Zubac, Ivica', '/player/1627826/']]"
     },
     "execution_count": 69,
     "metadata": {},
     "output_type": "execute_result"
    }
   ],
   "source": [
    "## Get player index \n",
    "player_index = []\n",
    "for player in players:\n",
    "    tag = player.find('a')\n",
    "    player_index.append([tag.text, tag['href']])\n",
    "\n",
    "player_index\n"
   ]
  },
  {
   "cell_type": "code",
   "execution_count": 88,
   "metadata": {},
   "outputs": [
    {
     "data": {
      "text/plain": "{'Adams, Steven': '203500',\n 'Adebayo, Bam': '1628389',\n 'Aldridge, LaMarcus': '200746',\n 'Alexander-Walker, Nickeil': '1629638',\n 'Allen, Grayson': '1628960',\n 'Allen, Jarrett': '1628386',\n 'Allen, Kadeem': '1628443',\n 'Aminu, Al-Farouq': '202329',\n 'Anderson, Kyle': '203937',\n 'Anderson, Ryan': '201583',\n 'Antetokounmpo, Giannis': '203507',\n 'Antetokounmpo, Kostas': '1628961',\n 'Antetokounmpo, Thanasis': '203648',\n 'Anthony, Carmelo': '2546',\n 'Anunoby, OG': '1628384',\n 'Arcidiacono, Ryan': '1627853',\n 'Ariza, Trevor': '2772',\n 'Augustin, D.J.': '201571',\n 'Ayton, Deandre': '1629028',\n 'Bacon, Dwayne': '1628407',\n 'Bagley III, Marvin': '1628963',\n 'Ball, Lonzo': '1628366',\n 'Bamba, Mo': '1628964',\n 'Barea, J.J.': '200826',\n 'Barnes, Harrison': '203084',\n 'Barrett, RJ': '1629628',\n 'Barton, Will': '203115',\n 'Bates-Diop, Keita': '1628966',\n 'Batum, Nicolas': '201587',\n 'Baynes, Aron': '203382',\n 'Bazemore, Kent': '203145',\n 'Bazley, Darius': '1629647',\n 'Beal, Bradley': '203078',\n 'Beasley, Malik': '1627736',\n 'Belinelli, Marco': '201158',\n 'Bell, Jordan': '1628395',\n \"Bembry, DeAndre'\": '1627761',\n 'Bender, Dragan': '1627733',\n 'Bertans, Davis': '202722',\n 'Beverley, Patrick': '201976',\n 'Birch, Khem': '203920',\n 'Bitadze, Goga': '1629048',\n 'Biyombo, Bismack': '202687',\n 'Bjelica, Nemanja': '202357',\n 'Bledsoe, Eric': '202339',\n 'Bogdanovic, Bogdan': '203992',\n 'Bogdanovic, Bojan': '202711',\n 'Bol, Bol': '1629626',\n 'Bolden, Jonah': '1628413',\n 'Bone, Jordan': '1629648',\n 'Bonga, Isaac': '1629067',\n 'Booker, Devin': '1626164',\n 'Boucher, Chris': '1628449',\n 'Bowen II, Brian': '1628968',\n 'Bowman, Ky': '1629065',\n 'Bradley, Avery': '202340',\n 'Bradley, Tony': '1628396',\n 'Brantley, Jarrell': '1629714',\n 'Brazdeikis, Ignas': '1629649',\n 'Bridges, Mikal': '1628969',\n 'Bridges, Miles': '1628970',\n 'Brissett, Oshae': '1629052',\n 'Broekhoff, Ryan': '1629151',\n 'Brogdon, Malcolm': '1627763',\n 'Brooks, Dillon': '1628415',\n 'Brown, Bruce': '1628971',\n 'Brown, Jaylen': '1627759',\n 'Brown, Moses': '1629650',\n 'Brown, Sterling': '1628425',\n 'Brown Jr., Charles': '1629718',\n 'Brown Jr., Troy': '1628972',\n 'Brunson, Jalen': '1628973',\n 'Bryant, Thomas': '1628418',\n 'Bullock, Reggie': '203493',\n 'Burke, Trey': '203504',\n 'Burks, Alec': '202692',\n 'Burton, Deonte': '1629126',\n 'Butler, Jimmy': '202710',\n 'Caboclo, Bruno': '203998',\n 'Cacok, Devontae': '1629719',\n 'Caldwell-Pope, Kentavious': '203484',\n 'Cancar, Vlatko': '1628427',\n 'Capela, Clint': '203991',\n 'Carroll, DeMarre': '201960',\n 'Carter, Jevon': '1628975',\n 'Carter, Vince': '1713',\n 'Carter Jr., Wendell': '1628976',\n 'Carter-Williams, Michael': '203487',\n 'Caruso, Alex': '1627936',\n 'Cauley-Stein, Willie': '1626161',\n 'Chandler, Tyson': '2199',\n 'Chandler, Wilson': '201163',\n 'Cheatham, Zylan': '1629597',\n 'Chiozza, Chris': '1629185',\n 'Chriss, Marquese': '1627737',\n 'Clark, Gary': '1629109',\n 'Clarke, Brandon': '1629634',\n 'Clarkson, Jordan': '203903',\n 'Claxton, Nicolas': '1629651',\n 'Clemons, Chris': '1629598',\n 'Cleveland, Antonius': '1628499',\n 'Coffey, Amir': '1629599',\n 'Collins, John': '1628381',\n 'Collins, Zach': '1628380',\n 'Conley, Mike': '201144',\n 'Connaughton, Pat': '1626192',\n 'Cook, Quinn': '1626188',\n 'Cook, Tyler': '1629076',\n 'Cousins, DeMarcus': '202326',\n 'Covington, Robert': '203496',\n 'Crabbe, Allen': '203459',\n 'Craig, Torrey': '1628470',\n 'Crowder, Jae': '203109',\n 'Culver, Jarrett': '1629633',\n 'Curry, Seth': '203552',\n 'Curry, Stephen': '201939',\n 'Daniels, Troy': '203584',\n 'Davis, Anthony': '203076',\n 'Davis, Ed': '202334',\n 'Davis, Terence': '1629056',\n 'DeRozan, DeMar': '201942',\n 'Dedmon, Dewayne': '203473',\n 'Dellavedova, Matthew': '203521',\n 'DiVincenzo, Donte': '1628978',\n 'Diallo, Cheick': '1627767',\n 'Diallo, Hamidou': '1628977',\n 'Dieng, Gorgui': '203476',\n 'Dinwiddie, Spencer': '203915',\n 'Doncic, Luka': '1629029',\n 'Dort, Luguentz': '1629652',\n 'Dotson, Damyean': '1628422',\n 'Doumbouya, Sekou': '1629635',\n 'Dozier, PJ': '1628408',\n 'Dragic, Goran': '201609',\n 'Drummond, Andre': '203083',\n 'Dudley, Jared': '201162',\n 'Dunn, Kris': '1627739',\n 'Durant, Kevin': '201142',\n 'Edwards, Carsen': '1629035',\n 'Ellenson, Henry': '1627740',\n 'Ellington, Wayne': '201961',\n 'Embiid, Joel': '203954',\n 'Ennis III, James': '203516',\n 'Eubanks, Drew': '1629234',\n 'Evans, Jacob': '1628980',\n 'Exum, Dante': '203957',\n 'Fall, Tacko': '1629605',\n 'Favors, Derrick': '202324',\n 'Felicio, Cristiano': '1626245',\n 'Ferguson, Terrance': '1628390',\n 'Fernando, Bruno': '1628981',\n 'Ferrell, Yogi': '1627812',\n 'Finney-Smith, Dorian': '1627827',\n 'Forbes, Bryn': '1627854',\n 'Fournier, Evan': '203095',\n \"Fox, De'Aaron\": '1628368',\n 'Franks, Robert': '1629606',\n 'Frazier, Michael': '1626187',\n 'Frazier, Tim': '204025',\n 'Frazier Jr., Melvin': '1628982',\n 'Fultz, Markelle': '1628365',\n 'Gabriel, Wenyen': '1629117',\n 'Gafford, Daniel': '1629655',\n 'Gallinari, Danilo': '201568',\n 'Galloway, Langston': '204038',\n 'Garland, Darius': '1629636',\n 'Gasol, Marc': '201188',\n 'Gay, Rudy': '200752',\n 'George, Paul': '202331',\n 'Gibson, Taj': '201959',\n 'Giles III, Harry': '1628385',\n 'Gilgeous-Alexander, Shai': '1628983',\n 'Gobert, Rudy': '203497',\n 'Goodwin, Brandon': '1629164',\n 'Gordon, Aaron': '203932',\n 'Gordon, Eric': '201569',\n \"Graham, Devonte'\": '1628984',\n 'Graham, Treveon': '1626203',\n 'Grant, Jerami': '203924',\n 'Gray, Josh': '1627982',\n 'Green, Danny': '201980',\n 'Green, Draymond': '203110',\n 'Green, Gerald': '101123',\n 'Green, JaMychal': '203210',\n 'Green, Javonte': '1629750',\n 'Green, Jeff': '201145',\n 'Griffin, Blake': '201933',\n 'Guduric, Marko': '1629741',\n 'Guy, Kyle': '1629657',\n 'Hachimura, Rui': '1629060',\n 'Hall, Devon': '1628985',\n 'Hardaway Jr., Tim': '203501',\n 'Harden, James': '201935',\n 'Harkless, Maurice': '203090',\n 'Harper, Jared': '1629607',\n 'Harrell, Montrezl': '1626149',\n 'Harris, Gary': '203914',\n 'Harris, Joe': '203925',\n 'Harris, Tobias': '202699',\n 'Harrison, Shaquille': '1627885',\n 'Hart, Josh': '1628404',\n 'Hartenstein, Isaiah': '1628392',\n 'Haslem, Udonis': '2617',\n 'Hayes, Jaxson': '1629637',\n 'Hayward, Gordon': '202330',\n 'Henson, John': '203089',\n 'Hernandez, Dewan': '1629608',\n 'Hernangomez, Juancho': '1627823',\n 'Hernangomez, Willy': '1626195',\n 'Herro, Tyler': '1629639',\n 'Hervey, Kevin': '1628987',\n 'Hezonja, Mario': '1626209',\n 'Hield, Buddy': '1627741',\n 'Hill, George': '201588',\n 'Hill, Solomon': '203524',\n 'Hoard, Jaylen': '1629658',\n 'Holiday, Aaron': '1628988',\n 'Holiday, Jrue': '201950',\n 'Holiday, Justin': '203200',\n 'Hollis-Jefferson, Rondae': '1626178',\n 'Holmes, Richaun': '1626158',\n 'Hood, Rodney': '203918',\n 'Horford, Al': '201143',\n 'Horton-Tucker, Talen': '1629659',\n 'House Jr., Danuel': '1627863',\n 'Howard, Dwight': '2730',\n 'Huerter, Kevin': '1628989',\n \"Hunter, De'Andre\": '1629631',\n 'Hutchison, Chandler': '1628990',\n 'Ibaka, Serge': '201586',\n 'Iguodala, Andre': '2738',\n 'Ilyasova, Ersan': '101141',\n 'Ingles, Joe': '204060',\n 'Ingram, Brandon': '1627742',\n 'Irving, Kyrie': '202681',\n 'Isaac, Jonathan': '1628371',\n 'Iwundu, Wes': '1628411',\n 'Jackson, Frank': '1628402',\n 'Jackson, Josh': '1628367',\n 'Jackson, Justin': '1628382',\n 'Jackson, Reggie': '202704',\n 'Jackson Jr., Jaren': '1628991',\n 'James, Justin': '1629713',\n 'James, LeBron': '2544',\n 'Jefferson, Amile': '1628518',\n 'Jeffries, DaQuan': '1629610',\n 'Jerome, Ty': '1629660',\n 'Johnson, Alize': '1628993',\n 'Johnson, BJ': '1629168',\n 'Johnson, Cameron': '1629661',\n 'Johnson, James': '201949',\n 'Johnson, Keldon': '1629640',\n 'Johnson, Stanley': '1626169',\n 'Johnson, Tyler': '204020',\n 'Jokic, Nikola': '203999',\n 'Jones, Damian': '1627745',\n 'Jones, Tyus': '1626145',\n 'Jones Jr., Derrick': '1627884',\n 'Jordan, DeAndre': '201599',\n 'Joseph, Cory': '202709',\n 'Kabengele, Mfiondu': '1629662',\n 'Kaminsky, Frank': '1626163',\n 'Kanter, Enes': '202683',\n 'Kennard, Luke': '1628379',\n 'Kidd, Stanton': '1629742',\n 'Kidd-Gilchrist, Michael': '203077',\n 'King, Louis': '1629663',\n 'Kleber, Maxi': '1628467',\n 'Knight, Brandon': '202688',\n 'Knox II, Kevin': '1628995',\n 'Konchar, John': '1629723',\n 'Korkmaz, Furkan': '1627788',\n 'Kornet, Luke': '1628436',\n 'Korver, Kyle': '2594',\n 'Kurucs, Rodions': '1629066',\n 'Kuzma, Kyle': '1628398',\n 'LaVine, Zach': '203897',\n 'Labissiere, Skal': '1627746',\n 'Lamb, Jeremy': '203087',\n 'Langford, Romeo': '1629641',\n 'Layman, Jake': '1627774',\n 'LeVert, Caris': '1627747',\n 'Leaf, TJ': '1628388',\n 'Lecque, Jalen': '1629665',\n 'Lee, Courtney': '201584',\n 'Lee, Damion': '1627814',\n 'Len, Alex': '203458',\n 'Leonard, Kawhi': '202695',\n 'Leonard, Meyers': '203086',\n 'Lillard, Damian': '203081',\n 'Little, Nassir': '1629642',\n 'Looney, Kevon': '1626172',\n 'Lopez, Brook': '201572',\n 'Lopez, Robin': '201577',\n 'Love, Kevin': '201567',\n 'Lowry, Kyle': '200768',\n 'Luwawu-Cabarrot, Timothe': '1627789',\n 'Lyles, Trey': '1626168',\n 'Macon, Daryl': '1629133',\n 'Magette, Josh': '203705',\n 'Mahinmi, Ian': '101133',\n 'Maker, Thon': '1627748',\n 'Mann, Terance': '1629611',\n 'Marjanovic, Boban': '1626246',\n 'Markkanen, Lauri': '1628374',\n 'Martin, Caleb': '1628997',\n 'Martin, Cody': '1628998',\n 'Martin, Kelan': '1629103',\n 'Mason, Frank': '1628412',\n 'Mathews, Garrison': '1629726',\n 'Matthews, Wesley': '202083',\n 'McCaw, Patrick': '1627775',\n 'McCollum, CJ': '203468',\n 'McConnell, T.J.': '204456',\n 'McDaniels, Jalen': '1629667',\n 'McDermott, Doug': '203926',\n 'McGee, JaVale': '201580',\n 'McGruder, Rodney': '203585',\n 'McKinnie, Alfonzo': '1628035',\n 'McLaughlin, Jordan': '1629162',\n 'McLemore, Ben': '203463',\n 'McRae, Jordan': '203895',\n 'Melli, Nicolo': '1629740',\n \"Melton, De'Anthony\": '1629001',\n 'Metu, Chimezie': '1629002',\n 'Middleton, Khris': '203114',\n 'Miles, CJ': '101139',\n 'Miller, Darius': '203121',\n 'Miller, Malcolm': '1626259',\n 'Mills, Patty': '201988',\n 'Millsap, Paul': '200794',\n 'Milton, Shake': '1629003',\n 'Mitchell, Donovan': '1628378',\n 'Mitrou-Long, Naz': '1628513',\n 'Mokoka, Adam': '1629690',\n 'Monk, Malik': '1628370',\n \"Moore, E'Twaun\": '202734',\n 'Morant, Ja': '1629630',\n 'Morgan, Juwan': '1629752',\n 'Morris, Markieff': '202693',\n 'Morris, Monte': '1628420',\n 'Morris Sr., Marcus': '202694',\n 'Motley, Johnathan': '1628405',\n 'Mudiay, Emmanuel': '1626144',\n 'Murray, Dejounte': '1627749',\n 'Murray, Jamal': '1627750',\n 'Musa, Dzanan': '1629058',\n 'Muscala, Mike': '203488',\n 'Mykhailiuk, Svi': '1629004',\n 'Nene': '2403',\n 'Nader, Abdel': '1627846',\n 'Nance Jr., Larry': '1626204',\n 'Napier, Shabazz': '203894',\n 'Neto, Raul': '203526',\n 'Niang, Georges': '1627777',\n 'Noel, Nerlens': '203457',\n 'Norvell Jr., Zach': '1629668',\n 'Nowell, Jaylen': '1629669',\n 'Ntilikina, Frank': '1628373',\n 'Nunn, Kendrick': '1629134',\n 'Nurkic, Jusuf': '203994',\n 'Nwaba, David': '1628021',\n \"O'Neale, Royce\": '1626220',\n \"O'Quinn, Kyle\": '203124',\n 'Ojeleye, Semi': '1628400',\n 'Okafor, Jahlil': '1626143',\n 'Okobo, Elie': '1629059',\n 'Okogie, Josh': '1629006',\n 'Okpala, KZ': '1629644',\n 'Oladipo, Victor': '203506',\n 'Olynyk, Kelly': '203482',\n 'Oni, Miye': '1629671',\n 'Osman, Cedi': '1626224',\n 'Oubre Jr., Kelly': '1626162',\n 'Parker, Jabari': '203953',\n 'Parsons, Chandler': '202718',\n 'Paschall, Eric': '1629672',\n 'Pasecniks, Anzejs': '1628394',\n 'Patterson, Patrick': '202335',\n 'Patton, Justin': '1628383',\n 'Paul, Chris': '101108',\n 'Payton, Elfrid': '203901',\n 'Payton II, Gary': '1627780',\n 'Pelle, Norvel': '203658',\n 'Pinson, Theo': '1629033',\n 'Plumlee, Mason': '203486',\n 'Poeltl, Jakob': '1627751',\n 'Poirier, Vincent': '1629738',\n 'Ponds, Shamorie': '1629044',\n 'Poole, Jordan': '1629673',\n 'Porter Jr., Kevin': '1629645',\n 'Porter Jr., Michael': '1629008',\n 'Porter Jr., Otto': '203490',\n 'Portis, Bobby': '1626171',\n 'Porzingis, Kristaps': '204001',\n 'Powell, Dwight': '203939',\n 'Powell, Norman': '1626181',\n 'Prince, Taurean': '1627752',\n 'Rabb, Ivan': '1628397',\n 'Randle, Julius': '203944',\n 'Reaves, Josh': '1629729',\n 'Reddish, Cam': '1629629',\n 'Redick, JJ': '200755',\n 'Reid, Naz': '1629675',\n 'Reynolds, Cameron': '1629244',\n 'Richardson, Josh': '1626196',\n 'Rivers, Austin': '203085',\n 'Roberson, Andre': '203460',\n 'Robinson, Duncan': '1629130',\n 'Robinson, Jerome': '1629010',\n 'Robinson, Justin': '1629620',\n 'Robinson, Mitchell': '1629011',\n 'Robinson III, Glenn': '203922',\n 'Roby, Isaiah': '1629676',\n 'Rondo, Rajon': '200765',\n 'Rose, Derrick': '201565',\n 'Ross, Terrence': '203082',\n 'Rozier, Terry': '1626179',\n 'Rubio, Ricky': '201937',\n \"Russell, D'Angelo\": '1626156',\n 'Sabonis, Domantas': '1627734',\n 'Samanic, Luka': '1629677',\n 'Sampson, JaKarr': '203960',\n 'Saric, Dario': '203967',\n 'Satoransky, Tomas': '203107',\n 'Schofield, Admiral': '1629678',\n 'Schroder, Dennis': '203471',\n 'Scott, Mike': '203118',\n 'Sefolosha, Thabo': '200757',\n 'Sexton, Collin': '1629012',\n 'Shamet, Landry': '1629013',\n 'Shayok, Marial': '1629621',\n 'Shumpert, Iman': '202697',\n 'Siakam, Pascal': '1627783',\n 'Silva, Chris': '1629735',\n 'Simmons, Ben': '1627732',\n 'Simmons, Kobi': '1628424',\n 'Simons, Anfernee': '1629014',\n 'Smailagic, Alen': '1629346',\n 'Smart, Marcus': '203935',\n 'Smith, Ish': '202397',\n 'Smith, Zhaire': '1629015',\n 'Smith Jr., Dennis': '1628372',\n 'Snell, Tony': '203503',\n 'Spellman, Omari': '1629016',\n 'Strus, Max': '1629622',\n 'Sumner, Edmond': '1628410',\n 'Swanigan, Caleb': '1628403',\n 'Tatum, Jayson': '1628369',\n 'Teague, Jeff': '201952',\n 'Temple, Garrett': '202066',\n 'Theis, Daniel': '1628464',\n 'Thomas, Isaiah': '202738',\n 'Thomas, Khyri': '1629017',\n 'Thomas, Matt': '1629744',\n 'Thompson, Klay': '202691',\n 'Thompson, Tristan': '202684',\n 'Thybulle, Matisse': '1629680',\n 'Tolliver, Anthony': '201229',\n 'Towns, Karl-Anthony': '1626157',\n 'Trent Jr., Gary': '1629018',\n 'Trier, Allonzo': '1629019',\n 'Tucker, P.J.': '200782',\n 'Tucker, Rayjon': '1629730',\n 'Turner, Evan': '202323',\n 'Turner, Myles': '1626167',\n 'Valanciunas, Jonas': '202685',\n 'Valentine, Denzel': '1627756',\n 'VanVleet, Fred': '1627832',\n 'Vanderbilt, Jarred': '1629020',\n 'Vonleh, Noah': '203943',\n 'Vucevic, Nikola': '202696',\n 'Wade, Dean': '1629731',\n 'Wagner, Moritz': '1629021',\n 'Waiters, Dion': '203079',\n 'Walker, Kemba': '202689',\n 'Walker IV, Lonnie': '1629022',\n 'Wall, John': '202322',\n 'Wallace, Tyrone': '1627820',\n 'Walton Jr., Derrick': '1628476',\n 'Wanamaker, Brad': '202954',\n 'Warren, T.J.': '203933',\n 'Washington, P.J.': '1629023',\n 'Watanabe, Yuta': '1629139',\n 'Waters, Tremont': '1629682',\n 'Weatherspoon, Quinndary': '1629683',\n 'Westbrook, Russell': '201566',\n 'White, Coby': '1629632',\n 'White, Derrick': '1628401',\n 'Whiteside, Hassan': '202355',\n 'Wiggins, Andrew': '203952',\n 'Williams, Grant': '1629684',\n 'Williams, Kenrich': '1629026',\n 'Williams, Lou': '101150',\n 'Williams, Marvin': '101107',\n 'Williams III, Robert': '1629057',\n 'Williams-Goss, Nigel': '1628430',\n 'Williamson, Zion': '1629627',\n 'Wilson, D.J.': '1628391',\n 'Windler, Dylan': '1629685',\n 'Winslow, Justise': '1626159',\n 'Wood, Christian': '1626174',\n 'Wright, Delon': '1626153',\n 'Wright-Foreman, Justin': '1629625',\n 'Young, Thaddeus': '201152',\n 'Young, Trae': '1629027',\n 'Zeller, Cody': '203469',\n 'Zizic, Ante': '1627790',\n 'Zubac, Ivica': '1627826'}"
     },
     "execution_count": 88,
     "metadata": {},
     "output_type": "execute_result"
    }
   ],
   "source": [
    "PLAYERS = {}\n",
    "for i in range(len(player_index)):\n",
    "\n",
    "    player = player_index[i]\n",
    "    PLAYERS[player[0]] = player[1].split('/')[-2]\n",
    "\n",
    "PLAYERS"
   ]
  },
  {
   "cell_type": "code",
   "execution_count": 92,
   "metadata": {},
   "outputs": [
    {
     "data": {
      "text/html": "<div>\n<style scoped>\n    .dataframe tbody tr th:only-of-type {\n        vertical-align: middle;\n    }\n\n    .dataframe tbody tr th {\n        vertical-align: top;\n    }\n\n    .dataframe thead th {\n        text-align: right;\n    }\n</style>\n<table border=\"1\" class=\"dataframe\">\n  <thead>\n    <tr style=\"text-align: right;\">\n      <th></th>\n      <th>player</th>\n      <th>stats.nba id</th>\n    </tr>\n  </thead>\n  <tbody>\n    <tr>\n      <td>0</td>\n      <td>Adams, Steven</td>\n      <td>203500</td>\n    </tr>\n    <tr>\n      <td>1</td>\n      <td>Adebayo, Bam</td>\n      <td>1628389</td>\n    </tr>\n    <tr>\n      <td>2</td>\n      <td>Aldridge, LaMarcus</td>\n      <td>200746</td>\n    </tr>\n    <tr>\n      <td>3</td>\n      <td>Alexander-Walker, Nickeil</td>\n      <td>1629638</td>\n    </tr>\n    <tr>\n      <td>4</td>\n      <td>Allen, Grayson</td>\n      <td>1628960</td>\n    </tr>\n    <tr>\n      <td>...</td>\n      <td>...</td>\n      <td>...</td>\n    </tr>\n    <tr>\n      <td>504</td>\n      <td>Young, Thaddeus</td>\n      <td>201152</td>\n    </tr>\n    <tr>\n      <td>505</td>\n      <td>Young, Trae</td>\n      <td>1629027</td>\n    </tr>\n    <tr>\n      <td>506</td>\n      <td>Zeller, Cody</td>\n      <td>203469</td>\n    </tr>\n    <tr>\n      <td>507</td>\n      <td>Zizic, Ante</td>\n      <td>1627790</td>\n    </tr>\n    <tr>\n      <td>508</td>\n      <td>Zubac, Ivica</td>\n      <td>1627826</td>\n    </tr>\n  </tbody>\n</table>\n<p>509 rows × 2 columns</p>\n</div>",
      "text/plain": "                        player stats.nba id\n0                Adams, Steven       203500\n1                 Adebayo, Bam      1628389\n2           Aldridge, LaMarcus       200746\n3    Alexander-Walker, Nickeil      1629638\n4               Allen, Grayson      1628960\n..                         ...          ...\n504            Young, Thaddeus       201152\n505                Young, Trae      1629027\n506               Zeller, Cody       203469\n507                Zizic, Ante      1627790\n508               Zubac, Ivica      1627826\n\n[509 rows x 2 columns]"
     },
     "execution_count": 92,
     "metadata": {},
     "output_type": "execute_result"
    }
   ],
   "source": [
    "import pandas as pd\n",
    "df = pd.Series(PLAYERS)#,columns=['Player','ID'])#.to_csv(\"data/players/players-index.csv\")\n",
    "df =df.reset_index()\n",
    "df.columns = ['player','stats.nba id']\n",
    "df"
   ]
  },
  {
   "cell_type": "code",
   "execution_count": 93,
   "metadata": {},
   "outputs": [],
   "source": [
    "df.to_csv(\"data/players/players-index.csv\")"
   ]
  },
  {
   "cell_type": "markdown",
   "execution_count": null,
   "metadata": {},
   "outputs": [],
   "source": [
    "## SAVED INDEX"
   ]
  },
  {
   "cell_type": "code",
   "execution_count": 72,
   "metadata": {},
   "outputs": [
    {
     "data": {
      "text/plain": "[]"
     },
     "execution_count": 72,
     "metadata": {},
     "output_type": "execute_result"
    }
   ],
   "source": [
    "\n",
    "exp = re.compile(r'player/(\\d+)/..([A-Za-z- ,]+)')\n",
    "exp.findall(player_index[0][1])"
   ]
  },
  {
   "cell_type": "code",
   "execution_count": 45,
   "metadata": {},
   "outputs": [
    {
     "ename": "SyntaxError",
     "evalue": "invalid syntax (<ipython-input-45-28764204b1ab>, line 5)",
     "output_type": "error",
     "traceback": [
      "\u001b[0;36m  File \u001b[0;32m\"<ipython-input-45-28764204b1ab>\"\u001b[0;36m, line \u001b[0;32m5\u001b[0m\n\u001b[0;31m    matches = re.findall(,player)\u001b[0m\n\u001b[0m                         ^\u001b[0m\n\u001b[0;31mSyntaxError\u001b[0m\u001b[0;31m:\u001b[0m invalid syntax\n"
     ]
    }
   ],
   "source": [
    "import re\n",
    "for player in player_info:\n",
    "    print(tyupe(player))\n",
    "    exp = re.compile(r'player/(\\d+)/..([A-Za-z- ,]+)')\n",
    "    matches = re.findall(,player)\n",
    "    "
   ]
  },
  {
   "cell_type": "code",
   "execution_count": 35,
   "metadata": {},
   "outputs": [
    {
     "data": {
      "text/plain": "'/player/203500/'"
     },
     "execution_count": 35,
     "metadata": {},
     "output_type": "execute_result"
    }
   ],
   "source": [
    "players[0].find_all('a',href=True)[0]['href']"
   ]
  },
  {
   "cell_type": "code",
   "execution_count": null,
   "metadata": {},
   "outputs": [],
   "source": []
  },
  {
   "cell_type": "code",
   "execution_count": null,
   "metadata": {},
   "outputs": [],
   "source": []
  },
  {
   "cell_type": "code",
   "execution_count": null,
   "metadata": {},
   "outputs": [],
   "source": []
  },
  {
   "cell_type": "code",
   "execution_count": null,
   "metadata": {},
   "outputs": [],
   "source": []
  },
  {
   "cell_type": "code",
   "execution_count": null,
   "metadata": {},
   "outputs": [],
   "source": []
  },
  {
   "cell_type": "code",
   "execution_count": 4,
   "metadata": {},
   "outputs": [
    {
     "data": {
      "text/plain": "'\\nMatch Up\\nW/L\\nMIN\\nPTS\\nFGM\\nFGA\\nFG%\\n3PM\\n3PA\\n3P%\\nFTM\\nFTA\\nFT%\\nOREB\\nDREB\\nREB\\nAST\\nSTL\\nBLK\\nTOV\\nPF\\n+/-\\n'"
     },
     "execution_count": 4,
     "metadata": {},
     "output_type": "execute_result"
    }
   ],
   "source": [
    "row_tags = soup.find_all('tr')\n",
    "row_tags[0].text"
   ]
  },
  {
   "cell_type": "code",
   "execution_count": null,
   "metadata": {},
   "outputs": [],
   "source": []
  },
  {
   "cell_type": "code",
   "execution_count": 5,
   "metadata": {},
   "outputs": [
    {
     "data": {
      "text/plain": "'\\n\\nDec 25, 2019 - BOS @ TOR\\n\\nW\\n35\\n11\\n\\n            5\\n\\n\\n            18\\n\\n27.8\\n\\n            1\\n\\n\\n            3\\n\\n33.3\\n0\\n0\\n0.0\\n\\n            4\\n\\n\\n            5\\n\\n\\n            9\\n\\n\\n            6\\n\\n\\n            2\\n\\n\\n            0\\n\\n\\n            3\\n\\n4\\n21\\n'"
     },
     "execution_count": 5,
     "metadata": {},
     "output_type": "execute_result"
    }
   ],
   "source": [
    "row_tags[1].text"
   ]
  },
  {
   "cell_type": "code",
   "execution_count": 6,
   "metadata": {},
   "outputs": [
    {
     "data": {
      "text/plain": "'Match Up,W/L,MIN,PTS,FGM,FGA,FG%,3PM,3PA,3P%,FTM,FTA,FT%,OREB,DREB,REB,AST,STL,BLK,TOV,PF,+/-,'"
     },
     "execution_count": 6,
     "metadata": {},
     "output_type": "execute_result"
    }
   ],
   "source": [
    "headers = row_tags[0].text.replace('\\n',',')\n",
    "if headers[0]==',':\n",
    "    headers = headers[1:]\n",
    "headers"
   ]
  },
  {
   "cell_type": "code",
   "execution_count": 7,
   "metadata": {},
   "outputs": [
    {
     "name": "stdout",
     "output_type": "stream",
     "text": "24 48 48\n['', 'Match Up', 'W/L', 'MIN', 'PTS', 'FGM', 'FGA', 'FG%', '3PM', '3PA', '3P%', 'FTM', 'FTA', 'FT%', 'OREB', 'DREB', 'REB', 'AST', 'STL', 'BLK', 'TOV', 'PF', '+/-', '']\n\n['', '', 'Dec 25, 2019 - BOS @ TOR', '', 'W', '35', '11', '', '            5', '', '', '            18', '', '27.8', '', '            1', '', '', '            3', '', '33.3', '0', '0', '0.0', '', '            4', '', '', '            5', '', '', '            9', '', '', '            6', '', '', '            2', '', '', '            0', '', '', '            3', '', '4', '21', '']\n\n['', '', 'Dec 22, 2019 - BOS vs. CHA', '', 'W', '36', '39', '', '            15', '', '', '            29', '', '51.7', '', '            4', '', '', '            9', '', '44.4', '5', '5', '100', '', '            1', '', '', '            11', '', '', '            12', '', '', '            2', '', '', '            1', '', '', '            3', '', '', '            2', '', '1', '10', '']\n"
    }
   ],
   "source": [
    "headers = row_tags[0].text.split('\\n')\n",
    "row1 = row_tags[1].text.split('\\n')\n",
    "row2 = row_tags[2].text.split('\\n')\n",
    "\n",
    "print(len(headers),len(row1),len(row2))\n",
    "print(headers,row1,row2,sep='\\n\\n')"
   ]
  },
  {
   "cell_type": "code",
   "execution_count": 8,
   "metadata": {},
   "outputs": [
    {
     "data": {
      "text/plain": "',,Dec 25, 2019 - BOS @ TOR,,W,35,11,,            5,,,            18,,27.8,,            1,,,            3,,33.3,0,0,0.0,,            4,,,            5,,,            9,,,            6,,,            2,,,            0,,,            3,,4,21,'"
     },
     "execution_count": 8,
     "metadata": {},
     "output_type": "execute_result"
    }
   ],
   "source": [
    "row_data = row_tags[1].text.replace('\\n',',')\n",
    "row_data"
   ]
  },
  {
   "cell_type": "code",
   "execution_count": null,
   "metadata": {},
   "outputs": [],
   "source": []
  },
  {
   "cell_type": "markdown",
   "execution_count": null,
   "metadata": {},
   "outputs": [],
   "source": [
    "### Summary:\n",
    "- Using the .text and splitting may not be the best strategy\n",
    "- Try searching for tags like `td` inside of the table rows for better extraction"
   ]
  },
  {
   "cell_type": "code",
   "execution_count": 9,
   "metadata": {},
   "outputs": [
    {
     "name": "stdout",
     "output_type": "stream",
     "text": "22\n"
    },
    {
     "data": {
      "text/plain": "['Match Up',\n 'W/L',\n 'MIN',\n 'PTS',\n 'FGM',\n 'FGA',\n 'FG%',\n '3PM',\n '3PA',\n '3P%',\n 'FTM',\n 'FTA',\n 'FT%',\n 'OREB',\n 'DREB',\n 'REB',\n 'AST',\n 'STL',\n 'BLK',\n 'TOV',\n 'PF',\n '+/-']"
     },
     "execution_count": 9,
     "metadata": {},
     "output_type": "execute_result"
    }
   ],
   "source": [
    "head = row_tags[0]\n",
    "print(len(head.find_all('th')))\n",
    "\n",
    "\n",
    "column_names = [t.text for t in head.find_all('th')]\n",
    "column_names"
   ]
  },
  {
   "cell_type": "code",
   "execution_count": 10,
   "metadata": {},
   "outputs": [
    {
     "name": "stdout",
     "output_type": "stream",
     "text": "0 : \nDec 25, 2019 - BOS @ TOR\n\n1 : W\n2 : 35\n3 : 11\n4 : \n            5\n\n5 : \n            18\n\n6 : 27.8\n7 : \n            1\n\n8 : \n            3\n\n9 : 33.3\n10 : 0\n11 : 0\n12 : 0.0\n13 : \n            4\n\n14 : \n            5\n\n15 : \n            9\n\n16 : \n            6\n\n17 : \n            2\n\n18 : \n            0\n\n19 : \n            3\n\n20 : 4\n21 : 21\n"
    },
    {
     "data": {
      "text/plain": "[None,\n None,\n None,\n None,\n None,\n None,\n None,\n None,\n None,\n None,\n None,\n None,\n None,\n None,\n None,\n None,\n None,\n None,\n None,\n None,\n None,\n None]"
     },
     "execution_count": 10,
     "metadata": {},
     "output_type": "execute_result"
    }
   ],
   "source": [
    "row = row_tags[1]\n",
    "len(row.find_all('td'))\n",
    "[print(i,':',t.text) for i,t in enumerate(row.find_all('td'))]"
   ]
  },
  {
   "cell_type": "code",
   "execution_count": 11,
   "metadata": {},
   "outputs": [
    {
     "data": {
      "text/plain": "22"
     },
     "execution_count": 11,
     "metadata": {},
     "output_type": "execute_result"
    }
   ],
   "source": [
    "row_data = [t.text.strip('\\n').strip() for t in row.find_all('td')]\n",
    "len(row_data)"
   ]
  },
  {
   "cell_type": "code",
   "execution_count": 12,
   "metadata": {},
   "outputs": [
    {
     "data": {
      "text/html": "<div>\n<style scoped>\n    .dataframe tbody tr th:only-of-type {\n        vertical-align: middle;\n    }\n\n    .dataframe tbody tr th {\n        vertical-align: top;\n    }\n\n    .dataframe thead th {\n        text-align: right;\n    }\n</style>\n<table border=\"1\" class=\"dataframe\">\n  <thead>\n    <tr style=\"text-align: right;\">\n      <th></th>\n      <th>Match Up</th>\n      <th>W/L</th>\n      <th>MIN</th>\n      <th>PTS</th>\n      <th>FGM</th>\n      <th>FGA</th>\n      <th>FG%</th>\n      <th>3PM</th>\n      <th>3PA</th>\n      <th>3P%</th>\n      <th>FTM</th>\n      <th>FTA</th>\n      <th>FT%</th>\n      <th>OREB</th>\n      <th>DREB</th>\n      <th>REB</th>\n      <th>AST</th>\n      <th>STL</th>\n      <th>BLK</th>\n      <th>TOV</th>\n      <th>PF</th>\n      <th>+/-</th>\n    </tr>\n  </thead>\n  <tbody>\n    <tr>\n      <td>0</td>\n      <td>Dec 25, 2019 - BOS @ TOR</td>\n      <td>W</td>\n      <td>35</td>\n      <td>11</td>\n      <td>5</td>\n      <td>18</td>\n      <td>27.8</td>\n      <td>1</td>\n      <td>3</td>\n      <td>33.3</td>\n      <td>0</td>\n      <td>0</td>\n      <td>0.0</td>\n      <td>4</td>\n      <td>5</td>\n      <td>9</td>\n      <td>6</td>\n      <td>2</td>\n      <td>0</td>\n      <td>3</td>\n      <td>4</td>\n      <td>21</td>\n    </tr>\n    <tr>\n      <td>1</td>\n      <td>Dec 22, 2019 - BOS vs. CHA</td>\n      <td>W</td>\n      <td>36</td>\n      <td>39</td>\n      <td>15</td>\n      <td>29</td>\n      <td>51.7</td>\n      <td>4</td>\n      <td>9</td>\n      <td>44.4</td>\n      <td>5</td>\n      <td>5</td>\n      <td>100</td>\n      <td>1</td>\n      <td>11</td>\n      <td>12</td>\n      <td>2</td>\n      <td>1</td>\n      <td>3</td>\n      <td>2</td>\n      <td>1</td>\n      <td>10</td>\n    </tr>\n    <tr>\n      <td>2</td>\n      <td>Dec 20, 2019 - BOS vs. DET</td>\n      <td>W</td>\n      <td>27</td>\n      <td>26</td>\n      <td>10</td>\n      <td>17</td>\n      <td>58.8</td>\n      <td>2</td>\n      <td>7</td>\n      <td>28.6</td>\n      <td>4</td>\n      <td>4</td>\n      <td>100</td>\n      <td>0</td>\n      <td>5</td>\n      <td>5</td>\n      <td>3</td>\n      <td>2</td>\n      <td>0</td>\n      <td>0</td>\n      <td>1</td>\n      <td>10</td>\n    </tr>\n    <tr>\n      <td>3</td>\n      <td>Dec 18, 2019 - BOS @ DAL</td>\n      <td>W</td>\n      <td>37</td>\n      <td>24</td>\n      <td>10</td>\n      <td>23</td>\n      <td>43.5</td>\n      <td>2</td>\n      <td>10</td>\n      <td>20.0</td>\n      <td>2</td>\n      <td>3</td>\n      <td>66.7</td>\n      <td>2</td>\n      <td>6</td>\n      <td>8</td>\n      <td>1</td>\n      <td>0</td>\n      <td>1</td>\n      <td>3</td>\n      <td>3</td>\n      <td>-2</td>\n    </tr>\n    <tr>\n      <td>4</td>\n      <td>Dec 12, 2019 - BOS vs. PHI</td>\n      <td>L</td>\n      <td>34</td>\n      <td>15</td>\n      <td>5</td>\n      <td>18</td>\n      <td>27.8</td>\n      <td>3</td>\n      <td>8</td>\n      <td>37.5</td>\n      <td>2</td>\n      <td>2</td>\n      <td>100</td>\n      <td>1</td>\n      <td>2</td>\n      <td>3</td>\n      <td>4</td>\n      <td>0</td>\n      <td>1</td>\n      <td>1</td>\n      <td>4</td>\n      <td>-2</td>\n    </tr>\n  </tbody>\n</table>\n</div>",
      "text/plain": "                     Match Up W/L MIN PTS FGM FGA  ... AST STL BLK TOV PF +/-\n0    Dec 25, 2019 - BOS @ TOR   W  35  11   5  18  ...   6   2   0   3  4  21\n1  Dec 22, 2019 - BOS vs. CHA   W  36  39  15  29  ...   2   1   3   2  1  10\n2  Dec 20, 2019 - BOS vs. DET   W  27  26  10  17  ...   3   2   0   0  1  10\n3    Dec 18, 2019 - BOS @ DAL   W  37  24  10  23  ...   1   0   1   3  3  -2\n4  Dec 12, 2019 - BOS vs. PHI   L  34  15   5  18  ...   4   0   1   1  4  -2\n\n[5 rows x 22 columns]"
     },
     "execution_count": 12,
     "metadata": {},
     "output_type": "execute_result"
    }
   ],
   "source": [
    "import pandas as pd\n",
    "pd.set_option('display.max_columns',0)\n",
    "## Get header/column names\n",
    "head = row_tags[0]\n",
    "column_names = [t.text for t in head.find_all('th')]\n",
    "\n",
    "data = []\n",
    "for row in row_tags[1:]:\n",
    "    row_data = [t.text.strip('\\n').strip() for t in row.find_all('td')]\n",
    "    data.append(row_data)\n",
    "\n",
    "df = pd.DataFrame(data,columns=column_names)\n",
    "df.head(5)"
   ]
  },
  {
   "cell_type": "code",
   "execution_count": 13,
   "metadata": {},
   "outputs": [
    {
     "data": {
      "text/plain": "Match Up    object\nW/L         object\nMIN         object\nPTS         object\nFGM         object\nFGA         object\nFG%         object\n3PM         object\n3PA         object\n3P%         object\nFTM         object\nFTA         object\nFT%         object\nOREB        object\nDREB        object\nREB         object\nAST         object\nSTL         object\nBLK         object\nTOV         object\nPF          object\n+/-         object\ndtype: object"
     },
     "execution_count": 13,
     "metadata": {},
     "output_type": "execute_result"
    }
   ],
   "source": [
    "df.dtypes"
   ]
  },
  {
   "cell_type": "code",
   "execution_count": 14,
   "metadata": {},
   "outputs": [
    {
     "data": {
      "text/plain": "Index(['Match Up', 'W/L', 'MIN', 'PTS', 'FGM', 'FGA', 'FG%', '3PM', '3PA',\n       '3P%', 'FTM', 'FTA', 'FT%', 'OREB', 'DREB', 'REB', 'AST', 'STL', 'BLK',\n       'TOV', 'PF', '+/-'],\n      dtype='object')"
     },
     "execution_count": 14,
     "metadata": {},
     "output_type": "execute_result"
    }
   ],
   "source": [
    "\n",
    "df.columns"
   ]
  },
  {
   "cell_type": "code",
   "execution_count": 15,
   "metadata": {},
   "outputs": [
    {
     "data": {
      "text/plain": "['FG%', '3P%', 'FT%']"
     },
     "execution_count": 15,
     "metadata": {},
     "output_type": "execute_result"
    }
   ],
   "source": [
    "float_cols= [col for col in df.columns if '%' in col]\n",
    "float_cols"
   ]
  },
  {
   "cell_type": "code",
   "execution_count": 16,
   "metadata": {},
   "outputs": [
    {
     "data": {
      "text/plain": "['MIN',\n 'PTS',\n 'FGM',\n 'FGA',\n '3PM',\n '3PA',\n 'FTM',\n 'FTA',\n 'OREB',\n 'DREB',\n 'REB',\n 'AST',\n 'STL',\n 'BLK',\n 'TOV',\n 'PF',\n '+/-']"
     },
     "execution_count": 16,
     "metadata": {},
     "output_type": "execute_result"
    }
   ],
   "source": [
    "obj_cols= ['Match Up','W/L']\n",
    "int_cols = [col for col in df.columns if (col not in float_cols) and (col not in obj_cols)]\n",
    "int_cols"
   ]
  },
  {
   "cell_type": "code",
   "execution_count": 17,
   "metadata": {},
   "outputs": [
    {
     "data": {
      "text/html": "<div>\n<style scoped>\n    .dataframe tbody tr th:only-of-type {\n        vertical-align: middle;\n    }\n\n    .dataframe tbody tr th {\n        vertical-align: top;\n    }\n\n    .dataframe thead th {\n        text-align: right;\n    }\n</style>\n<table border=\"1\" class=\"dataframe\">\n  <thead>\n    <tr style=\"text-align: right;\">\n      <th></th>\n      <th>Match Up</th>\n      <th>W/L</th>\n      <th>MIN</th>\n      <th>PTS</th>\n      <th>FGM</th>\n      <th>FGA</th>\n      <th>FG%</th>\n      <th>3PM</th>\n      <th>3PA</th>\n      <th>3P%</th>\n      <th>FTM</th>\n      <th>FTA</th>\n      <th>FT%</th>\n      <th>OREB</th>\n      <th>DREB</th>\n      <th>REB</th>\n      <th>AST</th>\n      <th>STL</th>\n      <th>BLK</th>\n      <th>TOV</th>\n      <th>PF</th>\n      <th>+/-</th>\n    </tr>\n  </thead>\n  <tbody>\n    <tr>\n      <td>0</td>\n      <td>Dec 25, 2019 - BOS @ TOR</td>\n      <td>W</td>\n      <td>35</td>\n      <td>11</td>\n      <td>5</td>\n      <td>18</td>\n      <td>27.8</td>\n      <td>1</td>\n      <td>3</td>\n      <td>33.3</td>\n      <td>0</td>\n      <td>0</td>\n      <td>0.0</td>\n      <td>4</td>\n      <td>5</td>\n      <td>9</td>\n      <td>6</td>\n      <td>2</td>\n      <td>0</td>\n      <td>3</td>\n      <td>4</td>\n      <td>21</td>\n    </tr>\n    <tr>\n      <td>1</td>\n      <td>Dec 22, 2019 - BOS vs. CHA</td>\n      <td>W</td>\n      <td>36</td>\n      <td>39</td>\n      <td>15</td>\n      <td>29</td>\n      <td>51.7</td>\n      <td>4</td>\n      <td>9</td>\n      <td>44.4</td>\n      <td>5</td>\n      <td>5</td>\n      <td>100</td>\n      <td>1</td>\n      <td>11</td>\n      <td>12</td>\n      <td>2</td>\n      <td>1</td>\n      <td>3</td>\n      <td>2</td>\n      <td>1</td>\n      <td>10</td>\n    </tr>\n    <tr>\n      <td>2</td>\n      <td>Dec 20, 2019 - BOS vs. DET</td>\n      <td>W</td>\n      <td>27</td>\n      <td>26</td>\n      <td>10</td>\n      <td>17</td>\n      <td>58.8</td>\n      <td>2</td>\n      <td>7</td>\n      <td>28.6</td>\n      <td>4</td>\n      <td>4</td>\n      <td>100</td>\n      <td>0</td>\n      <td>5</td>\n      <td>5</td>\n      <td>3</td>\n      <td>2</td>\n      <td>0</td>\n      <td>0</td>\n      <td>1</td>\n      <td>10</td>\n    </tr>\n    <tr>\n      <td>3</td>\n      <td>Dec 18, 2019 - BOS @ DAL</td>\n      <td>W</td>\n      <td>37</td>\n      <td>24</td>\n      <td>10</td>\n      <td>23</td>\n      <td>43.5</td>\n      <td>2</td>\n      <td>10</td>\n      <td>20.0</td>\n      <td>2</td>\n      <td>3</td>\n      <td>66.7</td>\n      <td>2</td>\n      <td>6</td>\n      <td>8</td>\n      <td>1</td>\n      <td>0</td>\n      <td>1</td>\n      <td>3</td>\n      <td>3</td>\n      <td>-2</td>\n    </tr>\n    <tr>\n      <td>4</td>\n      <td>Dec 12, 2019 - BOS vs. PHI</td>\n      <td>L</td>\n      <td>34</td>\n      <td>15</td>\n      <td>5</td>\n      <td>18</td>\n      <td>27.8</td>\n      <td>3</td>\n      <td>8</td>\n      <td>37.5</td>\n      <td>2</td>\n      <td>2</td>\n      <td>100</td>\n      <td>1</td>\n      <td>2</td>\n      <td>3</td>\n      <td>4</td>\n      <td>0</td>\n      <td>1</td>\n      <td>1</td>\n      <td>4</td>\n      <td>-2</td>\n    </tr>\n    <tr>\n      <td>5</td>\n      <td>Dec 11, 2019 - BOS @ IND</td>\n      <td>L</td>\n      <td>37</td>\n      <td>16</td>\n      <td>4</td>\n      <td>13</td>\n      <td>30.8</td>\n      <td>2</td>\n      <td>8</td>\n      <td>25.0</td>\n      <td>6</td>\n      <td>6</td>\n      <td>100</td>\n      <td>0</td>\n      <td>6</td>\n      <td>6</td>\n      <td>3</td>\n      <td>2</td>\n      <td>0</td>\n      <td>3</td>\n      <td>2</td>\n      <td>-8</td>\n    </tr>\n    <tr>\n      <td>6</td>\n      <td>Dec 09, 2019 - BOS vs. CLE</td>\n      <td>W</td>\n      <td>30</td>\n      <td>19</td>\n      <td>7</td>\n      <td>14</td>\n      <td>50.0</td>\n      <td>4</td>\n      <td>6</td>\n      <td>66.7</td>\n      <td>1</td>\n      <td>2</td>\n      <td>50.0</td>\n      <td>0</td>\n      <td>11</td>\n      <td>11</td>\n      <td>2</td>\n      <td>2</td>\n      <td>2</td>\n      <td>4</td>\n      <td>1</td>\n      <td>24</td>\n    </tr>\n    <tr>\n      <td>7</td>\n      <td>Dec 06, 2019 - BOS vs. DEN</td>\n      <td>W</td>\n      <td>30</td>\n      <td>26</td>\n      <td>10</td>\n      <td>19</td>\n      <td>52.6</td>\n      <td>4</td>\n      <td>8</td>\n      <td>50.0</td>\n      <td>2</td>\n      <td>2</td>\n      <td>100</td>\n      <td>0</td>\n      <td>7</td>\n      <td>7</td>\n      <td>5</td>\n      <td>1</td>\n      <td>0</td>\n      <td>1</td>\n      <td>1</td>\n      <td>14</td>\n    </tr>\n    <tr>\n      <td>8</td>\n      <td>Dec 04, 2019 - BOS vs. MIA</td>\n      <td>W</td>\n      <td>34</td>\n      <td>19</td>\n      <td>6</td>\n      <td>19</td>\n      <td>31.6</td>\n      <td>2</td>\n      <td>12</td>\n      <td>16.7</td>\n      <td>5</td>\n      <td>6</td>\n      <td>83.3</td>\n      <td>1</td>\n      <td>4</td>\n      <td>5</td>\n      <td>3</td>\n      <td>1</td>\n      <td>3</td>\n      <td>3</td>\n      <td>2</td>\n      <td>31</td>\n    </tr>\n    <tr>\n      <td>9</td>\n      <td>Dec 01, 2019 - BOS @ NYK</td>\n      <td>W</td>\n      <td>37</td>\n      <td>30</td>\n      <td>10</td>\n      <td>23</td>\n      <td>43.5</td>\n      <td>5</td>\n      <td>11</td>\n      <td>45.5</td>\n      <td>5</td>\n      <td>6</td>\n      <td>83.3</td>\n      <td>0</td>\n      <td>6</td>\n      <td>6</td>\n      <td>7</td>\n      <td>2</td>\n      <td>2</td>\n      <td>1</td>\n      <td>4</td>\n      <td>11</td>\n    </tr>\n    <tr>\n      <td>10</td>\n      <td>Nov 29, 2019 - BOS @ BKN</td>\n      <td>L</td>\n      <td>37</td>\n      <td>26</td>\n      <td>10</td>\n      <td>19</td>\n      <td>52.6</td>\n      <td>4</td>\n      <td>8</td>\n      <td>50.0</td>\n      <td>2</td>\n      <td>2</td>\n      <td>100</td>\n      <td>1</td>\n      <td>8</td>\n      <td>9</td>\n      <td>0</td>\n      <td>4</td>\n      <td>0</td>\n      <td>6</td>\n      <td>0</td>\n      <td>13</td>\n    </tr>\n    <tr>\n      <td>11</td>\n      <td>Nov 27, 2019 - BOS vs. BKN</td>\n      <td>W</td>\n      <td>35</td>\n      <td>16</td>\n      <td>5</td>\n      <td>17</td>\n      <td>29.4</td>\n      <td>0</td>\n      <td>4</td>\n      <td>0.0</td>\n      <td>6</td>\n      <td>6</td>\n      <td>100</td>\n      <td>3</td>\n      <td>6</td>\n      <td>9</td>\n      <td>5</td>\n      <td>1</td>\n      <td>0</td>\n      <td>3</td>\n      <td>2</td>\n      <td>11</td>\n    </tr>\n    <tr>\n      <td>12</td>\n      <td>Nov 25, 2019 - BOS vs. SAC</td>\n      <td>W</td>\n      <td>34</td>\n      <td>20</td>\n      <td>7</td>\n      <td>18</td>\n      <td>38.9</td>\n      <td>0</td>\n      <td>3</td>\n      <td>0.0</td>\n      <td>6</td>\n      <td>7</td>\n      <td>85.7</td>\n      <td>1</td>\n      <td>5</td>\n      <td>6</td>\n      <td>3</td>\n      <td>0</td>\n      <td>0</td>\n      <td>3</td>\n      <td>4</td>\n      <td>4</td>\n    </tr>\n    <tr>\n      <td>13</td>\n      <td>Nov 22, 2019 - BOS @ DEN</td>\n      <td>L</td>\n      <td>32</td>\n      <td>16</td>\n      <td>6</td>\n      <td>16</td>\n      <td>37.5</td>\n      <td>0</td>\n      <td>5</td>\n      <td>0.0</td>\n      <td>4</td>\n      <td>5</td>\n      <td>80.0</td>\n      <td>0</td>\n      <td>2</td>\n      <td>2</td>\n      <td>3</td>\n      <td>0</td>\n      <td>1</td>\n      <td>0</td>\n      <td>1</td>\n      <td>-23</td>\n    </tr>\n    <tr>\n      <td>14</td>\n      <td>Nov 20, 2019 - BOS @ LAC</td>\n      <td>L</td>\n      <td>41</td>\n      <td>30</td>\n      <td>12</td>\n      <td>24</td>\n      <td>50.0</td>\n      <td>5</td>\n      <td>10</td>\n      <td>50.0</td>\n      <td>1</td>\n      <td>2</td>\n      <td>50.0</td>\n      <td>0</td>\n      <td>6</td>\n      <td>6</td>\n      <td>3</td>\n      <td>2</td>\n      <td>2</td>\n      <td>3</td>\n      <td>4</td>\n      <td>-6</td>\n    </tr>\n    <tr>\n      <td>15</td>\n      <td>Nov 18, 2019 - BOS @ PHX</td>\n      <td>W</td>\n      <td>27</td>\n      <td>26</td>\n      <td>8</td>\n      <td>16</td>\n      <td>50.0</td>\n      <td>3</td>\n      <td>9</td>\n      <td>33.3</td>\n      <td>7</td>\n      <td>9</td>\n      <td>77.8</td>\n      <td>2</td>\n      <td>9</td>\n      <td>11</td>\n      <td>3</td>\n      <td>1</td>\n      <td>0</td>\n      <td>4</td>\n      <td>3</td>\n      <td>8</td>\n    </tr>\n    <tr>\n      <td>16</td>\n      <td>Nov 17, 2019 - BOS @ SAC</td>\n      <td>L</td>\n      <td>30</td>\n      <td>14</td>\n      <td>6</td>\n      <td>13</td>\n      <td>46.2</td>\n      <td>1</td>\n      <td>4</td>\n      <td>25.0</td>\n      <td>1</td>\n      <td>1</td>\n      <td>100</td>\n      <td>0</td>\n      <td>6</td>\n      <td>6</td>\n      <td>2</td>\n      <td>0</td>\n      <td>1</td>\n      <td>1</td>\n      <td>0</td>\n      <td>12</td>\n    </tr>\n    <tr>\n      <td>17</td>\n      <td>Nov 15, 2019 - BOS @ GSW</td>\n      <td>W</td>\n      <td>38</td>\n      <td>24</td>\n      <td>8</td>\n      <td>23</td>\n      <td>34.8</td>\n      <td>2</td>\n      <td>7</td>\n      <td>28.6</td>\n      <td>6</td>\n      <td>7</td>\n      <td>85.7</td>\n      <td>3</td>\n      <td>5</td>\n      <td>8</td>\n      <td>1</td>\n      <td>3</td>\n      <td>0</td>\n      <td>2</td>\n      <td>3</td>\n      <td>6</td>\n    </tr>\n    <tr>\n      <td>18</td>\n      <td>Nov 13, 2019 - BOS vs. WAS</td>\n      <td>W</td>\n      <td>35</td>\n      <td>23</td>\n      <td>9</td>\n      <td>20</td>\n      <td>45.0</td>\n      <td>1</td>\n      <td>5</td>\n      <td>20.0</td>\n      <td>4</td>\n      <td>4</td>\n      <td>100</td>\n      <td>2</td>\n      <td>1</td>\n      <td>3</td>\n      <td>4</td>\n      <td>0</td>\n      <td>0</td>\n      <td>1</td>\n      <td>3</td>\n      <td>14</td>\n    </tr>\n    <tr>\n      <td>19</td>\n      <td>Nov 11, 2019 - BOS vs. DAL</td>\n      <td>W</td>\n      <td>35</td>\n      <td>5</td>\n      <td>1</td>\n      <td>18</td>\n      <td>5.6</td>\n      <td>0</td>\n      <td>3</td>\n      <td>0.0</td>\n      <td>3</td>\n      <td>4</td>\n      <td>75.0</td>\n      <td>3</td>\n      <td>5</td>\n      <td>8</td>\n      <td>4</td>\n      <td>1</td>\n      <td>0</td>\n      <td>1</td>\n      <td>3</td>\n      <td>16</td>\n    </tr>\n    <tr>\n      <td>20</td>\n      <td>Nov 09, 2019 - BOS @ SAS</td>\n      <td>W</td>\n      <td>34</td>\n      <td>19</td>\n      <td>6</td>\n      <td>13</td>\n      <td>46.2</td>\n      <td>2</td>\n      <td>6</td>\n      <td>33.3</td>\n      <td>5</td>\n      <td>6</td>\n      <td>83.3</td>\n      <td>1</td>\n      <td>6</td>\n      <td>7</td>\n      <td>4</td>\n      <td>3</td>\n      <td>0</td>\n      <td>2</td>\n      <td>3</td>\n      <td>23</td>\n    </tr>\n    <tr>\n      <td>21</td>\n      <td>Nov 07, 2019 - BOS @ CHA</td>\n      <td>W</td>\n      <td>29</td>\n      <td>23</td>\n      <td>8</td>\n      <td>17</td>\n      <td>47.1</td>\n      <td>4</td>\n      <td>6</td>\n      <td>66.7</td>\n      <td>3</td>\n      <td>4</td>\n      <td>75.0</td>\n      <td>2</td>\n      <td>7</td>\n      <td>9</td>\n      <td>1</td>\n      <td>2</td>\n      <td>1</td>\n      <td>1</td>\n      <td>0</td>\n      <td>13</td>\n    </tr>\n    <tr>\n      <td>22</td>\n      <td>Nov 05, 2019 - BOS @ CLE</td>\n      <td>W</td>\n      <td>34</td>\n      <td>18</td>\n      <td>9</td>\n      <td>16</td>\n      <td>56.3</td>\n      <td>0</td>\n      <td>5</td>\n      <td>0.0</td>\n      <td>0</td>\n      <td>0</td>\n      <td>0.0</td>\n      <td>0</td>\n      <td>7</td>\n      <td>7</td>\n      <td>1</td>\n      <td>1</td>\n      <td>2</td>\n      <td>4</td>\n      <td>1</td>\n      <td>9</td>\n    </tr>\n    <tr>\n      <td>23</td>\n      <td>Nov 01, 2019 - BOS vs. NYK</td>\n      <td>W</td>\n      <td>34</td>\n      <td>24</td>\n      <td>9</td>\n      <td>17</td>\n      <td>52.9</td>\n      <td>4</td>\n      <td>8</td>\n      <td>50.0</td>\n      <td>2</td>\n      <td>2</td>\n      <td>100</td>\n      <td>1</td>\n      <td>5</td>\n      <td>6</td>\n      <td>3</td>\n      <td>0</td>\n      <td>0</td>\n      <td>2</td>\n      <td>4</td>\n      <td>12</td>\n    </tr>\n    <tr>\n      <td>24</td>\n      <td>Oct 30, 2019 - BOS vs. MIL</td>\n      <td>W</td>\n      <td>39</td>\n      <td>25</td>\n      <td>10</td>\n      <td>22</td>\n      <td>45.5</td>\n      <td>4</td>\n      <td>7</td>\n      <td>57.1</td>\n      <td>1</td>\n      <td>2</td>\n      <td>50.0</td>\n      <td>1</td>\n      <td>3</td>\n      <td>4</td>\n      <td>2</td>\n      <td>0</td>\n      <td>1</td>\n      <td>1</td>\n      <td>5</td>\n      <td>16</td>\n    </tr>\n    <tr>\n      <td>25</td>\n      <td>Oct 26, 2019 - BOS @ NYK</td>\n      <td>W</td>\n      <td>34</td>\n      <td>15</td>\n      <td>5</td>\n      <td>17</td>\n      <td>29.4</td>\n      <td>2</td>\n      <td>7</td>\n      <td>28.6</td>\n      <td>3</td>\n      <td>4</td>\n      <td>75.0</td>\n      <td>2</td>\n      <td>7</td>\n      <td>9</td>\n      <td>0</td>\n      <td>3</td>\n      <td>2</td>\n      <td>2</td>\n      <td>3</td>\n      <td>20</td>\n    </tr>\n    <tr>\n      <td>26</td>\n      <td>Oct 25, 2019 - BOS vs. TOR</td>\n      <td>W</td>\n      <td>35</td>\n      <td>25</td>\n      <td>8</td>\n      <td>22</td>\n      <td>36.4</td>\n      <td>4</td>\n      <td>7</td>\n      <td>57.1</td>\n      <td>5</td>\n      <td>5</td>\n      <td>100</td>\n      <td>3</td>\n      <td>6</td>\n      <td>9</td>\n      <td>4</td>\n      <td>3</td>\n      <td>0</td>\n      <td>0</td>\n      <td>0</td>\n      <td>9</td>\n    </tr>\n    <tr>\n      <td>27</td>\n      <td>Oct 23, 2019 - BOS @ PHI</td>\n      <td>L</td>\n      <td>37</td>\n      <td>21</td>\n      <td>8</td>\n      <td>22</td>\n      <td>36.4</td>\n      <td>4</td>\n      <td>8</td>\n      <td>50.0</td>\n      <td>1</td>\n      <td>3</td>\n      <td>33.3</td>\n      <td>1</td>\n      <td>9</td>\n      <td>10</td>\n      <td>2</td>\n      <td>2</td>\n      <td>0</td>\n      <td>4</td>\n      <td>2</td>\n      <td>-4</td>\n    </tr>\n    <tr>\n      <td>28</td>\n      <td>NaN</td>\n      <td>NaN</td>\n      <td>NaN</td>\n      <td>NaN</td>\n      <td>NaN</td>\n      <td>NaN</td>\n      <td>NaN</td>\n      <td>NaN</td>\n      <td>NaN</td>\n      <td>NaN</td>\n      <td>NaN</td>\n      <td>NaN</td>\n      <td>NaN</td>\n      <td>NaN</td>\n      <td>NaN</td>\n      <td>NaN</td>\n      <td>NaN</td>\n      <td>NaN</td>\n      <td>NaN</td>\n      <td>NaN</td>\n      <td>NaN</td>\n      <td>NaN</td>\n    </tr>\n    <tr>\n      <td>29</td>\n      <td>Dec 25, 2019 - BOS @ TOR</td>\n      <td>NaN</td>\n      <td>NaN</td>\n      <td>NaN</td>\n      <td>NaN</td>\n      <td>NaN</td>\n      <td>NaN</td>\n      <td>NaN</td>\n      <td>NaN</td>\n      <td>NaN</td>\n      <td>NaN</td>\n      <td>NaN</td>\n      <td>NaN</td>\n      <td>NaN</td>\n      <td>NaN</td>\n      <td>NaN</td>\n      <td>NaN</td>\n      <td>NaN</td>\n      <td>NaN</td>\n      <td>NaN</td>\n      <td>NaN</td>\n      <td>NaN</td>\n    </tr>\n    <tr>\n      <td>30</td>\n      <td>Dec 22, 2019 - BOS vs. CHA</td>\n      <td>NaN</td>\n      <td>NaN</td>\n      <td>NaN</td>\n      <td>NaN</td>\n      <td>NaN</td>\n      <td>NaN</td>\n      <td>NaN</td>\n      <td>NaN</td>\n      <td>NaN</td>\n      <td>NaN</td>\n      <td>NaN</td>\n      <td>NaN</td>\n      <td>NaN</td>\n      <td>NaN</td>\n      <td>NaN</td>\n      <td>NaN</td>\n      <td>NaN</td>\n      <td>NaN</td>\n      <td>NaN</td>\n      <td>NaN</td>\n      <td>NaN</td>\n    </tr>\n    <tr>\n      <td>31</td>\n      <td>Dec 20, 2019 - BOS vs. DET</td>\n      <td>NaN</td>\n      <td>NaN</td>\n      <td>NaN</td>\n      <td>NaN</td>\n      <td>NaN</td>\n      <td>NaN</td>\n      <td>NaN</td>\n      <td>NaN</td>\n      <td>NaN</td>\n      <td>NaN</td>\n      <td>NaN</td>\n      <td>NaN</td>\n      <td>NaN</td>\n      <td>NaN</td>\n      <td>NaN</td>\n      <td>NaN</td>\n      <td>NaN</td>\n      <td>NaN</td>\n      <td>NaN</td>\n      <td>NaN</td>\n      <td>NaN</td>\n    </tr>\n    <tr>\n      <td>32</td>\n      <td>Dec 18, 2019 - BOS @ DAL</td>\n      <td>NaN</td>\n      <td>NaN</td>\n      <td>NaN</td>\n      <td>NaN</td>\n      <td>NaN</td>\n      <td>NaN</td>\n      <td>NaN</td>\n      <td>NaN</td>\n      <td>NaN</td>\n      <td>NaN</td>\n      <td>NaN</td>\n      <td>NaN</td>\n      <td>NaN</td>\n      <td>NaN</td>\n      <td>NaN</td>\n      <td>NaN</td>\n      <td>NaN</td>\n      <td>NaN</td>\n      <td>NaN</td>\n      <td>NaN</td>\n      <td>NaN</td>\n    </tr>\n    <tr>\n      <td>33</td>\n      <td>Dec 12, 2019 - BOS vs. PHI</td>\n      <td>NaN</td>\n      <td>NaN</td>\n      <td>NaN</td>\n      <td>NaN</td>\n      <td>NaN</td>\n      <td>NaN</td>\n      <td>NaN</td>\n      <td>NaN</td>\n      <td>NaN</td>\n      <td>NaN</td>\n      <td>NaN</td>\n      <td>NaN</td>\n      <td>NaN</td>\n      <td>NaN</td>\n      <td>NaN</td>\n      <td>NaN</td>\n      <td>NaN</td>\n      <td>NaN</td>\n      <td>NaN</td>\n      <td>NaN</td>\n      <td>NaN</td>\n    </tr>\n    <tr>\n      <td>34</td>\n      <td>Dec 11, 2019 - BOS @ IND</td>\n      <td>NaN</td>\n      <td>NaN</td>\n      <td>NaN</td>\n      <td>NaN</td>\n      <td>NaN</td>\n      <td>NaN</td>\n      <td>NaN</td>\n      <td>NaN</td>\n      <td>NaN</td>\n      <td>NaN</td>\n      <td>NaN</td>\n      <td>NaN</td>\n      <td>NaN</td>\n      <td>NaN</td>\n      <td>NaN</td>\n      <td>NaN</td>\n      <td>NaN</td>\n      <td>NaN</td>\n      <td>NaN</td>\n      <td>NaN</td>\n      <td>NaN</td>\n    </tr>\n    <tr>\n      <td>35</td>\n      <td>Dec 09, 2019 - BOS vs. CLE</td>\n      <td>NaN</td>\n      <td>NaN</td>\n      <td>NaN</td>\n      <td>NaN</td>\n      <td>NaN</td>\n      <td>NaN</td>\n      <td>NaN</td>\n      <td>NaN</td>\n      <td>NaN</td>\n      <td>NaN</td>\n      <td>NaN</td>\n      <td>NaN</td>\n      <td>NaN</td>\n      <td>NaN</td>\n      <td>NaN</td>\n      <td>NaN</td>\n      <td>NaN</td>\n      <td>NaN</td>\n      <td>NaN</td>\n      <td>NaN</td>\n      <td>NaN</td>\n    </tr>\n    <tr>\n      <td>36</td>\n      <td>Dec 06, 2019 - BOS vs. DEN</td>\n      <td>NaN</td>\n      <td>NaN</td>\n      <td>NaN</td>\n      <td>NaN</td>\n      <td>NaN</td>\n      <td>NaN</td>\n      <td>NaN</td>\n      <td>NaN</td>\n      <td>NaN</td>\n      <td>NaN</td>\n      <td>NaN</td>\n      <td>NaN</td>\n      <td>NaN</td>\n      <td>NaN</td>\n      <td>NaN</td>\n      <td>NaN</td>\n      <td>NaN</td>\n      <td>NaN</td>\n      <td>NaN</td>\n      <td>NaN</td>\n      <td>NaN</td>\n    </tr>\n    <tr>\n      <td>37</td>\n      <td>Dec 04, 2019 - BOS vs. MIA</td>\n      <td>NaN</td>\n      <td>NaN</td>\n      <td>NaN</td>\n      <td>NaN</td>\n      <td>NaN</td>\n      <td>NaN</td>\n      <td>NaN</td>\n      <td>NaN</td>\n      <td>NaN</td>\n      <td>NaN</td>\n      <td>NaN</td>\n      <td>NaN</td>\n      <td>NaN</td>\n      <td>NaN</td>\n      <td>NaN</td>\n      <td>NaN</td>\n      <td>NaN</td>\n      <td>NaN</td>\n      <td>NaN</td>\n      <td>NaN</td>\n      <td>NaN</td>\n    </tr>\n    <tr>\n      <td>38</td>\n      <td>Dec 01, 2019 - BOS @ NYK</td>\n      <td>NaN</td>\n      <td>NaN</td>\n      <td>NaN</td>\n      <td>NaN</td>\n      <td>NaN</td>\n      <td>NaN</td>\n      <td>NaN</td>\n      <td>NaN</td>\n      <td>NaN</td>\n      <td>NaN</td>\n      <td>NaN</td>\n      <td>NaN</td>\n      <td>NaN</td>\n      <td>NaN</td>\n      <td>NaN</td>\n      <td>NaN</td>\n      <td>NaN</td>\n      <td>NaN</td>\n      <td>NaN</td>\n      <td>NaN</td>\n      <td>NaN</td>\n    </tr>\n    <tr>\n      <td>39</td>\n      <td>Nov 29, 2019 - BOS @ BKN</td>\n      <td>NaN</td>\n      <td>NaN</td>\n      <td>NaN</td>\n      <td>NaN</td>\n      <td>NaN</td>\n      <td>NaN</td>\n      <td>NaN</td>\n      <td>NaN</td>\n      <td>NaN</td>\n      <td>NaN</td>\n      <td>NaN</td>\n      <td>NaN</td>\n      <td>NaN</td>\n      <td>NaN</td>\n      <td>NaN</td>\n      <td>NaN</td>\n      <td>NaN</td>\n      <td>NaN</td>\n      <td>NaN</td>\n      <td>NaN</td>\n      <td>NaN</td>\n    </tr>\n    <tr>\n      <td>40</td>\n      <td>Nov 27, 2019 - BOS vs. BKN</td>\n      <td>NaN</td>\n      <td>NaN</td>\n      <td>NaN</td>\n      <td>NaN</td>\n      <td>NaN</td>\n      <td>NaN</td>\n      <td>NaN</td>\n      <td>NaN</td>\n      <td>NaN</td>\n      <td>NaN</td>\n      <td>NaN</td>\n      <td>NaN</td>\n      <td>NaN</td>\n      <td>NaN</td>\n      <td>NaN</td>\n      <td>NaN</td>\n      <td>NaN</td>\n      <td>NaN</td>\n      <td>NaN</td>\n      <td>NaN</td>\n      <td>NaN</td>\n    </tr>\n    <tr>\n      <td>41</td>\n      <td>Nov 25, 2019 - BOS vs. SAC</td>\n      <td>NaN</td>\n      <td>NaN</td>\n      <td>NaN</td>\n      <td>NaN</td>\n      <td>NaN</td>\n      <td>NaN</td>\n      <td>NaN</td>\n      <td>NaN</td>\n      <td>NaN</td>\n      <td>NaN</td>\n      <td>NaN</td>\n      <td>NaN</td>\n      <td>NaN</td>\n      <td>NaN</td>\n      <td>NaN</td>\n      <td>NaN</td>\n      <td>NaN</td>\n      <td>NaN</td>\n      <td>NaN</td>\n      <td>NaN</td>\n      <td>NaN</td>\n    </tr>\n    <tr>\n      <td>42</td>\n      <td>Nov 22, 2019 - BOS @ DEN</td>\n      <td>NaN</td>\n      <td>NaN</td>\n      <td>NaN</td>\n      <td>NaN</td>\n      <td>NaN</td>\n      <td>NaN</td>\n      <td>NaN</td>\n      <td>NaN</td>\n      <td>NaN</td>\n      <td>NaN</td>\n      <td>NaN</td>\n      <td>NaN</td>\n      <td>NaN</td>\n      <td>NaN</td>\n      <td>NaN</td>\n      <td>NaN</td>\n      <td>NaN</td>\n      <td>NaN</td>\n      <td>NaN</td>\n      <td>NaN</td>\n      <td>NaN</td>\n    </tr>\n    <tr>\n      <td>43</td>\n      <td>Nov 20, 2019 - BOS @ LAC</td>\n      <td>NaN</td>\n      <td>NaN</td>\n      <td>NaN</td>\n      <td>NaN</td>\n      <td>NaN</td>\n      <td>NaN</td>\n      <td>NaN</td>\n      <td>NaN</td>\n      <td>NaN</td>\n      <td>NaN</td>\n      <td>NaN</td>\n      <td>NaN</td>\n      <td>NaN</td>\n      <td>NaN</td>\n      <td>NaN</td>\n      <td>NaN</td>\n      <td>NaN</td>\n      <td>NaN</td>\n      <td>NaN</td>\n      <td>NaN</td>\n      <td>NaN</td>\n    </tr>\n    <tr>\n      <td>44</td>\n      <td>Nov 18, 2019 - BOS @ PHX</td>\n      <td>NaN</td>\n      <td>NaN</td>\n      <td>NaN</td>\n      <td>NaN</td>\n      <td>NaN</td>\n      <td>NaN</td>\n      <td>NaN</td>\n      <td>NaN</td>\n      <td>NaN</td>\n      <td>NaN</td>\n      <td>NaN</td>\n      <td>NaN</td>\n      <td>NaN</td>\n      <td>NaN</td>\n      <td>NaN</td>\n      <td>NaN</td>\n      <td>NaN</td>\n      <td>NaN</td>\n      <td>NaN</td>\n      <td>NaN</td>\n      <td>NaN</td>\n    </tr>\n    <tr>\n      <td>45</td>\n      <td>Nov 17, 2019 - BOS @ SAC</td>\n      <td>NaN</td>\n      <td>NaN</td>\n      <td>NaN</td>\n      <td>NaN</td>\n      <td>NaN</td>\n      <td>NaN</td>\n      <td>NaN</td>\n      <td>NaN</td>\n      <td>NaN</td>\n      <td>NaN</td>\n      <td>NaN</td>\n      <td>NaN</td>\n      <td>NaN</td>\n      <td>NaN</td>\n      <td>NaN</td>\n      <td>NaN</td>\n      <td>NaN</td>\n      <td>NaN</td>\n      <td>NaN</td>\n      <td>NaN</td>\n      <td>NaN</td>\n    </tr>\n    <tr>\n      <td>46</td>\n      <td>Nov 15, 2019 - BOS @ GSW</td>\n      <td>NaN</td>\n      <td>NaN</td>\n      <td>NaN</td>\n      <td>NaN</td>\n      <td>NaN</td>\n      <td>NaN</td>\n      <td>NaN</td>\n      <td>NaN</td>\n      <td>NaN</td>\n      <td>NaN</td>\n      <td>NaN</td>\n      <td>NaN</td>\n      <td>NaN</td>\n      <td>NaN</td>\n      <td>NaN</td>\n      <td>NaN</td>\n      <td>NaN</td>\n      <td>NaN</td>\n      <td>NaN</td>\n      <td>NaN</td>\n      <td>NaN</td>\n    </tr>\n    <tr>\n      <td>47</td>\n      <td>Nov 13, 2019 - BOS vs. WAS</td>\n      <td>NaN</td>\n      <td>NaN</td>\n      <td>NaN</td>\n      <td>NaN</td>\n      <td>NaN</td>\n      <td>NaN</td>\n      <td>NaN</td>\n      <td>NaN</td>\n      <td>NaN</td>\n      <td>NaN</td>\n      <td>NaN</td>\n      <td>NaN</td>\n      <td>NaN</td>\n      <td>NaN</td>\n      <td>NaN</td>\n      <td>NaN</td>\n      <td>NaN</td>\n      <td>NaN</td>\n      <td>NaN</td>\n      <td>NaN</td>\n      <td>NaN</td>\n    </tr>\n    <tr>\n      <td>48</td>\n      <td>Nov 11, 2019 - BOS vs. DAL</td>\n      <td>NaN</td>\n      <td>NaN</td>\n      <td>NaN</td>\n      <td>NaN</td>\n      <td>NaN</td>\n      <td>NaN</td>\n      <td>NaN</td>\n      <td>NaN</td>\n      <td>NaN</td>\n      <td>NaN</td>\n      <td>NaN</td>\n      <td>NaN</td>\n      <td>NaN</td>\n      <td>NaN</td>\n      <td>NaN</td>\n      <td>NaN</td>\n      <td>NaN</td>\n      <td>NaN</td>\n      <td>NaN</td>\n      <td>NaN</td>\n      <td>NaN</td>\n    </tr>\n    <tr>\n      <td>49</td>\n      <td>Nov 09, 2019 - BOS @ SAS</td>\n      <td>NaN</td>\n      <td>NaN</td>\n      <td>NaN</td>\n      <td>NaN</td>\n      <td>NaN</td>\n      <td>NaN</td>\n      <td>NaN</td>\n      <td>NaN</td>\n      <td>NaN</td>\n      <td>NaN</td>\n      <td>NaN</td>\n      <td>NaN</td>\n      <td>NaN</td>\n      <td>NaN</td>\n      <td>NaN</td>\n      <td>NaN</td>\n      <td>NaN</td>\n      <td>NaN</td>\n      <td>NaN</td>\n      <td>NaN</td>\n      <td>NaN</td>\n    </tr>\n    <tr>\n      <td>50</td>\n      <td>Nov 07, 2019 - BOS @ CHA</td>\n      <td>NaN</td>\n      <td>NaN</td>\n      <td>NaN</td>\n      <td>NaN</td>\n      <td>NaN</td>\n      <td>NaN</td>\n      <td>NaN</td>\n      <td>NaN</td>\n      <td>NaN</td>\n      <td>NaN</td>\n      <td>NaN</td>\n      <td>NaN</td>\n      <td>NaN</td>\n      <td>NaN</td>\n      <td>NaN</td>\n      <td>NaN</td>\n      <td>NaN</td>\n      <td>NaN</td>\n      <td>NaN</td>\n      <td>NaN</td>\n      <td>NaN</td>\n    </tr>\n    <tr>\n      <td>51</td>\n      <td>Nov 05, 2019 - BOS @ CLE</td>\n      <td>NaN</td>\n      <td>NaN</td>\n      <td>NaN</td>\n      <td>NaN</td>\n      <td>NaN</td>\n      <td>NaN</td>\n      <td>NaN</td>\n      <td>NaN</td>\n      <td>NaN</td>\n      <td>NaN</td>\n      <td>NaN</td>\n      <td>NaN</td>\n      <td>NaN</td>\n      <td>NaN</td>\n      <td>NaN</td>\n      <td>NaN</td>\n      <td>NaN</td>\n      <td>NaN</td>\n      <td>NaN</td>\n      <td>NaN</td>\n      <td>NaN</td>\n    </tr>\n    <tr>\n      <td>52</td>\n      <td>Nov 01, 2019 - BOS vs. NYK</td>\n      <td>NaN</td>\n      <td>NaN</td>\n      <td>NaN</td>\n      <td>NaN</td>\n      <td>NaN</td>\n      <td>NaN</td>\n      <td>NaN</td>\n      <td>NaN</td>\n      <td>NaN</td>\n      <td>NaN</td>\n      <td>NaN</td>\n      <td>NaN</td>\n      <td>NaN</td>\n      <td>NaN</td>\n      <td>NaN</td>\n      <td>NaN</td>\n      <td>NaN</td>\n      <td>NaN</td>\n      <td>NaN</td>\n      <td>NaN</td>\n      <td>NaN</td>\n    </tr>\n    <tr>\n      <td>53</td>\n      <td>Oct 30, 2019 - BOS vs. MIL</td>\n      <td>NaN</td>\n      <td>NaN</td>\n      <td>NaN</td>\n      <td>NaN</td>\n      <td>NaN</td>\n      <td>NaN</td>\n      <td>NaN</td>\n      <td>NaN</td>\n      <td>NaN</td>\n      <td>NaN</td>\n      <td>NaN</td>\n      <td>NaN</td>\n      <td>NaN</td>\n      <td>NaN</td>\n      <td>NaN</td>\n      <td>NaN</td>\n      <td>NaN</td>\n      <td>NaN</td>\n      <td>NaN</td>\n      <td>NaN</td>\n      <td>NaN</td>\n    </tr>\n    <tr>\n      <td>54</td>\n      <td>Oct 26, 2019 - BOS @ NYK</td>\n      <td>NaN</td>\n      <td>NaN</td>\n      <td>NaN</td>\n      <td>NaN</td>\n      <td>NaN</td>\n      <td>NaN</td>\n      <td>NaN</td>\n      <td>NaN</td>\n      <td>NaN</td>\n      <td>NaN</td>\n      <td>NaN</td>\n      <td>NaN</td>\n      <td>NaN</td>\n      <td>NaN</td>\n      <td>NaN</td>\n      <td>NaN</td>\n      <td>NaN</td>\n      <td>NaN</td>\n      <td>NaN</td>\n      <td>NaN</td>\n      <td>NaN</td>\n    </tr>\n    <tr>\n      <td>55</td>\n      <td>Oct 25, 2019 - BOS vs. TOR</td>\n      <td>NaN</td>\n      <td>NaN</td>\n      <td>NaN</td>\n      <td>NaN</td>\n      <td>NaN</td>\n      <td>NaN</td>\n      <td>NaN</td>\n      <td>NaN</td>\n      <td>NaN</td>\n      <td>NaN</td>\n      <td>NaN</td>\n      <td>NaN</td>\n      <td>NaN</td>\n      <td>NaN</td>\n      <td>NaN</td>\n      <td>NaN</td>\n      <td>NaN</td>\n      <td>NaN</td>\n      <td>NaN</td>\n      <td>NaN</td>\n      <td>NaN</td>\n    </tr>\n    <tr>\n      <td>56</td>\n      <td>Oct 23, 2019 - BOS @ PHI</td>\n      <td>NaN</td>\n      <td>NaN</td>\n      <td>NaN</td>\n      <td>NaN</td>\n      <td>NaN</td>\n      <td>NaN</td>\n      <td>NaN</td>\n      <td>NaN</td>\n      <td>NaN</td>\n      <td>NaN</td>\n      <td>NaN</td>\n      <td>NaN</td>\n      <td>NaN</td>\n      <td>NaN</td>\n      <td>NaN</td>\n      <td>NaN</td>\n      <td>NaN</td>\n      <td>NaN</td>\n      <td>NaN</td>\n      <td>NaN</td>\n      <td>NaN</td>\n    </tr>\n  </tbody>\n</table>\n</div>",
      "text/plain": "                      Match Up  W/L  MIN  PTS  FGM  ...  STL  BLK  TOV   PF  +/-\n0     Dec 25, 2019 - BOS @ TOR    W   35   11    5  ...    2    0    3    4   21\n1   Dec 22, 2019 - BOS vs. CHA    W   36   39   15  ...    1    3    2    1   10\n2   Dec 20, 2019 - BOS vs. DET    W   27   26   10  ...    2    0    0    1   10\n3     Dec 18, 2019 - BOS @ DAL    W   37   24   10  ...    0    1    3    3   -2\n4   Dec 12, 2019 - BOS vs. PHI    L   34   15    5  ...    0    1    1    4   -2\n5     Dec 11, 2019 - BOS @ IND    L   37   16    4  ...    2    0    3    2   -8\n6   Dec 09, 2019 - BOS vs. CLE    W   30   19    7  ...    2    2    4    1   24\n7   Dec 06, 2019 - BOS vs. DEN    W   30   26   10  ...    1    0    1    1   14\n8   Dec 04, 2019 - BOS vs. MIA    W   34   19    6  ...    1    3    3    2   31\n9     Dec 01, 2019 - BOS @ NYK    W   37   30   10  ...    2    2    1    4   11\n10    Nov 29, 2019 - BOS @ BKN    L   37   26   10  ...    4    0    6    0   13\n11  Nov 27, 2019 - BOS vs. BKN    W   35   16    5  ...    1    0    3    2   11\n12  Nov 25, 2019 - BOS vs. SAC    W   34   20    7  ...    0    0    3    4    4\n13    Nov 22, 2019 - BOS @ DEN    L   32   16    6  ...    0    1    0    1  -23\n14    Nov 20, 2019 - BOS @ LAC    L   41   30   12  ...    2    2    3    4   -6\n15    Nov 18, 2019 - BOS @ PHX    W   27   26    8  ...    1    0    4    3    8\n16    Nov 17, 2019 - BOS @ SAC    L   30   14    6  ...    0    1    1    0   12\n17    Nov 15, 2019 - BOS @ GSW    W   38   24    8  ...    3    0    2    3    6\n18  Nov 13, 2019 - BOS vs. WAS    W   35   23    9  ...    0    0    1    3   14\n19  Nov 11, 2019 - BOS vs. DAL    W   35    5    1  ...    1    0    1    3   16\n20    Nov 09, 2019 - BOS @ SAS    W   34   19    6  ...    3    0    2    3   23\n21    Nov 07, 2019 - BOS @ CHA    W   29   23    8  ...    2    1    1    0   13\n22    Nov 05, 2019 - BOS @ CLE    W   34   18    9  ...    1    2    4    1    9\n23  Nov 01, 2019 - BOS vs. NYK    W   34   24    9  ...    0    0    2    4   12\n24  Oct 30, 2019 - BOS vs. MIL    W   39   25   10  ...    0    1    1    5   16\n25    Oct 26, 2019 - BOS @ NYK    W   34   15    5  ...    3    2    2    3   20\n26  Oct 25, 2019 - BOS vs. TOR    W   35   25    8  ...    3    0    0    0    9\n27    Oct 23, 2019 - BOS @ PHI    L   37   21    8  ...    2    0    4    2   -4\n28                         NaN  NaN  NaN  NaN  NaN  ...  NaN  NaN  NaN  NaN  NaN\n29    Dec 25, 2019 - BOS @ TOR  NaN  NaN  NaN  NaN  ...  NaN  NaN  NaN  NaN  NaN\n30  Dec 22, 2019 - BOS vs. CHA  NaN  NaN  NaN  NaN  ...  NaN  NaN  NaN  NaN  NaN\n31  Dec 20, 2019 - BOS vs. DET  NaN  NaN  NaN  NaN  ...  NaN  NaN  NaN  NaN  NaN\n32    Dec 18, 2019 - BOS @ DAL  NaN  NaN  NaN  NaN  ...  NaN  NaN  NaN  NaN  NaN\n33  Dec 12, 2019 - BOS vs. PHI  NaN  NaN  NaN  NaN  ...  NaN  NaN  NaN  NaN  NaN\n34    Dec 11, 2019 - BOS @ IND  NaN  NaN  NaN  NaN  ...  NaN  NaN  NaN  NaN  NaN\n35  Dec 09, 2019 - BOS vs. CLE  NaN  NaN  NaN  NaN  ...  NaN  NaN  NaN  NaN  NaN\n36  Dec 06, 2019 - BOS vs. DEN  NaN  NaN  NaN  NaN  ...  NaN  NaN  NaN  NaN  NaN\n37  Dec 04, 2019 - BOS vs. MIA  NaN  NaN  NaN  NaN  ...  NaN  NaN  NaN  NaN  NaN\n38    Dec 01, 2019 - BOS @ NYK  NaN  NaN  NaN  NaN  ...  NaN  NaN  NaN  NaN  NaN\n39    Nov 29, 2019 - BOS @ BKN  NaN  NaN  NaN  NaN  ...  NaN  NaN  NaN  NaN  NaN\n40  Nov 27, 2019 - BOS vs. BKN  NaN  NaN  NaN  NaN  ...  NaN  NaN  NaN  NaN  NaN\n41  Nov 25, 2019 - BOS vs. SAC  NaN  NaN  NaN  NaN  ...  NaN  NaN  NaN  NaN  NaN\n42    Nov 22, 2019 - BOS @ DEN  NaN  NaN  NaN  NaN  ...  NaN  NaN  NaN  NaN  NaN\n43    Nov 20, 2019 - BOS @ LAC  NaN  NaN  NaN  NaN  ...  NaN  NaN  NaN  NaN  NaN\n44    Nov 18, 2019 - BOS @ PHX  NaN  NaN  NaN  NaN  ...  NaN  NaN  NaN  NaN  NaN\n45    Nov 17, 2019 - BOS @ SAC  NaN  NaN  NaN  NaN  ...  NaN  NaN  NaN  NaN  NaN\n46    Nov 15, 2019 - BOS @ GSW  NaN  NaN  NaN  NaN  ...  NaN  NaN  NaN  NaN  NaN\n47  Nov 13, 2019 - BOS vs. WAS  NaN  NaN  NaN  NaN  ...  NaN  NaN  NaN  NaN  NaN\n48  Nov 11, 2019 - BOS vs. DAL  NaN  NaN  NaN  NaN  ...  NaN  NaN  NaN  NaN  NaN\n49    Nov 09, 2019 - BOS @ SAS  NaN  NaN  NaN  NaN  ...  NaN  NaN  NaN  NaN  NaN\n50    Nov 07, 2019 - BOS @ CHA  NaN  NaN  NaN  NaN  ...  NaN  NaN  NaN  NaN  NaN\n51    Nov 05, 2019 - BOS @ CLE  NaN  NaN  NaN  NaN  ...  NaN  NaN  NaN  NaN  NaN\n52  Nov 01, 2019 - BOS vs. NYK  NaN  NaN  NaN  NaN  ...  NaN  NaN  NaN  NaN  NaN\n53  Oct 30, 2019 - BOS vs. MIL  NaN  NaN  NaN  NaN  ...  NaN  NaN  NaN  NaN  NaN\n54    Oct 26, 2019 - BOS @ NYK  NaN  NaN  NaN  NaN  ...  NaN  NaN  NaN  NaN  NaN\n55  Oct 25, 2019 - BOS vs. TOR  NaN  NaN  NaN  NaN  ...  NaN  NaN  NaN  NaN  NaN\n56    Oct 23, 2019 - BOS @ PHI  NaN  NaN  NaN  NaN  ...  NaN  NaN  NaN  NaN  NaN\n\n[57 rows x 22 columns]"
     },
     "execution_count": 17,
     "metadata": {},
     "output_type": "execute_result"
    }
   ],
   "source": [
    "\n",
    "df[~df.isna()]"
   ]
  },
  {
   "cell_type": "code",
   "execution_count": 18,
   "metadata": {},
   "outputs": [],
   "source": [
    "\n",
    "df.dropna(inplace=True)"
   ]
  },
  {
   "cell_type": "code",
   "execution_count": 19,
   "metadata": {},
   "outputs": [
    {
     "name": "stdout",
     "output_type": "stream",
     "text": "<class 'pandas.core.frame.DataFrame'>\nInt64Index: 28 entries, 0 to 27\nData columns (total 22 columns):\nMatch Up    28 non-null object\nW/L         28 non-null object\nMIN         28 non-null int64\nPTS         28 non-null int64\nFGM         28 non-null int64\nFGA         28 non-null int64\nFG%         28 non-null float64\n3PM         28 non-null int64\n3PA         28 non-null int64\n3P%         28 non-null float64\nFTM         28 non-null int64\nFTA         28 non-null int64\nFT%         28 non-null float64\nOREB        28 non-null int64\nDREB        28 non-null int64\nREB         28 non-null int64\nAST         28 non-null int64\nSTL         28 non-null int64\nBLK         28 non-null int64\nTOV         28 non-null int64\nPF          28 non-null int64\n+/-         28 non-null int64\ndtypes: float64(3), int64(17), object(2)\nmemory usage: 5.0+ KB\n"
    }
   ],
   "source": [
    "df[int_cols] = df[int_cols].astype('int')\n",
    "df[float_cols] = df[float_cols].astype('float')\n",
    "df.info()"
   ]
  },
  {
   "cell_type": "markdown",
   "execution_count": null,
   "metadata": {},
   "outputs": [],
   "source": [
    "## Now Use Selenium to Select the Last 2 Seasons and repeat"
   ]
  },
  {
   "cell_type": "code",
   "execution_count": 20,
   "metadata": {},
   "outputs": [
    {
     "data": {
      "text/plain": "[<option label=\"2019-20\" selected=\"selected\" value=\"object:212\">2019-20</option>,\n <option label=\"2018-19\" value=\"object:213\">2018-19</option>,\n <option label=\"2017-18\" value=\"object:214\">2017-18</option>]"
     },
     "execution_count": 20,
     "metadata": {},
     "output_type": "execute_result"
    }
   ],
   "source": [
    "\n",
    "sel_season = soup.find_all('select',attrs=dict(name='Season'))\n",
    "sel_season[0].find_all('option')"
   ]
  },
  {
   "cell_type": "code",
   "execution_count": 21,
   "metadata": {},
   "outputs": [],
   "source": [
    "option = driver.find_element_by_css_selector('option')\n",
    "option.click()"
   ]
  },
  {
   "cell_type": "code",
   "execution_count": 22,
   "metadata": {},
   "outputs": [],
   "source": [
    "season = driver.find_element_by_xpath(\"/html/body/main/div[2]/div/div/div[3]/div/div/div/div[1]/div[1]/div/div/label/select\")\n",
    "season.click()\n"
   ]
  },
  {
   "cell_type": "markdown",
   "execution_count": null,
   "metadata": {},
   "outputs": [],
   "source": [
    "\n",
    "#### Page URLS May be easier to generate than click on interface\n"
   ]
  },
  {
   "cell_type": "code",
   "execution_count": 23,
   "metadata": {},
   "outputs": [
    {
     "name": "stdout",
     "output_type": "stream",
     "text": "['https://stats.nba.com/player/1628369/boxscores-traditional/?Season=2019-20&SeasonType=Regular%20Season', 'https://stats.nba.com/player/1628369/boxscores-traditional/?Season=2018-19&SeasonType=Regular%20Season', 'https://stats.nba.com/player/1628369/boxscores-traditional/?Season=2017-18&SeasonType=Regular%20Season']\n"
    }
   ],
   "source": [
    "url_2019_20 = 'https://stats.nba.com/player/1628369/boxscores-traditional/?Season=2019-20&SeasonType=Regular%20Season'\n",
    "url_2018_19 = 'https://stats.nba.com/player/1628369/boxscores-traditional/?Season=2018-19&SeasonType=Regular%20Season'\n",
    "url_2017_18 = 'https://stats.nba.com/player/1628369/boxscores-traditional/?Season=2017-18&SeasonType=Regular%20Season'\n",
    "\n",
    "## SEPARATING ABOVE INTO F_STRING \n",
    "player_id = '1628369'\n",
    "base_url = f\"https://stats.nba.com/player/{player_id}/boxscores-traditional/\"\n",
    "\n",
    "\n",
    "\n",
    "seasons= {}\n",
    "seasons[2019] = dict(start_YR = '2019', end_yr = '20')\n",
    "seasons[2018] = dict(start_YR = '2018', end_yr = '19')\n",
    "seasons[2017] = dict(start_YR = '2017', end_yr = '18')\n",
    "\n",
    "## seasons have 4 digit start year and 2 digit end year\n",
    "season_urls = []\n",
    "for year in seasons:\n",
    "    start_YR = seasons[year]['start_YR']\n",
    "    end_yr = seasons[year]['end_yr']\n",
    "    season_suffix = f\"?Season={start_YR}-{end_yr}&SeasonType=Regular%20Season\"\n",
    "    full_url = base_url+season_suffix\n",
    "    season_urls.append(full_url)\n",
    "\n",
    "print(season_urls)\n",
    "\n"
   ]
  },
  {
   "cell_type": "code",
   "execution_count": 72,
   "metadata": {},
   "outputs": [],
   "source": [
    "# for url in season_urls:\n",
    "#     driver.get(url)\n",
    "# # driver.get(full_url)"
   ]
  },
  {
   "cell_type": "code",
   "execution_count": 24,
   "metadata": {},
   "outputs": [
    {
     "name": "stdout",
     "output_type": "stream",
     "text": "fsds_1007219  v0.5.13 loaded.  Read the docs: https://fsds.readthedocs.io/en/latest/ \n> For convenient loading of standard modules use: `>> from fsds_100719.imports import *`\n\n"
    }
   ],
   "source": [
    "import nba_stats as ns\n",
    "\n",
    "df = ns.get_season_df(season_urls[0])"
   ]
  },
  {
   "cell_type": "code",
   "execution_count": 29,
   "metadata": {},
   "outputs": [],
   "source": [
    "df['date'] = df['Match Up'].apply(lambda x: x.split('-')[0])\n",
    "df['teams'] = df['Match Up'].apply(lambda x: x.split('-')[1])"
   ]
  },
  {
   "cell_type": "code",
   "execution_count": 32,
   "metadata": {},
   "outputs": [
    {
     "data": {
      "text/html": "<div>\n<style scoped>\n    .dataframe tbody tr th:only-of-type {\n        vertical-align: middle;\n    }\n\n    .dataframe tbody tr th {\n        vertical-align: top;\n    }\n\n    .dataframe thead th {\n        text-align: right;\n    }\n</style>\n<table border=\"1\" class=\"dataframe\">\n  <thead>\n    <tr style=\"text-align: right;\">\n      <th></th>\n      <th>Match Up</th>\n      <th>W/L</th>\n      <th>MIN</th>\n      <th>PTS</th>\n      <th>FGM</th>\n      <th>FGA</th>\n      <th>FG%</th>\n      <th>3PM</th>\n      <th>3PA</th>\n      <th>3P%</th>\n      <th>FTM</th>\n      <th>FTA</th>\n      <th>FT%</th>\n      <th>OREB</th>\n      <th>DREB</th>\n      <th>REB</th>\n      <th>AST</th>\n      <th>STL</th>\n      <th>BLK</th>\n      <th>TOV</th>\n      <th>PF</th>\n      <th>+/-</th>\n      <th>teams</th>\n    </tr>\n    <tr>\n      <th>date</th>\n      <th></th>\n      <th></th>\n      <th></th>\n      <th></th>\n      <th></th>\n      <th></th>\n      <th></th>\n      <th></th>\n      <th></th>\n      <th></th>\n      <th></th>\n      <th></th>\n      <th></th>\n      <th></th>\n      <th></th>\n      <th></th>\n      <th></th>\n      <th></th>\n      <th></th>\n      <th></th>\n      <th></th>\n      <th></th>\n      <th></th>\n    </tr>\n  </thead>\n  <tbody>\n    <tr>\n      <td>2019-12-25</td>\n      <td>Dec 25, 2019 - BOS @ TOR</td>\n      <td>W</td>\n      <td>35</td>\n      <td>11</td>\n      <td>5</td>\n      <td>18</td>\n      <td>27.8</td>\n      <td>1</td>\n      <td>3</td>\n      <td>33.3</td>\n      <td>0</td>\n      <td>0</td>\n      <td>0.0</td>\n      <td>4</td>\n      <td>5</td>\n      <td>9</td>\n      <td>6</td>\n      <td>2</td>\n      <td>0</td>\n      <td>3</td>\n      <td>4</td>\n      <td>21</td>\n      <td>BOS @ TOR</td>\n    </tr>\n    <tr>\n      <td>2019-12-22</td>\n      <td>Dec 22, 2019 - BOS vs. CHA</td>\n      <td>W</td>\n      <td>36</td>\n      <td>39</td>\n      <td>15</td>\n      <td>29</td>\n      <td>51.7</td>\n      <td>4</td>\n      <td>9</td>\n      <td>44.4</td>\n      <td>5</td>\n      <td>5</td>\n      <td>100.0</td>\n      <td>1</td>\n      <td>11</td>\n      <td>12</td>\n      <td>2</td>\n      <td>1</td>\n      <td>3</td>\n      <td>2</td>\n      <td>1</td>\n      <td>10</td>\n      <td>BOS vs. CHA</td>\n    </tr>\n    <tr>\n      <td>2019-12-20</td>\n      <td>Dec 20, 2019 - BOS vs. DET</td>\n      <td>W</td>\n      <td>27</td>\n      <td>26</td>\n      <td>10</td>\n      <td>17</td>\n      <td>58.8</td>\n      <td>2</td>\n      <td>7</td>\n      <td>28.6</td>\n      <td>4</td>\n      <td>4</td>\n      <td>100.0</td>\n      <td>0</td>\n      <td>5</td>\n      <td>5</td>\n      <td>3</td>\n      <td>2</td>\n      <td>0</td>\n      <td>0</td>\n      <td>1</td>\n      <td>10</td>\n      <td>BOS vs. DET</td>\n    </tr>\n    <tr>\n      <td>2019-12-18</td>\n      <td>Dec 18, 2019 - BOS @ DAL</td>\n      <td>W</td>\n      <td>37</td>\n      <td>24</td>\n      <td>10</td>\n      <td>23</td>\n      <td>43.5</td>\n      <td>2</td>\n      <td>10</td>\n      <td>20.0</td>\n      <td>2</td>\n      <td>3</td>\n      <td>66.7</td>\n      <td>2</td>\n      <td>6</td>\n      <td>8</td>\n      <td>1</td>\n      <td>0</td>\n      <td>1</td>\n      <td>3</td>\n      <td>3</td>\n      <td>-2</td>\n      <td>BOS @ DAL</td>\n    </tr>\n    <tr>\n      <td>2019-12-12</td>\n      <td>Dec 12, 2019 - BOS vs. PHI</td>\n      <td>L</td>\n      <td>34</td>\n      <td>15</td>\n      <td>5</td>\n      <td>18</td>\n      <td>27.8</td>\n      <td>3</td>\n      <td>8</td>\n      <td>37.5</td>\n      <td>2</td>\n      <td>2</td>\n      <td>100.0</td>\n      <td>1</td>\n      <td>2</td>\n      <td>3</td>\n      <td>4</td>\n      <td>0</td>\n      <td>1</td>\n      <td>1</td>\n      <td>4</td>\n      <td>-2</td>\n      <td>BOS vs. PHI</td>\n    </tr>\n    <tr>\n      <td>2019-12-11</td>\n      <td>Dec 11, 2019 - BOS @ IND</td>\n      <td>L</td>\n      <td>37</td>\n      <td>16</td>\n      <td>4</td>\n      <td>13</td>\n      <td>30.8</td>\n      <td>2</td>\n      <td>8</td>\n      <td>25.0</td>\n      <td>6</td>\n      <td>6</td>\n      <td>100.0</td>\n      <td>0</td>\n      <td>6</td>\n      <td>6</td>\n      <td>3</td>\n      <td>2</td>\n      <td>0</td>\n      <td>3</td>\n      <td>2</td>\n      <td>-8</td>\n      <td>BOS @ IND</td>\n    </tr>\n    <tr>\n      <td>2019-12-09</td>\n      <td>Dec 09, 2019 - BOS vs. CLE</td>\n      <td>W</td>\n      <td>30</td>\n      <td>19</td>\n      <td>7</td>\n      <td>14</td>\n      <td>50.0</td>\n      <td>4</td>\n      <td>6</td>\n      <td>66.7</td>\n      <td>1</td>\n      <td>2</td>\n      <td>50.0</td>\n      <td>0</td>\n      <td>11</td>\n      <td>11</td>\n      <td>2</td>\n      <td>2</td>\n      <td>2</td>\n      <td>4</td>\n      <td>1</td>\n      <td>24</td>\n      <td>BOS vs. CLE</td>\n    </tr>\n    <tr>\n      <td>2019-12-06</td>\n      <td>Dec 06, 2019 - BOS vs. DEN</td>\n      <td>W</td>\n      <td>30</td>\n      <td>26</td>\n      <td>10</td>\n      <td>19</td>\n      <td>52.6</td>\n      <td>4</td>\n      <td>8</td>\n      <td>50.0</td>\n      <td>2</td>\n      <td>2</td>\n      <td>100.0</td>\n      <td>0</td>\n      <td>7</td>\n      <td>7</td>\n      <td>5</td>\n      <td>1</td>\n      <td>0</td>\n      <td>1</td>\n      <td>1</td>\n      <td>14</td>\n      <td>BOS vs. DEN</td>\n    </tr>\n    <tr>\n      <td>2019-12-04</td>\n      <td>Dec 04, 2019 - BOS vs. MIA</td>\n      <td>W</td>\n      <td>34</td>\n      <td>19</td>\n      <td>6</td>\n      <td>19</td>\n      <td>31.6</td>\n      <td>2</td>\n      <td>12</td>\n      <td>16.7</td>\n      <td>5</td>\n      <td>6</td>\n      <td>83.3</td>\n      <td>1</td>\n      <td>4</td>\n      <td>5</td>\n      <td>3</td>\n      <td>1</td>\n      <td>3</td>\n      <td>3</td>\n      <td>2</td>\n      <td>31</td>\n      <td>BOS vs. MIA</td>\n    </tr>\n    <tr>\n      <td>2019-12-01</td>\n      <td>Dec 01, 2019 - BOS @ NYK</td>\n      <td>W</td>\n      <td>37</td>\n      <td>30</td>\n      <td>10</td>\n      <td>23</td>\n      <td>43.5</td>\n      <td>5</td>\n      <td>11</td>\n      <td>45.5</td>\n      <td>5</td>\n      <td>6</td>\n      <td>83.3</td>\n      <td>0</td>\n      <td>6</td>\n      <td>6</td>\n      <td>7</td>\n      <td>2</td>\n      <td>2</td>\n      <td>1</td>\n      <td>4</td>\n      <td>11</td>\n      <td>BOS @ NYK</td>\n    </tr>\n    <tr>\n      <td>2019-11-29</td>\n      <td>Nov 29, 2019 - BOS @ BKN</td>\n      <td>L</td>\n      <td>37</td>\n      <td>26</td>\n      <td>10</td>\n      <td>19</td>\n      <td>52.6</td>\n      <td>4</td>\n      <td>8</td>\n      <td>50.0</td>\n      <td>2</td>\n      <td>2</td>\n      <td>100.0</td>\n      <td>1</td>\n      <td>8</td>\n      <td>9</td>\n      <td>0</td>\n      <td>4</td>\n      <td>0</td>\n      <td>6</td>\n      <td>0</td>\n      <td>13</td>\n      <td>BOS @ BKN</td>\n    </tr>\n    <tr>\n      <td>2019-11-27</td>\n      <td>Nov 27, 2019 - BOS vs. BKN</td>\n      <td>W</td>\n      <td>35</td>\n      <td>16</td>\n      <td>5</td>\n      <td>17</td>\n      <td>29.4</td>\n      <td>0</td>\n      <td>4</td>\n      <td>0.0</td>\n      <td>6</td>\n      <td>6</td>\n      <td>100.0</td>\n      <td>3</td>\n      <td>6</td>\n      <td>9</td>\n      <td>5</td>\n      <td>1</td>\n      <td>0</td>\n      <td>3</td>\n      <td>2</td>\n      <td>11</td>\n      <td>BOS vs. BKN</td>\n    </tr>\n    <tr>\n      <td>2019-11-25</td>\n      <td>Nov 25, 2019 - BOS vs. SAC</td>\n      <td>W</td>\n      <td>34</td>\n      <td>20</td>\n      <td>7</td>\n      <td>18</td>\n      <td>38.9</td>\n      <td>0</td>\n      <td>3</td>\n      <td>0.0</td>\n      <td>6</td>\n      <td>7</td>\n      <td>85.7</td>\n      <td>1</td>\n      <td>5</td>\n      <td>6</td>\n      <td>3</td>\n      <td>0</td>\n      <td>0</td>\n      <td>3</td>\n      <td>4</td>\n      <td>4</td>\n      <td>BOS vs. SAC</td>\n    </tr>\n    <tr>\n      <td>2019-11-22</td>\n      <td>Nov 22, 2019 - BOS @ DEN</td>\n      <td>L</td>\n      <td>32</td>\n      <td>16</td>\n      <td>6</td>\n      <td>16</td>\n      <td>37.5</td>\n      <td>0</td>\n      <td>5</td>\n      <td>0.0</td>\n      <td>4</td>\n      <td>5</td>\n      <td>80.0</td>\n      <td>0</td>\n      <td>2</td>\n      <td>2</td>\n      <td>3</td>\n      <td>0</td>\n      <td>1</td>\n      <td>0</td>\n      <td>1</td>\n      <td>-23</td>\n      <td>BOS @ DEN</td>\n    </tr>\n    <tr>\n      <td>2019-11-20</td>\n      <td>Nov 20, 2019 - BOS @ LAC</td>\n      <td>L</td>\n      <td>41</td>\n      <td>30</td>\n      <td>12</td>\n      <td>24</td>\n      <td>50.0</td>\n      <td>5</td>\n      <td>10</td>\n      <td>50.0</td>\n      <td>1</td>\n      <td>2</td>\n      <td>50.0</td>\n      <td>0</td>\n      <td>6</td>\n      <td>6</td>\n      <td>3</td>\n      <td>2</td>\n      <td>2</td>\n      <td>3</td>\n      <td>4</td>\n      <td>-6</td>\n      <td>BOS @ LAC</td>\n    </tr>\n    <tr>\n      <td>2019-11-18</td>\n      <td>Nov 18, 2019 - BOS @ PHX</td>\n      <td>W</td>\n      <td>27</td>\n      <td>26</td>\n      <td>8</td>\n      <td>16</td>\n      <td>50.0</td>\n      <td>3</td>\n      <td>9</td>\n      <td>33.3</td>\n      <td>7</td>\n      <td>9</td>\n      <td>77.8</td>\n      <td>2</td>\n      <td>9</td>\n      <td>11</td>\n      <td>3</td>\n      <td>1</td>\n      <td>0</td>\n      <td>4</td>\n      <td>3</td>\n      <td>8</td>\n      <td>BOS @ PHX</td>\n    </tr>\n    <tr>\n      <td>2019-11-17</td>\n      <td>Nov 17, 2019 - BOS @ SAC</td>\n      <td>L</td>\n      <td>30</td>\n      <td>14</td>\n      <td>6</td>\n      <td>13</td>\n      <td>46.2</td>\n      <td>1</td>\n      <td>4</td>\n      <td>25.0</td>\n      <td>1</td>\n      <td>1</td>\n      <td>100.0</td>\n      <td>0</td>\n      <td>6</td>\n      <td>6</td>\n      <td>2</td>\n      <td>0</td>\n      <td>1</td>\n      <td>1</td>\n      <td>0</td>\n      <td>12</td>\n      <td>BOS @ SAC</td>\n    </tr>\n    <tr>\n      <td>2019-11-15</td>\n      <td>Nov 15, 2019 - BOS @ GSW</td>\n      <td>W</td>\n      <td>38</td>\n      <td>24</td>\n      <td>8</td>\n      <td>23</td>\n      <td>34.8</td>\n      <td>2</td>\n      <td>7</td>\n      <td>28.6</td>\n      <td>6</td>\n      <td>7</td>\n      <td>85.7</td>\n      <td>3</td>\n      <td>5</td>\n      <td>8</td>\n      <td>1</td>\n      <td>3</td>\n      <td>0</td>\n      <td>2</td>\n      <td>3</td>\n      <td>6</td>\n      <td>BOS @ GSW</td>\n    </tr>\n    <tr>\n      <td>2019-11-13</td>\n      <td>Nov 13, 2019 - BOS vs. WAS</td>\n      <td>W</td>\n      <td>35</td>\n      <td>23</td>\n      <td>9</td>\n      <td>20</td>\n      <td>45.0</td>\n      <td>1</td>\n      <td>5</td>\n      <td>20.0</td>\n      <td>4</td>\n      <td>4</td>\n      <td>100.0</td>\n      <td>2</td>\n      <td>1</td>\n      <td>3</td>\n      <td>4</td>\n      <td>0</td>\n      <td>0</td>\n      <td>1</td>\n      <td>3</td>\n      <td>14</td>\n      <td>BOS vs. WAS</td>\n    </tr>\n    <tr>\n      <td>2019-11-11</td>\n      <td>Nov 11, 2019 - BOS vs. DAL</td>\n      <td>W</td>\n      <td>35</td>\n      <td>5</td>\n      <td>1</td>\n      <td>18</td>\n      <td>5.6</td>\n      <td>0</td>\n      <td>3</td>\n      <td>0.0</td>\n      <td>3</td>\n      <td>4</td>\n      <td>75.0</td>\n      <td>3</td>\n      <td>5</td>\n      <td>8</td>\n      <td>4</td>\n      <td>1</td>\n      <td>0</td>\n      <td>1</td>\n      <td>3</td>\n      <td>16</td>\n      <td>BOS vs. DAL</td>\n    </tr>\n    <tr>\n      <td>2019-11-09</td>\n      <td>Nov 09, 2019 - BOS @ SAS</td>\n      <td>W</td>\n      <td>34</td>\n      <td>19</td>\n      <td>6</td>\n      <td>13</td>\n      <td>46.2</td>\n      <td>2</td>\n      <td>6</td>\n      <td>33.3</td>\n      <td>5</td>\n      <td>6</td>\n      <td>83.3</td>\n      <td>1</td>\n      <td>6</td>\n      <td>7</td>\n      <td>4</td>\n      <td>3</td>\n      <td>0</td>\n      <td>2</td>\n      <td>3</td>\n      <td>23</td>\n      <td>BOS @ SAS</td>\n    </tr>\n    <tr>\n      <td>2019-11-07</td>\n      <td>Nov 07, 2019 - BOS @ CHA</td>\n      <td>W</td>\n      <td>29</td>\n      <td>23</td>\n      <td>8</td>\n      <td>17</td>\n      <td>47.1</td>\n      <td>4</td>\n      <td>6</td>\n      <td>66.7</td>\n      <td>3</td>\n      <td>4</td>\n      <td>75.0</td>\n      <td>2</td>\n      <td>7</td>\n      <td>9</td>\n      <td>1</td>\n      <td>2</td>\n      <td>1</td>\n      <td>1</td>\n      <td>0</td>\n      <td>13</td>\n      <td>BOS @ CHA</td>\n    </tr>\n    <tr>\n      <td>2019-11-05</td>\n      <td>Nov 05, 2019 - BOS @ CLE</td>\n      <td>W</td>\n      <td>34</td>\n      <td>18</td>\n      <td>9</td>\n      <td>16</td>\n      <td>56.3</td>\n      <td>0</td>\n      <td>5</td>\n      <td>0.0</td>\n      <td>0</td>\n      <td>0</td>\n      <td>0.0</td>\n      <td>0</td>\n      <td>7</td>\n      <td>7</td>\n      <td>1</td>\n      <td>1</td>\n      <td>2</td>\n      <td>4</td>\n      <td>1</td>\n      <td>9</td>\n      <td>BOS @ CLE</td>\n    </tr>\n    <tr>\n      <td>2019-11-01</td>\n      <td>Nov 01, 2019 - BOS vs. NYK</td>\n      <td>W</td>\n      <td>34</td>\n      <td>24</td>\n      <td>9</td>\n      <td>17</td>\n      <td>52.9</td>\n      <td>4</td>\n      <td>8</td>\n      <td>50.0</td>\n      <td>2</td>\n      <td>2</td>\n      <td>100.0</td>\n      <td>1</td>\n      <td>5</td>\n      <td>6</td>\n      <td>3</td>\n      <td>0</td>\n      <td>0</td>\n      <td>2</td>\n      <td>4</td>\n      <td>12</td>\n      <td>BOS vs. NYK</td>\n    </tr>\n    <tr>\n      <td>2019-10-30</td>\n      <td>Oct 30, 2019 - BOS vs. MIL</td>\n      <td>W</td>\n      <td>39</td>\n      <td>25</td>\n      <td>10</td>\n      <td>22</td>\n      <td>45.5</td>\n      <td>4</td>\n      <td>7</td>\n      <td>57.1</td>\n      <td>1</td>\n      <td>2</td>\n      <td>50.0</td>\n      <td>1</td>\n      <td>3</td>\n      <td>4</td>\n      <td>2</td>\n      <td>0</td>\n      <td>1</td>\n      <td>1</td>\n      <td>5</td>\n      <td>16</td>\n      <td>BOS vs. MIL</td>\n    </tr>\n    <tr>\n      <td>2019-10-26</td>\n      <td>Oct 26, 2019 - BOS @ NYK</td>\n      <td>W</td>\n      <td>34</td>\n      <td>15</td>\n      <td>5</td>\n      <td>17</td>\n      <td>29.4</td>\n      <td>2</td>\n      <td>7</td>\n      <td>28.6</td>\n      <td>3</td>\n      <td>4</td>\n      <td>75.0</td>\n      <td>2</td>\n      <td>7</td>\n      <td>9</td>\n      <td>0</td>\n      <td>3</td>\n      <td>2</td>\n      <td>2</td>\n      <td>3</td>\n      <td>20</td>\n      <td>BOS @ NYK</td>\n    </tr>\n    <tr>\n      <td>2019-10-25</td>\n      <td>Oct 25, 2019 - BOS vs. TOR</td>\n      <td>W</td>\n      <td>35</td>\n      <td>25</td>\n      <td>8</td>\n      <td>22</td>\n      <td>36.4</td>\n      <td>4</td>\n      <td>7</td>\n      <td>57.1</td>\n      <td>5</td>\n      <td>5</td>\n      <td>100.0</td>\n      <td>3</td>\n      <td>6</td>\n      <td>9</td>\n      <td>4</td>\n      <td>3</td>\n      <td>0</td>\n      <td>0</td>\n      <td>0</td>\n      <td>9</td>\n      <td>BOS vs. TOR</td>\n    </tr>\n    <tr>\n      <td>2019-10-23</td>\n      <td>Oct 23, 2019 - BOS @ PHI</td>\n      <td>L</td>\n      <td>37</td>\n      <td>21</td>\n      <td>8</td>\n      <td>22</td>\n      <td>36.4</td>\n      <td>4</td>\n      <td>8</td>\n      <td>50.0</td>\n      <td>1</td>\n      <td>3</td>\n      <td>33.3</td>\n      <td>1</td>\n      <td>9</td>\n      <td>10</td>\n      <td>2</td>\n      <td>2</td>\n      <td>0</td>\n      <td>4</td>\n      <td>2</td>\n      <td>-4</td>\n      <td>BOS @ PHI</td>\n    </tr>\n  </tbody>\n</table>\n</div>",
      "text/plain": "                              Match Up W/L  MIN  ...  PF  +/-         teams\ndate                                             ...                       \n2019-12-25    Dec 25, 2019 - BOS @ TOR   W   35  ...   4   21     BOS @ TOR\n2019-12-22  Dec 22, 2019 - BOS vs. CHA   W   36  ...   1   10   BOS vs. CHA\n2019-12-20  Dec 20, 2019 - BOS vs. DET   W   27  ...   1   10   BOS vs. DET\n2019-12-18    Dec 18, 2019 - BOS @ DAL   W   37  ...   3   -2     BOS @ DAL\n2019-12-12  Dec 12, 2019 - BOS vs. PHI   L   34  ...   4   -2   BOS vs. PHI\n2019-12-11    Dec 11, 2019 - BOS @ IND   L   37  ...   2   -8     BOS @ IND\n2019-12-09  Dec 09, 2019 - BOS vs. CLE   W   30  ...   1   24   BOS vs. CLE\n2019-12-06  Dec 06, 2019 - BOS vs. DEN   W   30  ...   1   14   BOS vs. DEN\n2019-12-04  Dec 04, 2019 - BOS vs. MIA   W   34  ...   2   31   BOS vs. MIA\n2019-12-01    Dec 01, 2019 - BOS @ NYK   W   37  ...   4   11     BOS @ NYK\n2019-11-29    Nov 29, 2019 - BOS @ BKN   L   37  ...   0   13     BOS @ BKN\n2019-11-27  Nov 27, 2019 - BOS vs. BKN   W   35  ...   2   11   BOS vs. BKN\n2019-11-25  Nov 25, 2019 - BOS vs. SAC   W   34  ...   4    4   BOS vs. SAC\n2019-11-22    Nov 22, 2019 - BOS @ DEN   L   32  ...   1  -23     BOS @ DEN\n2019-11-20    Nov 20, 2019 - BOS @ LAC   L   41  ...   4   -6     BOS @ LAC\n2019-11-18    Nov 18, 2019 - BOS @ PHX   W   27  ...   3    8     BOS @ PHX\n2019-11-17    Nov 17, 2019 - BOS @ SAC   L   30  ...   0   12     BOS @ SAC\n2019-11-15    Nov 15, 2019 - BOS @ GSW   W   38  ...   3    6     BOS @ GSW\n2019-11-13  Nov 13, 2019 - BOS vs. WAS   W   35  ...   3   14   BOS vs. WAS\n2019-11-11  Nov 11, 2019 - BOS vs. DAL   W   35  ...   3   16   BOS vs. DAL\n2019-11-09    Nov 09, 2019 - BOS @ SAS   W   34  ...   3   23     BOS @ SAS\n2019-11-07    Nov 07, 2019 - BOS @ CHA   W   29  ...   0   13     BOS @ CHA\n2019-11-05    Nov 05, 2019 - BOS @ CLE   W   34  ...   1    9     BOS @ CLE\n2019-11-01  Nov 01, 2019 - BOS vs. NYK   W   34  ...   4   12   BOS vs. NYK\n2019-10-30  Oct 30, 2019 - BOS vs. MIL   W   39  ...   5   16   BOS vs. MIL\n2019-10-26    Oct 26, 2019 - BOS @ NYK   W   34  ...   3   20     BOS @ NYK\n2019-10-25  Oct 25, 2019 - BOS vs. TOR   W   35  ...   0    9   BOS vs. TOR\n2019-10-23    Oct 23, 2019 - BOS @ PHI   L   37  ...   2   -4     BOS @ PHI\n\n[28 rows x 23 columns]"
     },
     "execution_count": 32,
     "metadata": {},
     "output_type": "execute_result"
    }
   ],
   "source": [
    "import pandas as pd\n",
    "df['date'] = pd.to_datetime(df['date'])\n",
    "df.set_index('date')"
   ]
  },
  {
   "cell_type": "code",
   "execution_count": 33,
   "metadata": {},
   "outputs": [
    {
     "name": "stdout",
     "output_type": "stream",
     "text": "Reloading...\n\n"
    },
    {
     "data": {
      "text/plain": "<module 'nba_stats' from '/Users/jamesirving/Documents/GitHub/_MY_SIDE_PROJECTS/nba_fantasy_fanduel/nba_stats.py'>"
     },
     "execution_count": 33,
     "metadata": {},
     "output_type": "execute_result"
    }
   ],
   "source": [
    "import fsds_100719 as fs \n",
    "fs.reload(ns)"
   ]
  },
  {
   "cell_type": "code",
   "execution_count": 34,
   "metadata": {},
   "outputs": [
    {
     "data": {
      "text/html": "<div>\n<style scoped>\n    .dataframe tbody tr th:only-of-type {\n        vertical-align: middle;\n    }\n\n    .dataframe tbody tr th {\n        vertical-align: top;\n    }\n\n    .dataframe thead th {\n        text-align: right;\n    }\n</style>\n<table border=\"1\" class=\"dataframe\">\n  <thead>\n    <tr style=\"text-align: right;\">\n      <th></th>\n      <th>Match Up</th>\n      <th>W/L</th>\n      <th>MIN</th>\n      <th>PTS</th>\n      <th>FGM</th>\n      <th>FGA</th>\n      <th>FG%</th>\n      <th>3PM</th>\n      <th>3PA</th>\n      <th>3P%</th>\n      <th>FTM</th>\n      <th>FTA</th>\n      <th>FT%</th>\n      <th>OREB</th>\n      <th>DREB</th>\n      <th>REB</th>\n      <th>AST</th>\n      <th>STL</th>\n      <th>BLK</th>\n      <th>TOV</th>\n      <th>PF</th>\n      <th>+/-</th>\n      <th>teams</th>\n    </tr>\n    <tr>\n      <th>date</th>\n      <th></th>\n      <th></th>\n      <th></th>\n      <th></th>\n      <th></th>\n      <th></th>\n      <th></th>\n      <th></th>\n      <th></th>\n      <th></th>\n      <th></th>\n      <th></th>\n      <th></th>\n      <th></th>\n      <th></th>\n      <th></th>\n      <th></th>\n      <th></th>\n      <th></th>\n      <th></th>\n      <th></th>\n      <th></th>\n      <th></th>\n    </tr>\n  </thead>\n  <tbody>\n    <tr>\n      <td>2019-04-07</td>\n      <td>Apr 07, 2019 - BOS vs. ORL</td>\n      <td>L</td>\n      <td>6</td>\n      <td>0</td>\n      <td>0</td>\n      <td>2</td>\n      <td>0.0</td>\n      <td>0</td>\n      <td>0</td>\n      <td>0.0</td>\n      <td>0</td>\n      <td>0</td>\n      <td>0.0</td>\n      <td>0</td>\n      <td>1</td>\n      <td>1</td>\n      <td>0</td>\n      <td>0</td>\n      <td>0</td>\n      <td>0</td>\n      <td>0</td>\n      <td>1</td>\n      <td>BOS vs. ORL</td>\n    </tr>\n    <tr>\n      <td>2019-04-05</td>\n      <td>Apr 05, 2019 - BOS @ IND</td>\n      <td>W</td>\n      <td>34</td>\n      <td>22</td>\n      <td>9</td>\n      <td>19</td>\n      <td>47.4</td>\n      <td>1</td>\n      <td>5</td>\n      <td>20.0</td>\n      <td>3</td>\n      <td>4</td>\n      <td>75.0</td>\n      <td>1</td>\n      <td>6</td>\n      <td>7</td>\n      <td>2</td>\n      <td>3</td>\n      <td>1</td>\n      <td>1</td>\n      <td>2</td>\n      <td>15</td>\n      <td>BOS @ IND</td>\n    </tr>\n    <tr>\n      <td>2019-04-03</td>\n      <td>Apr 03, 2019 - BOS @ MIA</td>\n      <td>W</td>\n      <td>39</td>\n      <td>16</td>\n      <td>6</td>\n      <td>17</td>\n      <td>35.3</td>\n      <td>1</td>\n      <td>3</td>\n      <td>33.3</td>\n      <td>3</td>\n      <td>4</td>\n      <td>75.0</td>\n      <td>0</td>\n      <td>7</td>\n      <td>7</td>\n      <td>3</td>\n      <td>1</td>\n      <td>1</td>\n      <td>3</td>\n      <td>0</td>\n      <td>16</td>\n      <td>BOS @ MIA</td>\n    </tr>\n    <tr>\n      <td>2019-04-01</td>\n      <td>Apr 01, 2019 - BOS vs. MIA</td>\n      <td>W</td>\n      <td>34</td>\n      <td>19</td>\n      <td>7</td>\n      <td>15</td>\n      <td>46.7</td>\n      <td>4</td>\n      <td>7</td>\n      <td>57.1</td>\n      <td>1</td>\n      <td>2</td>\n      <td>50.0</td>\n      <td>1</td>\n      <td>5</td>\n      <td>6</td>\n      <td>5</td>\n      <td>1</td>\n      <td>0</td>\n      <td>0</td>\n      <td>0</td>\n      <td>15</td>\n      <td>BOS vs. MIA</td>\n    </tr>\n    <tr>\n      <td>2019-03-30</td>\n      <td>Mar 30, 2019 - BOS @ BKN</td>\n      <td>L</td>\n      <td>30</td>\n      <td>9</td>\n      <td>4</td>\n      <td>9</td>\n      <td>44.4</td>\n      <td>1</td>\n      <td>1</td>\n      <td>100.0</td>\n      <td>0</td>\n      <td>0</td>\n      <td>0.0</td>\n      <td>1</td>\n      <td>1</td>\n      <td>2</td>\n      <td>3</td>\n      <td>1</td>\n      <td>0</td>\n      <td>2</td>\n      <td>4</td>\n      <td>-12</td>\n      <td>BOS @ BKN</td>\n    </tr>\n    <tr>\n      <td>2019-03-29</td>\n      <td>Mar 29, 2019 - BOS vs. IND</td>\n      <td>W</td>\n      <td>24</td>\n      <td>11</td>\n      <td>3</td>\n      <td>6</td>\n      <td>50.0</td>\n      <td>3</td>\n      <td>3</td>\n      <td>100.0</td>\n      <td>2</td>\n      <td>4</td>\n      <td>50.0</td>\n      <td>0</td>\n      <td>5</td>\n      <td>5</td>\n      <td>4</td>\n      <td>0</td>\n      <td>0</td>\n      <td>4</td>\n      <td>2</td>\n      <td>16</td>\n      <td>BOS vs. IND</td>\n    </tr>\n    <tr>\n      <td>2019-03-26</td>\n      <td>Mar 26, 2019 - BOS @ CLE</td>\n      <td>W</td>\n      <td>34</td>\n      <td>21</td>\n      <td>9</td>\n      <td>17</td>\n      <td>52.9</td>\n      <td>3</td>\n      <td>5</td>\n      <td>60.0</td>\n      <td>0</td>\n      <td>0</td>\n      <td>0.0</td>\n      <td>2</td>\n      <td>3</td>\n      <td>5</td>\n      <td>4</td>\n      <td>1</td>\n      <td>0</td>\n      <td>1</td>\n      <td>4</td>\n      <td>17</td>\n      <td>BOS @ CLE</td>\n    </tr>\n    <tr>\n      <td>2019-03-23</td>\n      <td>Mar 23, 2019 - BOS @ CHA</td>\n      <td>L</td>\n      <td>37</td>\n      <td>12</td>\n      <td>5</td>\n      <td>17</td>\n      <td>29.4</td>\n      <td>2</td>\n      <td>7</td>\n      <td>28.6</td>\n      <td>0</td>\n      <td>0</td>\n      <td>0.0</td>\n      <td>1</td>\n      <td>5</td>\n      <td>6</td>\n      <td>4</td>\n      <td>0</td>\n      <td>1</td>\n      <td>1</td>\n      <td>1</td>\n      <td>-19</td>\n      <td>BOS @ CHA</td>\n    </tr>\n    <tr>\n      <td>2019-03-20</td>\n      <td>Mar 20, 2019 - BOS @ PHI</td>\n      <td>L</td>\n      <td>33</td>\n      <td>13</td>\n      <td>6</td>\n      <td>12</td>\n      <td>50.0</td>\n      <td>1</td>\n      <td>2</td>\n      <td>50.0</td>\n      <td>0</td>\n      <td>0</td>\n      <td>0.0</td>\n      <td>1</td>\n      <td>5</td>\n      <td>6</td>\n      <td>4</td>\n      <td>0</td>\n      <td>1</td>\n      <td>1</td>\n      <td>3</td>\n      <td>-17</td>\n      <td>BOS @ PHI</td>\n    </tr>\n    <tr>\n      <td>2019-03-18</td>\n      <td>Mar 18, 2019 - BOS vs. DEN</td>\n      <td>L</td>\n      <td>36</td>\n      <td>8</td>\n      <td>3</td>\n      <td>12</td>\n      <td>25.0</td>\n      <td>1</td>\n      <td>5</td>\n      <td>20.0</td>\n      <td>1</td>\n      <td>2</td>\n      <td>50.0</td>\n      <td>0</td>\n      <td>7</td>\n      <td>7</td>\n      <td>6</td>\n      <td>1</td>\n      <td>1</td>\n      <td>1</td>\n      <td>1</td>\n      <td>-9</td>\n      <td>BOS vs. DEN</td>\n    </tr>\n    <tr>\n      <td>2019-03-16</td>\n      <td>Mar 16, 2019 - BOS vs. ATL</td>\n      <td>W</td>\n      <td>33</td>\n      <td>18</td>\n      <td>7</td>\n      <td>15</td>\n      <td>46.7</td>\n      <td>0</td>\n      <td>2</td>\n      <td>0.0</td>\n      <td>4</td>\n      <td>4</td>\n      <td>100.0</td>\n      <td>1</td>\n      <td>7</td>\n      <td>8</td>\n      <td>4</td>\n      <td>1</td>\n      <td>0</td>\n      <td>2</td>\n      <td>1</td>\n      <td>0</td>\n      <td>BOS vs. ATL</td>\n    </tr>\n    <tr>\n      <td>2019-03-14</td>\n      <td>Mar 14, 2019 - BOS vs. SAC</td>\n      <td>W</td>\n      <td>29</td>\n      <td>15</td>\n      <td>7</td>\n      <td>10</td>\n      <td>70.0</td>\n      <td>0</td>\n      <td>2</td>\n      <td>0.0</td>\n      <td>1</td>\n      <td>1</td>\n      <td>100.0</td>\n      <td>0</td>\n      <td>4</td>\n      <td>4</td>\n      <td>3</td>\n      <td>0</td>\n      <td>0</td>\n      <td>2</td>\n      <td>4</td>\n      <td>-5</td>\n      <td>BOS vs. SAC</td>\n    </tr>\n    <tr>\n      <td>2019-03-09</td>\n      <td>Mar 09, 2019 - BOS @ LAL</td>\n      <td>W</td>\n      <td>27</td>\n      <td>6</td>\n      <td>2</td>\n      <td>7</td>\n      <td>28.6</td>\n      <td>0</td>\n      <td>2</td>\n      <td>0.0</td>\n      <td>2</td>\n      <td>2</td>\n      <td>100.0</td>\n      <td>0</td>\n      <td>5</td>\n      <td>5</td>\n      <td>5</td>\n      <td>1</td>\n      <td>0</td>\n      <td>3</td>\n      <td>3</td>\n      <td>1</td>\n      <td>BOS @ LAL</td>\n    </tr>\n    <tr>\n      <td>2019-03-06</td>\n      <td>Mar 06, 2019 - BOS @ SAC</td>\n      <td>W</td>\n      <td>33</td>\n      <td>24</td>\n      <td>8</td>\n      <td>17</td>\n      <td>47.1</td>\n      <td>2</td>\n      <td>4</td>\n      <td>50.0</td>\n      <td>6</td>\n      <td>6</td>\n      <td>100.0</td>\n      <td>0</td>\n      <td>3</td>\n      <td>3</td>\n      <td>2</td>\n      <td>1</td>\n      <td>0</td>\n      <td>2</td>\n      <td>0</td>\n      <td>11</td>\n      <td>BOS @ SAC</td>\n    </tr>\n    <tr>\n      <td>2019-03-05</td>\n      <td>Mar 05, 2019 - BOS @ GSW</td>\n      <td>W</td>\n      <td>27</td>\n      <td>17</td>\n      <td>6</td>\n      <td>13</td>\n      <td>46.2</td>\n      <td>1</td>\n      <td>3</td>\n      <td>33.3</td>\n      <td>4</td>\n      <td>4</td>\n      <td>100.0</td>\n      <td>0</td>\n      <td>5</td>\n      <td>5</td>\n      <td>1</td>\n      <td>3</td>\n      <td>2</td>\n      <td>1</td>\n      <td>2</td>\n      <td>4</td>\n      <td>BOS @ GSW</td>\n    </tr>\n    <tr>\n      <td>2019-03-03</td>\n      <td>Mar 03, 2019 - BOS vs. HOU</td>\n      <td>L</td>\n      <td>35</td>\n      <td>12</td>\n      <td>5</td>\n      <td>15</td>\n      <td>33.3</td>\n      <td>1</td>\n      <td>4</td>\n      <td>25.0</td>\n      <td>1</td>\n      <td>2</td>\n      <td>50.0</td>\n      <td>0</td>\n      <td>5</td>\n      <td>5</td>\n      <td>2</td>\n      <td>1</td>\n      <td>0</td>\n      <td>0</td>\n      <td>4</td>\n      <td>-3</td>\n      <td>BOS vs. HOU</td>\n    </tr>\n    <tr>\n      <td>2019-03-01</td>\n      <td>Mar 01, 2019 - BOS vs. WAS</td>\n      <td>W</td>\n      <td>31</td>\n      <td>10</td>\n      <td>4</td>\n      <td>13</td>\n      <td>30.8</td>\n      <td>0</td>\n      <td>5</td>\n      <td>0.0</td>\n      <td>2</td>\n      <td>2</td>\n      <td>100.0</td>\n      <td>2</td>\n      <td>6</td>\n      <td>8</td>\n      <td>3</td>\n      <td>5</td>\n      <td>0</td>\n      <td>4</td>\n      <td>2</td>\n      <td>20</td>\n      <td>BOS vs. WAS</td>\n    </tr>\n    <tr>\n      <td>2019-02-27</td>\n      <td>Feb 27, 2019 - BOS vs. POR</td>\n      <td>L</td>\n      <td>35</td>\n      <td>14</td>\n      <td>6</td>\n      <td>11</td>\n      <td>54.5</td>\n      <td>0</td>\n      <td>2</td>\n      <td>0.0</td>\n      <td>2</td>\n      <td>2</td>\n      <td>100.0</td>\n      <td>0</td>\n      <td>4</td>\n      <td>4</td>\n      <td>0</td>\n      <td>1</td>\n      <td>0</td>\n      <td>4</td>\n      <td>2</td>\n      <td>-14</td>\n      <td>BOS vs. POR</td>\n    </tr>\n    <tr>\n      <td>2019-02-26</td>\n      <td>Feb 26, 2019 - BOS @ TOR</td>\n      <td>L</td>\n      <td>24</td>\n      <td>11</td>\n      <td>5</td>\n      <td>10</td>\n      <td>50.0</td>\n      <td>1</td>\n      <td>3</td>\n      <td>33.3</td>\n      <td>0</td>\n      <td>0</td>\n      <td>0.0</td>\n      <td>2</td>\n      <td>5</td>\n      <td>7</td>\n      <td>1</td>\n      <td>0</td>\n      <td>0</td>\n      <td>2</td>\n      <td>3</td>\n      <td>-8</td>\n      <td>BOS @ TOR</td>\n    </tr>\n    <tr>\n      <td>2019-02-23</td>\n      <td>Feb 23, 2019 - BOS @ CHI</td>\n      <td>L</td>\n      <td>31</td>\n      <td>12</td>\n      <td>5</td>\n      <td>9</td>\n      <td>55.6</td>\n      <td>1</td>\n      <td>1</td>\n      <td>100.0</td>\n      <td>1</td>\n      <td>1</td>\n      <td>100.0</td>\n      <td>0</td>\n      <td>1</td>\n      <td>1</td>\n      <td>1</td>\n      <td>1</td>\n      <td>1</td>\n      <td>1</td>\n      <td>2</td>\n      <td>-6</td>\n      <td>BOS @ CHI</td>\n    </tr>\n    <tr>\n      <td>2019-02-21</td>\n      <td>Feb 21, 2019 - BOS @ MIL</td>\n      <td>L</td>\n      <td>34</td>\n      <td>17</td>\n      <td>7</td>\n      <td>13</td>\n      <td>53.8</td>\n      <td>1</td>\n      <td>2</td>\n      <td>50.0</td>\n      <td>2</td>\n      <td>2</td>\n      <td>100.0</td>\n      <td>1</td>\n      <td>9</td>\n      <td>10</td>\n      <td>1</td>\n      <td>2</td>\n      <td>1</td>\n      <td>1</td>\n      <td>1</td>\n      <td>7</td>\n      <td>BOS @ MIL</td>\n    </tr>\n    <tr>\n      <td>2019-02-13</td>\n      <td>Feb 13, 2019 - BOS vs. DET</td>\n      <td>W</td>\n      <td>34</td>\n      <td>19</td>\n      <td>8</td>\n      <td>18</td>\n      <td>44.4</td>\n      <td>3</td>\n      <td>8</td>\n      <td>37.5</td>\n      <td>0</td>\n      <td>0</td>\n      <td>0.0</td>\n      <td>1</td>\n      <td>3</td>\n      <td>4</td>\n      <td>4</td>\n      <td>2</td>\n      <td>0</td>\n      <td>3</td>\n      <td>2</td>\n      <td>13</td>\n      <td>BOS vs. DET</td>\n    </tr>\n    <tr>\n      <td>2019-02-12</td>\n      <td>Feb 12, 2019 - BOS @ PHI</td>\n      <td>W</td>\n      <td>35</td>\n      <td>20</td>\n      <td>7</td>\n      <td>15</td>\n      <td>46.7</td>\n      <td>1</td>\n      <td>1</td>\n      <td>100.0</td>\n      <td>5</td>\n      <td>5</td>\n      <td>100.0</td>\n      <td>0</td>\n      <td>10</td>\n      <td>10</td>\n      <td>1</td>\n      <td>2</td>\n      <td>2</td>\n      <td>1</td>\n      <td>5</td>\n      <td>0</td>\n      <td>BOS @ PHI</td>\n    </tr>\n    <tr>\n      <td>2019-02-09</td>\n      <td>Feb 09, 2019 - BOS vs. LAC</td>\n      <td>L</td>\n      <td>29</td>\n      <td>16</td>\n      <td>4</td>\n      <td>12</td>\n      <td>33.3</td>\n      <td>1</td>\n      <td>2</td>\n      <td>50.0</td>\n      <td>7</td>\n      <td>10</td>\n      <td>70.0</td>\n      <td>2</td>\n      <td>6</td>\n      <td>8</td>\n      <td>0</td>\n      <td>1</td>\n      <td>0</td>\n      <td>4</td>\n      <td>6</td>\n      <td>-12</td>\n      <td>BOS vs. LAC</td>\n    </tr>\n    <tr>\n      <td>2019-02-07</td>\n      <td>Feb 07, 2019 - BOS vs. LAL</td>\n      <td>L</td>\n      <td>36</td>\n      <td>22</td>\n      <td>9</td>\n      <td>14</td>\n      <td>64.3</td>\n      <td>1</td>\n      <td>1</td>\n      <td>100.0</td>\n      <td>3</td>\n      <td>3</td>\n      <td>100.0</td>\n      <td>1</td>\n      <td>9</td>\n      <td>10</td>\n      <td>5</td>\n      <td>1</td>\n      <td>0</td>\n      <td>0</td>\n      <td>2</td>\n      <td>-2</td>\n      <td>BOS vs. LAL</td>\n    </tr>\n    <tr>\n      <td>2019-02-05</td>\n      <td>Feb 05, 2019 - BOS @ CLE</td>\n      <td>W</td>\n      <td>34</td>\n      <td>25</td>\n      <td>6</td>\n      <td>13</td>\n      <td>46.2</td>\n      <td>1</td>\n      <td>3</td>\n      <td>33.3</td>\n      <td>12</td>\n      <td>12</td>\n      <td>100.0</td>\n      <td>1</td>\n      <td>6</td>\n      <td>7</td>\n      <td>2</td>\n      <td>1</td>\n      <td>3</td>\n      <td>1</td>\n      <td>0</td>\n      <td>5</td>\n      <td>BOS @ CLE</td>\n    </tr>\n    <tr>\n      <td>2019-02-03</td>\n      <td>Feb 03, 2019 - BOS vs. OKC</td>\n      <td>W</td>\n      <td>31</td>\n      <td>11</td>\n      <td>4</td>\n      <td>8</td>\n      <td>50.0</td>\n      <td>0</td>\n      <td>2</td>\n      <td>0.0</td>\n      <td>3</td>\n      <td>4</td>\n      <td>75.0</td>\n      <td>0</td>\n      <td>7</td>\n      <td>7</td>\n      <td>2</td>\n      <td>2</td>\n      <td>2</td>\n      <td>0</td>\n      <td>3</td>\n      <td>12</td>\n      <td>BOS vs. OKC</td>\n    </tr>\n    <tr>\n      <td>2019-02-01</td>\n      <td>Feb 01, 2019 - BOS @ NYK</td>\n      <td>W</td>\n      <td>26</td>\n      <td>13</td>\n      <td>6</td>\n      <td>15</td>\n      <td>40.0</td>\n      <td>1</td>\n      <td>6</td>\n      <td>16.7</td>\n      <td>0</td>\n      <td>0</td>\n      <td>0.0</td>\n      <td>1</td>\n      <td>4</td>\n      <td>5</td>\n      <td>3</td>\n      <td>0</td>\n      <td>1</td>\n      <td>0</td>\n      <td>4</td>\n      <td>12</td>\n      <td>BOS @ NYK</td>\n    </tr>\n    <tr>\n      <td>2019-01-30</td>\n      <td>Jan 30, 2019 - BOS vs. CHA</td>\n      <td>W</td>\n      <td>27</td>\n      <td>20</td>\n      <td>9</td>\n      <td>15</td>\n      <td>60.0</td>\n      <td>2</td>\n      <td>5</td>\n      <td>40.0</td>\n      <td>0</td>\n      <td>0</td>\n      <td>0.0</td>\n      <td>1</td>\n      <td>4</td>\n      <td>5</td>\n      <td>1</td>\n      <td>0</td>\n      <td>1</td>\n      <td>0</td>\n      <td>1</td>\n      <td>26</td>\n      <td>BOS vs. CHA</td>\n    </tr>\n    <tr>\n      <td>2019-01-28</td>\n      <td>Jan 28, 2019 - BOS vs. BKN</td>\n      <td>W</td>\n      <td>30</td>\n      <td>6</td>\n      <td>3</td>\n      <td>9</td>\n      <td>33.3</td>\n      <td>0</td>\n      <td>1</td>\n      <td>0.0</td>\n      <td>0</td>\n      <td>0</td>\n      <td>0.0</td>\n      <td>2</td>\n      <td>4</td>\n      <td>6</td>\n      <td>1</td>\n      <td>1</td>\n      <td>2</td>\n      <td>2</td>\n      <td>1</td>\n      <td>7</td>\n      <td>BOS vs. BKN</td>\n    </tr>\n    <tr>\n      <td>2019-01-26</td>\n      <td>Jan 26, 2019 - BOS vs. GSW</td>\n      <td>L</td>\n      <td>31</td>\n      <td>20</td>\n      <td>7</td>\n      <td>15</td>\n      <td>46.7</td>\n      <td>3</td>\n      <td>5</td>\n      <td>60.0</td>\n      <td>3</td>\n      <td>3</td>\n      <td>100.0</td>\n      <td>0</td>\n      <td>5</td>\n      <td>5</td>\n      <td>3</td>\n      <td>0</td>\n      <td>1</td>\n      <td>0</td>\n      <td>1</td>\n      <td>4</td>\n      <td>BOS vs. GSW</td>\n    </tr>\n    <tr>\n      <td>2019-01-23</td>\n      <td>Jan 23, 2019 - BOS vs. CLE</td>\n      <td>W</td>\n      <td>31</td>\n      <td>15</td>\n      <td>7</td>\n      <td>16</td>\n      <td>43.8</td>\n      <td>0</td>\n      <td>0</td>\n      <td>0.0</td>\n      <td>1</td>\n      <td>1</td>\n      <td>100.0</td>\n      <td>0</td>\n      <td>2</td>\n      <td>2</td>\n      <td>3</td>\n      <td>3</td>\n      <td>0</td>\n      <td>3</td>\n      <td>2</td>\n      <td>6</td>\n      <td>BOS vs. CLE</td>\n    </tr>\n    <tr>\n      <td>2019-01-21</td>\n      <td>Jan 21, 2019 - BOS vs. MIA</td>\n      <td>W</td>\n      <td>31</td>\n      <td>19</td>\n      <td>8</td>\n      <td>13</td>\n      <td>61.5</td>\n      <td>3</td>\n      <td>3</td>\n      <td>100.0</td>\n      <td>0</td>\n      <td>0</td>\n      <td>0.0</td>\n      <td>0</td>\n      <td>6</td>\n      <td>6</td>\n      <td>1</td>\n      <td>0</td>\n      <td>0</td>\n      <td>4</td>\n      <td>2</td>\n      <td>18</td>\n      <td>BOS vs. MIA</td>\n    </tr>\n    <tr>\n      <td>2019-01-19</td>\n      <td>Jan 19, 2019 - BOS @ ATL</td>\n      <td>W</td>\n      <td>35</td>\n      <td>19</td>\n      <td>7</td>\n      <td>13</td>\n      <td>53.8</td>\n      <td>0</td>\n      <td>0</td>\n      <td>0.0</td>\n      <td>5</td>\n      <td>5</td>\n      <td>100.0</td>\n      <td>1</td>\n      <td>4</td>\n      <td>5</td>\n      <td>2</td>\n      <td>1</td>\n      <td>3</td>\n      <td>1</td>\n      <td>1</td>\n      <td>2</td>\n      <td>BOS @ ATL</td>\n    </tr>\n    <tr>\n      <td>2019-01-18</td>\n      <td>Jan 18, 2019 - BOS vs. MEM</td>\n      <td>W</td>\n      <td>29</td>\n      <td>2</td>\n      <td>0</td>\n      <td>6</td>\n      <td>0.0</td>\n      <td>0</td>\n      <td>2</td>\n      <td>0.0</td>\n      <td>2</td>\n      <td>2</td>\n      <td>100.0</td>\n      <td>1</td>\n      <td>5</td>\n      <td>6</td>\n      <td>4</td>\n      <td>0</td>\n      <td>1</td>\n      <td>2</td>\n      <td>1</td>\n      <td>-6</td>\n      <td>BOS vs. MEM</td>\n    </tr>\n    <tr>\n      <td>2019-01-16</td>\n      <td>Jan 16, 2019 - BOS vs. TOR</td>\n      <td>W</td>\n      <td>31</td>\n      <td>16</td>\n      <td>6</td>\n      <td>16</td>\n      <td>37.5</td>\n      <td>1</td>\n      <td>3</td>\n      <td>33.3</td>\n      <td>3</td>\n      <td>3</td>\n      <td>100.0</td>\n      <td>3</td>\n      <td>7</td>\n      <td>10</td>\n      <td>2</td>\n      <td>0</td>\n      <td>1</td>\n      <td>1</td>\n      <td>2</td>\n      <td>4</td>\n      <td>BOS vs. TOR</td>\n    </tr>\n    <tr>\n      <td>2019-01-14</td>\n      <td>Jan 14, 2019 - BOS @ BKN</td>\n      <td>L</td>\n      <td>36</td>\n      <td>34</td>\n      <td>12</td>\n      <td>19</td>\n      <td>63.2</td>\n      <td>3</td>\n      <td>5</td>\n      <td>60.0</td>\n      <td>7</td>\n      <td>11</td>\n      <td>63.6</td>\n      <td>0</td>\n      <td>5</td>\n      <td>5</td>\n      <td>3</td>\n      <td>1</td>\n      <td>3</td>\n      <td>0</td>\n      <td>3</td>\n      <td>-13</td>\n      <td>BOS @ BKN</td>\n    </tr>\n    <tr>\n      <td>2019-01-12</td>\n      <td>Jan 12, 2019 - BOS @ ORL</td>\n      <td>L</td>\n      <td>28</td>\n      <td>16</td>\n      <td>6</td>\n      <td>16</td>\n      <td>37.5</td>\n      <td>1</td>\n      <td>4</td>\n      <td>25.0</td>\n      <td>3</td>\n      <td>4</td>\n      <td>75.0</td>\n      <td>2</td>\n      <td>4</td>\n      <td>6</td>\n      <td>1</td>\n      <td>1</td>\n      <td>1</td>\n      <td>2</td>\n      <td>4</td>\n      <td>8</td>\n      <td>BOS @ ORL</td>\n    </tr>\n    <tr>\n      <td>2019-01-10</td>\n      <td>Jan 10, 2019 - BOS @ MIA</td>\n      <td>L</td>\n      <td>32</td>\n      <td>17</td>\n      <td>4</td>\n      <td>11</td>\n      <td>36.4</td>\n      <td>2</td>\n      <td>4</td>\n      <td>50.0</td>\n      <td>7</td>\n      <td>7</td>\n      <td>100.0</td>\n      <td>0</td>\n      <td>4</td>\n      <td>4</td>\n      <td>1</td>\n      <td>0</td>\n      <td>1</td>\n      <td>1</td>\n      <td>2</td>\n      <td>-11</td>\n      <td>BOS @ MIA</td>\n    </tr>\n    <tr>\n      <td>2019-01-09</td>\n      <td>Jan 09, 2019 - BOS vs. IND</td>\n      <td>W</td>\n      <td>25</td>\n      <td>20</td>\n      <td>9</td>\n      <td>15</td>\n      <td>60.0</td>\n      <td>2</td>\n      <td>5</td>\n      <td>40.0</td>\n      <td>0</td>\n      <td>0</td>\n      <td>0.0</td>\n      <td>0</td>\n      <td>4</td>\n      <td>4</td>\n      <td>0</td>\n      <td>1</td>\n      <td>0</td>\n      <td>1</td>\n      <td>1</td>\n      <td>17</td>\n      <td>BOS vs. IND</td>\n    </tr>\n    <tr>\n      <td>2019-01-07</td>\n      <td>Jan 07, 2019 - BOS vs. BKN</td>\n      <td>W</td>\n      <td>27</td>\n      <td>16</td>\n      <td>5</td>\n      <td>12</td>\n      <td>41.7</td>\n      <td>2</td>\n      <td>6</td>\n      <td>33.3</td>\n      <td>4</td>\n      <td>4</td>\n      <td>100.0</td>\n      <td>0</td>\n      <td>4</td>\n      <td>4</td>\n      <td>4</td>\n      <td>2</td>\n      <td>0</td>\n      <td>0</td>\n      <td>1</td>\n      <td>17</td>\n      <td>BOS vs. BKN</td>\n    </tr>\n    <tr>\n      <td>2019-01-04</td>\n      <td>Jan 04, 2019 - BOS vs. DAL</td>\n      <td>W</td>\n      <td>31</td>\n      <td>18</td>\n      <td>7</td>\n      <td>21</td>\n      <td>33.3</td>\n      <td>4</td>\n      <td>11</td>\n      <td>36.4</td>\n      <td>0</td>\n      <td>0</td>\n      <td>0.0</td>\n      <td>1</td>\n      <td>5</td>\n      <td>6</td>\n      <td>0</td>\n      <td>1</td>\n      <td>0</td>\n      <td>2</td>\n      <td>2</td>\n      <td>3</td>\n      <td>BOS vs. DAL</td>\n    </tr>\n    <tr>\n      <td>2019-01-02</td>\n      <td>Jan 02, 2019 - BOS vs. MIN</td>\n      <td>W</td>\n      <td>31</td>\n      <td>8</td>\n      <td>3</td>\n      <td>11</td>\n      <td>27.3</td>\n      <td>0</td>\n      <td>3</td>\n      <td>0.0</td>\n      <td>2</td>\n      <td>2</td>\n      <td>100.0</td>\n      <td>0</td>\n      <td>3</td>\n      <td>3</td>\n      <td>4</td>\n      <td>0</td>\n      <td>1</td>\n      <td>1</td>\n      <td>0</td>\n      <td>22</td>\n      <td>BOS vs. MIN</td>\n    </tr>\n    <tr>\n      <td>2018-12-31</td>\n      <td>Dec 31, 2018 - BOS @ SAS</td>\n      <td>L</td>\n      <td>35</td>\n      <td>12</td>\n      <td>6</td>\n      <td>14</td>\n      <td>42.9</td>\n      <td>0</td>\n      <td>5</td>\n      <td>0.0</td>\n      <td>0</td>\n      <td>0</td>\n      <td>0.0</td>\n      <td>2</td>\n      <td>9</td>\n      <td>11</td>\n      <td>1</td>\n      <td>0</td>\n      <td>2</td>\n      <td>2</td>\n      <td>3</td>\n      <td>-4</td>\n      <td>BOS @ SAS</td>\n    </tr>\n    <tr>\n      <td>2018-12-29</td>\n      <td>Dec 29, 2018 - BOS @ MEM</td>\n      <td>W</td>\n      <td>29</td>\n      <td>7</td>\n      <td>3</td>\n      <td>6</td>\n      <td>50.0</td>\n      <td>1</td>\n      <td>1</td>\n      <td>100.0</td>\n      <td>0</td>\n      <td>0</td>\n      <td>0.0</td>\n      <td>1</td>\n      <td>7</td>\n      <td>8</td>\n      <td>5</td>\n      <td>4</td>\n      <td>1</td>\n      <td>2</td>\n      <td>2</td>\n      <td>9</td>\n      <td>BOS @ MEM</td>\n    </tr>\n    <tr>\n      <td>2018-12-27</td>\n      <td>Dec 27, 2018 - BOS @ HOU</td>\n      <td>L</td>\n      <td>29</td>\n      <td>4</td>\n      <td>2</td>\n      <td>7</td>\n      <td>28.6</td>\n      <td>0</td>\n      <td>1</td>\n      <td>0.0</td>\n      <td>0</td>\n      <td>0</td>\n      <td>0.0</td>\n      <td>0</td>\n      <td>3</td>\n      <td>3</td>\n      <td>2</td>\n      <td>1</td>\n      <td>0</td>\n      <td>1</td>\n      <td>3</td>\n      <td>-12</td>\n      <td>BOS @ HOU</td>\n    </tr>\n    <tr>\n      <td>2018-12-25</td>\n      <td>Dec 25, 2018 - BOS vs. PHI</td>\n      <td>W</td>\n      <td>38</td>\n      <td>23</td>\n      <td>7</td>\n      <td>18</td>\n      <td>38.9</td>\n      <td>1</td>\n      <td>7</td>\n      <td>14.3</td>\n      <td>8</td>\n      <td>9</td>\n      <td>88.9</td>\n      <td>0</td>\n      <td>10</td>\n      <td>10</td>\n      <td>1</td>\n      <td>2</td>\n      <td>2</td>\n      <td>1</td>\n      <td>3</td>\n      <td>22</td>\n      <td>BOS vs. PHI</td>\n    </tr>\n    <tr>\n      <td>2018-12-23</td>\n      <td>Dec 23, 2018 - BOS vs. CHA</td>\n      <td>W</td>\n      <td>23</td>\n      <td>17</td>\n      <td>6</td>\n      <td>13</td>\n      <td>46.2</td>\n      <td>3</td>\n      <td>8</td>\n      <td>37.5</td>\n      <td>2</td>\n      <td>3</td>\n      <td>66.7</td>\n      <td>0</td>\n      <td>4</td>\n      <td>4</td>\n      <td>1</td>\n      <td>0</td>\n      <td>0</td>\n      <td>2</td>\n      <td>0</td>\n      <td>17</td>\n      <td>BOS vs. CHA</td>\n    </tr>\n    <tr>\n      <td>2018-12-21</td>\n      <td>Dec 21, 2018 - BOS vs. MIL</td>\n      <td>L</td>\n      <td>32</td>\n      <td>20</td>\n      <td>5</td>\n      <td>15</td>\n      <td>33.3</td>\n      <td>3</td>\n      <td>7</td>\n      <td>42.9</td>\n      <td>7</td>\n      <td>8</td>\n      <td>87.5</td>\n      <td>0</td>\n      <td>5</td>\n      <td>5</td>\n      <td>2</td>\n      <td>2</td>\n      <td>1</td>\n      <td>2</td>\n      <td>4</td>\n      <td>-7</td>\n      <td>BOS vs. MIL</td>\n    </tr>\n    <tr>\n      <td>2018-12-19</td>\n      <td>Dec 19, 2018 - BOS vs. PHX</td>\n      <td>L</td>\n      <td>36</td>\n      <td>18</td>\n      <td>7</td>\n      <td>17</td>\n      <td>41.2</td>\n      <td>2</td>\n      <td>5</td>\n      <td>40.0</td>\n      <td>2</td>\n      <td>2</td>\n      <td>100.0</td>\n      <td>0</td>\n      <td>8</td>\n      <td>8</td>\n      <td>0</td>\n      <td>1</td>\n      <td>4</td>\n      <td>2</td>\n      <td>2</td>\n      <td>5</td>\n      <td>BOS vs. PHX</td>\n    </tr>\n  </tbody>\n</table>\n</div>",
      "text/plain": "                              Match Up W/L  MIN  ...  PF  +/-         teams\ndate                                             ...                       \n2019-04-07  Apr 07, 2019 - BOS vs. ORL   L    6  ...   0    1   BOS vs. ORL\n2019-04-05    Apr 05, 2019 - BOS @ IND   W   34  ...   2   15     BOS @ IND\n2019-04-03    Apr 03, 2019 - BOS @ MIA   W   39  ...   0   16     BOS @ MIA\n2019-04-01  Apr 01, 2019 - BOS vs. MIA   W   34  ...   0   15   BOS vs. MIA\n2019-03-30    Mar 30, 2019 - BOS @ BKN   L   30  ...   4  -12     BOS @ BKN\n2019-03-29  Mar 29, 2019 - BOS vs. IND   W   24  ...   2   16   BOS vs. IND\n2019-03-26    Mar 26, 2019 - BOS @ CLE   W   34  ...   4   17     BOS @ CLE\n2019-03-23    Mar 23, 2019 - BOS @ CHA   L   37  ...   1  -19     BOS @ CHA\n2019-03-20    Mar 20, 2019 - BOS @ PHI   L   33  ...   3  -17     BOS @ PHI\n2019-03-18  Mar 18, 2019 - BOS vs. DEN   L   36  ...   1   -9   BOS vs. DEN\n2019-03-16  Mar 16, 2019 - BOS vs. ATL   W   33  ...   1    0   BOS vs. ATL\n2019-03-14  Mar 14, 2019 - BOS vs. SAC   W   29  ...   4   -5   BOS vs. SAC\n2019-03-09    Mar 09, 2019 - BOS @ LAL   W   27  ...   3    1     BOS @ LAL\n2019-03-06    Mar 06, 2019 - BOS @ SAC   W   33  ...   0   11     BOS @ SAC\n2019-03-05    Mar 05, 2019 - BOS @ GSW   W   27  ...   2    4     BOS @ GSW\n2019-03-03  Mar 03, 2019 - BOS vs. HOU   L   35  ...   4   -3   BOS vs. HOU\n2019-03-01  Mar 01, 2019 - BOS vs. WAS   W   31  ...   2   20   BOS vs. WAS\n2019-02-27  Feb 27, 2019 - BOS vs. POR   L   35  ...   2  -14   BOS vs. POR\n2019-02-26    Feb 26, 2019 - BOS @ TOR   L   24  ...   3   -8     BOS @ TOR\n2019-02-23    Feb 23, 2019 - BOS @ CHI   L   31  ...   2   -6     BOS @ CHI\n2019-02-21    Feb 21, 2019 - BOS @ MIL   L   34  ...   1    7     BOS @ MIL\n2019-02-13  Feb 13, 2019 - BOS vs. DET   W   34  ...   2   13   BOS vs. DET\n2019-02-12    Feb 12, 2019 - BOS @ PHI   W   35  ...   5    0     BOS @ PHI\n2019-02-09  Feb 09, 2019 - BOS vs. LAC   L   29  ...   6  -12   BOS vs. LAC\n2019-02-07  Feb 07, 2019 - BOS vs. LAL   L   36  ...   2   -2   BOS vs. LAL\n2019-02-05    Feb 05, 2019 - BOS @ CLE   W   34  ...   0    5     BOS @ CLE\n2019-02-03  Feb 03, 2019 - BOS vs. OKC   W   31  ...   3   12   BOS vs. OKC\n2019-02-01    Feb 01, 2019 - BOS @ NYK   W   26  ...   4   12     BOS @ NYK\n2019-01-30  Jan 30, 2019 - BOS vs. CHA   W   27  ...   1   26   BOS vs. CHA\n2019-01-28  Jan 28, 2019 - BOS vs. BKN   W   30  ...   1    7   BOS vs. BKN\n2019-01-26  Jan 26, 2019 - BOS vs. GSW   L   31  ...   1    4   BOS vs. GSW\n2019-01-23  Jan 23, 2019 - BOS vs. CLE   W   31  ...   2    6   BOS vs. CLE\n2019-01-21  Jan 21, 2019 - BOS vs. MIA   W   31  ...   2   18   BOS vs. MIA\n2019-01-19    Jan 19, 2019 - BOS @ ATL   W   35  ...   1    2     BOS @ ATL\n2019-01-18  Jan 18, 2019 - BOS vs. MEM   W   29  ...   1   -6   BOS vs. MEM\n2019-01-16  Jan 16, 2019 - BOS vs. TOR   W   31  ...   2    4   BOS vs. TOR\n2019-01-14    Jan 14, 2019 - BOS @ BKN   L   36  ...   3  -13     BOS @ BKN\n2019-01-12    Jan 12, 2019 - BOS @ ORL   L   28  ...   4    8     BOS @ ORL\n2019-01-10    Jan 10, 2019 - BOS @ MIA   L   32  ...   2  -11     BOS @ MIA\n2019-01-09  Jan 09, 2019 - BOS vs. IND   W   25  ...   1   17   BOS vs. IND\n2019-01-07  Jan 07, 2019 - BOS vs. BKN   W   27  ...   1   17   BOS vs. BKN\n2019-01-04  Jan 04, 2019 - BOS vs. DAL   W   31  ...   2    3   BOS vs. DAL\n2019-01-02  Jan 02, 2019 - BOS vs. MIN   W   31  ...   0   22   BOS vs. MIN\n2018-12-31    Dec 31, 2018 - BOS @ SAS   L   35  ...   3   -4     BOS @ SAS\n2018-12-29    Dec 29, 2018 - BOS @ MEM   W   29  ...   2    9     BOS @ MEM\n2018-12-27    Dec 27, 2018 - BOS @ HOU   L   29  ...   3  -12     BOS @ HOU\n2018-12-25  Dec 25, 2018 - BOS vs. PHI   W   38  ...   3   22   BOS vs. PHI\n2018-12-23  Dec 23, 2018 - BOS vs. CHA   W   23  ...   0   17   BOS vs. CHA\n2018-12-21  Dec 21, 2018 - BOS vs. MIL   L   32  ...   4   -7   BOS vs. MIL\n2018-12-19  Dec 19, 2018 - BOS vs. PHX   L   36  ...   2    5   BOS vs. PHX\n\n[50 rows x 23 columns]"
     },
     "execution_count": 34,
     "metadata": {},
     "output_type": "execute_result"
    }
   ],
   "source": [
    "df2 = ns.get_season_df(season_urls[1])\n",
    "df2"
   ]
  },
  {
   "cell_type": "code",
   "execution_count": 35,
   "metadata": {},
   "outputs": [
    {
     "data": {
      "text/plain": "{2019: {'start_YR': '2019', 'end_yr': '20'},\n 2018: {'start_YR': '2018', 'end_yr': '19'},\n 2017: {'start_YR': '2017', 'end_yr': '18'}}"
     },
     "execution_count": 35,
     "metadata": {},
     "output_type": "execute_result"
    }
   ],
   "source": [
    "season_years=[2019,2018,2017]\n",
    "seasons= {}\n",
    "for year in season_years:\n",
    "    seasons[year] = dict(start_YR = str(year), end_yr = str(year+1)[-2:])\n",
    "seasons"
   ]
  },
  {
   "cell_type": "code",
   "execution_count": 38,
   "metadata": {},
   "outputs": [
    {
     "name": "stdout",
     "output_type": "stream",
     "text": "Reloading...\n\n"
    },
    {
     "data": {
      "text/plain": "['https://stats.nba.com/player/1628369/boxscores-traditional/?Season=2019-20&SeasonType=Regular%20Season',\n 'https://stats.nba.com/player/1628369/boxscores-traditional/?Season=2018-19&SeasonType=Regular%20Season',\n 'https://stats.nba.com/player/1628369/boxscores-traditional/?Season=2017-18&SeasonType=Regular%20Season']"
     },
     "execution_count": 38,
     "metadata": {},
     "output_type": "execute_result"
    }
   ],
   "source": [
    "fs.reload(ns)\n",
    "ns.make_season_urls_from_playerid()"
   ]
  },
  {
   "cell_type": "code",
   "execution_count": 39,
   "metadata": {},
   "outputs": [
    {
     "name": "stdout",
     "output_type": "stream",
     "text": "Reloading...\n\n"
    }
   ],
   "source": [
    "fs.reload(ns)\n",
    "\n",
    "df_list = ns.get_all_seasons_df(player_id=1628369)"
   ]
  },
  {
   "cell_type": "code",
   "execution_count": 40,
   "metadata": {},
   "outputs": [
    {
     "data": {
      "text/html": "<div>\n<style scoped>\n    .dataframe tbody tr th:only-of-type {\n        vertical-align: middle;\n    }\n\n    .dataframe tbody tr th {\n        vertical-align: top;\n    }\n\n    .dataframe thead th {\n        text-align: right;\n    }\n</style>\n<table border=\"1\" class=\"dataframe\">\n  <thead>\n    <tr style=\"text-align: right;\">\n      <th></th>\n      <th>Match Up</th>\n      <th>W/L</th>\n      <th>MIN</th>\n      <th>PTS</th>\n      <th>FGM</th>\n      <th>FGA</th>\n      <th>FG%</th>\n      <th>3PM</th>\n      <th>3PA</th>\n      <th>3P%</th>\n      <th>FTM</th>\n      <th>FTA</th>\n      <th>FT%</th>\n      <th>OREB</th>\n      <th>DREB</th>\n      <th>REB</th>\n      <th>AST</th>\n      <th>STL</th>\n      <th>BLK</th>\n      <th>TOV</th>\n      <th>PF</th>\n      <th>+/-</th>\n      <th>teams</th>\n    </tr>\n    <tr>\n      <th>date</th>\n      <th></th>\n      <th></th>\n      <th></th>\n      <th></th>\n      <th></th>\n      <th></th>\n      <th></th>\n      <th></th>\n      <th></th>\n      <th></th>\n      <th></th>\n      <th></th>\n      <th></th>\n      <th></th>\n      <th></th>\n      <th></th>\n      <th></th>\n      <th></th>\n      <th></th>\n      <th></th>\n      <th></th>\n      <th></th>\n      <th></th>\n    </tr>\n  </thead>\n  <tbody>\n    <tr>\n      <td>2019-12-25</td>\n      <td>Dec 25, 2019 - BOS @ TOR</td>\n      <td>W</td>\n      <td>35</td>\n      <td>11</td>\n      <td>5</td>\n      <td>18</td>\n      <td>27.8</td>\n      <td>1</td>\n      <td>3</td>\n      <td>33.3</td>\n      <td>0</td>\n      <td>0</td>\n      <td>0.0</td>\n      <td>4</td>\n      <td>5</td>\n      <td>9</td>\n      <td>6</td>\n      <td>2</td>\n      <td>0</td>\n      <td>3</td>\n      <td>4</td>\n      <td>21</td>\n      <td>BOS @ TOR</td>\n    </tr>\n    <tr>\n      <td>2019-12-22</td>\n      <td>Dec 22, 2019 - BOS vs. CHA</td>\n      <td>W</td>\n      <td>36</td>\n      <td>39</td>\n      <td>15</td>\n      <td>29</td>\n      <td>51.7</td>\n      <td>4</td>\n      <td>9</td>\n      <td>44.4</td>\n      <td>5</td>\n      <td>5</td>\n      <td>100.0</td>\n      <td>1</td>\n      <td>11</td>\n      <td>12</td>\n      <td>2</td>\n      <td>1</td>\n      <td>3</td>\n      <td>2</td>\n      <td>1</td>\n      <td>10</td>\n      <td>BOS vs. CHA</td>\n    </tr>\n    <tr>\n      <td>2019-12-20</td>\n      <td>Dec 20, 2019 - BOS vs. DET</td>\n      <td>W</td>\n      <td>27</td>\n      <td>26</td>\n      <td>10</td>\n      <td>17</td>\n      <td>58.8</td>\n      <td>2</td>\n      <td>7</td>\n      <td>28.6</td>\n      <td>4</td>\n      <td>4</td>\n      <td>100.0</td>\n      <td>0</td>\n      <td>5</td>\n      <td>5</td>\n      <td>3</td>\n      <td>2</td>\n      <td>0</td>\n      <td>0</td>\n      <td>1</td>\n      <td>10</td>\n      <td>BOS vs. DET</td>\n    </tr>\n    <tr>\n      <td>2019-12-18</td>\n      <td>Dec 18, 2019 - BOS @ DAL</td>\n      <td>W</td>\n      <td>37</td>\n      <td>24</td>\n      <td>10</td>\n      <td>23</td>\n      <td>43.5</td>\n      <td>2</td>\n      <td>10</td>\n      <td>20.0</td>\n      <td>2</td>\n      <td>3</td>\n      <td>66.7</td>\n      <td>2</td>\n      <td>6</td>\n      <td>8</td>\n      <td>1</td>\n      <td>0</td>\n      <td>1</td>\n      <td>3</td>\n      <td>3</td>\n      <td>-2</td>\n      <td>BOS @ DAL</td>\n    </tr>\n    <tr>\n      <td>2019-12-12</td>\n      <td>Dec 12, 2019 - BOS vs. PHI</td>\n      <td>L</td>\n      <td>34</td>\n      <td>15</td>\n      <td>5</td>\n      <td>18</td>\n      <td>27.8</td>\n      <td>3</td>\n      <td>8</td>\n      <td>37.5</td>\n      <td>2</td>\n      <td>2</td>\n      <td>100.0</td>\n      <td>1</td>\n      <td>2</td>\n      <td>3</td>\n      <td>4</td>\n      <td>0</td>\n      <td>1</td>\n      <td>1</td>\n      <td>4</td>\n      <td>-2</td>\n      <td>BOS vs. PHI</td>\n    </tr>\n    <tr>\n      <td>2019-12-11</td>\n      <td>Dec 11, 2019 - BOS @ IND</td>\n      <td>L</td>\n      <td>37</td>\n      <td>16</td>\n      <td>4</td>\n      <td>13</td>\n      <td>30.8</td>\n      <td>2</td>\n      <td>8</td>\n      <td>25.0</td>\n      <td>6</td>\n      <td>6</td>\n      <td>100.0</td>\n      <td>0</td>\n      <td>6</td>\n      <td>6</td>\n      <td>3</td>\n      <td>2</td>\n      <td>0</td>\n      <td>3</td>\n      <td>2</td>\n      <td>-8</td>\n      <td>BOS @ IND</td>\n    </tr>\n    <tr>\n      <td>2019-12-09</td>\n      <td>Dec 09, 2019 - BOS vs. CLE</td>\n      <td>W</td>\n      <td>30</td>\n      <td>19</td>\n      <td>7</td>\n      <td>14</td>\n      <td>50.0</td>\n      <td>4</td>\n      <td>6</td>\n      <td>66.7</td>\n      <td>1</td>\n      <td>2</td>\n      <td>50.0</td>\n      <td>0</td>\n      <td>11</td>\n      <td>11</td>\n      <td>2</td>\n      <td>2</td>\n      <td>2</td>\n      <td>4</td>\n      <td>1</td>\n      <td>24</td>\n      <td>BOS vs. CLE</td>\n    </tr>\n    <tr>\n      <td>2019-12-06</td>\n      <td>Dec 06, 2019 - BOS vs. DEN</td>\n      <td>W</td>\n      <td>30</td>\n      <td>26</td>\n      <td>10</td>\n      <td>19</td>\n      <td>52.6</td>\n      <td>4</td>\n      <td>8</td>\n      <td>50.0</td>\n      <td>2</td>\n      <td>2</td>\n      <td>100.0</td>\n      <td>0</td>\n      <td>7</td>\n      <td>7</td>\n      <td>5</td>\n      <td>1</td>\n      <td>0</td>\n      <td>1</td>\n      <td>1</td>\n      <td>14</td>\n      <td>BOS vs. DEN</td>\n    </tr>\n    <tr>\n      <td>2019-12-04</td>\n      <td>Dec 04, 2019 - BOS vs. MIA</td>\n      <td>W</td>\n      <td>34</td>\n      <td>19</td>\n      <td>6</td>\n      <td>19</td>\n      <td>31.6</td>\n      <td>2</td>\n      <td>12</td>\n      <td>16.7</td>\n      <td>5</td>\n      <td>6</td>\n      <td>83.3</td>\n      <td>1</td>\n      <td>4</td>\n      <td>5</td>\n      <td>3</td>\n      <td>1</td>\n      <td>3</td>\n      <td>3</td>\n      <td>2</td>\n      <td>31</td>\n      <td>BOS vs. MIA</td>\n    </tr>\n    <tr>\n      <td>2019-12-01</td>\n      <td>Dec 01, 2019 - BOS @ NYK</td>\n      <td>W</td>\n      <td>37</td>\n      <td>30</td>\n      <td>10</td>\n      <td>23</td>\n      <td>43.5</td>\n      <td>5</td>\n      <td>11</td>\n      <td>45.5</td>\n      <td>5</td>\n      <td>6</td>\n      <td>83.3</td>\n      <td>0</td>\n      <td>6</td>\n      <td>6</td>\n      <td>7</td>\n      <td>2</td>\n      <td>2</td>\n      <td>1</td>\n      <td>4</td>\n      <td>11</td>\n      <td>BOS @ NYK</td>\n    </tr>\n    <tr>\n      <td>2019-11-29</td>\n      <td>Nov 29, 2019 - BOS @ BKN</td>\n      <td>L</td>\n      <td>37</td>\n      <td>26</td>\n      <td>10</td>\n      <td>19</td>\n      <td>52.6</td>\n      <td>4</td>\n      <td>8</td>\n      <td>50.0</td>\n      <td>2</td>\n      <td>2</td>\n      <td>100.0</td>\n      <td>1</td>\n      <td>8</td>\n      <td>9</td>\n      <td>0</td>\n      <td>4</td>\n      <td>0</td>\n      <td>6</td>\n      <td>0</td>\n      <td>13</td>\n      <td>BOS @ BKN</td>\n    </tr>\n    <tr>\n      <td>2019-11-27</td>\n      <td>Nov 27, 2019 - BOS vs. BKN</td>\n      <td>W</td>\n      <td>35</td>\n      <td>16</td>\n      <td>5</td>\n      <td>17</td>\n      <td>29.4</td>\n      <td>0</td>\n      <td>4</td>\n      <td>0.0</td>\n      <td>6</td>\n      <td>6</td>\n      <td>100.0</td>\n      <td>3</td>\n      <td>6</td>\n      <td>9</td>\n      <td>5</td>\n      <td>1</td>\n      <td>0</td>\n      <td>3</td>\n      <td>2</td>\n      <td>11</td>\n      <td>BOS vs. BKN</td>\n    </tr>\n    <tr>\n      <td>2019-11-25</td>\n      <td>Nov 25, 2019 - BOS vs. SAC</td>\n      <td>W</td>\n      <td>34</td>\n      <td>20</td>\n      <td>7</td>\n      <td>18</td>\n      <td>38.9</td>\n      <td>0</td>\n      <td>3</td>\n      <td>0.0</td>\n      <td>6</td>\n      <td>7</td>\n      <td>85.7</td>\n      <td>1</td>\n      <td>5</td>\n      <td>6</td>\n      <td>3</td>\n      <td>0</td>\n      <td>0</td>\n      <td>3</td>\n      <td>4</td>\n      <td>4</td>\n      <td>BOS vs. SAC</td>\n    </tr>\n    <tr>\n      <td>2019-11-22</td>\n      <td>Nov 22, 2019 - BOS @ DEN</td>\n      <td>L</td>\n      <td>32</td>\n      <td>16</td>\n      <td>6</td>\n      <td>16</td>\n      <td>37.5</td>\n      <td>0</td>\n      <td>5</td>\n      <td>0.0</td>\n      <td>4</td>\n      <td>5</td>\n      <td>80.0</td>\n      <td>0</td>\n      <td>2</td>\n      <td>2</td>\n      <td>3</td>\n      <td>0</td>\n      <td>1</td>\n      <td>0</td>\n      <td>1</td>\n      <td>-23</td>\n      <td>BOS @ DEN</td>\n    </tr>\n    <tr>\n      <td>2019-11-20</td>\n      <td>Nov 20, 2019 - BOS @ LAC</td>\n      <td>L</td>\n      <td>41</td>\n      <td>30</td>\n      <td>12</td>\n      <td>24</td>\n      <td>50.0</td>\n      <td>5</td>\n      <td>10</td>\n      <td>50.0</td>\n      <td>1</td>\n      <td>2</td>\n      <td>50.0</td>\n      <td>0</td>\n      <td>6</td>\n      <td>6</td>\n      <td>3</td>\n      <td>2</td>\n      <td>2</td>\n      <td>3</td>\n      <td>4</td>\n      <td>-6</td>\n      <td>BOS @ LAC</td>\n    </tr>\n    <tr>\n      <td>2019-11-18</td>\n      <td>Nov 18, 2019 - BOS @ PHX</td>\n      <td>W</td>\n      <td>27</td>\n      <td>26</td>\n      <td>8</td>\n      <td>16</td>\n      <td>50.0</td>\n      <td>3</td>\n      <td>9</td>\n      <td>33.3</td>\n      <td>7</td>\n      <td>9</td>\n      <td>77.8</td>\n      <td>2</td>\n      <td>9</td>\n      <td>11</td>\n      <td>3</td>\n      <td>1</td>\n      <td>0</td>\n      <td>4</td>\n      <td>3</td>\n      <td>8</td>\n      <td>BOS @ PHX</td>\n    </tr>\n    <tr>\n      <td>2019-11-17</td>\n      <td>Nov 17, 2019 - BOS @ SAC</td>\n      <td>L</td>\n      <td>30</td>\n      <td>14</td>\n      <td>6</td>\n      <td>13</td>\n      <td>46.2</td>\n      <td>1</td>\n      <td>4</td>\n      <td>25.0</td>\n      <td>1</td>\n      <td>1</td>\n      <td>100.0</td>\n      <td>0</td>\n      <td>6</td>\n      <td>6</td>\n      <td>2</td>\n      <td>0</td>\n      <td>1</td>\n      <td>1</td>\n      <td>0</td>\n      <td>12</td>\n      <td>BOS @ SAC</td>\n    </tr>\n    <tr>\n      <td>2019-11-15</td>\n      <td>Nov 15, 2019 - BOS @ GSW</td>\n      <td>W</td>\n      <td>38</td>\n      <td>24</td>\n      <td>8</td>\n      <td>23</td>\n      <td>34.8</td>\n      <td>2</td>\n      <td>7</td>\n      <td>28.6</td>\n      <td>6</td>\n      <td>7</td>\n      <td>85.7</td>\n      <td>3</td>\n      <td>5</td>\n      <td>8</td>\n      <td>1</td>\n      <td>3</td>\n      <td>0</td>\n      <td>2</td>\n      <td>3</td>\n      <td>6</td>\n      <td>BOS @ GSW</td>\n    </tr>\n    <tr>\n      <td>2019-11-13</td>\n      <td>Nov 13, 2019 - BOS vs. WAS</td>\n      <td>W</td>\n      <td>35</td>\n      <td>23</td>\n      <td>9</td>\n      <td>20</td>\n      <td>45.0</td>\n      <td>1</td>\n      <td>5</td>\n      <td>20.0</td>\n      <td>4</td>\n      <td>4</td>\n      <td>100.0</td>\n      <td>2</td>\n      <td>1</td>\n      <td>3</td>\n      <td>4</td>\n      <td>0</td>\n      <td>0</td>\n      <td>1</td>\n      <td>3</td>\n      <td>14</td>\n      <td>BOS vs. WAS</td>\n    </tr>\n    <tr>\n      <td>2019-11-11</td>\n      <td>Nov 11, 2019 - BOS vs. DAL</td>\n      <td>W</td>\n      <td>35</td>\n      <td>5</td>\n      <td>1</td>\n      <td>18</td>\n      <td>5.6</td>\n      <td>0</td>\n      <td>3</td>\n      <td>0.0</td>\n      <td>3</td>\n      <td>4</td>\n      <td>75.0</td>\n      <td>3</td>\n      <td>5</td>\n      <td>8</td>\n      <td>4</td>\n      <td>1</td>\n      <td>0</td>\n      <td>1</td>\n      <td>3</td>\n      <td>16</td>\n      <td>BOS vs. DAL</td>\n    </tr>\n    <tr>\n      <td>2019-11-09</td>\n      <td>Nov 09, 2019 - BOS @ SAS</td>\n      <td>W</td>\n      <td>34</td>\n      <td>19</td>\n      <td>6</td>\n      <td>13</td>\n      <td>46.2</td>\n      <td>2</td>\n      <td>6</td>\n      <td>33.3</td>\n      <td>5</td>\n      <td>6</td>\n      <td>83.3</td>\n      <td>1</td>\n      <td>6</td>\n      <td>7</td>\n      <td>4</td>\n      <td>3</td>\n      <td>0</td>\n      <td>2</td>\n      <td>3</td>\n      <td>23</td>\n      <td>BOS @ SAS</td>\n    </tr>\n    <tr>\n      <td>2019-11-07</td>\n      <td>Nov 07, 2019 - BOS @ CHA</td>\n      <td>W</td>\n      <td>29</td>\n      <td>23</td>\n      <td>8</td>\n      <td>17</td>\n      <td>47.1</td>\n      <td>4</td>\n      <td>6</td>\n      <td>66.7</td>\n      <td>3</td>\n      <td>4</td>\n      <td>75.0</td>\n      <td>2</td>\n      <td>7</td>\n      <td>9</td>\n      <td>1</td>\n      <td>2</td>\n      <td>1</td>\n      <td>1</td>\n      <td>0</td>\n      <td>13</td>\n      <td>BOS @ CHA</td>\n    </tr>\n    <tr>\n      <td>2019-11-05</td>\n      <td>Nov 05, 2019 - BOS @ CLE</td>\n      <td>W</td>\n      <td>34</td>\n      <td>18</td>\n      <td>9</td>\n      <td>16</td>\n      <td>56.3</td>\n      <td>0</td>\n      <td>5</td>\n      <td>0.0</td>\n      <td>0</td>\n      <td>0</td>\n      <td>0.0</td>\n      <td>0</td>\n      <td>7</td>\n      <td>7</td>\n      <td>1</td>\n      <td>1</td>\n      <td>2</td>\n      <td>4</td>\n      <td>1</td>\n      <td>9</td>\n      <td>BOS @ CLE</td>\n    </tr>\n    <tr>\n      <td>2019-11-01</td>\n      <td>Nov 01, 2019 - BOS vs. NYK</td>\n      <td>W</td>\n      <td>34</td>\n      <td>24</td>\n      <td>9</td>\n      <td>17</td>\n      <td>52.9</td>\n      <td>4</td>\n      <td>8</td>\n      <td>50.0</td>\n      <td>2</td>\n      <td>2</td>\n      <td>100.0</td>\n      <td>1</td>\n      <td>5</td>\n      <td>6</td>\n      <td>3</td>\n      <td>0</td>\n      <td>0</td>\n      <td>2</td>\n      <td>4</td>\n      <td>12</td>\n      <td>BOS vs. NYK</td>\n    </tr>\n    <tr>\n      <td>2019-10-30</td>\n      <td>Oct 30, 2019 - BOS vs. MIL</td>\n      <td>W</td>\n      <td>39</td>\n      <td>25</td>\n      <td>10</td>\n      <td>22</td>\n      <td>45.5</td>\n      <td>4</td>\n      <td>7</td>\n      <td>57.1</td>\n      <td>1</td>\n      <td>2</td>\n      <td>50.0</td>\n      <td>1</td>\n      <td>3</td>\n      <td>4</td>\n      <td>2</td>\n      <td>0</td>\n      <td>1</td>\n      <td>1</td>\n      <td>5</td>\n      <td>16</td>\n      <td>BOS vs. MIL</td>\n    </tr>\n    <tr>\n      <td>2019-10-26</td>\n      <td>Oct 26, 2019 - BOS @ NYK</td>\n      <td>W</td>\n      <td>34</td>\n      <td>15</td>\n      <td>5</td>\n      <td>17</td>\n      <td>29.4</td>\n      <td>2</td>\n      <td>7</td>\n      <td>28.6</td>\n      <td>3</td>\n      <td>4</td>\n      <td>75.0</td>\n      <td>2</td>\n      <td>7</td>\n      <td>9</td>\n      <td>0</td>\n      <td>3</td>\n      <td>2</td>\n      <td>2</td>\n      <td>3</td>\n      <td>20</td>\n      <td>BOS @ NYK</td>\n    </tr>\n    <tr>\n      <td>2019-10-25</td>\n      <td>Oct 25, 2019 - BOS vs. TOR</td>\n      <td>W</td>\n      <td>35</td>\n      <td>25</td>\n      <td>8</td>\n      <td>22</td>\n      <td>36.4</td>\n      <td>4</td>\n      <td>7</td>\n      <td>57.1</td>\n      <td>5</td>\n      <td>5</td>\n      <td>100.0</td>\n      <td>3</td>\n      <td>6</td>\n      <td>9</td>\n      <td>4</td>\n      <td>3</td>\n      <td>0</td>\n      <td>0</td>\n      <td>0</td>\n      <td>9</td>\n      <td>BOS vs. TOR</td>\n    </tr>\n    <tr>\n      <td>2019-10-23</td>\n      <td>Oct 23, 2019 - BOS @ PHI</td>\n      <td>L</td>\n      <td>37</td>\n      <td>21</td>\n      <td>8</td>\n      <td>22</td>\n      <td>36.4</td>\n      <td>4</td>\n      <td>8</td>\n      <td>50.0</td>\n      <td>1</td>\n      <td>3</td>\n      <td>33.3</td>\n      <td>1</td>\n      <td>9</td>\n      <td>10</td>\n      <td>2</td>\n      <td>2</td>\n      <td>0</td>\n      <td>4</td>\n      <td>2</td>\n      <td>-4</td>\n      <td>BOS @ PHI</td>\n    </tr>\n  </tbody>\n</table>\n</div>",
      "text/plain": "                              Match Up W/L  MIN  ...  PF  +/-         teams\ndate                                             ...                       \n2019-12-25    Dec 25, 2019 - BOS @ TOR   W   35  ...   4   21     BOS @ TOR\n2019-12-22  Dec 22, 2019 - BOS vs. CHA   W   36  ...   1   10   BOS vs. CHA\n2019-12-20  Dec 20, 2019 - BOS vs. DET   W   27  ...   1   10   BOS vs. DET\n2019-12-18    Dec 18, 2019 - BOS @ DAL   W   37  ...   3   -2     BOS @ DAL\n2019-12-12  Dec 12, 2019 - BOS vs. PHI   L   34  ...   4   -2   BOS vs. PHI\n2019-12-11    Dec 11, 2019 - BOS @ IND   L   37  ...   2   -8     BOS @ IND\n2019-12-09  Dec 09, 2019 - BOS vs. CLE   W   30  ...   1   24   BOS vs. CLE\n2019-12-06  Dec 06, 2019 - BOS vs. DEN   W   30  ...   1   14   BOS vs. DEN\n2019-12-04  Dec 04, 2019 - BOS vs. MIA   W   34  ...   2   31   BOS vs. MIA\n2019-12-01    Dec 01, 2019 - BOS @ NYK   W   37  ...   4   11     BOS @ NYK\n2019-11-29    Nov 29, 2019 - BOS @ BKN   L   37  ...   0   13     BOS @ BKN\n2019-11-27  Nov 27, 2019 - BOS vs. BKN   W   35  ...   2   11   BOS vs. BKN\n2019-11-25  Nov 25, 2019 - BOS vs. SAC   W   34  ...   4    4   BOS vs. SAC\n2019-11-22    Nov 22, 2019 - BOS @ DEN   L   32  ...   1  -23     BOS @ DEN\n2019-11-20    Nov 20, 2019 - BOS @ LAC   L   41  ...   4   -6     BOS @ LAC\n2019-11-18    Nov 18, 2019 - BOS @ PHX   W   27  ...   3    8     BOS @ PHX\n2019-11-17    Nov 17, 2019 - BOS @ SAC   L   30  ...   0   12     BOS @ SAC\n2019-11-15    Nov 15, 2019 - BOS @ GSW   W   38  ...   3    6     BOS @ GSW\n2019-11-13  Nov 13, 2019 - BOS vs. WAS   W   35  ...   3   14   BOS vs. WAS\n2019-11-11  Nov 11, 2019 - BOS vs. DAL   W   35  ...   3   16   BOS vs. DAL\n2019-11-09    Nov 09, 2019 - BOS @ SAS   W   34  ...   3   23     BOS @ SAS\n2019-11-07    Nov 07, 2019 - BOS @ CHA   W   29  ...   0   13     BOS @ CHA\n2019-11-05    Nov 05, 2019 - BOS @ CLE   W   34  ...   1    9     BOS @ CLE\n2019-11-01  Nov 01, 2019 - BOS vs. NYK   W   34  ...   4   12   BOS vs. NYK\n2019-10-30  Oct 30, 2019 - BOS vs. MIL   W   39  ...   5   16   BOS vs. MIL\n2019-10-26    Oct 26, 2019 - BOS @ NYK   W   34  ...   3   20     BOS @ NYK\n2019-10-25  Oct 25, 2019 - BOS vs. TOR   W   35  ...   0    9   BOS vs. TOR\n2019-10-23    Oct 23, 2019 - BOS @ PHI   L   37  ...   2   -4     BOS @ PHI\n\n[28 rows x 23 columns]"
     },
     "execution_count": 40,
     "metadata": {},
     "output_type": "execute_result"
    }
   ],
   "source": [
    "df_list[0]"
   ]
  },
  {
   "cell_type": "code",
   "execution_count": 41,
   "metadata": {},
   "outputs": [
    {
     "data": {
      "text/html": "<div>\n<style scoped>\n    .dataframe tbody tr th:only-of-type {\n        vertical-align: middle;\n    }\n\n    .dataframe tbody tr th {\n        vertical-align: top;\n    }\n\n    .dataframe thead th {\n        text-align: right;\n    }\n</style>\n<table border=\"1\" class=\"dataframe\">\n  <thead>\n    <tr style=\"text-align: right;\">\n      <th></th>\n      <th>Match Up</th>\n      <th>W/L</th>\n      <th>MIN</th>\n      <th>PTS</th>\n      <th>FGM</th>\n      <th>FGA</th>\n      <th>FG%</th>\n      <th>3PM</th>\n      <th>3PA</th>\n      <th>3P%</th>\n      <th>FTM</th>\n      <th>FTA</th>\n      <th>FT%</th>\n      <th>OREB</th>\n      <th>DREB</th>\n      <th>REB</th>\n      <th>AST</th>\n      <th>STL</th>\n      <th>BLK</th>\n      <th>TOV</th>\n      <th>PF</th>\n      <th>+/-</th>\n      <th>teams</th>\n    </tr>\n    <tr>\n      <th>date</th>\n      <th></th>\n      <th></th>\n      <th></th>\n      <th></th>\n      <th></th>\n      <th></th>\n      <th></th>\n      <th></th>\n      <th></th>\n      <th></th>\n      <th></th>\n      <th></th>\n      <th></th>\n      <th></th>\n      <th></th>\n      <th></th>\n      <th></th>\n      <th></th>\n      <th></th>\n      <th></th>\n      <th></th>\n      <th></th>\n      <th></th>\n    </tr>\n  </thead>\n  <tbody>\n    <tr>\n      <td>2019-12-25</td>\n      <td>Dec 25, 2019 - BOS @ TOR</td>\n      <td>W</td>\n      <td>35</td>\n      <td>11</td>\n      <td>5</td>\n      <td>18</td>\n      <td>27.8</td>\n      <td>1</td>\n      <td>3</td>\n      <td>33.3</td>\n      <td>0</td>\n      <td>0</td>\n      <td>0.0</td>\n      <td>4</td>\n      <td>5</td>\n      <td>9</td>\n      <td>6</td>\n      <td>2</td>\n      <td>0</td>\n      <td>3</td>\n      <td>4</td>\n      <td>21</td>\n      <td>BOS @ TOR</td>\n    </tr>\n    <tr>\n      <td>2019-12-22</td>\n      <td>Dec 22, 2019 - BOS vs. CHA</td>\n      <td>W</td>\n      <td>36</td>\n      <td>39</td>\n      <td>15</td>\n      <td>29</td>\n      <td>51.7</td>\n      <td>4</td>\n      <td>9</td>\n      <td>44.4</td>\n      <td>5</td>\n      <td>5</td>\n      <td>100.0</td>\n      <td>1</td>\n      <td>11</td>\n      <td>12</td>\n      <td>2</td>\n      <td>1</td>\n      <td>3</td>\n      <td>2</td>\n      <td>1</td>\n      <td>10</td>\n      <td>BOS vs. CHA</td>\n    </tr>\n    <tr>\n      <td>2019-12-20</td>\n      <td>Dec 20, 2019 - BOS vs. DET</td>\n      <td>W</td>\n      <td>27</td>\n      <td>26</td>\n      <td>10</td>\n      <td>17</td>\n      <td>58.8</td>\n      <td>2</td>\n      <td>7</td>\n      <td>28.6</td>\n      <td>4</td>\n      <td>4</td>\n      <td>100.0</td>\n      <td>0</td>\n      <td>5</td>\n      <td>5</td>\n      <td>3</td>\n      <td>2</td>\n      <td>0</td>\n      <td>0</td>\n      <td>1</td>\n      <td>10</td>\n      <td>BOS vs. DET</td>\n    </tr>\n    <tr>\n      <td>2019-12-18</td>\n      <td>Dec 18, 2019 - BOS @ DAL</td>\n      <td>W</td>\n      <td>37</td>\n      <td>24</td>\n      <td>10</td>\n      <td>23</td>\n      <td>43.5</td>\n      <td>2</td>\n      <td>10</td>\n      <td>20.0</td>\n      <td>2</td>\n      <td>3</td>\n      <td>66.7</td>\n      <td>2</td>\n      <td>6</td>\n      <td>8</td>\n      <td>1</td>\n      <td>0</td>\n      <td>1</td>\n      <td>3</td>\n      <td>3</td>\n      <td>-2</td>\n      <td>BOS @ DAL</td>\n    </tr>\n    <tr>\n      <td>2019-12-12</td>\n      <td>Dec 12, 2019 - BOS vs. PHI</td>\n      <td>L</td>\n      <td>34</td>\n      <td>15</td>\n      <td>5</td>\n      <td>18</td>\n      <td>27.8</td>\n      <td>3</td>\n      <td>8</td>\n      <td>37.5</td>\n      <td>2</td>\n      <td>2</td>\n      <td>100.0</td>\n      <td>1</td>\n      <td>2</td>\n      <td>3</td>\n      <td>4</td>\n      <td>0</td>\n      <td>1</td>\n      <td>1</td>\n      <td>4</td>\n      <td>-2</td>\n      <td>BOS vs. PHI</td>\n    </tr>\n    <tr>\n      <td>...</td>\n      <td>...</td>\n      <td>...</td>\n      <td>...</td>\n      <td>...</td>\n      <td>...</td>\n      <td>...</td>\n      <td>...</td>\n      <td>...</td>\n      <td>...</td>\n      <td>...</td>\n      <td>...</td>\n      <td>...</td>\n      <td>...</td>\n      <td>...</td>\n      <td>...</td>\n      <td>...</td>\n      <td>...</td>\n      <td>...</td>\n      <td>...</td>\n      <td>...</td>\n      <td>...</td>\n      <td>...</td>\n      <td>...</td>\n    </tr>\n    <tr>\n      <td>2017-12-21</td>\n      <td>Dec 21, 2017 - BOS @ NYK</td>\n      <td>L</td>\n      <td>34</td>\n      <td>17</td>\n      <td>6</td>\n      <td>10</td>\n      <td>60.0</td>\n      <td>2</td>\n      <td>6</td>\n      <td>33.3</td>\n      <td>3</td>\n      <td>4</td>\n      <td>75.0</td>\n      <td>1</td>\n      <td>2</td>\n      <td>3</td>\n      <td>0</td>\n      <td>2</td>\n      <td>0</td>\n      <td>3</td>\n      <td>1</td>\n      <td>-6</td>\n      <td>BOS @ NYK</td>\n    </tr>\n    <tr>\n      <td>2017-12-20</td>\n      <td>Dec 20, 2017 - BOS vs. MIA</td>\n      <td>L</td>\n      <td>28</td>\n      <td>11</td>\n      <td>4</td>\n      <td>9</td>\n      <td>44.4</td>\n      <td>0</td>\n      <td>2</td>\n      <td>0.0</td>\n      <td>3</td>\n      <td>4</td>\n      <td>75.0</td>\n      <td>0</td>\n      <td>7</td>\n      <td>7</td>\n      <td>2</td>\n      <td>0</td>\n      <td>1</td>\n      <td>1</td>\n      <td>2</td>\n      <td>3</td>\n      <td>BOS vs. MIA</td>\n    </tr>\n    <tr>\n      <td>2017-12-18</td>\n      <td>Dec 18, 2017 - BOS @ IND</td>\n      <td>W</td>\n      <td>31</td>\n      <td>16</td>\n      <td>6</td>\n      <td>8</td>\n      <td>75.0</td>\n      <td>1</td>\n      <td>1</td>\n      <td>100.0</td>\n      <td>3</td>\n      <td>3</td>\n      <td>100.0</td>\n      <td>0</td>\n      <td>5</td>\n      <td>5</td>\n      <td>4</td>\n      <td>1</td>\n      <td>1</td>\n      <td>2</td>\n      <td>3</td>\n      <td>6</td>\n      <td>BOS @ IND</td>\n    </tr>\n    <tr>\n      <td>2017-12-16</td>\n      <td>Dec 16, 2017 - BOS @ MEM</td>\n      <td>W</td>\n      <td>34</td>\n      <td>19</td>\n      <td>7</td>\n      <td>13</td>\n      <td>53.8</td>\n      <td>2</td>\n      <td>2</td>\n      <td>100.0</td>\n      <td>3</td>\n      <td>3</td>\n      <td>100.0</td>\n      <td>6</td>\n      <td>4</td>\n      <td>10</td>\n      <td>1</td>\n      <td>2</td>\n      <td>2</td>\n      <td>0</td>\n      <td>1</td>\n      <td>21</td>\n      <td>BOS @ MEM</td>\n    </tr>\n    <tr>\n      <td>2017-12-15</td>\n      <td>Dec 15, 2017 - BOS vs. UTA</td>\n      <td>L</td>\n      <td>26</td>\n      <td>7</td>\n      <td>1</td>\n      <td>6</td>\n      <td>16.7</td>\n      <td>1</td>\n      <td>3</td>\n      <td>33.3</td>\n      <td>4</td>\n      <td>4</td>\n      <td>100.0</td>\n      <td>0</td>\n      <td>4</td>\n      <td>4</td>\n      <td>2</td>\n      <td>0</td>\n      <td>0</td>\n      <td>1</td>\n      <td>4</td>\n      <td>-7</td>\n      <td>BOS vs. UTA</td>\n    </tr>\n  </tbody>\n</table>\n<p>128 rows × 23 columns</p>\n</div>",
      "text/plain": "                              Match Up W/L  MIN  ...  PF  +/-         teams\ndate                                             ...                       \n2019-12-25    Dec 25, 2019 - BOS @ TOR   W   35  ...   4   21     BOS @ TOR\n2019-12-22  Dec 22, 2019 - BOS vs. CHA   W   36  ...   1   10   BOS vs. CHA\n2019-12-20  Dec 20, 2019 - BOS vs. DET   W   27  ...   1   10   BOS vs. DET\n2019-12-18    Dec 18, 2019 - BOS @ DAL   W   37  ...   3   -2     BOS @ DAL\n2019-12-12  Dec 12, 2019 - BOS vs. PHI   L   34  ...   4   -2   BOS vs. PHI\n...                                ...  ..  ...  ...  ..  ...           ...\n2017-12-21    Dec 21, 2017 - BOS @ NYK   L   34  ...   1   -6     BOS @ NYK\n2017-12-20  Dec 20, 2017 - BOS vs. MIA   L   28  ...   2    3   BOS vs. MIA\n2017-12-18    Dec 18, 2017 - BOS @ IND   W   31  ...   3    6     BOS @ IND\n2017-12-16    Dec 16, 2017 - BOS @ MEM   W   34  ...   1   21     BOS @ MEM\n2017-12-15  Dec 15, 2017 - BOS vs. UTA   L   26  ...   4   -7   BOS vs. UTA\n\n[128 rows x 23 columns]"
     },
     "execution_count": 41,
     "metadata": {},
     "output_type": "execute_result"
    }
   ],
   "source": [
    "df_combined = pd.concat(df_list,axis=0)\n",
    "df_combined"
   ]
  },
  {
   "cell_type": "code",
   "execution_count": 48,
   "metadata": {},
   "outputs": [
    {
     "name": "stdout",
     "output_type": "stream",
     "text": "Reloading...\n\n"
    },
    {
     "data": {
      "text/html": "<div>\n<style scoped>\n    .dataframe tbody tr th:only-of-type {\n        vertical-align: middle;\n    }\n\n    .dataframe tbody tr th {\n        vertical-align: top;\n    }\n\n    .dataframe thead th {\n        text-align: right;\n    }\n</style>\n<table border=\"1\" class=\"dataframe\">\n  <thead>\n    <tr style=\"text-align: right;\">\n      <th></th>\n      <th>Match Up</th>\n      <th>W/L</th>\n      <th>MIN</th>\n      <th>PTS</th>\n      <th>FGM</th>\n      <th>FGA</th>\n      <th>FG%</th>\n      <th>3PM</th>\n      <th>3PA</th>\n      <th>3P%</th>\n      <th>FTM</th>\n      <th>FTA</th>\n      <th>FT%</th>\n      <th>OREB</th>\n      <th>DREB</th>\n      <th>REB</th>\n      <th>AST</th>\n      <th>STL</th>\n      <th>BLK</th>\n      <th>TOV</th>\n      <th>PF</th>\n      <th>+/-</th>\n      <th>teams</th>\n      <th>player_id</th>\n    </tr>\n    <tr>\n      <th>date</th>\n      <th></th>\n      <th></th>\n      <th></th>\n      <th></th>\n      <th></th>\n      <th></th>\n      <th></th>\n      <th></th>\n      <th></th>\n      <th></th>\n      <th></th>\n      <th></th>\n      <th></th>\n      <th></th>\n      <th></th>\n      <th></th>\n      <th></th>\n      <th></th>\n      <th></th>\n      <th></th>\n      <th></th>\n      <th></th>\n      <th></th>\n      <th></th>\n    </tr>\n  </thead>\n  <tbody>\n    <tr>\n      <td>2019-12-25</td>\n      <td>Dec 25, 2019 - BOS @ TOR</td>\n      <td>W</td>\n      <td>35</td>\n      <td>11</td>\n      <td>5</td>\n      <td>18</td>\n      <td>27.8</td>\n      <td>1</td>\n      <td>3</td>\n      <td>33.3</td>\n      <td>0</td>\n      <td>0</td>\n      <td>0.0</td>\n      <td>4</td>\n      <td>5</td>\n      <td>9</td>\n      <td>6</td>\n      <td>2</td>\n      <td>0</td>\n      <td>3</td>\n      <td>4</td>\n      <td>21</td>\n      <td>BOS @ TOR</td>\n      <td>1628369</td>\n    </tr>\n    <tr>\n      <td>2019-12-22</td>\n      <td>Dec 22, 2019 - BOS vs. CHA</td>\n      <td>W</td>\n      <td>36</td>\n      <td>39</td>\n      <td>15</td>\n      <td>29</td>\n      <td>51.7</td>\n      <td>4</td>\n      <td>9</td>\n      <td>44.4</td>\n      <td>5</td>\n      <td>5</td>\n      <td>100.0</td>\n      <td>1</td>\n      <td>11</td>\n      <td>12</td>\n      <td>2</td>\n      <td>1</td>\n      <td>3</td>\n      <td>2</td>\n      <td>1</td>\n      <td>10</td>\n      <td>BOS vs. CHA</td>\n      <td>1628369</td>\n    </tr>\n    <tr>\n      <td>2019-12-20</td>\n      <td>Dec 20, 2019 - BOS vs. DET</td>\n      <td>W</td>\n      <td>27</td>\n      <td>26</td>\n      <td>10</td>\n      <td>17</td>\n      <td>58.8</td>\n      <td>2</td>\n      <td>7</td>\n      <td>28.6</td>\n      <td>4</td>\n      <td>4</td>\n      <td>100.0</td>\n      <td>0</td>\n      <td>5</td>\n      <td>5</td>\n      <td>3</td>\n      <td>2</td>\n      <td>0</td>\n      <td>0</td>\n      <td>1</td>\n      <td>10</td>\n      <td>BOS vs. DET</td>\n      <td>1628369</td>\n    </tr>\n    <tr>\n      <td>2019-12-18</td>\n      <td>Dec 18, 2019 - BOS @ DAL</td>\n      <td>W</td>\n      <td>37</td>\n      <td>24</td>\n      <td>10</td>\n      <td>23</td>\n      <td>43.5</td>\n      <td>2</td>\n      <td>10</td>\n      <td>20.0</td>\n      <td>2</td>\n      <td>3</td>\n      <td>66.7</td>\n      <td>2</td>\n      <td>6</td>\n      <td>8</td>\n      <td>1</td>\n      <td>0</td>\n      <td>1</td>\n      <td>3</td>\n      <td>3</td>\n      <td>-2</td>\n      <td>BOS @ DAL</td>\n      <td>1628369</td>\n    </tr>\n    <tr>\n      <td>2019-12-12</td>\n      <td>Dec 12, 2019 - BOS vs. PHI</td>\n      <td>L</td>\n      <td>34</td>\n      <td>15</td>\n      <td>5</td>\n      <td>18</td>\n      <td>27.8</td>\n      <td>3</td>\n      <td>8</td>\n      <td>37.5</td>\n      <td>2</td>\n      <td>2</td>\n      <td>100.0</td>\n      <td>1</td>\n      <td>2</td>\n      <td>3</td>\n      <td>4</td>\n      <td>0</td>\n      <td>1</td>\n      <td>1</td>\n      <td>4</td>\n      <td>-2</td>\n      <td>BOS vs. PHI</td>\n      <td>1628369</td>\n    </tr>\n  </tbody>\n</table>\n</div>",
      "text/plain": "                              Match Up W/L  MIN  ...  +/-         teams  player_id\ndate                                             ...                              \n2019-12-25    Dec 25, 2019 - BOS @ TOR   W   35  ...   21     BOS @ TOR    1628369\n2019-12-22  Dec 22, 2019 - BOS vs. CHA   W   36  ...   10   BOS vs. CHA    1628369\n2019-12-20  Dec 20, 2019 - BOS vs. DET   W   27  ...   10   BOS vs. DET    1628369\n2019-12-18    Dec 18, 2019 - BOS @ DAL   W   37  ...   -2     BOS @ DAL    1628369\n2019-12-12  Dec 12, 2019 - BOS vs. PHI   L   34  ...   -2   BOS vs. PHI    1628369\n\n[5 rows x 24 columns]"
     },
     "metadata": {},
     "output_type": "display_data"
    },
    {
     "data": {
      "text/html": "<div>\n<style scoped>\n    .dataframe tbody tr th:only-of-type {\n        vertical-align: middle;\n    }\n\n    .dataframe tbody tr th {\n        vertical-align: top;\n    }\n\n    .dataframe thead th {\n        text-align: right;\n    }\n</style>\n<table border=\"1\" class=\"dataframe\">\n  <thead>\n    <tr style=\"text-align: right;\">\n      <th></th>\n      <th>Match Up</th>\n      <th>W/L</th>\n      <th>MIN</th>\n      <th>PTS</th>\n      <th>FGM</th>\n      <th>FGA</th>\n      <th>FG%</th>\n      <th>3PM</th>\n      <th>3PA</th>\n      <th>3P%</th>\n      <th>FTM</th>\n      <th>FTA</th>\n      <th>FT%</th>\n      <th>OREB</th>\n      <th>DREB</th>\n      <th>REB</th>\n      <th>AST</th>\n      <th>STL</th>\n      <th>BLK</th>\n      <th>TOV</th>\n      <th>PF</th>\n      <th>+/-</th>\n      <th>teams</th>\n      <th>player_id</th>\n    </tr>\n    <tr>\n      <th>date</th>\n      <th></th>\n      <th></th>\n      <th></th>\n      <th></th>\n      <th></th>\n      <th></th>\n      <th></th>\n      <th></th>\n      <th></th>\n      <th></th>\n      <th></th>\n      <th></th>\n      <th></th>\n      <th></th>\n      <th></th>\n      <th></th>\n      <th></th>\n      <th></th>\n      <th></th>\n      <th></th>\n      <th></th>\n      <th></th>\n      <th></th>\n      <th></th>\n    </tr>\n  </thead>\n  <tbody>\n    <tr>\n      <td>2017-12-21</td>\n      <td>Dec 21, 2017 - BOS @ NYK</td>\n      <td>L</td>\n      <td>34</td>\n      <td>17</td>\n      <td>6</td>\n      <td>10</td>\n      <td>60.0</td>\n      <td>2</td>\n      <td>6</td>\n      <td>33.3</td>\n      <td>3</td>\n      <td>4</td>\n      <td>75.0</td>\n      <td>1</td>\n      <td>2</td>\n      <td>3</td>\n      <td>0</td>\n      <td>2</td>\n      <td>0</td>\n      <td>3</td>\n      <td>1</td>\n      <td>-6</td>\n      <td>BOS @ NYK</td>\n      <td>1628369</td>\n    </tr>\n    <tr>\n      <td>2017-12-20</td>\n      <td>Dec 20, 2017 - BOS vs. MIA</td>\n      <td>L</td>\n      <td>28</td>\n      <td>11</td>\n      <td>4</td>\n      <td>9</td>\n      <td>44.4</td>\n      <td>0</td>\n      <td>2</td>\n      <td>0.0</td>\n      <td>3</td>\n      <td>4</td>\n      <td>75.0</td>\n      <td>0</td>\n      <td>7</td>\n      <td>7</td>\n      <td>2</td>\n      <td>0</td>\n      <td>1</td>\n      <td>1</td>\n      <td>2</td>\n      <td>3</td>\n      <td>BOS vs. MIA</td>\n      <td>1628369</td>\n    </tr>\n    <tr>\n      <td>2017-12-18</td>\n      <td>Dec 18, 2017 - BOS @ IND</td>\n      <td>W</td>\n      <td>31</td>\n      <td>16</td>\n      <td>6</td>\n      <td>8</td>\n      <td>75.0</td>\n      <td>1</td>\n      <td>1</td>\n      <td>100.0</td>\n      <td>3</td>\n      <td>3</td>\n      <td>100.0</td>\n      <td>0</td>\n      <td>5</td>\n      <td>5</td>\n      <td>4</td>\n      <td>1</td>\n      <td>1</td>\n      <td>2</td>\n      <td>3</td>\n      <td>6</td>\n      <td>BOS @ IND</td>\n      <td>1628369</td>\n    </tr>\n    <tr>\n      <td>2017-12-16</td>\n      <td>Dec 16, 2017 - BOS @ MEM</td>\n      <td>W</td>\n      <td>34</td>\n      <td>19</td>\n      <td>7</td>\n      <td>13</td>\n      <td>53.8</td>\n      <td>2</td>\n      <td>2</td>\n      <td>100.0</td>\n      <td>3</td>\n      <td>3</td>\n      <td>100.0</td>\n      <td>6</td>\n      <td>4</td>\n      <td>10</td>\n      <td>1</td>\n      <td>2</td>\n      <td>2</td>\n      <td>0</td>\n      <td>1</td>\n      <td>21</td>\n      <td>BOS @ MEM</td>\n      <td>1628369</td>\n    </tr>\n    <tr>\n      <td>2017-12-15</td>\n      <td>Dec 15, 2017 - BOS vs. UTA</td>\n      <td>L</td>\n      <td>26</td>\n      <td>7</td>\n      <td>1</td>\n      <td>6</td>\n      <td>16.7</td>\n      <td>1</td>\n      <td>3</td>\n      <td>33.3</td>\n      <td>4</td>\n      <td>4</td>\n      <td>100.0</td>\n      <td>0</td>\n      <td>4</td>\n      <td>4</td>\n      <td>2</td>\n      <td>0</td>\n      <td>0</td>\n      <td>1</td>\n      <td>4</td>\n      <td>-7</td>\n      <td>BOS vs. UTA</td>\n      <td>1628369</td>\n    </tr>\n  </tbody>\n</table>\n</div>",
      "text/plain": "                              Match Up W/L  MIN  ...  +/-         teams  player_id\ndate                                             ...                              \n2017-12-21    Dec 21, 2017 - BOS @ NYK   L   34  ...   -6     BOS @ NYK    1628369\n2017-12-20  Dec 20, 2017 - BOS vs. MIA   L   28  ...    3   BOS vs. MIA    1628369\n2017-12-18    Dec 18, 2017 - BOS @ IND   W   31  ...    6     BOS @ IND    1628369\n2017-12-16    Dec 16, 2017 - BOS @ MEM   W   34  ...   21     BOS @ MEM    1628369\n2017-12-15  Dec 15, 2017 - BOS vs. UTA   L   26  ...   -7   BOS vs. UTA    1628369\n\n[5 rows x 24 columns]"
     },
     "metadata": {},
     "output_type": "display_data"
    }
   ],
   "source": [
    "fs.reload(ns)\n",
    "df_full = ns.get_all_seasons_df(player_id=1628369)\n",
    "display(df_full.head(),df_full.tail())"
   ]
  },
  {
   "cell_type": "code",
   "execution_count": 44,
   "metadata": {},
   "outputs": [
    {
     "data": {
      "text/plain": "['https://stats.nba.com/player/1628369/boxscores-traditional/?Season=2019-20&SeasonType=Regular%20Season',\n 'https://stats.nba.com/player/1628369/boxscores-traditional/?Season=2018-19&SeasonType=Regular%20Season',\n 'https://stats.nba.com/player/1628369/boxscores-traditional/?Season=2017-18&SeasonType=Regular%20Season']"
     },
     "execution_count": 44,
     "metadata": {},
     "output_type": "execute_result"
    }
   ],
   "source": [
    "season_urls"
   ]
  },
  {
   "cell_type": "code",
   "execution_count": 47,
   "metadata": {},
   "outputs": [
    {
     "data": {
      "text/plain": "'1628369'"
     },
     "execution_count": 47,
     "metadata": {},
     "output_type": "execute_result"
    }
   ],
   "source": [
    "season_urls[0].split('/')[4]"
   ]
  },
  {
   "cell_type": "markdown",
   "execution_count": 49,
   "metadata": {},
   "outputs": [
    {
     "data": {
      "text/html": "<div>\n<style scoped>\n    .dataframe tbody tr th:only-of-type {\n        vertical-align: middle;\n    }\n\n    .dataframe tbody tr th {\n        vertical-align: top;\n    }\n\n    .dataframe thead th {\n        text-align: right;\n    }\n</style>\n<table border=\"1\" class=\"dataframe\">\n  <thead>\n    <tr style=\"text-align: right;\">\n      <th></th>\n      <th>W/L</th>\n      <th>Win/Loss</th>\n      <th>MIN</th>\n      <th>Minutes</th>\n      <th>Played</th>\n      <th>PTS</th>\n      <th>Points</th>\n      <th>FGM</th>\n      <th>Field</th>\n      <th>Goals</th>\n      <th>Made</th>\n      <th>FGA</th>\n      <th>Field.1</th>\n      <th>Goals.1</th>\n      <th>Attempted</th>\n      <th>FG%</th>\n      <th>Field.2</th>\n      <th>Goal</th>\n      <th>Percentage</th>\n      <th>3PM</th>\n      <th>3</th>\n      <th>Point</th>\n      <th>Field.3</th>\n      <th>Goals.2</th>\n      <th>Made.1</th>\n      <th>3PA</th>\n      <th>3.1</th>\n      <th>Point.1</th>\n      <th>Field.4</th>\n      <th>Goals.3</th>\n      <th>Attempted.1</th>\n      <th>3P%</th>\n      <th>3.2</th>\n      <th>Point.2</th>\n      <th>Field.5</th>\n      <th>Goals.4</th>\n      <th>Percentage.1</th>\n      <th>FTM</th>\n      <th>Free</th>\n      <th>Throws</th>\n      <th>Made.2</th>\n      <th>FTA</th>\n      <th>Free.1</th>\n      <th>Throws.1</th>\n      <th>Attempted.2</th>\n      <th>FT%</th>\n      <th>Free.2</th>\n      <th>Throw</th>\n      <th>Percentage.2</th>\n      <th>OREB</th>\n      <th>Offensive</th>\n      <th>Rebounds</th>\n      <th>DREB</th>\n      <th>Defensive</th>\n      <th>Rebounds.1</th>\n      <th>REB</th>\n      <th>Rebounds.2</th>\n      <th>AST</th>\n      <th>Assists</th>\n      <th>STL</th>\n      <th>Steals</th>\n      <th>BLK</th>\n      <th>Blocks</th>\n      <th>TOV</th>\n      <th>Turnovers</th>\n      <th>PF</th>\n      <th>Personal</th>\n      <th>Fouls</th>\n      <th>+/-</th>\n      <th>Plus-Minus</th>\n    </tr>\n  </thead>\n  <tbody>\n  </tbody>\n</table>\n</div>",
      "text/plain": "Empty DataFrame\nColumns: [W/L, Win/Loss, MIN, Minutes, Played, PTS, Points, FGM, Field, Goals, Made, FGA, Field.1, Goals.1, Attempted, FG%, Field.2, Goal, Percentage, 3PM, 3, Point, Field.3, Goals.2, Made.1, 3PA, 3.1, Point.1, Field.4, Goals.3, Attempted.1, 3P%, 3.2, Point.2, Field.5, Goals.4, Percentage.1, FTM, Free, Throws, Made.2, FTA, Free.1, Throws.1, Attempted.2, FT%, Free.2, Throw, Percentage.2, OREB, Offensive, Rebounds, DREB, Defensive, Rebounds.1, REB, Rebounds.2, AST, Assists, STL, Steals, BLK, Blocks, TOV, Turnovers, PF, Personal, Fouls, +/-, Plus-Minus]\nIndex: []"
     },
     "execution_count": 49,
     "metadata": {},
     "output_type": "execute_result"
    }
   ],
   "source": [
    "# SAVING COPIED MARKDOWN TABLES TO CSVS"
   ]
  },
  {
   "cell_type": "code",
   "execution_count": 66,
   "metadata": {},
   "outputs": [],
   "source": [
    "# df_nba_stats_glossary = pd.read_clipboard(sep='|')"
   ]
  },
  {
   "cell_type": "code",
   "execution_count": 67,
   "metadata": {},
   "outputs": [],
   "source": [
    "# df_nba_stats_glossary.columns = [col.strip() for col in df_nba_stats_glossary.columns]"
   ]
  },
  {
   "cell_type": "code",
   "execution_count": 59,
   "metadata": {},
   "outputs": [],
   "source": [
    "# df_nba_stats_glossary = df_nba_stats_glossary[['COLUMN','MEANING']]"
   ]
  },
  {
   "cell_type": "code",
   "execution_count": 68,
   "metadata": {},
   "outputs": [],
   "source": [
    "# df_nba_stats_glossary.drop(0,inplace=True)\n",
    "# df_nba_stats_glossary"
   ]
  },
  {
   "cell_type": "code",
   "execution_count": 70,
   "metadata": {},
   "outputs": [
    {
     "data": {
      "text/html": "<div>\n<style scoped>\n    .dataframe tbody tr th:only-of-type {\n        vertical-align: middle;\n    }\n\n    .dataframe tbody tr th {\n        vertical-align: top;\n    }\n\n    .dataframe thead th {\n        text-align: right;\n    }\n</style>\n<table border=\"1\" class=\"dataframe\">\n  <thead>\n    <tr style=\"text-align: right;\">\n      <th></th>\n      <th>COLUMN</th>\n      <th>MEANING</th>\n    </tr>\n  </thead>\n  <tbody>\n    <tr>\n      <td>1</td>\n      <td>W/L</td>\n      <td>Win/Loss</td>\n    </tr>\n    <tr>\n      <td>2</td>\n      <td>MIN</td>\n      <td>Minutes Played</td>\n    </tr>\n    <tr>\n      <td>3</td>\n      <td>PTS</td>\n      <td>Points</td>\n    </tr>\n    <tr>\n      <td>4</td>\n      <td>FGM</td>\n      <td>Field Goals Made</td>\n    </tr>\n    <tr>\n      <td>5</td>\n      <td>FGA</td>\n      <td>Field Goals Attempted</td>\n    </tr>\n    <tr>\n      <td>6</td>\n      <td>FG%</td>\n      <td>Field Goal Percentage</td>\n    </tr>\n    <tr>\n      <td>7</td>\n      <td>3PM</td>\n      <td>3 Point Field Goals Made</td>\n    </tr>\n    <tr>\n      <td>8</td>\n      <td>3PA</td>\n      <td>3 Point Field Goals Attempted</td>\n    </tr>\n    <tr>\n      <td>9</td>\n      <td>3P%</td>\n      <td>3 Point Field Goals Percentage</td>\n    </tr>\n    <tr>\n      <td>10</td>\n      <td>FTM</td>\n      <td>Free Throws Made</td>\n    </tr>\n    <tr>\n      <td>11</td>\n      <td>FTA</td>\n      <td>Free Throws Attempted</td>\n    </tr>\n    <tr>\n      <td>12</td>\n      <td>FT%</td>\n      <td>Free Throw Percentage</td>\n    </tr>\n    <tr>\n      <td>13</td>\n      <td>OREB</td>\n      <td>Offensive Rebounds</td>\n    </tr>\n    <tr>\n      <td>14</td>\n      <td>DREB</td>\n      <td>Defensive Rebounds</td>\n    </tr>\n    <tr>\n      <td>15</td>\n      <td>REB</td>\n      <td>Rebounds</td>\n    </tr>\n    <tr>\n      <td>16</td>\n      <td>AST</td>\n      <td>Assists</td>\n    </tr>\n    <tr>\n      <td>17</td>\n      <td>STL</td>\n      <td>Steals</td>\n    </tr>\n    <tr>\n      <td>18</td>\n      <td>BLK</td>\n      <td>Blocks</td>\n    </tr>\n    <tr>\n      <td>19</td>\n      <td>TOV</td>\n      <td>Turnovers</td>\n    </tr>\n    <tr>\n      <td>20</td>\n      <td>PF</td>\n      <td>Personal Fouls</td>\n    </tr>\n    <tr>\n      <td>21</td>\n      <td>+/-</td>\n      <td>Plus-Minus</td>\n    </tr>\n  </tbody>\n</table>\n</div>",
      "text/plain": "   COLUMN                         MEANING\n1     W/L                        Win/Loss\n2     MIN                  Minutes Played\n3     PTS                          Points\n4     FGM                Field Goals Made\n5     FGA           Field Goals Attempted\n6     FG%           Field Goal Percentage\n7     3PM        3 Point Field Goals Made\n8     3PA   3 Point Field Goals Attempted\n9     3P%  3 Point Field Goals Percentage\n10    FTM                Free Throws Made\n11    FTA           Free Throws Attempted\n12    FT%           Free Throw Percentage\n13   OREB              Offensive Rebounds\n14   DREB              Defensive Rebounds\n15    REB                        Rebounds\n16    AST                         Assists\n17    STL                          Steals\n18    BLK                          Blocks\n19    TOV                       Turnovers\n20     PF                  Personal Fouls\n21    +/-                      Plus-Minus"
     },
     "execution_count": 70,
     "metadata": {},
     "output_type": "execute_result"
    }
   ],
   "source": [
    "# df_nba_stats_glossary.to_csv('nba_stats_glossary.csv')\n",
    "df_nba_stats_glossary=pd.read_csv('nba_stats_glossary.csv',index_col=0)\n",
    "df_nba_stats_glossary"
   ]
  },
  {
   "cell_type": "code",
   "execution_count": 64,
   "metadata": {},
   "outputs": [
    {
     "data": {
      "text/html": "<div>\n<style scoped>\n    .dataframe tbody tr th:only-of-type {\n        vertical-align: middle;\n    }\n\n    .dataframe tbody tr th {\n        vertical-align: top;\n    }\n\n    .dataframe thead th {\n        text-align: right;\n    }\n</style>\n<table border=\"1\" class=\"dataframe\">\n  <thead>\n    <tr style=\"text-align: right;\">\n      <th></th>\n      <th>STAT</th>\n      <th>PTS</th>\n    </tr>\n  </thead>\n  <tbody>\n    <tr>\n      <td>1</td>\n      <td>3PM</td>\n      <td>1</td>\n    </tr>\n    <tr>\n      <td>2</td>\n      <td>AST</td>\n      <td>1.5</td>\n    </tr>\n    <tr>\n      <td>3</td>\n      <td>BLK</td>\n      <td>3</td>\n    </tr>\n    <tr>\n      <td>4</td>\n      <td>FGM</td>\n      <td>2</td>\n    </tr>\n    <tr>\n      <td>5</td>\n      <td>FTM</td>\n      <td>1</td>\n    </tr>\n    <tr>\n      <td>6</td>\n      <td>REB</td>\n      <td>1.2</td>\n    </tr>\n    <tr>\n      <td>7</td>\n      <td>STL</td>\n      <td>3</td>\n    </tr>\n    <tr>\n      <td>8</td>\n      <td>TOV</td>\n      <td>-1</td>\n    </tr>\n  </tbody>\n</table>\n</div>",
      "text/plain": "  STAT   PTS\n1  3PM     1\n2  AST   1.5\n3  BLK     3\n4  FGM     2\n5  FTM     1\n6  REB   1.2\n7  STL     3\n8  TOV    -1"
     },
     "execution_count": 64,
     "metadata": {},
     "output_type": "execute_result"
    }
   ],
   "source": [
    "# df_pts = pd.read_clipboard(sep='|')\n",
    "# df_pts.columns = [col.strip() for col in df_pts.columns]\n",
    "# df_pts.drop(0,inplace=True)\n",
    "# df_pts = df_pts[['STAT','PTS']]\n",
    "# df_pts"
   ]
  },
  {
   "cell_type": "code",
   "execution_count": 71,
   "metadata": {},
   "outputs": [
    {
     "data": {
      "text/html": "<div>\n<style scoped>\n    .dataframe tbody tr th:only-of-type {\n        vertical-align: middle;\n    }\n\n    .dataframe tbody tr th {\n        vertical-align: top;\n    }\n\n    .dataframe thead th {\n        text-align: right;\n    }\n</style>\n<table border=\"1\" class=\"dataframe\">\n  <thead>\n    <tr style=\"text-align: right;\">\n      <th></th>\n      <th>STAT</th>\n      <th>PTS</th>\n    </tr>\n  </thead>\n  <tbody>\n    <tr>\n      <td>1</td>\n      <td>3PM</td>\n      <td>1.0</td>\n    </tr>\n    <tr>\n      <td>2</td>\n      <td>AST</td>\n      <td>1.5</td>\n    </tr>\n    <tr>\n      <td>3</td>\n      <td>BLK</td>\n      <td>3.0</td>\n    </tr>\n    <tr>\n      <td>4</td>\n      <td>FGM</td>\n      <td>2.0</td>\n    </tr>\n    <tr>\n      <td>5</td>\n      <td>FTM</td>\n      <td>1.0</td>\n    </tr>\n    <tr>\n      <td>6</td>\n      <td>REB</td>\n      <td>1.2</td>\n    </tr>\n    <tr>\n      <td>7</td>\n      <td>STL</td>\n      <td>3.0</td>\n    </tr>\n    <tr>\n      <td>8</td>\n      <td>TOV</td>\n      <td>-1.0</td>\n    </tr>\n  </tbody>\n</table>\n</div>",
      "text/plain": "  STAT  PTS\n1  3PM  1.0\n2  AST  1.5\n3  BLK  3.0\n4  FGM  2.0\n5  FTM  1.0\n6  REB  1.2\n7  STL  3.0\n8  TOV -1.0"
     },
     "execution_count": 71,
     "metadata": {},
     "output_type": "execute_result"
    }
   ],
   "source": [
    "# df_pts.to_csv('fantasy_points_conversion.csv')\n",
    "df_pts = pd.read_csv('fantasy_points_conversion.csv',index_col=0)\n",
    "df_pts"
   ]
  },
  {
   "cell_type": "markdown",
   "execution_count": null,
   "metadata": {},
   "outputs": [],
   "source": [
    "## SAVING PLAYER CSV\n",
    "- Now in ns.save_player_df"
   ]
  },
  {
   "cell_type": "code",
   "execution_count": 92,
   "metadata": {},
   "outputs": [
    {
     "data": {
      "text/html": "<div>\n<style scoped>\n    .dataframe tbody tr th:only-of-type {\n        vertical-align: middle;\n    }\n\n    .dataframe tbody tr th {\n        vertical-align: top;\n    }\n\n    .dataframe thead th {\n        text-align: right;\n    }\n</style>\n<table border=\"1\" class=\"dataframe\">\n  <thead>\n    <tr style=\"text-align: right;\">\n      <th></th>\n      <th>Match Up</th>\n      <th>W/L</th>\n      <th>MIN</th>\n      <th>PTS</th>\n      <th>FGM</th>\n      <th>FGA</th>\n      <th>FG%</th>\n      <th>3PM</th>\n      <th>3PA</th>\n      <th>3P%</th>\n      <th>FTM</th>\n      <th>FTA</th>\n      <th>FT%</th>\n      <th>OREB</th>\n      <th>DREB</th>\n      <th>REB</th>\n      <th>AST</th>\n      <th>STL</th>\n      <th>BLK</th>\n      <th>TOV</th>\n      <th>PF</th>\n      <th>+/-</th>\n      <th>teams</th>\n      <th>player_id</th>\n    </tr>\n    <tr>\n      <th>date</th>\n      <th></th>\n      <th></th>\n      <th></th>\n      <th></th>\n      <th></th>\n      <th></th>\n      <th></th>\n      <th></th>\n      <th></th>\n      <th></th>\n      <th></th>\n      <th></th>\n      <th></th>\n      <th></th>\n      <th></th>\n      <th></th>\n      <th></th>\n      <th></th>\n      <th></th>\n      <th></th>\n      <th></th>\n      <th></th>\n      <th></th>\n      <th></th>\n    </tr>\n  </thead>\n  <tbody>\n    <tr>\n      <td>2019-12-25</td>\n      <td>Dec 25, 2019 - BOS @ TOR</td>\n      <td>W</td>\n      <td>35</td>\n      <td>11</td>\n      <td>5</td>\n      <td>18</td>\n      <td>27.8</td>\n      <td>1</td>\n      <td>3</td>\n      <td>33.3</td>\n      <td>0</td>\n      <td>0</td>\n      <td>0.0</td>\n      <td>4</td>\n      <td>5</td>\n      <td>9</td>\n      <td>6</td>\n      <td>2</td>\n      <td>0</td>\n      <td>3</td>\n      <td>4</td>\n      <td>21</td>\n      <td>BOS @ TOR</td>\n      <td>1628369</td>\n    </tr>\n    <tr>\n      <td>2019-12-22</td>\n      <td>Dec 22, 2019 - BOS vs. CHA</td>\n      <td>W</td>\n      <td>36</td>\n      <td>39</td>\n      <td>15</td>\n      <td>29</td>\n      <td>51.7</td>\n      <td>4</td>\n      <td>9</td>\n      <td>44.4</td>\n      <td>5</td>\n      <td>5</td>\n      <td>100.0</td>\n      <td>1</td>\n      <td>11</td>\n      <td>12</td>\n      <td>2</td>\n      <td>1</td>\n      <td>3</td>\n      <td>2</td>\n      <td>1</td>\n      <td>10</td>\n      <td>BOS vs. CHA</td>\n      <td>1628369</td>\n    </tr>\n    <tr>\n      <td>2019-12-20</td>\n      <td>Dec 20, 2019 - BOS vs. DET</td>\n      <td>W</td>\n      <td>27</td>\n      <td>26</td>\n      <td>10</td>\n      <td>17</td>\n      <td>58.8</td>\n      <td>2</td>\n      <td>7</td>\n      <td>28.6</td>\n      <td>4</td>\n      <td>4</td>\n      <td>100.0</td>\n      <td>0</td>\n      <td>5</td>\n      <td>5</td>\n      <td>3</td>\n      <td>2</td>\n      <td>0</td>\n      <td>0</td>\n      <td>1</td>\n      <td>10</td>\n      <td>BOS vs. DET</td>\n      <td>1628369</td>\n    </tr>\n    <tr>\n      <td>2019-12-18</td>\n      <td>Dec 18, 2019 - BOS @ DAL</td>\n      <td>W</td>\n      <td>37</td>\n      <td>24</td>\n      <td>10</td>\n      <td>23</td>\n      <td>43.5</td>\n      <td>2</td>\n      <td>10</td>\n      <td>20.0</td>\n      <td>2</td>\n      <td>3</td>\n      <td>66.7</td>\n      <td>2</td>\n      <td>6</td>\n      <td>8</td>\n      <td>1</td>\n      <td>0</td>\n      <td>1</td>\n      <td>3</td>\n      <td>3</td>\n      <td>-2</td>\n      <td>BOS @ DAL</td>\n      <td>1628369</td>\n    </tr>\n    <tr>\n      <td>2019-12-12</td>\n      <td>Dec 12, 2019 - BOS vs. PHI</td>\n      <td>L</td>\n      <td>34</td>\n      <td>15</td>\n      <td>5</td>\n      <td>18</td>\n      <td>27.8</td>\n      <td>3</td>\n      <td>8</td>\n      <td>37.5</td>\n      <td>2</td>\n      <td>2</td>\n      <td>100.0</td>\n      <td>1</td>\n      <td>2</td>\n      <td>3</td>\n      <td>4</td>\n      <td>0</td>\n      <td>1</td>\n      <td>1</td>\n      <td>4</td>\n      <td>-2</td>\n      <td>BOS vs. PHI</td>\n      <td>1628369</td>\n    </tr>\n  </tbody>\n</table>\n</div>",
      "text/plain": "                              Match Up W/L  MIN  ...  +/-         teams  player_id\ndate                                             ...                              \n2019-12-25    Dec 25, 2019 - BOS @ TOR   W   35  ...   21     BOS @ TOR    1628369\n2019-12-22  Dec 22, 2019 - BOS vs. CHA   W   36  ...   10   BOS vs. CHA    1628369\n2019-12-20  Dec 20, 2019 - BOS vs. DET   W   27  ...   10   BOS vs. DET    1628369\n2019-12-18    Dec 18, 2019 - BOS @ DAL   W   37  ...   -2     BOS @ DAL    1628369\n2019-12-12  Dec 12, 2019 - BOS vs. PHI   L   34  ...   -2   BOS vs. PHI    1628369\n\n[5 rows x 24 columns]"
     },
     "execution_count": 92,
     "metadata": {},
     "output_type": "execute_result"
    }
   ],
   "source": [
    "# import os,sys\n",
    "# print(os.listdir())\n",
    "# os.makedirs(\"data/players/\" ,exist_ok=True)\n",
    "# # print('\\n\\n',os.listdir('/data'))\n",
    "df_full.head()"
   ]
  },
  {
   "cell_type": "code",
   "execution_count": 91,
   "metadata": {},
   "outputs": [],
   "source": [
    "filename=f\"data/players/player_id_{df_full['player_id'][0]}.csv\"\n",
    "filename\n",
    "df_full.to_csv(filename)"
   ]
  },
  {
   "cell_type": "markdown",
   "execution_count": null,
   "metadata": {},
   "outputs": [],
   "source": [
    "# CALCULATING FANTASY POINTS"
   ]
  },
  {
   "cell_type": "code",
   "execution_count": 93,
   "metadata": {},
   "outputs": [
    {
     "data": {
      "text/html": "<div>\n<style scoped>\n    .dataframe tbody tr th:only-of-type {\n        vertical-align: middle;\n    }\n\n    .dataframe tbody tr th {\n        vertical-align: top;\n    }\n\n    .dataframe thead th {\n        text-align: right;\n    }\n</style>\n<table border=\"1\" class=\"dataframe\">\n  <thead>\n    <tr style=\"text-align: right;\">\n      <th></th>\n      <th>STAT</th>\n      <th>PTS</th>\n    </tr>\n  </thead>\n  <tbody>\n    <tr>\n      <td>1</td>\n      <td>3PM</td>\n      <td>1.0</td>\n    </tr>\n    <tr>\n      <td>2</td>\n      <td>AST</td>\n      <td>1.5</td>\n    </tr>\n    <tr>\n      <td>3</td>\n      <td>BLK</td>\n      <td>3.0</td>\n    </tr>\n    <tr>\n      <td>4</td>\n      <td>FGM</td>\n      <td>2.0</td>\n    </tr>\n    <tr>\n      <td>5</td>\n      <td>FTM</td>\n      <td>1.0</td>\n    </tr>\n    <tr>\n      <td>6</td>\n      <td>REB</td>\n      <td>1.2</td>\n    </tr>\n    <tr>\n      <td>7</td>\n      <td>STL</td>\n      <td>3.0</td>\n    </tr>\n    <tr>\n      <td>8</td>\n      <td>TOV</td>\n      <td>-1.0</td>\n    </tr>\n  </tbody>\n</table>\n</div>",
      "text/plain": "  STAT  PTS\n1  3PM  1.0\n2  AST  1.5\n3  BLK  3.0\n4  FGM  2.0\n5  FTM  1.0\n6  REB  1.2\n7  STL  3.0\n8  TOV -1.0"
     },
     "execution_count": 93,
     "metadata": {},
     "output_type": "execute_result"
    }
   ],
   "source": [
    "points = pd.read_csv('fantasy_points_conversion.csv',index_col=0)\n",
    "points"
   ]
  },
  {
   "cell_type": "code",
   "execution_count": 111,
   "metadata": {},
   "outputs": [
    {
     "data": {
      "text/plain": "{'3PM': 1.0,\n 'AST': 1.5,\n 'BLK': 3.0,\n 'FGM': 2.0,\n 'FTM': 1.0,\n 'REB': 1.2,\n 'STL': 3.0,\n 'TOV': -1.0}"
     },
     "execution_count": 111,
     "metadata": {},
     "output_type": "execute_result"
    }
   ],
   "source": [
    "pts = dict(zip(points['STAT'],points['PTS']))\n",
    "pts"
   ]
  },
  {
   "cell_type": "code",
   "execution_count": 114,
   "metadata": {},
   "outputs": [
    {
     "data": {
      "text/html": "<div>\n<style scoped>\n    .dataframe tbody tr th:only-of-type {\n        vertical-align: middle;\n    }\n\n    .dataframe tbody tr th {\n        vertical-align: top;\n    }\n\n    .dataframe thead th {\n        text-align: right;\n    }\n</style>\n<table border=\"1\" class=\"dataframe\">\n  <thead>\n    <tr style=\"text-align: right;\">\n      <th></th>\n      <th>Match Up</th>\n      <th>W/L</th>\n      <th>MIN</th>\n      <th>PTS</th>\n      <th>FGM</th>\n      <th>FGA</th>\n      <th>FG%</th>\n      <th>3PM</th>\n      <th>3PA</th>\n      <th>3P%</th>\n      <th>FTM</th>\n      <th>FTA</th>\n      <th>FT%</th>\n      <th>OREB</th>\n      <th>DREB</th>\n      <th>REB</th>\n      <th>AST</th>\n      <th>STL</th>\n      <th>BLK</th>\n      <th>TOV</th>\n      <th>PF</th>\n      <th>+/-</th>\n      <th>teams</th>\n      <th>player_id</th>\n      <th>3PM_pts</th>\n      <th>AST_pts</th>\n      <th>BLK_pts</th>\n      <th>FGM_pts</th>\n      <th>FTM_pts</th>\n      <th>REB_pts</th>\n      <th>STL_pts</th>\n      <th>TOV_pts</th>\n      <th>total_pts</th>\n    </tr>\n    <tr>\n      <th>date</th>\n      <th></th>\n      <th></th>\n      <th></th>\n      <th></th>\n      <th></th>\n      <th></th>\n      <th></th>\n      <th></th>\n      <th></th>\n      <th></th>\n      <th></th>\n      <th></th>\n      <th></th>\n      <th></th>\n      <th></th>\n      <th></th>\n      <th></th>\n      <th></th>\n      <th></th>\n      <th></th>\n      <th></th>\n      <th></th>\n      <th></th>\n      <th></th>\n      <th></th>\n      <th></th>\n      <th></th>\n      <th></th>\n      <th></th>\n      <th></th>\n      <th></th>\n      <th></th>\n      <th></th>\n    </tr>\n  </thead>\n  <tbody>\n    <tr>\n      <td>2019-12-25</td>\n      <td>Dec 25, 2019 - BOS @ TOR</td>\n      <td>W</td>\n      <td>35</td>\n      <td>11</td>\n      <td>5</td>\n      <td>18</td>\n      <td>27.8</td>\n      <td>1</td>\n      <td>3</td>\n      <td>33.3</td>\n      <td>0</td>\n      <td>0</td>\n      <td>0.0</td>\n      <td>4</td>\n      <td>5</td>\n      <td>9</td>\n      <td>6</td>\n      <td>2</td>\n      <td>0</td>\n      <td>3</td>\n      <td>4</td>\n      <td>21</td>\n      <td>BOS @ TOR</td>\n      <td>1628369</td>\n      <td>1.0</td>\n      <td>9.0</td>\n      <td>0.0</td>\n      <td>10.0</td>\n      <td>0.0</td>\n      <td>10.8</td>\n      <td>6.0</td>\n      <td>-3.0</td>\n      <td>33.8</td>\n    </tr>\n    <tr>\n      <td>2019-12-22</td>\n      <td>Dec 22, 2019 - BOS vs. CHA</td>\n      <td>W</td>\n      <td>36</td>\n      <td>39</td>\n      <td>15</td>\n      <td>29</td>\n      <td>51.7</td>\n      <td>4</td>\n      <td>9</td>\n      <td>44.4</td>\n      <td>5</td>\n      <td>5</td>\n      <td>100.0</td>\n      <td>1</td>\n      <td>11</td>\n      <td>12</td>\n      <td>2</td>\n      <td>1</td>\n      <td>3</td>\n      <td>2</td>\n      <td>1</td>\n      <td>10</td>\n      <td>BOS vs. CHA</td>\n      <td>1628369</td>\n      <td>4.0</td>\n      <td>3.0</td>\n      <td>9.0</td>\n      <td>30.0</td>\n      <td>5.0</td>\n      <td>14.4</td>\n      <td>3.0</td>\n      <td>-2.0</td>\n      <td>66.4</td>\n    </tr>\n    <tr>\n      <td>2019-12-20</td>\n      <td>Dec 20, 2019 - BOS vs. DET</td>\n      <td>W</td>\n      <td>27</td>\n      <td>26</td>\n      <td>10</td>\n      <td>17</td>\n      <td>58.8</td>\n      <td>2</td>\n      <td>7</td>\n      <td>28.6</td>\n      <td>4</td>\n      <td>4</td>\n      <td>100.0</td>\n      <td>0</td>\n      <td>5</td>\n      <td>5</td>\n      <td>3</td>\n      <td>2</td>\n      <td>0</td>\n      <td>0</td>\n      <td>1</td>\n      <td>10</td>\n      <td>BOS vs. DET</td>\n      <td>1628369</td>\n      <td>2.0</td>\n      <td>4.5</td>\n      <td>0.0</td>\n      <td>20.0</td>\n      <td>4.0</td>\n      <td>6.0</td>\n      <td>6.0</td>\n      <td>-0.0</td>\n      <td>42.5</td>\n    </tr>\n    <tr>\n      <td>2019-12-18</td>\n      <td>Dec 18, 2019 - BOS @ DAL</td>\n      <td>W</td>\n      <td>37</td>\n      <td>24</td>\n      <td>10</td>\n      <td>23</td>\n      <td>43.5</td>\n      <td>2</td>\n      <td>10</td>\n      <td>20.0</td>\n      <td>2</td>\n      <td>3</td>\n      <td>66.7</td>\n      <td>2</td>\n      <td>6</td>\n      <td>8</td>\n      <td>1</td>\n      <td>0</td>\n      <td>1</td>\n      <td>3</td>\n      <td>3</td>\n      <td>-2</td>\n      <td>BOS @ DAL</td>\n      <td>1628369</td>\n      <td>2.0</td>\n      <td>1.5</td>\n      <td>3.0</td>\n      <td>20.0</td>\n      <td>2.0</td>\n      <td>9.6</td>\n      <td>0.0</td>\n      <td>-3.0</td>\n      <td>35.1</td>\n    </tr>\n    <tr>\n      <td>2019-12-12</td>\n      <td>Dec 12, 2019 - BOS vs. PHI</td>\n      <td>L</td>\n      <td>34</td>\n      <td>15</td>\n      <td>5</td>\n      <td>18</td>\n      <td>27.8</td>\n      <td>3</td>\n      <td>8</td>\n      <td>37.5</td>\n      <td>2</td>\n      <td>2</td>\n      <td>100.0</td>\n      <td>1</td>\n      <td>2</td>\n      <td>3</td>\n      <td>4</td>\n      <td>0</td>\n      <td>1</td>\n      <td>1</td>\n      <td>4</td>\n      <td>-2</td>\n      <td>BOS vs. PHI</td>\n      <td>1628369</td>\n      <td>3.0</td>\n      <td>6.0</td>\n      <td>3.0</td>\n      <td>10.0</td>\n      <td>2.0</td>\n      <td>3.6</td>\n      <td>0.0</td>\n      <td>-1.0</td>\n      <td>26.6</td>\n    </tr>\n    <tr>\n      <td>...</td>\n      <td>...</td>\n      <td>...</td>\n      <td>...</td>\n      <td>...</td>\n      <td>...</td>\n      <td>...</td>\n      <td>...</td>\n      <td>...</td>\n      <td>...</td>\n      <td>...</td>\n      <td>...</td>\n      <td>...</td>\n      <td>...</td>\n      <td>...</td>\n      <td>...</td>\n      <td>...</td>\n      <td>...</td>\n      <td>...</td>\n      <td>...</td>\n      <td>...</td>\n      <td>...</td>\n      <td>...</td>\n      <td>...</td>\n      <td>...</td>\n      <td>...</td>\n      <td>...</td>\n      <td>...</td>\n      <td>...</td>\n      <td>...</td>\n      <td>...</td>\n      <td>...</td>\n      <td>...</td>\n      <td>...</td>\n    </tr>\n    <tr>\n      <td>2017-12-21</td>\n      <td>Dec 21, 2017 - BOS @ NYK</td>\n      <td>L</td>\n      <td>34</td>\n      <td>17</td>\n      <td>6</td>\n      <td>10</td>\n      <td>60.0</td>\n      <td>2</td>\n      <td>6</td>\n      <td>33.3</td>\n      <td>3</td>\n      <td>4</td>\n      <td>75.0</td>\n      <td>1</td>\n      <td>2</td>\n      <td>3</td>\n      <td>0</td>\n      <td>2</td>\n      <td>0</td>\n      <td>3</td>\n      <td>1</td>\n      <td>-6</td>\n      <td>BOS @ NYK</td>\n      <td>1628369</td>\n      <td>2.0</td>\n      <td>0.0</td>\n      <td>0.0</td>\n      <td>12.0</td>\n      <td>3.0</td>\n      <td>3.6</td>\n      <td>6.0</td>\n      <td>-3.0</td>\n      <td>23.6</td>\n    </tr>\n    <tr>\n      <td>2017-12-20</td>\n      <td>Dec 20, 2017 - BOS vs. MIA</td>\n      <td>L</td>\n      <td>28</td>\n      <td>11</td>\n      <td>4</td>\n      <td>9</td>\n      <td>44.4</td>\n      <td>0</td>\n      <td>2</td>\n      <td>0.0</td>\n      <td>3</td>\n      <td>4</td>\n      <td>75.0</td>\n      <td>0</td>\n      <td>7</td>\n      <td>7</td>\n      <td>2</td>\n      <td>0</td>\n      <td>1</td>\n      <td>1</td>\n      <td>2</td>\n      <td>3</td>\n      <td>BOS vs. MIA</td>\n      <td>1628369</td>\n      <td>0.0</td>\n      <td>3.0</td>\n      <td>3.0</td>\n      <td>8.0</td>\n      <td>3.0</td>\n      <td>8.4</td>\n      <td>0.0</td>\n      <td>-1.0</td>\n      <td>24.4</td>\n    </tr>\n    <tr>\n      <td>2017-12-18</td>\n      <td>Dec 18, 2017 - BOS @ IND</td>\n      <td>W</td>\n      <td>31</td>\n      <td>16</td>\n      <td>6</td>\n      <td>8</td>\n      <td>75.0</td>\n      <td>1</td>\n      <td>1</td>\n      <td>100.0</td>\n      <td>3</td>\n      <td>3</td>\n      <td>100.0</td>\n      <td>0</td>\n      <td>5</td>\n      <td>5</td>\n      <td>4</td>\n      <td>1</td>\n      <td>1</td>\n      <td>2</td>\n      <td>3</td>\n      <td>6</td>\n      <td>BOS @ IND</td>\n      <td>1628369</td>\n      <td>1.0</td>\n      <td>6.0</td>\n      <td>3.0</td>\n      <td>12.0</td>\n      <td>3.0</td>\n      <td>6.0</td>\n      <td>3.0</td>\n      <td>-2.0</td>\n      <td>32.0</td>\n    </tr>\n    <tr>\n      <td>2017-12-16</td>\n      <td>Dec 16, 2017 - BOS @ MEM</td>\n      <td>W</td>\n      <td>34</td>\n      <td>19</td>\n      <td>7</td>\n      <td>13</td>\n      <td>53.8</td>\n      <td>2</td>\n      <td>2</td>\n      <td>100.0</td>\n      <td>3</td>\n      <td>3</td>\n      <td>100.0</td>\n      <td>6</td>\n      <td>4</td>\n      <td>10</td>\n      <td>1</td>\n      <td>2</td>\n      <td>2</td>\n      <td>0</td>\n      <td>1</td>\n      <td>21</td>\n      <td>BOS @ MEM</td>\n      <td>1628369</td>\n      <td>2.0</td>\n      <td>1.5</td>\n      <td>6.0</td>\n      <td>14.0</td>\n      <td>3.0</td>\n      <td>12.0</td>\n      <td>6.0</td>\n      <td>-0.0</td>\n      <td>44.5</td>\n    </tr>\n    <tr>\n      <td>2017-12-15</td>\n      <td>Dec 15, 2017 - BOS vs. UTA</td>\n      <td>L</td>\n      <td>26</td>\n      <td>7</td>\n      <td>1</td>\n      <td>6</td>\n      <td>16.7</td>\n      <td>1</td>\n      <td>3</td>\n      <td>33.3</td>\n      <td>4</td>\n      <td>4</td>\n      <td>100.0</td>\n      <td>0</td>\n      <td>4</td>\n      <td>4</td>\n      <td>2</td>\n      <td>0</td>\n      <td>0</td>\n      <td>1</td>\n      <td>4</td>\n      <td>-7</td>\n      <td>BOS vs. UTA</td>\n      <td>1628369</td>\n      <td>1.0</td>\n      <td>3.0</td>\n      <td>0.0</td>\n      <td>2.0</td>\n      <td>4.0</td>\n      <td>4.8</td>\n      <td>0.0</td>\n      <td>-1.0</td>\n      <td>13.8</td>\n    </tr>\n  </tbody>\n</table>\n<p>128 rows × 33 columns</p>\n</div>",
      "text/plain": "                              Match Up W/L  MIN  ...  STL_pts  TOV_pts  total_pts\ndate                                             ...                             \n2019-12-25    Dec 25, 2019 - BOS @ TOR   W   35  ...      6.0     -3.0       33.8\n2019-12-22  Dec 22, 2019 - BOS vs. CHA   W   36  ...      3.0     -2.0       66.4\n2019-12-20  Dec 20, 2019 - BOS vs. DET   W   27  ...      6.0     -0.0       42.5\n2019-12-18    Dec 18, 2019 - BOS @ DAL   W   37  ...      0.0     -3.0       35.1\n2019-12-12  Dec 12, 2019 - BOS vs. PHI   L   34  ...      0.0     -1.0       26.6\n...                                ...  ..  ...  ...      ...      ...        ...\n2017-12-21    Dec 21, 2017 - BOS @ NYK   L   34  ...      6.0     -3.0       23.6\n2017-12-20  Dec 20, 2017 - BOS vs. MIA   L   28  ...      0.0     -1.0       24.4\n2017-12-18    Dec 18, 2017 - BOS @ IND   W   31  ...      3.0     -2.0       32.0\n2017-12-16    Dec 16, 2017 - BOS @ MEM   W   34  ...      6.0     -0.0       44.5\n2017-12-15  Dec 15, 2017 - BOS vs. UTA   L   26  ...      0.0     -1.0       13.8\n\n[128 rows x 33 columns]"
     },
     "execution_count": 114,
     "metadata": {},
     "output_type": "execute_result"
    }
   ],
   "source": [
    "df_fantasy = df_full.copy()\n",
    "pts_cols= []\n",
    "for k,v in pts.items():\n",
    "    col_name = k+'_pts'\n",
    "    df_fantasy[col_name] = df_fantasy[k].apply(lambda x: x*pts[k])\n",
    "    pts_cols.append(col_name)\n",
    "\n",
    "\n",
    "df_fantasy['total_pts'] = df_fantasy.apply(lambda x: x[pts_cols].sum(),axis=1)\n",
    "df_fantasy\n",
    "    "
   ]
  },
  {
   "cell_type": "code",
   "execution_count": 115,
   "metadata": {},
   "outputs": [
    {
     "name": "stdout",
     "output_type": "stream",
     "text": "Reloading...\n\n"
    }
   ],
   "source": [
    "fs.reload(ns)\n",
    "test_df = ns.calc_fantasy_stats(df_full)"
   ]
  },
  {
   "cell_type": "code",
   "execution_count": 116,
   "metadata": {},
   "outputs": [
    {
     "data": {
      "text/html": "<div>\n<style scoped>\n    .dataframe tbody tr th:only-of-type {\n        vertical-align: middle;\n    }\n\n    .dataframe tbody tr th {\n        vertical-align: top;\n    }\n\n    .dataframe thead th {\n        text-align: right;\n    }\n</style>\n<table border=\"1\" class=\"dataframe\">\n  <thead>\n    <tr style=\"text-align: right;\">\n      <th></th>\n      <th>Match Up</th>\n      <th>W/L</th>\n      <th>MIN</th>\n      <th>PTS</th>\n      <th>FGM</th>\n      <th>FGA</th>\n      <th>FG%</th>\n      <th>3PM</th>\n      <th>3PA</th>\n      <th>3P%</th>\n      <th>FTM</th>\n      <th>FTA</th>\n      <th>FT%</th>\n      <th>OREB</th>\n      <th>DREB</th>\n      <th>REB</th>\n      <th>AST</th>\n      <th>STL</th>\n      <th>BLK</th>\n      <th>TOV</th>\n      <th>PF</th>\n      <th>+/-</th>\n      <th>teams</th>\n      <th>player_id</th>\n      <th>3PM_pts</th>\n      <th>AST_pts</th>\n      <th>BLK_pts</th>\n      <th>FGM_pts</th>\n      <th>FTM_pts</th>\n      <th>REB_pts</th>\n      <th>STL_pts</th>\n      <th>TOV_pts</th>\n      <th>total_pts</th>\n    </tr>\n    <tr>\n      <th>date</th>\n      <th></th>\n      <th></th>\n      <th></th>\n      <th></th>\n      <th></th>\n      <th></th>\n      <th></th>\n      <th></th>\n      <th></th>\n      <th></th>\n      <th></th>\n      <th></th>\n      <th></th>\n      <th></th>\n      <th></th>\n      <th></th>\n      <th></th>\n      <th></th>\n      <th></th>\n      <th></th>\n      <th></th>\n      <th></th>\n      <th></th>\n      <th></th>\n      <th></th>\n      <th></th>\n      <th></th>\n      <th></th>\n      <th></th>\n      <th></th>\n      <th></th>\n      <th></th>\n      <th></th>\n    </tr>\n  </thead>\n  <tbody>\n    <tr>\n      <td>2019-12-25</td>\n      <td>Dec 25, 2019 - BOS @ TOR</td>\n      <td>W</td>\n      <td>35</td>\n      <td>11</td>\n      <td>5</td>\n      <td>18</td>\n      <td>27.8</td>\n      <td>1</td>\n      <td>3</td>\n      <td>33.3</td>\n      <td>0</td>\n      <td>0</td>\n      <td>0.0</td>\n      <td>4</td>\n      <td>5</td>\n      <td>9</td>\n      <td>6</td>\n      <td>2</td>\n      <td>0</td>\n      <td>3</td>\n      <td>4</td>\n      <td>21</td>\n      <td>BOS @ TOR</td>\n      <td>1628369</td>\n      <td>1.0</td>\n      <td>9.0</td>\n      <td>0.0</td>\n      <td>10.0</td>\n      <td>0.0</td>\n      <td>10.8</td>\n      <td>6.0</td>\n      <td>-3.0</td>\n      <td>33.8</td>\n    </tr>\n    <tr>\n      <td>2019-12-22</td>\n      <td>Dec 22, 2019 - BOS vs. CHA</td>\n      <td>W</td>\n      <td>36</td>\n      <td>39</td>\n      <td>15</td>\n      <td>29</td>\n      <td>51.7</td>\n      <td>4</td>\n      <td>9</td>\n      <td>44.4</td>\n      <td>5</td>\n      <td>5</td>\n      <td>100.0</td>\n      <td>1</td>\n      <td>11</td>\n      <td>12</td>\n      <td>2</td>\n      <td>1</td>\n      <td>3</td>\n      <td>2</td>\n      <td>1</td>\n      <td>10</td>\n      <td>BOS vs. CHA</td>\n      <td>1628369</td>\n      <td>4.0</td>\n      <td>3.0</td>\n      <td>9.0</td>\n      <td>30.0</td>\n      <td>5.0</td>\n      <td>14.4</td>\n      <td>3.0</td>\n      <td>-2.0</td>\n      <td>66.4</td>\n    </tr>\n    <tr>\n      <td>2019-12-20</td>\n      <td>Dec 20, 2019 - BOS vs. DET</td>\n      <td>W</td>\n      <td>27</td>\n      <td>26</td>\n      <td>10</td>\n      <td>17</td>\n      <td>58.8</td>\n      <td>2</td>\n      <td>7</td>\n      <td>28.6</td>\n      <td>4</td>\n      <td>4</td>\n      <td>100.0</td>\n      <td>0</td>\n      <td>5</td>\n      <td>5</td>\n      <td>3</td>\n      <td>2</td>\n      <td>0</td>\n      <td>0</td>\n      <td>1</td>\n      <td>10</td>\n      <td>BOS vs. DET</td>\n      <td>1628369</td>\n      <td>2.0</td>\n      <td>4.5</td>\n      <td>0.0</td>\n      <td>20.0</td>\n      <td>4.0</td>\n      <td>6.0</td>\n      <td>6.0</td>\n      <td>-0.0</td>\n      <td>42.5</td>\n    </tr>\n    <tr>\n      <td>2019-12-18</td>\n      <td>Dec 18, 2019 - BOS @ DAL</td>\n      <td>W</td>\n      <td>37</td>\n      <td>24</td>\n      <td>10</td>\n      <td>23</td>\n      <td>43.5</td>\n      <td>2</td>\n      <td>10</td>\n      <td>20.0</td>\n      <td>2</td>\n      <td>3</td>\n      <td>66.7</td>\n      <td>2</td>\n      <td>6</td>\n      <td>8</td>\n      <td>1</td>\n      <td>0</td>\n      <td>1</td>\n      <td>3</td>\n      <td>3</td>\n      <td>-2</td>\n      <td>BOS @ DAL</td>\n      <td>1628369</td>\n      <td>2.0</td>\n      <td>1.5</td>\n      <td>3.0</td>\n      <td>20.0</td>\n      <td>2.0</td>\n      <td>9.6</td>\n      <td>0.0</td>\n      <td>-3.0</td>\n      <td>35.1</td>\n    </tr>\n    <tr>\n      <td>2019-12-12</td>\n      <td>Dec 12, 2019 - BOS vs. PHI</td>\n      <td>L</td>\n      <td>34</td>\n      <td>15</td>\n      <td>5</td>\n      <td>18</td>\n      <td>27.8</td>\n      <td>3</td>\n      <td>8</td>\n      <td>37.5</td>\n      <td>2</td>\n      <td>2</td>\n      <td>100.0</td>\n      <td>1</td>\n      <td>2</td>\n      <td>3</td>\n      <td>4</td>\n      <td>0</td>\n      <td>1</td>\n      <td>1</td>\n      <td>4</td>\n      <td>-2</td>\n      <td>BOS vs. PHI</td>\n      <td>1628369</td>\n      <td>3.0</td>\n      <td>6.0</td>\n      <td>3.0</td>\n      <td>10.0</td>\n      <td>2.0</td>\n      <td>3.6</td>\n      <td>0.0</td>\n      <td>-1.0</td>\n      <td>26.6</td>\n    </tr>\n    <tr>\n      <td>...</td>\n      <td>...</td>\n      <td>...</td>\n      <td>...</td>\n      <td>...</td>\n      <td>...</td>\n      <td>...</td>\n      <td>...</td>\n      <td>...</td>\n      <td>...</td>\n      <td>...</td>\n      <td>...</td>\n      <td>...</td>\n      <td>...</td>\n      <td>...</td>\n      <td>...</td>\n      <td>...</td>\n      <td>...</td>\n      <td>...</td>\n      <td>...</td>\n      <td>...</td>\n      <td>...</td>\n      <td>...</td>\n      <td>...</td>\n      <td>...</td>\n      <td>...</td>\n      <td>...</td>\n      <td>...</td>\n      <td>...</td>\n      <td>...</td>\n      <td>...</td>\n      <td>...</td>\n      <td>...</td>\n      <td>...</td>\n    </tr>\n    <tr>\n      <td>2017-12-21</td>\n      <td>Dec 21, 2017 - BOS @ NYK</td>\n      <td>L</td>\n      <td>34</td>\n      <td>17</td>\n      <td>6</td>\n      <td>10</td>\n      <td>60.0</td>\n      <td>2</td>\n      <td>6</td>\n      <td>33.3</td>\n      <td>3</td>\n      <td>4</td>\n      <td>75.0</td>\n      <td>1</td>\n      <td>2</td>\n      <td>3</td>\n      <td>0</td>\n      <td>2</td>\n      <td>0</td>\n      <td>3</td>\n      <td>1</td>\n      <td>-6</td>\n      <td>BOS @ NYK</td>\n      <td>1628369</td>\n      <td>2.0</td>\n      <td>0.0</td>\n      <td>0.0</td>\n      <td>12.0</td>\n      <td>3.0</td>\n      <td>3.6</td>\n      <td>6.0</td>\n      <td>-3.0</td>\n      <td>23.6</td>\n    </tr>\n    <tr>\n      <td>2017-12-20</td>\n      <td>Dec 20, 2017 - BOS vs. MIA</td>\n      <td>L</td>\n      <td>28</td>\n      <td>11</td>\n      <td>4</td>\n      <td>9</td>\n      <td>44.4</td>\n      <td>0</td>\n      <td>2</td>\n      <td>0.0</td>\n      <td>3</td>\n      <td>4</td>\n      <td>75.0</td>\n      <td>0</td>\n      <td>7</td>\n      <td>7</td>\n      <td>2</td>\n      <td>0</td>\n      <td>1</td>\n      <td>1</td>\n      <td>2</td>\n      <td>3</td>\n      <td>BOS vs. MIA</td>\n      <td>1628369</td>\n      <td>0.0</td>\n      <td>3.0</td>\n      <td>3.0</td>\n      <td>8.0</td>\n      <td>3.0</td>\n      <td>8.4</td>\n      <td>0.0</td>\n      <td>-1.0</td>\n      <td>24.4</td>\n    </tr>\n    <tr>\n      <td>2017-12-18</td>\n      <td>Dec 18, 2017 - BOS @ IND</td>\n      <td>W</td>\n      <td>31</td>\n      <td>16</td>\n      <td>6</td>\n      <td>8</td>\n      <td>75.0</td>\n      <td>1</td>\n      <td>1</td>\n      <td>100.0</td>\n      <td>3</td>\n      <td>3</td>\n      <td>100.0</td>\n      <td>0</td>\n      <td>5</td>\n      <td>5</td>\n      <td>4</td>\n      <td>1</td>\n      <td>1</td>\n      <td>2</td>\n      <td>3</td>\n      <td>6</td>\n      <td>BOS @ IND</td>\n      <td>1628369</td>\n      <td>1.0</td>\n      <td>6.0</td>\n      <td>3.0</td>\n      <td>12.0</td>\n      <td>3.0</td>\n      <td>6.0</td>\n      <td>3.0</td>\n      <td>-2.0</td>\n      <td>32.0</td>\n    </tr>\n    <tr>\n      <td>2017-12-16</td>\n      <td>Dec 16, 2017 - BOS @ MEM</td>\n      <td>W</td>\n      <td>34</td>\n      <td>19</td>\n      <td>7</td>\n      <td>13</td>\n      <td>53.8</td>\n      <td>2</td>\n      <td>2</td>\n      <td>100.0</td>\n      <td>3</td>\n      <td>3</td>\n      <td>100.0</td>\n      <td>6</td>\n      <td>4</td>\n      <td>10</td>\n      <td>1</td>\n      <td>2</td>\n      <td>2</td>\n      <td>0</td>\n      <td>1</td>\n      <td>21</td>\n      <td>BOS @ MEM</td>\n      <td>1628369</td>\n      <td>2.0</td>\n      <td>1.5</td>\n      <td>6.0</td>\n      <td>14.0</td>\n      <td>3.0</td>\n      <td>12.0</td>\n      <td>6.0</td>\n      <td>-0.0</td>\n      <td>44.5</td>\n    </tr>\n    <tr>\n      <td>2017-12-15</td>\n      <td>Dec 15, 2017 - BOS vs. UTA</td>\n      <td>L</td>\n      <td>26</td>\n      <td>7</td>\n      <td>1</td>\n      <td>6</td>\n      <td>16.7</td>\n      <td>1</td>\n      <td>3</td>\n      <td>33.3</td>\n      <td>4</td>\n      <td>4</td>\n      <td>100.0</td>\n      <td>0</td>\n      <td>4</td>\n      <td>4</td>\n      <td>2</td>\n      <td>0</td>\n      <td>0</td>\n      <td>1</td>\n      <td>4</td>\n      <td>-7</td>\n      <td>BOS vs. UTA</td>\n      <td>1628369</td>\n      <td>1.0</td>\n      <td>3.0</td>\n      <td>0.0</td>\n      <td>2.0</td>\n      <td>4.0</td>\n      <td>4.8</td>\n      <td>0.0</td>\n      <td>-1.0</td>\n      <td>13.8</td>\n    </tr>\n  </tbody>\n</table>\n<p>128 rows × 33 columns</p>\n</div>",
      "text/plain": "                              Match Up W/L  MIN  ...  STL_pts  TOV_pts  total_pts\ndate                                             ...                             \n2019-12-25    Dec 25, 2019 - BOS @ TOR   W   35  ...      6.0     -3.0       33.8\n2019-12-22  Dec 22, 2019 - BOS vs. CHA   W   36  ...      3.0     -2.0       66.4\n2019-12-20  Dec 20, 2019 - BOS vs. DET   W   27  ...      6.0     -0.0       42.5\n2019-12-18    Dec 18, 2019 - BOS @ DAL   W   37  ...      0.0     -3.0       35.1\n2019-12-12  Dec 12, 2019 - BOS vs. PHI   L   34  ...      0.0     -1.0       26.6\n...                                ...  ..  ...  ...      ...      ...        ...\n2017-12-21    Dec 21, 2017 - BOS @ NYK   L   34  ...      6.0     -3.0       23.6\n2017-12-20  Dec 20, 2017 - BOS vs. MIA   L   28  ...      0.0     -1.0       24.4\n2017-12-18    Dec 18, 2017 - BOS @ IND   W   31  ...      3.0     -2.0       32.0\n2017-12-16    Dec 16, 2017 - BOS @ MEM   W   34  ...      6.0     -0.0       44.5\n2017-12-15  Dec 15, 2017 - BOS vs. UTA   L   26  ...      0.0     -1.0       13.8\n\n[128 rows x 33 columns]"
     },
     "execution_count": 116,
     "metadata": {},
     "output_type": "execute_result"
    }
   ],
   "source": [
    "test_df"
   ]
  },
  {
   "cell_type": "markdown",
   "execution_count": null,
   "metadata": {},
   "outputs": [],
   "source": [
    "# WORKFLOW SUMMARY"
   ]
  },
  {
   "cell_type": "markdown",
   "execution_count": null,
   "metadata": {},
   "outputs": [],
   "source": [
    "1. Get player's nba_stats id#\n",
    "2. `import nba_stats as ns`\n",
    "3. Can directly run `df = ns.get_all_seasons_df(player_id= the_players_id)` (see note below: \\$:)\n",
    "4. `df = ns.calc_fantasy_stats(df)`\n",
    "5. `ns.save_player_df(df)`\n",
    "\n",
    "\\$: Can instead run helper functions individually if don't want all seasons\n",
    "- `season_urls=ns.make_season_urls_from_playerid`\n",
    "- `df = ns.get_season_df(season_url[0])`\n",
    "\n",
    "\n",
    "\n"
   ]
  },
  {
   "cell_type": "code",
   "execution_count": 118,
   "metadata": {},
   "outputs": [],
   "source": [
    "import nba_stats as ns\n",
    "player_id=1628369\n",
    "df = ns.get_all_seasons_df(player_id=player_id)\n",
    "df = ns.calc_fantasy_stats(df)\n",
    "ns.save_player_df(df)\n"
   ]
  },
  {
   "cell_type": "code",
   "execution_count": 0,
   "metadata": {},
   "outputs": [],
   "source": [
    "df"
   ]
  },
  {
   "cell_type": "code",
   "execution_count": null,
   "metadata": {},
   "outputs": [],
   "source": []
  }
 ]
}