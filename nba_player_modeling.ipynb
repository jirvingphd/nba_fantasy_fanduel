{
 "nbformat": 4,
 "nbformat_minor": 2,
 "metadata": {
  "language_info": {
   "name": "python",
   "codemirror_mode": {
    "name": "ipython",
    "version": 3
   },
   "version": "3.6.9"
  },
  "orig_nbformat": 2,
  "file_extension": ".py",
  "mimetype": "text/x-python",
  "name": "python",
  "npconvert_exporter": "python",
  "pygments_lexer": "ipython3",
  "version": 3
 },
 "cells": [
  {
   "cell_type": "code",
   "execution_count": 1,
   "metadata": {},
   "outputs": [],
   "source": [
    "import requests\n",
    "import lxml\n",
    "from pprint import pprint\n",
    "from bs4 import BeautifulSoup\n",
    "from selenium import webdriver\n",
    "\n",
    "\n",
    "url = \"https://stats.nba.com/player/1628369/boxscores-traditional/\"\n",
    "\n",
    "# page = requests.get(url,'lxml')\n",
    "\n",
    "# soup = BeautifulSoup(page.content)\n",
    "# pprint(soup.prettify()[:1000])\n"
   ]
  },
  {
   "cell_type": "code",
   "execution_count": 2,
   "metadata": {},
   "outputs": [],
   "source": [
    "driver = webdriver.Chrome()\n",
    "driver.get(url)"
   ]
  },
  {
   "cell_type": "code",
   "execution_count": 3,
   "metadata": {},
   "outputs": [
    {
     "data": {
      "text/plain": "58"
     },
     "execution_count": 3,
     "metadata": {},
     "output_type": "execute_result"
    }
   ],
   "source": [
    "soup = BeautifulSoup(driver.page_source)\n",
    "len(soup.find_all('tr'))"
   ]
  },
  {
   "cell_type": "code",
   "execution_count": 4,
   "metadata": {},
   "outputs": [
    {
     "data": {
      "text/plain": "'\\nMatch Up\\nW/L\\nMIN\\nPTS\\nFGM\\nFGA\\nFG%\\n3PM\\n3PA\\n3P%\\nFTM\\nFTA\\nFT%\\nOREB\\nDREB\\nREB\\nAST\\nSTL\\nBLK\\nTOV\\nPF\\n+/-\\n'"
     },
     "execution_count": 4,
     "metadata": {},
     "output_type": "execute_result"
    }
   ],
   "source": [
    "row_tags = soup.find_all('tr')\n",
    "row_tags[0].text"
   ]
  },
  {
   "cell_type": "code",
   "execution_count": 5,
   "metadata": {},
   "outputs": [
    {
     "data": {
      "text/plain": "'\\n\\nDec 25, 2019 - BOS @ TOR\\n\\nW\\n35\\n11\\n\\n            5\\n\\n\\n            18\\n\\n27.8\\n\\n            1\\n\\n\\n            3\\n\\n33.3\\n0\\n0\\n0.0\\n\\n            4\\n\\n\\n            5\\n\\n\\n            9\\n\\n\\n            6\\n\\n\\n            2\\n\\n\\n            0\\n\\n\\n            3\\n\\n4\\n21\\n'"
     },
     "execution_count": 5,
     "metadata": {},
     "output_type": "execute_result"
    }
   ],
   "source": [
    "row_tags[1].text"
   ]
  },
  {
   "cell_type": "code",
   "execution_count": 6,
   "metadata": {},
   "outputs": [
    {
     "data": {
      "text/plain": "'Match Up,W/L,MIN,PTS,FGM,FGA,FG%,3PM,3PA,3P%,FTM,FTA,FT%,OREB,DREB,REB,AST,STL,BLK,TOV,PF,+/-,'"
     },
     "execution_count": 6,
     "metadata": {},
     "output_type": "execute_result"
    }
   ],
   "source": [
    "headers = row_tags[0].text.replace('\\n',',')\n",
    "if headers[0]==',':\n",
    "    headers = headers[1:]\n",
    "headers"
   ]
  },
  {
   "cell_type": "code",
   "execution_count": 7,
   "metadata": {},
   "outputs": [
    {
     "name": "stdout",
     "output_type": "stream",
     "text": "24 48 48\n['', 'Match Up', 'W/L', 'MIN', 'PTS', 'FGM', 'FGA', 'FG%', '3PM', '3PA', '3P%', 'FTM', 'FTA', 'FT%', 'OREB', 'DREB', 'REB', 'AST', 'STL', 'BLK', 'TOV', 'PF', '+/-', '']\n\n['', '', 'Dec 25, 2019 - BOS @ TOR', '', 'W', '35', '11', '', '            5', '', '', '            18', '', '27.8', '', '            1', '', '', '            3', '', '33.3', '0', '0', '0.0', '', '            4', '', '', '            5', '', '', '            9', '', '', '            6', '', '', '            2', '', '', '            0', '', '', '            3', '', '4', '21', '']\n\n['', '', 'Dec 22, 2019 - BOS vs. CHA', '', 'W', '36', '39', '', '            15', '', '', '            29', '', '51.7', '', '            4', '', '', '            9', '', '44.4', '5', '5', '100', '', '            1', '', '', '            11', '', '', '            12', '', '', '            2', '', '', '            1', '', '', '            3', '', '', '            2', '', '1', '10', '']\n"
    }
   ],
   "source": [
    "headers = row_tags[0].text.split('\\n')\n",
    "row1 = row_tags[1].text.split('\\n')\n",
    "row2 = row_tags[2].text.split('\\n')\n",
    "\n",
    "print(len(headers),len(row1),len(row2))\n",
    "print(headers,row1,row2,sep='\\n\\n')"
   ]
  },
  {
   "cell_type": "code",
   "execution_count": 8,
   "metadata": {},
   "outputs": [
    {
     "data": {
      "text/plain": "',,Dec 25, 2019 - BOS @ TOR,,W,35,11,,            5,,,            18,,27.8,,            1,,,            3,,33.3,0,0,0.0,,            4,,,            5,,,            9,,,            6,,,            2,,,            0,,,            3,,4,21,'"
     },
     "execution_count": 8,
     "metadata": {},
     "output_type": "execute_result"
    }
   ],
   "source": [
    "row_data = row_tags[1].text.replace('\\n',',')\n",
    "row_data"
   ]
  },
  {
   "cell_type": "code",
   "execution_count": null,
   "metadata": {},
   "outputs": [],
   "source": []
  },
  {
   "cell_type": "markdown",
   "execution_count": null,
   "metadata": {},
   "outputs": [],
   "source": [
    "### Summary:\n",
    "- Using the .text and splitting may not be the best strategy\n",
    "- Try searching for tags like `td` inside of the table rows for better extraction"
   ]
  },
  {
   "cell_type": "code",
   "execution_count": 9,
   "metadata": {},
   "outputs": [
    {
     "name": "stdout",
     "output_type": "stream",
     "text": "22\n"
    },
    {
     "data": {
      "text/plain": "['Match Up',\n 'W/L',\n 'MIN',\n 'PTS',\n 'FGM',\n 'FGA',\n 'FG%',\n '3PM',\n '3PA',\n '3P%',\n 'FTM',\n 'FTA',\n 'FT%',\n 'OREB',\n 'DREB',\n 'REB',\n 'AST',\n 'STL',\n 'BLK',\n 'TOV',\n 'PF',\n '+/-']"
     },
     "execution_count": 9,
     "metadata": {},
     "output_type": "execute_result"
    }
   ],
   "source": [
    "head = row_tags[0]\n",
    "print(len(head.find_all('th')))\n",
    "\n",
    "\n",
    "column_names = [t.text for t in head.find_all('th')]\n",
    "column_names"
   ]
  },
  {
   "cell_type": "code",
   "execution_count": 10,
   "metadata": {},
   "outputs": [
    {
     "name": "stdout",
     "output_type": "stream",
     "text": "0 : \nDec 25, 2019 - BOS @ TOR\n\n1 : W\n2 : 35\n3 : 11\n4 : \n            5\n\n5 : \n            18\n\n6 : 27.8\n7 : \n            1\n\n8 : \n            3\n\n9 : 33.3\n10 : 0\n11 : 0\n12 : 0.0\n13 : \n            4\n\n14 : \n            5\n\n15 : \n            9\n\n16 : \n            6\n\n17 : \n            2\n\n18 : \n            0\n\n19 : \n            3\n\n20 : 4\n21 : 21\n"
    },
    {
     "data": {
      "text/plain": "[None,\n None,\n None,\n None,\n None,\n None,\n None,\n None,\n None,\n None,\n None,\n None,\n None,\n None,\n None,\n None,\n None,\n None,\n None,\n None,\n None,\n None]"
     },
     "execution_count": 10,
     "metadata": {},
     "output_type": "execute_result"
    }
   ],
   "source": [
    "row = row_tags[1]\n",
    "len(row.find_all('td'))\n",
    "[print(i,':',t.text) for i,t in enumerate(row.find_all('td'))]"
   ]
  },
  {
   "cell_type": "code",
   "execution_count": 11,
   "metadata": {},
   "outputs": [
    {
     "data": {
      "text/plain": "22"
     },
     "execution_count": 11,
     "metadata": {},
     "output_type": "execute_result"
    }
   ],
   "source": [
    "row_data = [t.text.strip('\\n').strip() for t in row.find_all('td')]\n",
    "len(row_data)"
   ]
  },
  {
   "cell_type": "code",
   "execution_count": 12,
   "metadata": {},
   "outputs": [
    {
     "data": {
      "text/html": "<div>\n<style scoped>\n    .dataframe tbody tr th:only-of-type {\n        vertical-align: middle;\n    }\n\n    .dataframe tbody tr th {\n        vertical-align: top;\n    }\n\n    .dataframe thead th {\n        text-align: right;\n    }\n</style>\n<table border=\"1\" class=\"dataframe\">\n  <thead>\n    <tr style=\"text-align: right;\">\n      <th></th>\n      <th>Match Up</th>\n      <th>W/L</th>\n      <th>MIN</th>\n      <th>PTS</th>\n      <th>FGM</th>\n      <th>FGA</th>\n      <th>FG%</th>\n      <th>3PM</th>\n      <th>3PA</th>\n      <th>3P%</th>\n      <th>FTM</th>\n      <th>FTA</th>\n      <th>FT%</th>\n      <th>OREB</th>\n      <th>DREB</th>\n      <th>REB</th>\n      <th>AST</th>\n      <th>STL</th>\n      <th>BLK</th>\n      <th>TOV</th>\n      <th>PF</th>\n      <th>+/-</th>\n    </tr>\n  </thead>\n  <tbody>\n    <tr>\n      <td>0</td>\n      <td>Dec 25, 2019 - BOS @ TOR</td>\n      <td>W</td>\n      <td>35</td>\n      <td>11</td>\n      <td>5</td>\n      <td>18</td>\n      <td>27.8</td>\n      <td>1</td>\n      <td>3</td>\n      <td>33.3</td>\n      <td>0</td>\n      <td>0</td>\n      <td>0.0</td>\n      <td>4</td>\n      <td>5</td>\n      <td>9</td>\n      <td>6</td>\n      <td>2</td>\n      <td>0</td>\n      <td>3</td>\n      <td>4</td>\n      <td>21</td>\n    </tr>\n    <tr>\n      <td>1</td>\n      <td>Dec 22, 2019 - BOS vs. CHA</td>\n      <td>W</td>\n      <td>36</td>\n      <td>39</td>\n      <td>15</td>\n      <td>29</td>\n      <td>51.7</td>\n      <td>4</td>\n      <td>9</td>\n      <td>44.4</td>\n      <td>5</td>\n      <td>5</td>\n      <td>100</td>\n      <td>1</td>\n      <td>11</td>\n      <td>12</td>\n      <td>2</td>\n      <td>1</td>\n      <td>3</td>\n      <td>2</td>\n      <td>1</td>\n      <td>10</td>\n    </tr>\n    <tr>\n      <td>2</td>\n      <td>Dec 20, 2019 - BOS vs. DET</td>\n      <td>W</td>\n      <td>27</td>\n      <td>26</td>\n      <td>10</td>\n      <td>17</td>\n      <td>58.8</td>\n      <td>2</td>\n      <td>7</td>\n      <td>28.6</td>\n      <td>4</td>\n      <td>4</td>\n      <td>100</td>\n      <td>0</td>\n      <td>5</td>\n      <td>5</td>\n      <td>3</td>\n      <td>2</td>\n      <td>0</td>\n      <td>0</td>\n      <td>1</td>\n      <td>10</td>\n    </tr>\n    <tr>\n      <td>3</td>\n      <td>Dec 18, 2019 - BOS @ DAL</td>\n      <td>W</td>\n      <td>37</td>\n      <td>24</td>\n      <td>10</td>\n      <td>23</td>\n      <td>43.5</td>\n      <td>2</td>\n      <td>10</td>\n      <td>20.0</td>\n      <td>2</td>\n      <td>3</td>\n      <td>66.7</td>\n      <td>2</td>\n      <td>6</td>\n      <td>8</td>\n      <td>1</td>\n      <td>0</td>\n      <td>1</td>\n      <td>3</td>\n      <td>3</td>\n      <td>-2</td>\n    </tr>\n    <tr>\n      <td>4</td>\n      <td>Dec 12, 2019 - BOS vs. PHI</td>\n      <td>L</td>\n      <td>34</td>\n      <td>15</td>\n      <td>5</td>\n      <td>18</td>\n      <td>27.8</td>\n      <td>3</td>\n      <td>8</td>\n      <td>37.5</td>\n      <td>2</td>\n      <td>2</td>\n      <td>100</td>\n      <td>1</td>\n      <td>2</td>\n      <td>3</td>\n      <td>4</td>\n      <td>0</td>\n      <td>1</td>\n      <td>1</td>\n      <td>4</td>\n      <td>-2</td>\n    </tr>\n  </tbody>\n</table>\n</div>",
      "text/plain": "                     Match Up W/L MIN PTS FGM FGA  ... AST STL BLK TOV PF +/-\n0    Dec 25, 2019 - BOS @ TOR   W  35  11   5  18  ...   6   2   0   3  4  21\n1  Dec 22, 2019 - BOS vs. CHA   W  36  39  15  29  ...   2   1   3   2  1  10\n2  Dec 20, 2019 - BOS vs. DET   W  27  26  10  17  ...   3   2   0   0  1  10\n3    Dec 18, 2019 - BOS @ DAL   W  37  24  10  23  ...   1   0   1   3  3  -2\n4  Dec 12, 2019 - BOS vs. PHI   L  34  15   5  18  ...   4   0   1   1  4  -2\n\n[5 rows x 22 columns]"
     },
     "execution_count": 12,
     "metadata": {},
     "output_type": "execute_result"
    }
   ],
   "source": [
    "import pandas as pd\n",
    "pd.set_option('display.max_columns',0)\n",
    "## Get header/column names\n",
    "head = row_tags[0]\n",
    "column_names = [t.text for t in head.find_all('th')]\n",
    "\n",
    "data = []\n",
    "for row in row_tags[1:]:\n",
    "    row_data = [t.text.strip('\\n').strip() for t in row.find_all('td')]\n",
    "    data.append(row_data)\n",
    "\n",
    "df = pd.DataFrame(data,columns=column_names)\n",
    "df.head(5)"
   ]
  },
  {
   "cell_type": "code",
   "execution_count": 13,
   "metadata": {},
   "outputs": [
    {
     "data": {
      "text/plain": "Match Up    object\nW/L         object\nMIN         object\nPTS         object\nFGM         object\nFGA         object\nFG%         object\n3PM         object\n3PA         object\n3P%         object\nFTM         object\nFTA         object\nFT%         object\nOREB        object\nDREB        object\nREB         object\nAST         object\nSTL         object\nBLK         object\nTOV         object\nPF          object\n+/-         object\ndtype: object"
     },
     "execution_count": 13,
     "metadata": {},
     "output_type": "execute_result"
    }
   ],
   "source": [
    "df.dtypes"
   ]
  },
  {
   "cell_type": "code",
   "execution_count": 14,
   "metadata": {},
   "outputs": [
    {
     "data": {
      "text/plain": "Index(['Match Up', 'W/L', 'MIN', 'PTS', 'FGM', 'FGA', 'FG%', '3PM', '3PA',\n       '3P%', 'FTM', 'FTA', 'FT%', 'OREB', 'DREB', 'REB', 'AST', 'STL', 'BLK',\n       'TOV', 'PF', '+/-'],\n      dtype='object')"
     },
     "execution_count": 14,
     "metadata": {},
     "output_type": "execute_result"
    }
   ],
   "source": [
    "\n",
    "df.columns"
   ]
  },
  {
   "cell_type": "code",
   "execution_count": 15,
   "metadata": {},
   "outputs": [
    {
     "data": {
      "text/plain": "['FG%', '3P%', 'FT%']"
     },
     "execution_count": 15,
     "metadata": {},
     "output_type": "execute_result"
    }
   ],
   "source": [
    "float_cols= [col for col in df.columns if '%' in col]\n",
    "float_cols"
   ]
  },
  {
   "cell_type": "code",
   "execution_count": 16,
   "metadata": {},
   "outputs": [
    {
     "data": {
      "text/plain": "['MIN',\n 'PTS',\n 'FGM',\n 'FGA',\n '3PM',\n '3PA',\n 'FTM',\n 'FTA',\n 'OREB',\n 'DREB',\n 'REB',\n 'AST',\n 'STL',\n 'BLK',\n 'TOV',\n 'PF',\n '+/-']"
     },
     "execution_count": 16,
     "metadata": {},
     "output_type": "execute_result"
    }
   ],
   "source": [
    "obj_cols= ['Match Up','W/L']\n",
    "int_cols = [col for col in df.columns if (col not in float_cols) and (col not in obj_cols)]\n",
    "int_cols"
   ]
  },
  {
   "cell_type": "code",
   "execution_count": 17,
   "metadata": {},
   "outputs": [
    {
     "data": {
      "text/html": "<div>\n<style scoped>\n    .dataframe tbody tr th:only-of-type {\n        vertical-align: middle;\n    }\n\n    .dataframe tbody tr th {\n        vertical-align: top;\n    }\n\n    .dataframe thead th {\n        text-align: right;\n    }\n</style>\n<table border=\"1\" class=\"dataframe\">\n  <thead>\n    <tr style=\"text-align: right;\">\n      <th></th>\n      <th>Match Up</th>\n      <th>W/L</th>\n      <th>MIN</th>\n      <th>PTS</th>\n      <th>FGM</th>\n      <th>FGA</th>\n      <th>FG%</th>\n      <th>3PM</th>\n      <th>3PA</th>\n      <th>3P%</th>\n      <th>FTM</th>\n      <th>FTA</th>\n      <th>FT%</th>\n      <th>OREB</th>\n      <th>DREB</th>\n      <th>REB</th>\n      <th>AST</th>\n      <th>STL</th>\n      <th>BLK</th>\n      <th>TOV</th>\n      <th>PF</th>\n      <th>+/-</th>\n    </tr>\n  </thead>\n  <tbody>\n    <tr>\n      <td>0</td>\n      <td>Dec 25, 2019 - BOS @ TOR</td>\n      <td>W</td>\n      <td>35</td>\n      <td>11</td>\n      <td>5</td>\n      <td>18</td>\n      <td>27.8</td>\n      <td>1</td>\n      <td>3</td>\n      <td>33.3</td>\n      <td>0</td>\n      <td>0</td>\n      <td>0.0</td>\n      <td>4</td>\n      <td>5</td>\n      <td>9</td>\n      <td>6</td>\n      <td>2</td>\n      <td>0</td>\n      <td>3</td>\n      <td>4</td>\n      <td>21</td>\n    </tr>\n    <tr>\n      <td>1</td>\n      <td>Dec 22, 2019 - BOS vs. CHA</td>\n      <td>W</td>\n      <td>36</td>\n      <td>39</td>\n      <td>15</td>\n      <td>29</td>\n      <td>51.7</td>\n      <td>4</td>\n      <td>9</td>\n      <td>44.4</td>\n      <td>5</td>\n      <td>5</td>\n      <td>100</td>\n      <td>1</td>\n      <td>11</td>\n      <td>12</td>\n      <td>2</td>\n      <td>1</td>\n      <td>3</td>\n      <td>2</td>\n      <td>1</td>\n      <td>10</td>\n    </tr>\n    <tr>\n      <td>2</td>\n      <td>Dec 20, 2019 - BOS vs. DET</td>\n      <td>W</td>\n      <td>27</td>\n      <td>26</td>\n      <td>10</td>\n      <td>17</td>\n      <td>58.8</td>\n      <td>2</td>\n      <td>7</td>\n      <td>28.6</td>\n      <td>4</td>\n      <td>4</td>\n      <td>100</td>\n      <td>0</td>\n      <td>5</td>\n      <td>5</td>\n      <td>3</td>\n      <td>2</td>\n      <td>0</td>\n      <td>0</td>\n      <td>1</td>\n      <td>10</td>\n    </tr>\n    <tr>\n      <td>3</td>\n      <td>Dec 18, 2019 - BOS @ DAL</td>\n      <td>W</td>\n      <td>37</td>\n      <td>24</td>\n      <td>10</td>\n      <td>23</td>\n      <td>43.5</td>\n      <td>2</td>\n      <td>10</td>\n      <td>20.0</td>\n      <td>2</td>\n      <td>3</td>\n      <td>66.7</td>\n      <td>2</td>\n      <td>6</td>\n      <td>8</td>\n      <td>1</td>\n      <td>0</td>\n      <td>1</td>\n      <td>3</td>\n      <td>3</td>\n      <td>-2</td>\n    </tr>\n    <tr>\n      <td>4</td>\n      <td>Dec 12, 2019 - BOS vs. PHI</td>\n      <td>L</td>\n      <td>34</td>\n      <td>15</td>\n      <td>5</td>\n      <td>18</td>\n      <td>27.8</td>\n      <td>3</td>\n      <td>8</td>\n      <td>37.5</td>\n      <td>2</td>\n      <td>2</td>\n      <td>100</td>\n      <td>1</td>\n      <td>2</td>\n      <td>3</td>\n      <td>4</td>\n      <td>0</td>\n      <td>1</td>\n      <td>1</td>\n      <td>4</td>\n      <td>-2</td>\n    </tr>\n    <tr>\n      <td>5</td>\n      <td>Dec 11, 2019 - BOS @ IND</td>\n      <td>L</td>\n      <td>37</td>\n      <td>16</td>\n      <td>4</td>\n      <td>13</td>\n      <td>30.8</td>\n      <td>2</td>\n      <td>8</td>\n      <td>25.0</td>\n      <td>6</td>\n      <td>6</td>\n      <td>100</td>\n      <td>0</td>\n      <td>6</td>\n      <td>6</td>\n      <td>3</td>\n      <td>2</td>\n      <td>0</td>\n      <td>3</td>\n      <td>2</td>\n      <td>-8</td>\n    </tr>\n    <tr>\n      <td>6</td>\n      <td>Dec 09, 2019 - BOS vs. CLE</td>\n      <td>W</td>\n      <td>30</td>\n      <td>19</td>\n      <td>7</td>\n      <td>14</td>\n      <td>50.0</td>\n      <td>4</td>\n      <td>6</td>\n      <td>66.7</td>\n      <td>1</td>\n      <td>2</td>\n      <td>50.0</td>\n      <td>0</td>\n      <td>11</td>\n      <td>11</td>\n      <td>2</td>\n      <td>2</td>\n      <td>2</td>\n      <td>4</td>\n      <td>1</td>\n      <td>24</td>\n    </tr>\n    <tr>\n      <td>7</td>\n      <td>Dec 06, 2019 - BOS vs. DEN</td>\n      <td>W</td>\n      <td>30</td>\n      <td>26</td>\n      <td>10</td>\n      <td>19</td>\n      <td>52.6</td>\n      <td>4</td>\n      <td>8</td>\n      <td>50.0</td>\n      <td>2</td>\n      <td>2</td>\n      <td>100</td>\n      <td>0</td>\n      <td>7</td>\n      <td>7</td>\n      <td>5</td>\n      <td>1</td>\n      <td>0</td>\n      <td>1</td>\n      <td>1</td>\n      <td>14</td>\n    </tr>\n    <tr>\n      <td>8</td>\n      <td>Dec 04, 2019 - BOS vs. MIA</td>\n      <td>W</td>\n      <td>34</td>\n      <td>19</td>\n      <td>6</td>\n      <td>19</td>\n      <td>31.6</td>\n      <td>2</td>\n      <td>12</td>\n      <td>16.7</td>\n      <td>5</td>\n      <td>6</td>\n      <td>83.3</td>\n      <td>1</td>\n      <td>4</td>\n      <td>5</td>\n      <td>3</td>\n      <td>1</td>\n      <td>3</td>\n      <td>3</td>\n      <td>2</td>\n      <td>31</td>\n    </tr>\n    <tr>\n      <td>9</td>\n      <td>Dec 01, 2019 - BOS @ NYK</td>\n      <td>W</td>\n      <td>37</td>\n      <td>30</td>\n      <td>10</td>\n      <td>23</td>\n      <td>43.5</td>\n      <td>5</td>\n      <td>11</td>\n      <td>45.5</td>\n      <td>5</td>\n      <td>6</td>\n      <td>83.3</td>\n      <td>0</td>\n      <td>6</td>\n      <td>6</td>\n      <td>7</td>\n      <td>2</td>\n      <td>2</td>\n      <td>1</td>\n      <td>4</td>\n      <td>11</td>\n    </tr>\n    <tr>\n      <td>10</td>\n      <td>Nov 29, 2019 - BOS @ BKN</td>\n      <td>L</td>\n      <td>37</td>\n      <td>26</td>\n      <td>10</td>\n      <td>19</td>\n      <td>52.6</td>\n      <td>4</td>\n      <td>8</td>\n      <td>50.0</td>\n      <td>2</td>\n      <td>2</td>\n      <td>100</td>\n      <td>1</td>\n      <td>8</td>\n      <td>9</td>\n      <td>0</td>\n      <td>4</td>\n      <td>0</td>\n      <td>6</td>\n      <td>0</td>\n      <td>13</td>\n    </tr>\n    <tr>\n      <td>11</td>\n      <td>Nov 27, 2019 - BOS vs. BKN</td>\n      <td>W</td>\n      <td>35</td>\n      <td>16</td>\n      <td>5</td>\n      <td>17</td>\n      <td>29.4</td>\n      <td>0</td>\n      <td>4</td>\n      <td>0.0</td>\n      <td>6</td>\n      <td>6</td>\n      <td>100</td>\n      <td>3</td>\n      <td>6</td>\n      <td>9</td>\n      <td>5</td>\n      <td>1</td>\n      <td>0</td>\n      <td>3</td>\n      <td>2</td>\n      <td>11</td>\n    </tr>\n    <tr>\n      <td>12</td>\n      <td>Nov 25, 2019 - BOS vs. SAC</td>\n      <td>W</td>\n      <td>34</td>\n      <td>20</td>\n      <td>7</td>\n      <td>18</td>\n      <td>38.9</td>\n      <td>0</td>\n      <td>3</td>\n      <td>0.0</td>\n      <td>6</td>\n      <td>7</td>\n      <td>85.7</td>\n      <td>1</td>\n      <td>5</td>\n      <td>6</td>\n      <td>3</td>\n      <td>0</td>\n      <td>0</td>\n      <td>3</td>\n      <td>4</td>\n      <td>4</td>\n    </tr>\n    <tr>\n      <td>13</td>\n      <td>Nov 22, 2019 - BOS @ DEN</td>\n      <td>L</td>\n      <td>32</td>\n      <td>16</td>\n      <td>6</td>\n      <td>16</td>\n      <td>37.5</td>\n      <td>0</td>\n      <td>5</td>\n      <td>0.0</td>\n      <td>4</td>\n      <td>5</td>\n      <td>80.0</td>\n      <td>0</td>\n      <td>2</td>\n      <td>2</td>\n      <td>3</td>\n      <td>0</td>\n      <td>1</td>\n      <td>0</td>\n      <td>1</td>\n      <td>-23</td>\n    </tr>\n    <tr>\n      <td>14</td>\n      <td>Nov 20, 2019 - BOS @ LAC</td>\n      <td>L</td>\n      <td>41</td>\n      <td>30</td>\n      <td>12</td>\n      <td>24</td>\n      <td>50.0</td>\n      <td>5</td>\n      <td>10</td>\n      <td>50.0</td>\n      <td>1</td>\n      <td>2</td>\n      <td>50.0</td>\n      <td>0</td>\n      <td>6</td>\n      <td>6</td>\n      <td>3</td>\n      <td>2</td>\n      <td>2</td>\n      <td>3</td>\n      <td>4</td>\n      <td>-6</td>\n    </tr>\n    <tr>\n      <td>15</td>\n      <td>Nov 18, 2019 - BOS @ PHX</td>\n      <td>W</td>\n      <td>27</td>\n      <td>26</td>\n      <td>8</td>\n      <td>16</td>\n      <td>50.0</td>\n      <td>3</td>\n      <td>9</td>\n      <td>33.3</td>\n      <td>7</td>\n      <td>9</td>\n      <td>77.8</td>\n      <td>2</td>\n      <td>9</td>\n      <td>11</td>\n      <td>3</td>\n      <td>1</td>\n      <td>0</td>\n      <td>4</td>\n      <td>3</td>\n      <td>8</td>\n    </tr>\n    <tr>\n      <td>16</td>\n      <td>Nov 17, 2019 - BOS @ SAC</td>\n      <td>L</td>\n      <td>30</td>\n      <td>14</td>\n      <td>6</td>\n      <td>13</td>\n      <td>46.2</td>\n      <td>1</td>\n      <td>4</td>\n      <td>25.0</td>\n      <td>1</td>\n      <td>1</td>\n      <td>100</td>\n      <td>0</td>\n      <td>6</td>\n      <td>6</td>\n      <td>2</td>\n      <td>0</td>\n      <td>1</td>\n      <td>1</td>\n      <td>0</td>\n      <td>12</td>\n    </tr>\n    <tr>\n      <td>17</td>\n      <td>Nov 15, 2019 - BOS @ GSW</td>\n      <td>W</td>\n      <td>38</td>\n      <td>24</td>\n      <td>8</td>\n      <td>23</td>\n      <td>34.8</td>\n      <td>2</td>\n      <td>7</td>\n      <td>28.6</td>\n      <td>6</td>\n      <td>7</td>\n      <td>85.7</td>\n      <td>3</td>\n      <td>5</td>\n      <td>8</td>\n      <td>1</td>\n      <td>3</td>\n      <td>0</td>\n      <td>2</td>\n      <td>3</td>\n      <td>6</td>\n    </tr>\n    <tr>\n      <td>18</td>\n      <td>Nov 13, 2019 - BOS vs. WAS</td>\n      <td>W</td>\n      <td>35</td>\n      <td>23</td>\n      <td>9</td>\n      <td>20</td>\n      <td>45.0</td>\n      <td>1</td>\n      <td>5</td>\n      <td>20.0</td>\n      <td>4</td>\n      <td>4</td>\n      <td>100</td>\n      <td>2</td>\n      <td>1</td>\n      <td>3</td>\n      <td>4</td>\n      <td>0</td>\n      <td>0</td>\n      <td>1</td>\n      <td>3</td>\n      <td>14</td>\n    </tr>\n    <tr>\n      <td>19</td>\n      <td>Nov 11, 2019 - BOS vs. DAL</td>\n      <td>W</td>\n      <td>35</td>\n      <td>5</td>\n      <td>1</td>\n      <td>18</td>\n      <td>5.6</td>\n      <td>0</td>\n      <td>3</td>\n      <td>0.0</td>\n      <td>3</td>\n      <td>4</td>\n      <td>75.0</td>\n      <td>3</td>\n      <td>5</td>\n      <td>8</td>\n      <td>4</td>\n      <td>1</td>\n      <td>0</td>\n      <td>1</td>\n      <td>3</td>\n      <td>16</td>\n    </tr>\n    <tr>\n      <td>20</td>\n      <td>Nov 09, 2019 - BOS @ SAS</td>\n      <td>W</td>\n      <td>34</td>\n      <td>19</td>\n      <td>6</td>\n      <td>13</td>\n      <td>46.2</td>\n      <td>2</td>\n      <td>6</td>\n      <td>33.3</td>\n      <td>5</td>\n      <td>6</td>\n      <td>83.3</td>\n      <td>1</td>\n      <td>6</td>\n      <td>7</td>\n      <td>4</td>\n      <td>3</td>\n      <td>0</td>\n      <td>2</td>\n      <td>3</td>\n      <td>23</td>\n    </tr>\n    <tr>\n      <td>21</td>\n      <td>Nov 07, 2019 - BOS @ CHA</td>\n      <td>W</td>\n      <td>29</td>\n      <td>23</td>\n      <td>8</td>\n      <td>17</td>\n      <td>47.1</td>\n      <td>4</td>\n      <td>6</td>\n      <td>66.7</td>\n      <td>3</td>\n      <td>4</td>\n      <td>75.0</td>\n      <td>2</td>\n      <td>7</td>\n      <td>9</td>\n      <td>1</td>\n      <td>2</td>\n      <td>1</td>\n      <td>1</td>\n      <td>0</td>\n      <td>13</td>\n    </tr>\n    <tr>\n      <td>22</td>\n      <td>Nov 05, 2019 - BOS @ CLE</td>\n      <td>W</td>\n      <td>34</td>\n      <td>18</td>\n      <td>9</td>\n      <td>16</td>\n      <td>56.3</td>\n      <td>0</td>\n      <td>5</td>\n      <td>0.0</td>\n      <td>0</td>\n      <td>0</td>\n      <td>0.0</td>\n      <td>0</td>\n      <td>7</td>\n      <td>7</td>\n      <td>1</td>\n      <td>1</td>\n      <td>2</td>\n      <td>4</td>\n      <td>1</td>\n      <td>9</td>\n    </tr>\n    <tr>\n      <td>23</td>\n      <td>Nov 01, 2019 - BOS vs. NYK</td>\n      <td>W</td>\n      <td>34</td>\n      <td>24</td>\n      <td>9</td>\n      <td>17</td>\n      <td>52.9</td>\n      <td>4</td>\n      <td>8</td>\n      <td>50.0</td>\n      <td>2</td>\n      <td>2</td>\n      <td>100</td>\n      <td>1</td>\n      <td>5</td>\n      <td>6</td>\n      <td>3</td>\n      <td>0</td>\n      <td>0</td>\n      <td>2</td>\n      <td>4</td>\n      <td>12</td>\n    </tr>\n    <tr>\n      <td>24</td>\n      <td>Oct 30, 2019 - BOS vs. MIL</td>\n      <td>W</td>\n      <td>39</td>\n      <td>25</td>\n      <td>10</td>\n      <td>22</td>\n      <td>45.5</td>\n      <td>4</td>\n      <td>7</td>\n      <td>57.1</td>\n      <td>1</td>\n      <td>2</td>\n      <td>50.0</td>\n      <td>1</td>\n      <td>3</td>\n      <td>4</td>\n      <td>2</td>\n      <td>0</td>\n      <td>1</td>\n      <td>1</td>\n      <td>5</td>\n      <td>16</td>\n    </tr>\n    <tr>\n      <td>25</td>\n      <td>Oct 26, 2019 - BOS @ NYK</td>\n      <td>W</td>\n      <td>34</td>\n      <td>15</td>\n      <td>5</td>\n      <td>17</td>\n      <td>29.4</td>\n      <td>2</td>\n      <td>7</td>\n      <td>28.6</td>\n      <td>3</td>\n      <td>4</td>\n      <td>75.0</td>\n      <td>2</td>\n      <td>7</td>\n      <td>9</td>\n      <td>0</td>\n      <td>3</td>\n      <td>2</td>\n      <td>2</td>\n      <td>3</td>\n      <td>20</td>\n    </tr>\n    <tr>\n      <td>26</td>\n      <td>Oct 25, 2019 - BOS vs. TOR</td>\n      <td>W</td>\n      <td>35</td>\n      <td>25</td>\n      <td>8</td>\n      <td>22</td>\n      <td>36.4</td>\n      <td>4</td>\n      <td>7</td>\n      <td>57.1</td>\n      <td>5</td>\n      <td>5</td>\n      <td>100</td>\n      <td>3</td>\n      <td>6</td>\n      <td>9</td>\n      <td>4</td>\n      <td>3</td>\n      <td>0</td>\n      <td>0</td>\n      <td>0</td>\n      <td>9</td>\n    </tr>\n    <tr>\n      <td>27</td>\n      <td>Oct 23, 2019 - BOS @ PHI</td>\n      <td>L</td>\n      <td>37</td>\n      <td>21</td>\n      <td>8</td>\n      <td>22</td>\n      <td>36.4</td>\n      <td>4</td>\n      <td>8</td>\n      <td>50.0</td>\n      <td>1</td>\n      <td>3</td>\n      <td>33.3</td>\n      <td>1</td>\n      <td>9</td>\n      <td>10</td>\n      <td>2</td>\n      <td>2</td>\n      <td>0</td>\n      <td>4</td>\n      <td>2</td>\n      <td>-4</td>\n    </tr>\n    <tr>\n      <td>28</td>\n      <td>NaN</td>\n      <td>NaN</td>\n      <td>NaN</td>\n      <td>NaN</td>\n      <td>NaN</td>\n      <td>NaN</td>\n      <td>NaN</td>\n      <td>NaN</td>\n      <td>NaN</td>\n      <td>NaN</td>\n      <td>NaN</td>\n      <td>NaN</td>\n      <td>NaN</td>\n      <td>NaN</td>\n      <td>NaN</td>\n      <td>NaN</td>\n      <td>NaN</td>\n      <td>NaN</td>\n      <td>NaN</td>\n      <td>NaN</td>\n      <td>NaN</td>\n      <td>NaN</td>\n    </tr>\n    <tr>\n      <td>29</td>\n      <td>Dec 25, 2019 - BOS @ TOR</td>\n      <td>NaN</td>\n      <td>NaN</td>\n      <td>NaN</td>\n      <td>NaN</td>\n      <td>NaN</td>\n      <td>NaN</td>\n      <td>NaN</td>\n      <td>NaN</td>\n      <td>NaN</td>\n      <td>NaN</td>\n      <td>NaN</td>\n      <td>NaN</td>\n      <td>NaN</td>\n      <td>NaN</td>\n      <td>NaN</td>\n      <td>NaN</td>\n      <td>NaN</td>\n      <td>NaN</td>\n      <td>NaN</td>\n      <td>NaN</td>\n      <td>NaN</td>\n    </tr>\n    <tr>\n      <td>30</td>\n      <td>Dec 22, 2019 - BOS vs. CHA</td>\n      <td>NaN</td>\n      <td>NaN</td>\n      <td>NaN</td>\n      <td>NaN</td>\n      <td>NaN</td>\n      <td>NaN</td>\n      <td>NaN</td>\n      <td>NaN</td>\n      <td>NaN</td>\n      <td>NaN</td>\n      <td>NaN</td>\n      <td>NaN</td>\n      <td>NaN</td>\n      <td>NaN</td>\n      <td>NaN</td>\n      <td>NaN</td>\n      <td>NaN</td>\n      <td>NaN</td>\n      <td>NaN</td>\n      <td>NaN</td>\n      <td>NaN</td>\n    </tr>\n    <tr>\n      <td>31</td>\n      <td>Dec 20, 2019 - BOS vs. DET</td>\n      <td>NaN</td>\n      <td>NaN</td>\n      <td>NaN</td>\n      <td>NaN</td>\n      <td>NaN</td>\n      <td>NaN</td>\n      <td>NaN</td>\n      <td>NaN</td>\n      <td>NaN</td>\n      <td>NaN</td>\n      <td>NaN</td>\n      <td>NaN</td>\n      <td>NaN</td>\n      <td>NaN</td>\n      <td>NaN</td>\n      <td>NaN</td>\n      <td>NaN</td>\n      <td>NaN</td>\n      <td>NaN</td>\n      <td>NaN</td>\n      <td>NaN</td>\n    </tr>\n    <tr>\n      <td>32</td>\n      <td>Dec 18, 2019 - BOS @ DAL</td>\n      <td>NaN</td>\n      <td>NaN</td>\n      <td>NaN</td>\n      <td>NaN</td>\n      <td>NaN</td>\n      <td>NaN</td>\n      <td>NaN</td>\n      <td>NaN</td>\n      <td>NaN</td>\n      <td>NaN</td>\n      <td>NaN</td>\n      <td>NaN</td>\n      <td>NaN</td>\n      <td>NaN</td>\n      <td>NaN</td>\n      <td>NaN</td>\n      <td>NaN</td>\n      <td>NaN</td>\n      <td>NaN</td>\n      <td>NaN</td>\n      <td>NaN</td>\n    </tr>\n    <tr>\n      <td>33</td>\n      <td>Dec 12, 2019 - BOS vs. PHI</td>\n      <td>NaN</td>\n      <td>NaN</td>\n      <td>NaN</td>\n      <td>NaN</td>\n      <td>NaN</td>\n      <td>NaN</td>\n      <td>NaN</td>\n      <td>NaN</td>\n      <td>NaN</td>\n      <td>NaN</td>\n      <td>NaN</td>\n      <td>NaN</td>\n      <td>NaN</td>\n      <td>NaN</td>\n      <td>NaN</td>\n      <td>NaN</td>\n      <td>NaN</td>\n      <td>NaN</td>\n      <td>NaN</td>\n      <td>NaN</td>\n      <td>NaN</td>\n    </tr>\n    <tr>\n      <td>34</td>\n      <td>Dec 11, 2019 - BOS @ IND</td>\n      <td>NaN</td>\n      <td>NaN</td>\n      <td>NaN</td>\n      <td>NaN</td>\n      <td>NaN</td>\n      <td>NaN</td>\n      <td>NaN</td>\n      <td>NaN</td>\n      <td>NaN</td>\n      <td>NaN</td>\n      <td>NaN</td>\n      <td>NaN</td>\n      <td>NaN</td>\n      <td>NaN</td>\n      <td>NaN</td>\n      <td>NaN</td>\n      <td>NaN</td>\n      <td>NaN</td>\n      <td>NaN</td>\n      <td>NaN</td>\n      <td>NaN</td>\n    </tr>\n    <tr>\n      <td>35</td>\n      <td>Dec 09, 2019 - BOS vs. CLE</td>\n      <td>NaN</td>\n      <td>NaN</td>\n      <td>NaN</td>\n      <td>NaN</td>\n      <td>NaN</td>\n      <td>NaN</td>\n      <td>NaN</td>\n      <td>NaN</td>\n      <td>NaN</td>\n      <td>NaN</td>\n      <td>NaN</td>\n      <td>NaN</td>\n      <td>NaN</td>\n      <td>NaN</td>\n      <td>NaN</td>\n      <td>NaN</td>\n      <td>NaN</td>\n      <td>NaN</td>\n      <td>NaN</td>\n      <td>NaN</td>\n      <td>NaN</td>\n    </tr>\n    <tr>\n      <td>36</td>\n      <td>Dec 06, 2019 - BOS vs. DEN</td>\n      <td>NaN</td>\n      <td>NaN</td>\n      <td>NaN</td>\n      <td>NaN</td>\n      <td>NaN</td>\n      <td>NaN</td>\n      <td>NaN</td>\n      <td>NaN</td>\n      <td>NaN</td>\n      <td>NaN</td>\n      <td>NaN</td>\n      <td>NaN</td>\n      <td>NaN</td>\n      <td>NaN</td>\n      <td>NaN</td>\n      <td>NaN</td>\n      <td>NaN</td>\n      <td>NaN</td>\n      <td>NaN</td>\n      <td>NaN</td>\n      <td>NaN</td>\n    </tr>\n    <tr>\n      <td>37</td>\n      <td>Dec 04, 2019 - BOS vs. MIA</td>\n      <td>NaN</td>\n      <td>NaN</td>\n      <td>NaN</td>\n      <td>NaN</td>\n      <td>NaN</td>\n      <td>NaN</td>\n      <td>NaN</td>\n      <td>NaN</td>\n      <td>NaN</td>\n      <td>NaN</td>\n      <td>NaN</td>\n      <td>NaN</td>\n      <td>NaN</td>\n      <td>NaN</td>\n      <td>NaN</td>\n      <td>NaN</td>\n      <td>NaN</td>\n      <td>NaN</td>\n      <td>NaN</td>\n      <td>NaN</td>\n      <td>NaN</td>\n    </tr>\n    <tr>\n      <td>38</td>\n      <td>Dec 01, 2019 - BOS @ NYK</td>\n      <td>NaN</td>\n      <td>NaN</td>\n      <td>NaN</td>\n      <td>NaN</td>\n      <td>NaN</td>\n      <td>NaN</td>\n      <td>NaN</td>\n      <td>NaN</td>\n      <td>NaN</td>\n      <td>NaN</td>\n      <td>NaN</td>\n      <td>NaN</td>\n      <td>NaN</td>\n      <td>NaN</td>\n      <td>NaN</td>\n      <td>NaN</td>\n      <td>NaN</td>\n      <td>NaN</td>\n      <td>NaN</td>\n      <td>NaN</td>\n      <td>NaN</td>\n    </tr>\n    <tr>\n      <td>39</td>\n      <td>Nov 29, 2019 - BOS @ BKN</td>\n      <td>NaN</td>\n      <td>NaN</td>\n      <td>NaN</td>\n      <td>NaN</td>\n      <td>NaN</td>\n      <td>NaN</td>\n      <td>NaN</td>\n      <td>NaN</td>\n      <td>NaN</td>\n      <td>NaN</td>\n      <td>NaN</td>\n      <td>NaN</td>\n      <td>NaN</td>\n      <td>NaN</td>\n      <td>NaN</td>\n      <td>NaN</td>\n      <td>NaN</td>\n      <td>NaN</td>\n      <td>NaN</td>\n      <td>NaN</td>\n      <td>NaN</td>\n    </tr>\n    <tr>\n      <td>40</td>\n      <td>Nov 27, 2019 - BOS vs. BKN</td>\n      <td>NaN</td>\n      <td>NaN</td>\n      <td>NaN</td>\n      <td>NaN</td>\n      <td>NaN</td>\n      <td>NaN</td>\n      <td>NaN</td>\n      <td>NaN</td>\n      <td>NaN</td>\n      <td>NaN</td>\n      <td>NaN</td>\n      <td>NaN</td>\n      <td>NaN</td>\n      <td>NaN</td>\n      <td>NaN</td>\n      <td>NaN</td>\n      <td>NaN</td>\n      <td>NaN</td>\n      <td>NaN</td>\n      <td>NaN</td>\n      <td>NaN</td>\n    </tr>\n    <tr>\n      <td>41</td>\n      <td>Nov 25, 2019 - BOS vs. SAC</td>\n      <td>NaN</td>\n      <td>NaN</td>\n      <td>NaN</td>\n      <td>NaN</td>\n      <td>NaN</td>\n      <td>NaN</td>\n      <td>NaN</td>\n      <td>NaN</td>\n      <td>NaN</td>\n      <td>NaN</td>\n      <td>NaN</td>\n      <td>NaN</td>\n      <td>NaN</td>\n      <td>NaN</td>\n      <td>NaN</td>\n      <td>NaN</td>\n      <td>NaN</td>\n      <td>NaN</td>\n      <td>NaN</td>\n      <td>NaN</td>\n      <td>NaN</td>\n    </tr>\n    <tr>\n      <td>42</td>\n      <td>Nov 22, 2019 - BOS @ DEN</td>\n      <td>NaN</td>\n      <td>NaN</td>\n      <td>NaN</td>\n      <td>NaN</td>\n      <td>NaN</td>\n      <td>NaN</td>\n      <td>NaN</td>\n      <td>NaN</td>\n      <td>NaN</td>\n      <td>NaN</td>\n      <td>NaN</td>\n      <td>NaN</td>\n      <td>NaN</td>\n      <td>NaN</td>\n      <td>NaN</td>\n      <td>NaN</td>\n      <td>NaN</td>\n      <td>NaN</td>\n      <td>NaN</td>\n      <td>NaN</td>\n      <td>NaN</td>\n    </tr>\n    <tr>\n      <td>43</td>\n      <td>Nov 20, 2019 - BOS @ LAC</td>\n      <td>NaN</td>\n      <td>NaN</td>\n      <td>NaN</td>\n      <td>NaN</td>\n      <td>NaN</td>\n      <td>NaN</td>\n      <td>NaN</td>\n      <td>NaN</td>\n      <td>NaN</td>\n      <td>NaN</td>\n      <td>NaN</td>\n      <td>NaN</td>\n      <td>NaN</td>\n      <td>NaN</td>\n      <td>NaN</td>\n      <td>NaN</td>\n      <td>NaN</td>\n      <td>NaN</td>\n      <td>NaN</td>\n      <td>NaN</td>\n      <td>NaN</td>\n    </tr>\n    <tr>\n      <td>44</td>\n      <td>Nov 18, 2019 - BOS @ PHX</td>\n      <td>NaN</td>\n      <td>NaN</td>\n      <td>NaN</td>\n      <td>NaN</td>\n      <td>NaN</td>\n      <td>NaN</td>\n      <td>NaN</td>\n      <td>NaN</td>\n      <td>NaN</td>\n      <td>NaN</td>\n      <td>NaN</td>\n      <td>NaN</td>\n      <td>NaN</td>\n      <td>NaN</td>\n      <td>NaN</td>\n      <td>NaN</td>\n      <td>NaN</td>\n      <td>NaN</td>\n      <td>NaN</td>\n      <td>NaN</td>\n      <td>NaN</td>\n    </tr>\n    <tr>\n      <td>45</td>\n      <td>Nov 17, 2019 - BOS @ SAC</td>\n      <td>NaN</td>\n      <td>NaN</td>\n      <td>NaN</td>\n      <td>NaN</td>\n      <td>NaN</td>\n      <td>NaN</td>\n      <td>NaN</td>\n      <td>NaN</td>\n      <td>NaN</td>\n      <td>NaN</td>\n      <td>NaN</td>\n      <td>NaN</td>\n      <td>NaN</td>\n      <td>NaN</td>\n      <td>NaN</td>\n      <td>NaN</td>\n      <td>NaN</td>\n      <td>NaN</td>\n      <td>NaN</td>\n      <td>NaN</td>\n      <td>NaN</td>\n    </tr>\n    <tr>\n      <td>46</td>\n      <td>Nov 15, 2019 - BOS @ GSW</td>\n      <td>NaN</td>\n      <td>NaN</td>\n      <td>NaN</td>\n      <td>NaN</td>\n      <td>NaN</td>\n      <td>NaN</td>\n      <td>NaN</td>\n      <td>NaN</td>\n      <td>NaN</td>\n      <td>NaN</td>\n      <td>NaN</td>\n      <td>NaN</td>\n      <td>NaN</td>\n      <td>NaN</td>\n      <td>NaN</td>\n      <td>NaN</td>\n      <td>NaN</td>\n      <td>NaN</td>\n      <td>NaN</td>\n      <td>NaN</td>\n      <td>NaN</td>\n    </tr>\n    <tr>\n      <td>47</td>\n      <td>Nov 13, 2019 - BOS vs. WAS</td>\n      <td>NaN</td>\n      <td>NaN</td>\n      <td>NaN</td>\n      <td>NaN</td>\n      <td>NaN</td>\n      <td>NaN</td>\n      <td>NaN</td>\n      <td>NaN</td>\n      <td>NaN</td>\n      <td>NaN</td>\n      <td>NaN</td>\n      <td>NaN</td>\n      <td>NaN</td>\n      <td>NaN</td>\n      <td>NaN</td>\n      <td>NaN</td>\n      <td>NaN</td>\n      <td>NaN</td>\n      <td>NaN</td>\n      <td>NaN</td>\n      <td>NaN</td>\n    </tr>\n    <tr>\n      <td>48</td>\n      <td>Nov 11, 2019 - BOS vs. DAL</td>\n      <td>NaN</td>\n      <td>NaN</td>\n      <td>NaN</td>\n      <td>NaN</td>\n      <td>NaN</td>\n      <td>NaN</td>\n      <td>NaN</td>\n      <td>NaN</td>\n      <td>NaN</td>\n      <td>NaN</td>\n      <td>NaN</td>\n      <td>NaN</td>\n      <td>NaN</td>\n      <td>NaN</td>\n      <td>NaN</td>\n      <td>NaN</td>\n      <td>NaN</td>\n      <td>NaN</td>\n      <td>NaN</td>\n      <td>NaN</td>\n      <td>NaN</td>\n    </tr>\n    <tr>\n      <td>49</td>\n      <td>Nov 09, 2019 - BOS @ SAS</td>\n      <td>NaN</td>\n      <td>NaN</td>\n      <td>NaN</td>\n      <td>NaN</td>\n      <td>NaN</td>\n      <td>NaN</td>\n      <td>NaN</td>\n      <td>NaN</td>\n      <td>NaN</td>\n      <td>NaN</td>\n      <td>NaN</td>\n      <td>NaN</td>\n      <td>NaN</td>\n      <td>NaN</td>\n      <td>NaN</td>\n      <td>NaN</td>\n      <td>NaN</td>\n      <td>NaN</td>\n      <td>NaN</td>\n      <td>NaN</td>\n      <td>NaN</td>\n    </tr>\n    <tr>\n      <td>50</td>\n      <td>Nov 07, 2019 - BOS @ CHA</td>\n      <td>NaN</td>\n      <td>NaN</td>\n      <td>NaN</td>\n      <td>NaN</td>\n      <td>NaN</td>\n      <td>NaN</td>\n      <td>NaN</td>\n      <td>NaN</td>\n      <td>NaN</td>\n      <td>NaN</td>\n      <td>NaN</td>\n      <td>NaN</td>\n      <td>NaN</td>\n      <td>NaN</td>\n      <td>NaN</td>\n      <td>NaN</td>\n      <td>NaN</td>\n      <td>NaN</td>\n      <td>NaN</td>\n      <td>NaN</td>\n      <td>NaN</td>\n    </tr>\n    <tr>\n      <td>51</td>\n      <td>Nov 05, 2019 - BOS @ CLE</td>\n      <td>NaN</td>\n      <td>NaN</td>\n      <td>NaN</td>\n      <td>NaN</td>\n      <td>NaN</td>\n      <td>NaN</td>\n      <td>NaN</td>\n      <td>NaN</td>\n      <td>NaN</td>\n      <td>NaN</td>\n      <td>NaN</td>\n      <td>NaN</td>\n      <td>NaN</td>\n      <td>NaN</td>\n      <td>NaN</td>\n      <td>NaN</td>\n      <td>NaN</td>\n      <td>NaN</td>\n      <td>NaN</td>\n      <td>NaN</td>\n      <td>NaN</td>\n    </tr>\n    <tr>\n      <td>52</td>\n      <td>Nov 01, 2019 - BOS vs. NYK</td>\n      <td>NaN</td>\n      <td>NaN</td>\n      <td>NaN</td>\n      <td>NaN</td>\n      <td>NaN</td>\n      <td>NaN</td>\n      <td>NaN</td>\n      <td>NaN</td>\n      <td>NaN</td>\n      <td>NaN</td>\n      <td>NaN</td>\n      <td>NaN</td>\n      <td>NaN</td>\n      <td>NaN</td>\n      <td>NaN</td>\n      <td>NaN</td>\n      <td>NaN</td>\n      <td>NaN</td>\n      <td>NaN</td>\n      <td>NaN</td>\n      <td>NaN</td>\n    </tr>\n    <tr>\n      <td>53</td>\n      <td>Oct 30, 2019 - BOS vs. MIL</td>\n      <td>NaN</td>\n      <td>NaN</td>\n      <td>NaN</td>\n      <td>NaN</td>\n      <td>NaN</td>\n      <td>NaN</td>\n      <td>NaN</td>\n      <td>NaN</td>\n      <td>NaN</td>\n      <td>NaN</td>\n      <td>NaN</td>\n      <td>NaN</td>\n      <td>NaN</td>\n      <td>NaN</td>\n      <td>NaN</td>\n      <td>NaN</td>\n      <td>NaN</td>\n      <td>NaN</td>\n      <td>NaN</td>\n      <td>NaN</td>\n      <td>NaN</td>\n    </tr>\n    <tr>\n      <td>54</td>\n      <td>Oct 26, 2019 - BOS @ NYK</td>\n      <td>NaN</td>\n      <td>NaN</td>\n      <td>NaN</td>\n      <td>NaN</td>\n      <td>NaN</td>\n      <td>NaN</td>\n      <td>NaN</td>\n      <td>NaN</td>\n      <td>NaN</td>\n      <td>NaN</td>\n      <td>NaN</td>\n      <td>NaN</td>\n      <td>NaN</td>\n      <td>NaN</td>\n      <td>NaN</td>\n      <td>NaN</td>\n      <td>NaN</td>\n      <td>NaN</td>\n      <td>NaN</td>\n      <td>NaN</td>\n      <td>NaN</td>\n    </tr>\n    <tr>\n      <td>55</td>\n      <td>Oct 25, 2019 - BOS vs. TOR</td>\n      <td>NaN</td>\n      <td>NaN</td>\n      <td>NaN</td>\n      <td>NaN</td>\n      <td>NaN</td>\n      <td>NaN</td>\n      <td>NaN</td>\n      <td>NaN</td>\n      <td>NaN</td>\n      <td>NaN</td>\n      <td>NaN</td>\n      <td>NaN</td>\n      <td>NaN</td>\n      <td>NaN</td>\n      <td>NaN</td>\n      <td>NaN</td>\n      <td>NaN</td>\n      <td>NaN</td>\n      <td>NaN</td>\n      <td>NaN</td>\n      <td>NaN</td>\n    </tr>\n    <tr>\n      <td>56</td>\n      <td>Oct 23, 2019 - BOS @ PHI</td>\n      <td>NaN</td>\n      <td>NaN</td>\n      <td>NaN</td>\n      <td>NaN</td>\n      <td>NaN</td>\n      <td>NaN</td>\n      <td>NaN</td>\n      <td>NaN</td>\n      <td>NaN</td>\n      <td>NaN</td>\n      <td>NaN</td>\n      <td>NaN</td>\n      <td>NaN</td>\n      <td>NaN</td>\n      <td>NaN</td>\n      <td>NaN</td>\n      <td>NaN</td>\n      <td>NaN</td>\n      <td>NaN</td>\n      <td>NaN</td>\n      <td>NaN</td>\n    </tr>\n  </tbody>\n</table>\n</div>",
      "text/plain": "                      Match Up  W/L  MIN  PTS  FGM  ...  STL  BLK  TOV   PF  +/-\n0     Dec 25, 2019 - BOS @ TOR    W   35   11    5  ...    2    0    3    4   21\n1   Dec 22, 2019 - BOS vs. CHA    W   36   39   15  ...    1    3    2    1   10\n2   Dec 20, 2019 - BOS vs. DET    W   27   26   10  ...    2    0    0    1   10\n3     Dec 18, 2019 - BOS @ DAL    W   37   24   10  ...    0    1    3    3   -2\n4   Dec 12, 2019 - BOS vs. PHI    L   34   15    5  ...    0    1    1    4   -2\n5     Dec 11, 2019 - BOS @ IND    L   37   16    4  ...    2    0    3    2   -8\n6   Dec 09, 2019 - BOS vs. CLE    W   30   19    7  ...    2    2    4    1   24\n7   Dec 06, 2019 - BOS vs. DEN    W   30   26   10  ...    1    0    1    1   14\n8   Dec 04, 2019 - BOS vs. MIA    W   34   19    6  ...    1    3    3    2   31\n9     Dec 01, 2019 - BOS @ NYK    W   37   30   10  ...    2    2    1    4   11\n10    Nov 29, 2019 - BOS @ BKN    L   37   26   10  ...    4    0    6    0   13\n11  Nov 27, 2019 - BOS vs. BKN    W   35   16    5  ...    1    0    3    2   11\n12  Nov 25, 2019 - BOS vs. SAC    W   34   20    7  ...    0    0    3    4    4\n13    Nov 22, 2019 - BOS @ DEN    L   32   16    6  ...    0    1    0    1  -23\n14    Nov 20, 2019 - BOS @ LAC    L   41   30   12  ...    2    2    3    4   -6\n15    Nov 18, 2019 - BOS @ PHX    W   27   26    8  ...    1    0    4    3    8\n16    Nov 17, 2019 - BOS @ SAC    L   30   14    6  ...    0    1    1    0   12\n17    Nov 15, 2019 - BOS @ GSW    W   38   24    8  ...    3    0    2    3    6\n18  Nov 13, 2019 - BOS vs. WAS    W   35   23    9  ...    0    0    1    3   14\n19  Nov 11, 2019 - BOS vs. DAL    W   35    5    1  ...    1    0    1    3   16\n20    Nov 09, 2019 - BOS @ SAS    W   34   19    6  ...    3    0    2    3   23\n21    Nov 07, 2019 - BOS @ CHA    W   29   23    8  ...    2    1    1    0   13\n22    Nov 05, 2019 - BOS @ CLE    W   34   18    9  ...    1    2    4    1    9\n23  Nov 01, 2019 - BOS vs. NYK    W   34   24    9  ...    0    0    2    4   12\n24  Oct 30, 2019 - BOS vs. MIL    W   39   25   10  ...    0    1    1    5   16\n25    Oct 26, 2019 - BOS @ NYK    W   34   15    5  ...    3    2    2    3   20\n26  Oct 25, 2019 - BOS vs. TOR    W   35   25    8  ...    3    0    0    0    9\n27    Oct 23, 2019 - BOS @ PHI    L   37   21    8  ...    2    0    4    2   -4\n28                         NaN  NaN  NaN  NaN  NaN  ...  NaN  NaN  NaN  NaN  NaN\n29    Dec 25, 2019 - BOS @ TOR  NaN  NaN  NaN  NaN  ...  NaN  NaN  NaN  NaN  NaN\n30  Dec 22, 2019 - BOS vs. CHA  NaN  NaN  NaN  NaN  ...  NaN  NaN  NaN  NaN  NaN\n31  Dec 20, 2019 - BOS vs. DET  NaN  NaN  NaN  NaN  ...  NaN  NaN  NaN  NaN  NaN\n32    Dec 18, 2019 - BOS @ DAL  NaN  NaN  NaN  NaN  ...  NaN  NaN  NaN  NaN  NaN\n33  Dec 12, 2019 - BOS vs. PHI  NaN  NaN  NaN  NaN  ...  NaN  NaN  NaN  NaN  NaN\n34    Dec 11, 2019 - BOS @ IND  NaN  NaN  NaN  NaN  ...  NaN  NaN  NaN  NaN  NaN\n35  Dec 09, 2019 - BOS vs. CLE  NaN  NaN  NaN  NaN  ...  NaN  NaN  NaN  NaN  NaN\n36  Dec 06, 2019 - BOS vs. DEN  NaN  NaN  NaN  NaN  ...  NaN  NaN  NaN  NaN  NaN\n37  Dec 04, 2019 - BOS vs. MIA  NaN  NaN  NaN  NaN  ...  NaN  NaN  NaN  NaN  NaN\n38    Dec 01, 2019 - BOS @ NYK  NaN  NaN  NaN  NaN  ...  NaN  NaN  NaN  NaN  NaN\n39    Nov 29, 2019 - BOS @ BKN  NaN  NaN  NaN  NaN  ...  NaN  NaN  NaN  NaN  NaN\n40  Nov 27, 2019 - BOS vs. BKN  NaN  NaN  NaN  NaN  ...  NaN  NaN  NaN  NaN  NaN\n41  Nov 25, 2019 - BOS vs. SAC  NaN  NaN  NaN  NaN  ...  NaN  NaN  NaN  NaN  NaN\n42    Nov 22, 2019 - BOS @ DEN  NaN  NaN  NaN  NaN  ...  NaN  NaN  NaN  NaN  NaN\n43    Nov 20, 2019 - BOS @ LAC  NaN  NaN  NaN  NaN  ...  NaN  NaN  NaN  NaN  NaN\n44    Nov 18, 2019 - BOS @ PHX  NaN  NaN  NaN  NaN  ...  NaN  NaN  NaN  NaN  NaN\n45    Nov 17, 2019 - BOS @ SAC  NaN  NaN  NaN  NaN  ...  NaN  NaN  NaN  NaN  NaN\n46    Nov 15, 2019 - BOS @ GSW  NaN  NaN  NaN  NaN  ...  NaN  NaN  NaN  NaN  NaN\n47  Nov 13, 2019 - BOS vs. WAS  NaN  NaN  NaN  NaN  ...  NaN  NaN  NaN  NaN  NaN\n48  Nov 11, 2019 - BOS vs. DAL  NaN  NaN  NaN  NaN  ...  NaN  NaN  NaN  NaN  NaN\n49    Nov 09, 2019 - BOS @ SAS  NaN  NaN  NaN  NaN  ...  NaN  NaN  NaN  NaN  NaN\n50    Nov 07, 2019 - BOS @ CHA  NaN  NaN  NaN  NaN  ...  NaN  NaN  NaN  NaN  NaN\n51    Nov 05, 2019 - BOS @ CLE  NaN  NaN  NaN  NaN  ...  NaN  NaN  NaN  NaN  NaN\n52  Nov 01, 2019 - BOS vs. NYK  NaN  NaN  NaN  NaN  ...  NaN  NaN  NaN  NaN  NaN\n53  Oct 30, 2019 - BOS vs. MIL  NaN  NaN  NaN  NaN  ...  NaN  NaN  NaN  NaN  NaN\n54    Oct 26, 2019 - BOS @ NYK  NaN  NaN  NaN  NaN  ...  NaN  NaN  NaN  NaN  NaN\n55  Oct 25, 2019 - BOS vs. TOR  NaN  NaN  NaN  NaN  ...  NaN  NaN  NaN  NaN  NaN\n56    Oct 23, 2019 - BOS @ PHI  NaN  NaN  NaN  NaN  ...  NaN  NaN  NaN  NaN  NaN\n\n[57 rows x 22 columns]"
     },
     "execution_count": 17,
     "metadata": {},
     "output_type": "execute_result"
    }
   ],
   "source": [
    "\n",
    "df[~df.isna()]"
   ]
  },
  {
   "cell_type": "code",
   "execution_count": 18,
   "metadata": {},
   "outputs": [],
   "source": [
    "\n",
    "df.dropna(inplace=True)"
   ]
  },
  {
   "cell_type": "code",
   "execution_count": 19,
   "metadata": {},
   "outputs": [
    {
     "name": "stdout",
     "output_type": "stream",
     "text": "<class 'pandas.core.frame.DataFrame'>\nInt64Index: 28 entries, 0 to 27\nData columns (total 22 columns):\nMatch Up    28 non-null object\nW/L         28 non-null object\nMIN         28 non-null int64\nPTS         28 non-null int64\nFGM         28 non-null int64\nFGA         28 non-null int64\nFG%         28 non-null float64\n3PM         28 non-null int64\n3PA         28 non-null int64\n3P%         28 non-null float64\nFTM         28 non-null int64\nFTA         28 non-null int64\nFT%         28 non-null float64\nOREB        28 non-null int64\nDREB        28 non-null int64\nREB         28 non-null int64\nAST         28 non-null int64\nSTL         28 non-null int64\nBLK         28 non-null int64\nTOV         28 non-null int64\nPF          28 non-null int64\n+/-         28 non-null int64\ndtypes: float64(3), int64(17), object(2)\nmemory usage: 5.0+ KB\n"
    }
   ],
   "source": [
    "df[int_cols] = df[int_cols].astype('int')\n",
    "df[float_cols] = df[float_cols].astype('float')\n",
    "df.info()"
   ]
  },
  {
   "cell_type": "markdown",
   "execution_count": null,
   "metadata": {},
   "outputs": [],
   "source": [
    "## Now Use Selenium to Select the Last 2 Seasons and repeat"
   ]
  },
  {
   "cell_type": "code",
   "execution_count": 20,
   "metadata": {},
   "outputs": [
    {
     "data": {
      "text/plain": "[<option label=\"2019-20\" selected=\"selected\" value=\"object:212\">2019-20</option>,\n <option label=\"2018-19\" value=\"object:213\">2018-19</option>,\n <option label=\"2017-18\" value=\"object:214\">2017-18</option>]"
     },
     "execution_count": 20,
     "metadata": {},
     "output_type": "execute_result"
    }
   ],
   "source": [
    "\n",
    "sel_season = soup.find_all('select',attrs=dict(name='Season'))\n",
    "sel_season[0].find_all('option')"
   ]
  },
  {
   "cell_type": "code",
   "execution_count": 21,
   "metadata": {},
   "outputs": [],
   "source": [
    "option = driver.find_element_by_css_selector('option')\n",
    "option.click()"
   ]
  },
  {
   "cell_type": "code",
   "execution_count": 22,
   "metadata": {},
   "outputs": [],
   "source": [
    "season = driver.find_element_by_xpath(\"/html/body/main/div[2]/div/div/div[3]/div/div/div/div[1]/div[1]/div/div/label/select\")\n",
    "season.click()\n"
   ]
  },
  {
   "cell_type": "markdown",
   "execution_count": null,
   "metadata": {},
   "outputs": [],
   "source": [
    "\n",
    "#### Page URLS May be easier to generate than click on interface\n"
   ]
  },
  {
   "cell_type": "code",
   "execution_count": 23,
   "metadata": {},
   "outputs": [
    {
     "name": "stdout",
     "output_type": "stream",
     "text": "['https://stats.nba.com/player/1628369/boxscores-traditional/?Season=2019-20&SeasonType=Regular%20Season', 'https://stats.nba.com/player/1628369/boxscores-traditional/?Season=2018-19&SeasonType=Regular%20Season', 'https://stats.nba.com/player/1628369/boxscores-traditional/?Season=2017-18&SeasonType=Regular%20Season']\n"
    }
   ],
   "source": [
    "url_2019_20 = 'https://stats.nba.com/player/1628369/boxscores-traditional/?Season=2019-20&SeasonType=Regular%20Season'\n",
    "url_2018_19 = 'https://stats.nba.com/player/1628369/boxscores-traditional/?Season=2018-19&SeasonType=Regular%20Season'\n",
    "url_2017_18 = 'https://stats.nba.com/player/1628369/boxscores-traditional/?Season=2017-18&SeasonType=Regular%20Season'\n",
    "\n",
    "## SEPARATING ABOVE INTO F_STRING \n",
    "player_id = '1628369'\n",
    "base_url = f\"https://stats.nba.com/player/{player_id}/boxscores-traditional/\"\n",
    "\n",
    "\n",
    "\n",
    "seasons= {}\n",
    "seasons[2019] = dict(start_YR = '2019', end_yr = '20')\n",
    "seasons[2018] = dict(start_YR = '2018', end_yr = '19')\n",
    "seasons[2017] = dict(start_YR = '2017', end_yr = '18')\n",
    "\n",
    "## seasons have 4 digit start year and 2 digit end year\n",
    "season_urls = []\n",
    "for year in seasons:\n",
    "    start_YR = seasons[year]['start_YR']\n",
    "    end_yr = seasons[year]['end_yr']\n",
    "    season_suffix = f\"?Season={start_YR}-{end_yr}&SeasonType=Regular%20Season\"\n",
    "    full_url = base_url+season_suffix\n",
    "    season_urls.append(full_url)\n",
    "\n",
    "print(season_urls)\n",
    "\n"
   ]
  },
  {
   "cell_type": "code",
   "execution_count": 72,
   "metadata": {},
   "outputs": [],
   "source": [
    "# for url in season_urls:\n",
    "#     driver.get(url)\n",
    "# # driver.get(full_url)"
   ]
  },
  {
   "cell_type": "code",
   "execution_count": 24,
   "metadata": {},
   "outputs": [
    {
     "name": "stdout",
     "output_type": "stream",
     "text": "fsds_1007219  v0.5.13 loaded.  Read the docs: https://fsds.readthedocs.io/en/latest/ \n> For convenient loading of standard modules use: `>> from fsds_100719.imports import *`\n\n"
    }
   ],
   "source": [
    "import nba_stats as ns\n",
    "\n",
    "df = ns.get_season_df(season_urls[0])"
   ]
  },
  {
   "cell_type": "code",
   "execution_count": 29,
   "metadata": {},
   "outputs": [],
   "source": [
    "df['date'] = df['Match Up'].apply(lambda x: x.split('-')[0])\n",
    "df['teams'] = df['Match Up'].apply(lambda x: x.split('-')[1])"
   ]
  },
  {
   "cell_type": "code",
   "execution_count": 32,
   "metadata": {},
   "outputs": [
    {
     "data": {
      "text/html": "<div>\n<style scoped>\n    .dataframe tbody tr th:only-of-type {\n        vertical-align: middle;\n    }\n\n    .dataframe tbody tr th {\n        vertical-align: top;\n    }\n\n    .dataframe thead th {\n        text-align: right;\n    }\n</style>\n<table border=\"1\" class=\"dataframe\">\n  <thead>\n    <tr style=\"text-align: right;\">\n      <th></th>\n      <th>Match Up</th>\n      <th>W/L</th>\n      <th>MIN</th>\n      <th>PTS</th>\n      <th>FGM</th>\n      <th>FGA</th>\n      <th>FG%</th>\n      <th>3PM</th>\n      <th>3PA</th>\n      <th>3P%</th>\n      <th>FTM</th>\n      <th>FTA</th>\n      <th>FT%</th>\n      <th>OREB</th>\n      <th>DREB</th>\n      <th>REB</th>\n      <th>AST</th>\n      <th>STL</th>\n      <th>BLK</th>\n      <th>TOV</th>\n      <th>PF</th>\n      <th>+/-</th>\n      <th>teams</th>\n    </tr>\n    <tr>\n      <th>date</th>\n      <th></th>\n      <th></th>\n      <th></th>\n      <th></th>\n      <th></th>\n      <th></th>\n      <th></th>\n      <th></th>\n      <th></th>\n      <th></th>\n      <th></th>\n      <th></th>\n      <th></th>\n      <th></th>\n      <th></th>\n      <th></th>\n      <th></th>\n      <th></th>\n      <th></th>\n      <th></th>\n      <th></th>\n      <th></th>\n      <th></th>\n    </tr>\n  </thead>\n  <tbody>\n    <tr>\n      <td>2019-12-25</td>\n      <td>Dec 25, 2019 - BOS @ TOR</td>\n      <td>W</td>\n      <td>35</td>\n      <td>11</td>\n      <td>5</td>\n      <td>18</td>\n      <td>27.8</td>\n      <td>1</td>\n      <td>3</td>\n      <td>33.3</td>\n      <td>0</td>\n      <td>0</td>\n      <td>0.0</td>\n      <td>4</td>\n      <td>5</td>\n      <td>9</td>\n      <td>6</td>\n      <td>2</td>\n      <td>0</td>\n      <td>3</td>\n      <td>4</td>\n      <td>21</td>\n      <td>BOS @ TOR</td>\n    </tr>\n    <tr>\n      <td>2019-12-22</td>\n      <td>Dec 22, 2019 - BOS vs. CHA</td>\n      <td>W</td>\n      <td>36</td>\n      <td>39</td>\n      <td>15</td>\n      <td>29</td>\n      <td>51.7</td>\n      <td>4</td>\n      <td>9</td>\n      <td>44.4</td>\n      <td>5</td>\n      <td>5</td>\n      <td>100.0</td>\n      <td>1</td>\n      <td>11</td>\n      <td>12</td>\n      <td>2</td>\n      <td>1</td>\n      <td>3</td>\n      <td>2</td>\n      <td>1</td>\n      <td>10</td>\n      <td>BOS vs. CHA</td>\n    </tr>\n    <tr>\n      <td>2019-12-20</td>\n      <td>Dec 20, 2019 - BOS vs. DET</td>\n      <td>W</td>\n      <td>27</td>\n      <td>26</td>\n      <td>10</td>\n      <td>17</td>\n      <td>58.8</td>\n      <td>2</td>\n      <td>7</td>\n      <td>28.6</td>\n      <td>4</td>\n      <td>4</td>\n      <td>100.0</td>\n      <td>0</td>\n      <td>5</td>\n      <td>5</td>\n      <td>3</td>\n      <td>2</td>\n      <td>0</td>\n      <td>0</td>\n      <td>1</td>\n      <td>10</td>\n      <td>BOS vs. DET</td>\n    </tr>\n    <tr>\n      <td>2019-12-18</td>\n      <td>Dec 18, 2019 - BOS @ DAL</td>\n      <td>W</td>\n      <td>37</td>\n      <td>24</td>\n      <td>10</td>\n      <td>23</td>\n      <td>43.5</td>\n      <td>2</td>\n      <td>10</td>\n      <td>20.0</td>\n      <td>2</td>\n      <td>3</td>\n      <td>66.7</td>\n      <td>2</td>\n      <td>6</td>\n      <td>8</td>\n      <td>1</td>\n      <td>0</td>\n      <td>1</td>\n      <td>3</td>\n      <td>3</td>\n      <td>-2</td>\n      <td>BOS @ DAL</td>\n    </tr>\n    <tr>\n      <td>2019-12-12</td>\n      <td>Dec 12, 2019 - BOS vs. PHI</td>\n      <td>L</td>\n      <td>34</td>\n      <td>15</td>\n      <td>5</td>\n      <td>18</td>\n      <td>27.8</td>\n      <td>3</td>\n      <td>8</td>\n      <td>37.5</td>\n      <td>2</td>\n      <td>2</td>\n      <td>100.0</td>\n      <td>1</td>\n      <td>2</td>\n      <td>3</td>\n      <td>4</td>\n      <td>0</td>\n      <td>1</td>\n      <td>1</td>\n      <td>4</td>\n      <td>-2</td>\n      <td>BOS vs. PHI</td>\n    </tr>\n    <tr>\n      <td>2019-12-11</td>\n      <td>Dec 11, 2019 - BOS @ IND</td>\n      <td>L</td>\n      <td>37</td>\n      <td>16</td>\n      <td>4</td>\n      <td>13</td>\n      <td>30.8</td>\n      <td>2</td>\n      <td>8</td>\n      <td>25.0</td>\n      <td>6</td>\n      <td>6</td>\n      <td>100.0</td>\n      <td>0</td>\n      <td>6</td>\n      <td>6</td>\n      <td>3</td>\n      <td>2</td>\n      <td>0</td>\n      <td>3</td>\n      <td>2</td>\n      <td>-8</td>\n      <td>BOS @ IND</td>\n    </tr>\n    <tr>\n      <td>2019-12-09</td>\n      <td>Dec 09, 2019 - BOS vs. CLE</td>\n      <td>W</td>\n      <td>30</td>\n      <td>19</td>\n      <td>7</td>\n      <td>14</td>\n      <td>50.0</td>\n      <td>4</td>\n      <td>6</td>\n      <td>66.7</td>\n      <td>1</td>\n      <td>2</td>\n      <td>50.0</td>\n      <td>0</td>\n      <td>11</td>\n      <td>11</td>\n      <td>2</td>\n      <td>2</td>\n      <td>2</td>\n      <td>4</td>\n      <td>1</td>\n      <td>24</td>\n      <td>BOS vs. CLE</td>\n    </tr>\n    <tr>\n      <td>2019-12-06</td>\n      <td>Dec 06, 2019 - BOS vs. DEN</td>\n      <td>W</td>\n      <td>30</td>\n      <td>26</td>\n      <td>10</td>\n      <td>19</td>\n      <td>52.6</td>\n      <td>4</td>\n      <td>8</td>\n      <td>50.0</td>\n      <td>2</td>\n      <td>2</td>\n      <td>100.0</td>\n      <td>0</td>\n      <td>7</td>\n      <td>7</td>\n      <td>5</td>\n      <td>1</td>\n      <td>0</td>\n      <td>1</td>\n      <td>1</td>\n      <td>14</td>\n      <td>BOS vs. DEN</td>\n    </tr>\n    <tr>\n      <td>2019-12-04</td>\n      <td>Dec 04, 2019 - BOS vs. MIA</td>\n      <td>W</td>\n      <td>34</td>\n      <td>19</td>\n      <td>6</td>\n      <td>19</td>\n      <td>31.6</td>\n      <td>2</td>\n      <td>12</td>\n      <td>16.7</td>\n      <td>5</td>\n      <td>6</td>\n      <td>83.3</td>\n      <td>1</td>\n      <td>4</td>\n      <td>5</td>\n      <td>3</td>\n      <td>1</td>\n      <td>3</td>\n      <td>3</td>\n      <td>2</td>\n      <td>31</td>\n      <td>BOS vs. MIA</td>\n    </tr>\n    <tr>\n      <td>2019-12-01</td>\n      <td>Dec 01, 2019 - BOS @ NYK</td>\n      <td>W</td>\n      <td>37</td>\n      <td>30</td>\n      <td>10</td>\n      <td>23</td>\n      <td>43.5</td>\n      <td>5</td>\n      <td>11</td>\n      <td>45.5</td>\n      <td>5</td>\n      <td>6</td>\n      <td>83.3</td>\n      <td>0</td>\n      <td>6</td>\n      <td>6</td>\n      <td>7</td>\n      <td>2</td>\n      <td>2</td>\n      <td>1</td>\n      <td>4</td>\n      <td>11</td>\n      <td>BOS @ NYK</td>\n    </tr>\n    <tr>\n      <td>2019-11-29</td>\n      <td>Nov 29, 2019 - BOS @ BKN</td>\n      <td>L</td>\n      <td>37</td>\n      <td>26</td>\n      <td>10</td>\n      <td>19</td>\n      <td>52.6</td>\n      <td>4</td>\n      <td>8</td>\n      <td>50.0</td>\n      <td>2</td>\n      <td>2</td>\n      <td>100.0</td>\n      <td>1</td>\n      <td>8</td>\n      <td>9</td>\n      <td>0</td>\n      <td>4</td>\n      <td>0</td>\n      <td>6</td>\n      <td>0</td>\n      <td>13</td>\n      <td>BOS @ BKN</td>\n    </tr>\n    <tr>\n      <td>2019-11-27</td>\n      <td>Nov 27, 2019 - BOS vs. BKN</td>\n      <td>W</td>\n      <td>35</td>\n      <td>16</td>\n      <td>5</td>\n      <td>17</td>\n      <td>29.4</td>\n      <td>0</td>\n      <td>4</td>\n      <td>0.0</td>\n      <td>6</td>\n      <td>6</td>\n      <td>100.0</td>\n      <td>3</td>\n      <td>6</td>\n      <td>9</td>\n      <td>5</td>\n      <td>1</td>\n      <td>0</td>\n      <td>3</td>\n      <td>2</td>\n      <td>11</td>\n      <td>BOS vs. BKN</td>\n    </tr>\n    <tr>\n      <td>2019-11-25</td>\n      <td>Nov 25, 2019 - BOS vs. SAC</td>\n      <td>W</td>\n      <td>34</td>\n      <td>20</td>\n      <td>7</td>\n      <td>18</td>\n      <td>38.9</td>\n      <td>0</td>\n      <td>3</td>\n      <td>0.0</td>\n      <td>6</td>\n      <td>7</td>\n      <td>85.7</td>\n      <td>1</td>\n      <td>5</td>\n      <td>6</td>\n      <td>3</td>\n      <td>0</td>\n      <td>0</td>\n      <td>3</td>\n      <td>4</td>\n      <td>4</td>\n      <td>BOS vs. SAC</td>\n    </tr>\n    <tr>\n      <td>2019-11-22</td>\n      <td>Nov 22, 2019 - BOS @ DEN</td>\n      <td>L</td>\n      <td>32</td>\n      <td>16</td>\n      <td>6</td>\n      <td>16</td>\n      <td>37.5</td>\n      <td>0</td>\n      <td>5</td>\n      <td>0.0</td>\n      <td>4</td>\n      <td>5</td>\n      <td>80.0</td>\n      <td>0</td>\n      <td>2</td>\n      <td>2</td>\n      <td>3</td>\n      <td>0</td>\n      <td>1</td>\n      <td>0</td>\n      <td>1</td>\n      <td>-23</td>\n      <td>BOS @ DEN</td>\n    </tr>\n    <tr>\n      <td>2019-11-20</td>\n      <td>Nov 20, 2019 - BOS @ LAC</td>\n      <td>L</td>\n      <td>41</td>\n      <td>30</td>\n      <td>12</td>\n      <td>24</td>\n      <td>50.0</td>\n      <td>5</td>\n      <td>10</td>\n      <td>50.0</td>\n      <td>1</td>\n      <td>2</td>\n      <td>50.0</td>\n      <td>0</td>\n      <td>6</td>\n      <td>6</td>\n      <td>3</td>\n      <td>2</td>\n      <td>2</td>\n      <td>3</td>\n      <td>4</td>\n      <td>-6</td>\n      <td>BOS @ LAC</td>\n    </tr>\n    <tr>\n      <td>2019-11-18</td>\n      <td>Nov 18, 2019 - BOS @ PHX</td>\n      <td>W</td>\n      <td>27</td>\n      <td>26</td>\n      <td>8</td>\n      <td>16</td>\n      <td>50.0</td>\n      <td>3</td>\n      <td>9</td>\n      <td>33.3</td>\n      <td>7</td>\n      <td>9</td>\n      <td>77.8</td>\n      <td>2</td>\n      <td>9</td>\n      <td>11</td>\n      <td>3</td>\n      <td>1</td>\n      <td>0</td>\n      <td>4</td>\n      <td>3</td>\n      <td>8</td>\n      <td>BOS @ PHX</td>\n    </tr>\n    <tr>\n      <td>2019-11-17</td>\n      <td>Nov 17, 2019 - BOS @ SAC</td>\n      <td>L</td>\n      <td>30</td>\n      <td>14</td>\n      <td>6</td>\n      <td>13</td>\n      <td>46.2</td>\n      <td>1</td>\n      <td>4</td>\n      <td>25.0</td>\n      <td>1</td>\n      <td>1</td>\n      <td>100.0</td>\n      <td>0</td>\n      <td>6</td>\n      <td>6</td>\n      <td>2</td>\n      <td>0</td>\n      <td>1</td>\n      <td>1</td>\n      <td>0</td>\n      <td>12</td>\n      <td>BOS @ SAC</td>\n    </tr>\n    <tr>\n      <td>2019-11-15</td>\n      <td>Nov 15, 2019 - BOS @ GSW</td>\n      <td>W</td>\n      <td>38</td>\n      <td>24</td>\n      <td>8</td>\n      <td>23</td>\n      <td>34.8</td>\n      <td>2</td>\n      <td>7</td>\n      <td>28.6</td>\n      <td>6</td>\n      <td>7</td>\n      <td>85.7</td>\n      <td>3</td>\n      <td>5</td>\n      <td>8</td>\n      <td>1</td>\n      <td>3</td>\n      <td>0</td>\n      <td>2</td>\n      <td>3</td>\n      <td>6</td>\n      <td>BOS @ GSW</td>\n    </tr>\n    <tr>\n      <td>2019-11-13</td>\n      <td>Nov 13, 2019 - BOS vs. WAS</td>\n      <td>W</td>\n      <td>35</td>\n      <td>23</td>\n      <td>9</td>\n      <td>20</td>\n      <td>45.0</td>\n      <td>1</td>\n      <td>5</td>\n      <td>20.0</td>\n      <td>4</td>\n      <td>4</td>\n      <td>100.0</td>\n      <td>2</td>\n      <td>1</td>\n      <td>3</td>\n      <td>4</td>\n      <td>0</td>\n      <td>0</td>\n      <td>1</td>\n      <td>3</td>\n      <td>14</td>\n      <td>BOS vs. WAS</td>\n    </tr>\n    <tr>\n      <td>2019-11-11</td>\n      <td>Nov 11, 2019 - BOS vs. DAL</td>\n      <td>W</td>\n      <td>35</td>\n      <td>5</td>\n      <td>1</td>\n      <td>18</td>\n      <td>5.6</td>\n      <td>0</td>\n      <td>3</td>\n      <td>0.0</td>\n      <td>3</td>\n      <td>4</td>\n      <td>75.0</td>\n      <td>3</td>\n      <td>5</td>\n      <td>8</td>\n      <td>4</td>\n      <td>1</td>\n      <td>0</td>\n      <td>1</td>\n      <td>3</td>\n      <td>16</td>\n      <td>BOS vs. DAL</td>\n    </tr>\n    <tr>\n      <td>2019-11-09</td>\n      <td>Nov 09, 2019 - BOS @ SAS</td>\n      <td>W</td>\n      <td>34</td>\n      <td>19</td>\n      <td>6</td>\n      <td>13</td>\n      <td>46.2</td>\n      <td>2</td>\n      <td>6</td>\n      <td>33.3</td>\n      <td>5</td>\n      <td>6</td>\n      <td>83.3</td>\n      <td>1</td>\n      <td>6</td>\n      <td>7</td>\n      <td>4</td>\n      <td>3</td>\n      <td>0</td>\n      <td>2</td>\n      <td>3</td>\n      <td>23</td>\n      <td>BOS @ SAS</td>\n    </tr>\n    <tr>\n      <td>2019-11-07</td>\n      <td>Nov 07, 2019 - BOS @ CHA</td>\n      <td>W</td>\n      <td>29</td>\n      <td>23</td>\n      <td>8</td>\n      <td>17</td>\n      <td>47.1</td>\n      <td>4</td>\n      <td>6</td>\n      <td>66.7</td>\n      <td>3</td>\n      <td>4</td>\n      <td>75.0</td>\n      <td>2</td>\n      <td>7</td>\n      <td>9</td>\n      <td>1</td>\n      <td>2</td>\n      <td>1</td>\n      <td>1</td>\n      <td>0</td>\n      <td>13</td>\n      <td>BOS @ CHA</td>\n    </tr>\n    <tr>\n      <td>2019-11-05</td>\n      <td>Nov 05, 2019 - BOS @ CLE</td>\n      <td>W</td>\n      <td>34</td>\n      <td>18</td>\n      <td>9</td>\n      <td>16</td>\n      <td>56.3</td>\n      <td>0</td>\n      <td>5</td>\n      <td>0.0</td>\n      <td>0</td>\n      <td>0</td>\n      <td>0.0</td>\n      <td>0</td>\n      <td>7</td>\n      <td>7</td>\n      <td>1</td>\n      <td>1</td>\n      <td>2</td>\n      <td>4</td>\n      <td>1</td>\n      <td>9</td>\n      <td>BOS @ CLE</td>\n    </tr>\n    <tr>\n      <td>2019-11-01</td>\n      <td>Nov 01, 2019 - BOS vs. NYK</td>\n      <td>W</td>\n      <td>34</td>\n      <td>24</td>\n      <td>9</td>\n      <td>17</td>\n      <td>52.9</td>\n      <td>4</td>\n      <td>8</td>\n      <td>50.0</td>\n      <td>2</td>\n      <td>2</td>\n      <td>100.0</td>\n      <td>1</td>\n      <td>5</td>\n      <td>6</td>\n      <td>3</td>\n      <td>0</td>\n      <td>0</td>\n      <td>2</td>\n      <td>4</td>\n      <td>12</td>\n      <td>BOS vs. NYK</td>\n    </tr>\n    <tr>\n      <td>2019-10-30</td>\n      <td>Oct 30, 2019 - BOS vs. MIL</td>\n      <td>W</td>\n      <td>39</td>\n      <td>25</td>\n      <td>10</td>\n      <td>22</td>\n      <td>45.5</td>\n      <td>4</td>\n      <td>7</td>\n      <td>57.1</td>\n      <td>1</td>\n      <td>2</td>\n      <td>50.0</td>\n      <td>1</td>\n      <td>3</td>\n      <td>4</td>\n      <td>2</td>\n      <td>0</td>\n      <td>1</td>\n      <td>1</td>\n      <td>5</td>\n      <td>16</td>\n      <td>BOS vs. MIL</td>\n    </tr>\n    <tr>\n      <td>2019-10-26</td>\n      <td>Oct 26, 2019 - BOS @ NYK</td>\n      <td>W</td>\n      <td>34</td>\n      <td>15</td>\n      <td>5</td>\n      <td>17</td>\n      <td>29.4</td>\n      <td>2</td>\n      <td>7</td>\n      <td>28.6</td>\n      <td>3</td>\n      <td>4</td>\n      <td>75.0</td>\n      <td>2</td>\n      <td>7</td>\n      <td>9</td>\n      <td>0</td>\n      <td>3</td>\n      <td>2</td>\n      <td>2</td>\n      <td>3</td>\n      <td>20</td>\n      <td>BOS @ NYK</td>\n    </tr>\n    <tr>\n      <td>2019-10-25</td>\n      <td>Oct 25, 2019 - BOS vs. TOR</td>\n      <td>W</td>\n      <td>35</td>\n      <td>25</td>\n      <td>8</td>\n      <td>22</td>\n      <td>36.4</td>\n      <td>4</td>\n      <td>7</td>\n      <td>57.1</td>\n      <td>5</td>\n      <td>5</td>\n      <td>100.0</td>\n      <td>3</td>\n      <td>6</td>\n      <td>9</td>\n      <td>4</td>\n      <td>3</td>\n      <td>0</td>\n      <td>0</td>\n      <td>0</td>\n      <td>9</td>\n      <td>BOS vs. TOR</td>\n    </tr>\n    <tr>\n      <td>2019-10-23</td>\n      <td>Oct 23, 2019 - BOS @ PHI</td>\n      <td>L</td>\n      <td>37</td>\n      <td>21</td>\n      <td>8</td>\n      <td>22</td>\n      <td>36.4</td>\n      <td>4</td>\n      <td>8</td>\n      <td>50.0</td>\n      <td>1</td>\n      <td>3</td>\n      <td>33.3</td>\n      <td>1</td>\n      <td>9</td>\n      <td>10</td>\n      <td>2</td>\n      <td>2</td>\n      <td>0</td>\n      <td>4</td>\n      <td>2</td>\n      <td>-4</td>\n      <td>BOS @ PHI</td>\n    </tr>\n  </tbody>\n</table>\n</div>",
      "text/plain": "                              Match Up W/L  MIN  ...  PF  +/-         teams\ndate                                             ...                       \n2019-12-25    Dec 25, 2019 - BOS @ TOR   W   35  ...   4   21     BOS @ TOR\n2019-12-22  Dec 22, 2019 - BOS vs. CHA   W   36  ...   1   10   BOS vs. CHA\n2019-12-20  Dec 20, 2019 - BOS vs. DET   W   27  ...   1   10   BOS vs. DET\n2019-12-18    Dec 18, 2019 - BOS @ DAL   W   37  ...   3   -2     BOS @ DAL\n2019-12-12  Dec 12, 2019 - BOS vs. PHI   L   34  ...   4   -2   BOS vs. PHI\n2019-12-11    Dec 11, 2019 - BOS @ IND   L   37  ...   2   -8     BOS @ IND\n2019-12-09  Dec 09, 2019 - BOS vs. CLE   W   30  ...   1   24   BOS vs. CLE\n2019-12-06  Dec 06, 2019 - BOS vs. DEN   W   30  ...   1   14   BOS vs. DEN\n2019-12-04  Dec 04, 2019 - BOS vs. MIA   W   34  ...   2   31   BOS vs. MIA\n2019-12-01    Dec 01, 2019 - BOS @ NYK   W   37  ...   4   11     BOS @ NYK\n2019-11-29    Nov 29, 2019 - BOS @ BKN   L   37  ...   0   13     BOS @ BKN\n2019-11-27  Nov 27, 2019 - BOS vs. BKN   W   35  ...   2   11   BOS vs. BKN\n2019-11-25  Nov 25, 2019 - BOS vs. SAC   W   34  ...   4    4   BOS vs. SAC\n2019-11-22    Nov 22, 2019 - BOS @ DEN   L   32  ...   1  -23     BOS @ DEN\n2019-11-20    Nov 20, 2019 - BOS @ LAC   L   41  ...   4   -6     BOS @ LAC\n2019-11-18    Nov 18, 2019 - BOS @ PHX   W   27  ...   3    8     BOS @ PHX\n2019-11-17    Nov 17, 2019 - BOS @ SAC   L   30  ...   0   12     BOS @ SAC\n2019-11-15    Nov 15, 2019 - BOS @ GSW   W   38  ...   3    6     BOS @ GSW\n2019-11-13  Nov 13, 2019 - BOS vs. WAS   W   35  ...   3   14   BOS vs. WAS\n2019-11-11  Nov 11, 2019 - BOS vs. DAL   W   35  ...   3   16   BOS vs. DAL\n2019-11-09    Nov 09, 2019 - BOS @ SAS   W   34  ...   3   23     BOS @ SAS\n2019-11-07    Nov 07, 2019 - BOS @ CHA   W   29  ...   0   13     BOS @ CHA\n2019-11-05    Nov 05, 2019 - BOS @ CLE   W   34  ...   1    9     BOS @ CLE\n2019-11-01  Nov 01, 2019 - BOS vs. NYK   W   34  ...   4   12   BOS vs. NYK\n2019-10-30  Oct 30, 2019 - BOS vs. MIL   W   39  ...   5   16   BOS vs. MIL\n2019-10-26    Oct 26, 2019 - BOS @ NYK   W   34  ...   3   20     BOS @ NYK\n2019-10-25  Oct 25, 2019 - BOS vs. TOR   W   35  ...   0    9   BOS vs. TOR\n2019-10-23    Oct 23, 2019 - BOS @ PHI   L   37  ...   2   -4     BOS @ PHI\n\n[28 rows x 23 columns]"
     },
     "execution_count": 32,
     "metadata": {},
     "output_type": "execute_result"
    }
   ],
   "source": [
    "import pandas as pd\n",
    "df['date'] = pd.to_datetime(df['date'])\n",
    "df.set_index('date')"
   ]
  },
  {
   "cell_type": "code",
   "execution_count": 33,
   "metadata": {},
   "outputs": [
    {
     "name": "stdout",
     "output_type": "stream",
     "text": "Reloading...\n\n"
    },
    {
     "data": {
      "text/plain": "<module 'nba_stats' from '/Users/jamesirving/Documents/GitHub/_MY_SIDE_PROJECTS/nba_fantasy_fanduel/nba_stats.py'>"
     },
     "execution_count": 33,
     "metadata": {},
     "output_type": "execute_result"
    }
   ],
   "source": [
    "import fsds_100719 as fs \n",
    "fs.reload(ns)"
   ]
  },
  {
   "cell_type": "code",
   "execution_count": 34,
   "metadata": {},
   "outputs": [
    {
     "data": {
      "text/html": "<div>\n<style scoped>\n    .dataframe tbody tr th:only-of-type {\n        vertical-align: middle;\n    }\n\n    .dataframe tbody tr th {\n        vertical-align: top;\n    }\n\n    .dataframe thead th {\n        text-align: right;\n    }\n</style>\n<table border=\"1\" class=\"dataframe\">\n  <thead>\n    <tr style=\"text-align: right;\">\n      <th></th>\n      <th>Match Up</th>\n      <th>W/L</th>\n      <th>MIN</th>\n      <th>PTS</th>\n      <th>FGM</th>\n      <th>FGA</th>\n      <th>FG%</th>\n      <th>3PM</th>\n      <th>3PA</th>\n      <th>3P%</th>\n      <th>FTM</th>\n      <th>FTA</th>\n      <th>FT%</th>\n      <th>OREB</th>\n      <th>DREB</th>\n      <th>REB</th>\n      <th>AST</th>\n      <th>STL</th>\n      <th>BLK</th>\n      <th>TOV</th>\n      <th>PF</th>\n      <th>+/-</th>\n      <th>teams</th>\n    </tr>\n    <tr>\n      <th>date</th>\n      <th></th>\n      <th></th>\n      <th></th>\n      <th></th>\n      <th></th>\n      <th></th>\n      <th></th>\n      <th></th>\n      <th></th>\n      <th></th>\n      <th></th>\n      <th></th>\n      <th></th>\n      <th></th>\n      <th></th>\n      <th></th>\n      <th></th>\n      <th></th>\n      <th></th>\n      <th></th>\n      <th></th>\n      <th></th>\n      <th></th>\n    </tr>\n  </thead>\n  <tbody>\n    <tr>\n      <td>2019-04-07</td>\n      <td>Apr 07, 2019 - BOS vs. ORL</td>\n      <td>L</td>\n      <td>6</td>\n      <td>0</td>\n      <td>0</td>\n      <td>2</td>\n      <td>0.0</td>\n      <td>0</td>\n      <td>0</td>\n      <td>0.0</td>\n      <td>0</td>\n      <td>0</td>\n      <td>0.0</td>\n      <td>0</td>\n      <td>1</td>\n      <td>1</td>\n      <td>0</td>\n      <td>0</td>\n      <td>0</td>\n      <td>0</td>\n      <td>0</td>\n      <td>1</td>\n      <td>BOS vs. ORL</td>\n    </tr>\n    <tr>\n      <td>2019-04-05</td>\n      <td>Apr 05, 2019 - BOS @ IND</td>\n      <td>W</td>\n      <td>34</td>\n      <td>22</td>\n      <td>9</td>\n      <td>19</td>\n      <td>47.4</td>\n      <td>1</td>\n      <td>5</td>\n      <td>20.0</td>\n      <td>3</td>\n      <td>4</td>\n      <td>75.0</td>\n      <td>1</td>\n      <td>6</td>\n      <td>7</td>\n      <td>2</td>\n      <td>3</td>\n      <td>1</td>\n      <td>1</td>\n      <td>2</td>\n      <td>15</td>\n      <td>BOS @ IND</td>\n    </tr>\n    <tr>\n      <td>2019-04-03</td>\n      <td>Apr 03, 2019 - BOS @ MIA</td>\n      <td>W</td>\n      <td>39</td>\n      <td>16</td>\n      <td>6</td>\n      <td>17</td>\n      <td>35.3</td>\n      <td>1</td>\n      <td>3</td>\n      <td>33.3</td>\n      <td>3</td>\n      <td>4</td>\n      <td>75.0</td>\n      <td>0</td>\n      <td>7</td>\n      <td>7</td>\n      <td>3</td>\n      <td>1</td>\n      <td>1</td>\n      <td>3</td>\n      <td>0</td>\n      <td>16</td>\n      <td>BOS @ MIA</td>\n    </tr>\n    <tr>\n      <td>2019-04-01</td>\n      <td>Apr 01, 2019 - BOS vs. MIA</td>\n      <td>W</td>\n      <td>34</td>\n      <td>19</td>\n      <td>7</td>\n      <td>15</td>\n      <td>46.7</td>\n      <td>4</td>\n      <td>7</td>\n      <td>57.1</td>\n      <td>1</td>\n      <td>2</td>\n      <td>50.0</td>\n      <td>1</td>\n      <td>5</td>\n      <td>6</td>\n      <td>5</td>\n      <td>1</td>\n      <td>0</td>\n      <td>0</td>\n      <td>0</td>\n      <td>15</td>\n      <td>BOS vs. MIA</td>\n    </tr>\n    <tr>\n      <td>2019-03-30</td>\n      <td>Mar 30, 2019 - BOS @ BKN</td>\n      <td>L</td>\n      <td>30</td>\n      <td>9</td>\n      <td>4</td>\n      <td>9</td>\n      <td>44.4</td>\n      <td>1</td>\n      <td>1</td>\n      <td>100.0</td>\n      <td>0</td>\n      <td>0</td>\n      <td>0.0</td>\n      <td>1</td>\n      <td>1</td>\n      <td>2</td>\n      <td>3</td>\n      <td>1</td>\n      <td>0</td>\n      <td>2</td>\n      <td>4</td>\n      <td>-12</td>\n      <td>BOS @ BKN</td>\n    </tr>\n    <tr>\n      <td>2019-03-29</td>\n      <td>Mar 29, 2019 - BOS vs. IND</td>\n      <td>W</td>\n      <td>24</td>\n      <td>11</td>\n      <td>3</td>\n      <td>6</td>\n      <td>50.0</td>\n      <td>3</td>\n      <td>3</td>\n      <td>100.0</td>\n      <td>2</td>\n      <td>4</td>\n      <td>50.0</td>\n      <td>0</td>\n      <td>5</td>\n      <td>5</td>\n      <td>4</td>\n      <td>0</td>\n      <td>0</td>\n      <td>4</td>\n      <td>2</td>\n      <td>16</td>\n      <td>BOS vs. IND</td>\n    </tr>\n    <tr>\n      <td>2019-03-26</td>\n      <td>Mar 26, 2019 - BOS @ CLE</td>\n      <td>W</td>\n      <td>34</td>\n      <td>21</td>\n      <td>9</td>\n      <td>17</td>\n      <td>52.9</td>\n      <td>3</td>\n      <td>5</td>\n      <td>60.0</td>\n      <td>0</td>\n      <td>0</td>\n      <td>0.0</td>\n      <td>2</td>\n      <td>3</td>\n      <td>5</td>\n      <td>4</td>\n      <td>1</td>\n      <td>0</td>\n      <td>1</td>\n      <td>4</td>\n      <td>17</td>\n      <td>BOS @ CLE</td>\n    </tr>\n    <tr>\n      <td>2019-03-23</td>\n      <td>Mar 23, 2019 - BOS @ CHA</td>\n      <td>L</td>\n      <td>37</td>\n      <td>12</td>\n      <td>5</td>\n      <td>17</td>\n      <td>29.4</td>\n      <td>2</td>\n      <td>7</td>\n      <td>28.6</td>\n      <td>0</td>\n      <td>0</td>\n      <td>0.0</td>\n      <td>1</td>\n      <td>5</td>\n      <td>6</td>\n      <td>4</td>\n      <td>0</td>\n      <td>1</td>\n      <td>1</td>\n      <td>1</td>\n      <td>-19</td>\n      <td>BOS @ CHA</td>\n    </tr>\n    <tr>\n      <td>2019-03-20</td>\n      <td>Mar 20, 2019 - BOS @ PHI</td>\n      <td>L</td>\n      <td>33</td>\n      <td>13</td>\n      <td>6</td>\n      <td>12</td>\n      <td>50.0</td>\n      <td>1</td>\n      <td>2</td>\n      <td>50.0</td>\n      <td>0</td>\n      <td>0</td>\n      <td>0.0</td>\n      <td>1</td>\n      <td>5</td>\n      <td>6</td>\n      <td>4</td>\n      <td>0</td>\n      <td>1</td>\n      <td>1</td>\n      <td>3</td>\n      <td>-17</td>\n      <td>BOS @ PHI</td>\n    </tr>\n    <tr>\n      <td>2019-03-18</td>\n      <td>Mar 18, 2019 - BOS vs. DEN</td>\n      <td>L</td>\n      <td>36</td>\n      <td>8</td>\n      <td>3</td>\n      <td>12</td>\n      <td>25.0</td>\n      <td>1</td>\n      <td>5</td>\n      <td>20.0</td>\n      <td>1</td>\n      <td>2</td>\n      <td>50.0</td>\n      <td>0</td>\n      <td>7</td>\n      <td>7</td>\n      <td>6</td>\n      <td>1</td>\n      <td>1</td>\n      <td>1</td>\n      <td>1</td>\n      <td>-9</td>\n      <td>BOS vs. DEN</td>\n    </tr>\n    <tr>\n      <td>2019-03-16</td>\n      <td>Mar 16, 2019 - BOS vs. ATL</td>\n      <td>W</td>\n      <td>33</td>\n      <td>18</td>\n      <td>7</td>\n      <td>15</td>\n      <td>46.7</td>\n      <td>0</td>\n      <td>2</td>\n      <td>0.0</td>\n      <td>4</td>\n      <td>4</td>\n      <td>100.0</td>\n      <td>1</td>\n      <td>7</td>\n      <td>8</td>\n      <td>4</td>\n      <td>1</td>\n      <td>0</td>\n      <td>2</td>\n      <td>1</td>\n      <td>0</td>\n      <td>BOS vs. ATL</td>\n    </tr>\n    <tr>\n      <td>2019-03-14</td>\n      <td>Mar 14, 2019 - BOS vs. SAC</td>\n      <td>W</td>\n      <td>29</td>\n      <td>15</td>\n      <td>7</td>\n      <td>10</td>\n      <td>70.0</td>\n      <td>0</td>\n      <td>2</td>\n      <td>0.0</td>\n      <td>1</td>\n      <td>1</td>\n      <td>100.0</td>\n      <td>0</td>\n      <td>4</td>\n      <td>4</td>\n      <td>3</td>\n      <td>0</td>\n      <td>0</td>\n      <td>2</td>\n      <td>4</td>\n      <td>-5</td>\n      <td>BOS vs. SAC</td>\n    </tr>\n    <tr>\n      <td>2019-03-09</td>\n      <td>Mar 09, 2019 - BOS @ LAL</td>\n      <td>W</td>\n      <td>27</td>\n      <td>6</td>\n      <td>2</td>\n      <td>7</td>\n      <td>28.6</td>\n      <td>0</td>\n      <td>2</td>\n      <td>0.0</td>\n      <td>2</td>\n      <td>2</td>\n      <td>100.0</td>\n      <td>0</td>\n      <td>5</td>\n      <td>5</td>\n      <td>5</td>\n      <td>1</td>\n      <td>0</td>\n      <td>3</td>\n      <td>3</td>\n      <td>1</td>\n      <td>BOS @ LAL</td>\n    </tr>\n    <tr>\n      <td>2019-03-06</td>\n      <td>Mar 06, 2019 - BOS @ SAC</td>\n      <td>W</td>\n      <td>33</td>\n      <td>24</td>\n      <td>8</td>\n      <td>17</td>\n      <td>47.1</td>\n      <td>2</td>\n      <td>4</td>\n      <td>50.0</td>\n      <td>6</td>\n      <td>6</td>\n      <td>100.0</td>\n      <td>0</td>\n      <td>3</td>\n      <td>3</td>\n      <td>2</td>\n      <td>1</td>\n      <td>0</td>\n      <td>2</td>\n      <td>0</td>\n      <td>11</td>\n      <td>BOS @ SAC</td>\n    </tr>\n    <tr>\n      <td>2019-03-05</td>\n      <td>Mar 05, 2019 - BOS @ GSW</td>\n      <td>W</td>\n      <td>27</td>\n      <td>17</td>\n      <td>6</td>\n      <td>13</td>\n      <td>46.2</td>\n      <td>1</td>\n      <td>3</td>\n      <td>33.3</td>\n      <td>4</td>\n      <td>4</td>\n      <td>100.0</td>\n      <td>0</td>\n      <td>5</td>\n      <td>5</td>\n      <td>1</td>\n      <td>3</td>\n      <td>2</td>\n      <td>1</td>\n      <td>2</td>\n      <td>4</td>\n      <td>BOS @ GSW</td>\n    </tr>\n    <tr>\n      <td>2019-03-03</td>\n      <td>Mar 03, 2019 - BOS vs. HOU</td>\n      <td>L</td>\n      <td>35</td>\n      <td>12</td>\n      <td>5</td>\n      <td>15</td>\n      <td>33.3</td>\n      <td>1</td>\n      <td>4</td>\n      <td>25.0</td>\n      <td>1</td>\n      <td>2</td>\n      <td>50.0</td>\n      <td>0</td>\n      <td>5</td>\n      <td>5</td>\n      <td>2</td>\n      <td>1</td>\n      <td>0</td>\n      <td>0</td>\n      <td>4</td>\n      <td>-3</td>\n      <td>BOS vs. HOU</td>\n    </tr>\n    <tr>\n      <td>2019-03-01</td>\n      <td>Mar 01, 2019 - BOS vs. WAS</td>\n      <td>W</td>\n      <td>31</td>\n      <td>10</td>\n      <td>4</td>\n      <td>13</td>\n      <td>30.8</td>\n      <td>0</td>\n      <td>5</td>\n      <td>0.0</td>\n      <td>2</td>\n      <td>2</td>\n      <td>100.0</td>\n      <td>2</td>\n      <td>6</td>\n      <td>8</td>\n      <td>3</td>\n      <td>5</td>\n      <td>0</td>\n      <td>4</td>\n      <td>2</td>\n      <td>20</td>\n      <td>BOS vs. WAS</td>\n    </tr>\n    <tr>\n      <td>2019-02-27</td>\n      <td>Feb 27, 2019 - BOS vs. POR</td>\n      <td>L</td>\n      <td>35</td>\n      <td>14</td>\n      <td>6</td>\n      <td>11</td>\n      <td>54.5</td>\n      <td>0</td>\n      <td>2</td>\n      <td>0.0</td>\n      <td>2</td>\n      <td>2</td>\n      <td>100.0</td>\n      <td>0</td>\n      <td>4</td>\n      <td>4</td>\n      <td>0</td>\n      <td>1</td>\n      <td>0</td>\n      <td>4</td>\n      <td>2</td>\n      <td>-14</td>\n      <td>BOS vs. POR</td>\n    </tr>\n    <tr>\n      <td>2019-02-26</td>\n      <td>Feb 26, 2019 - BOS @ TOR</td>\n      <td>L</td>\n      <td>24</td>\n      <td>11</td>\n      <td>5</td>\n      <td>10</td>\n      <td>50.0</td>\n      <td>1</td>\n      <td>3</td>\n      <td>33.3</td>\n      <td>0</td>\n      <td>0</td>\n      <td>0.0</td>\n      <td>2</td>\n      <td>5</td>\n      <td>7</td>\n      <td>1</td>\n      <td>0</td>\n      <td>0</td>\n      <td>2</td>\n      <td>3</td>\n      <td>-8</td>\n      <td>BOS @ TOR</td>\n    </tr>\n    <tr>\n      <td>2019-02-23</td>\n      <td>Feb 23, 2019 - BOS @ CHI</td>\n      <td>L</td>\n      <td>31</td>\n      <td>12</td>\n      <td>5</td>\n      <td>9</td>\n      <td>55.6</td>\n      <td>1</td>\n      <td>1</td>\n      <td>100.0</td>\n      <td>1</td>\n      <td>1</td>\n      <td>100.0</td>\n      <td>0</td>\n      <td>1</td>\n      <td>1</td>\n      <td>1</td>\n      <td>1</td>\n      <td>1</td>\n      <td>1</td>\n      <td>2</td>\n      <td>-6</td>\n      <td>BOS @ CHI</td>\n    </tr>\n    <tr>\n      <td>2019-02-21</td>\n      <td>Feb 21, 2019 - BOS @ MIL</td>\n      <td>L</td>\n      <td>34</td>\n      <td>17</td>\n      <td>7</td>\n      <td>13</td>\n      <td>53.8</td>\n      <td>1</td>\n      <td>2</td>\n      <td>50.0</td>\n      <td>2</td>\n      <td>2</td>\n      <td>100.0</td>\n      <td>1</td>\n      <td>9</td>\n      <td>10</td>\n      <td>1</td>\n      <td>2</td>\n      <td>1</td>\n      <td>1</td>\n      <td>1</td>\n      <td>7</td>\n      <td>BOS @ MIL</td>\n    </tr>\n    <tr>\n      <td>2019-02-13</td>\n      <td>Feb 13, 2019 - BOS vs. DET</td>\n      <td>W</td>\n      <td>34</td>\n      <td>19</td>\n      <td>8</td>\n      <td>18</td>\n      <td>44.4</td>\n      <td>3</td>\n      <td>8</td>\n      <td>37.5</td>\n      <td>0</td>\n      <td>0</td>\n      <td>0.0</td>\n      <td>1</td>\n      <td>3</td>\n      <td>4</td>\n      <td>4</td>\n      <td>2</td>\n      <td>0</td>\n      <td>3</td>\n      <td>2</td>\n      <td>13</td>\n      <td>BOS vs. DET</td>\n    </tr>\n    <tr>\n      <td>2019-02-12</td>\n      <td>Feb 12, 2019 - BOS @ PHI</td>\n      <td>W</td>\n      <td>35</td>\n      <td>20</td>\n      <td>7</td>\n      <td>15</td>\n      <td>46.7</td>\n      <td>1</td>\n      <td>1</td>\n      <td>100.0</td>\n      <td>5</td>\n      <td>5</td>\n      <td>100.0</td>\n      <td>0</td>\n      <td>10</td>\n      <td>10</td>\n      <td>1</td>\n      <td>2</td>\n      <td>2</td>\n      <td>1</td>\n      <td>5</td>\n      <td>0</td>\n      <td>BOS @ PHI</td>\n    </tr>\n    <tr>\n      <td>2019-02-09</td>\n      <td>Feb 09, 2019 - BOS vs. LAC</td>\n      <td>L</td>\n      <td>29</td>\n      <td>16</td>\n      <td>4</td>\n      <td>12</td>\n      <td>33.3</td>\n      <td>1</td>\n      <td>2</td>\n      <td>50.0</td>\n      <td>7</td>\n      <td>10</td>\n      <td>70.0</td>\n      <td>2</td>\n      <td>6</td>\n      <td>8</td>\n      <td>0</td>\n      <td>1</td>\n      <td>0</td>\n      <td>4</td>\n      <td>6</td>\n      <td>-12</td>\n      <td>BOS vs. LAC</td>\n    </tr>\n    <tr>\n      <td>2019-02-07</td>\n      <td>Feb 07, 2019 - BOS vs. LAL</td>\n      <td>L</td>\n      <td>36</td>\n      <td>22</td>\n      <td>9</td>\n      <td>14</td>\n      <td>64.3</td>\n      <td>1</td>\n      <td>1</td>\n      <td>100.0</td>\n      <td>3</td>\n      <td>3</td>\n      <td>100.0</td>\n      <td>1</td>\n      <td>9</td>\n      <td>10</td>\n      <td>5</td>\n      <td>1</td>\n      <td>0</td>\n      <td>0</td>\n      <td>2</td>\n      <td>-2</td>\n      <td>BOS vs. LAL</td>\n    </tr>\n    <tr>\n      <td>2019-02-05</td>\n      <td>Feb 05, 2019 - BOS @ CLE</td>\n      <td>W</td>\n      <td>34</td>\n      <td>25</td>\n      <td>6</td>\n      <td>13</td>\n      <td>46.2</td>\n      <td>1</td>\n      <td>3</td>\n      <td>33.3</td>\n      <td>12</td>\n      <td>12</td>\n      <td>100.0</td>\n      <td>1</td>\n      <td>6</td>\n      <td>7</td>\n      <td>2</td>\n      <td>1</td>\n      <td>3</td>\n      <td>1</td>\n      <td>0</td>\n      <td>5</td>\n      <td>BOS @ CLE</td>\n    </tr>\n    <tr>\n      <td>2019-02-03</td>\n      <td>Feb 03, 2019 - BOS vs. OKC</td>\n      <td>W</td>\n      <td>31</td>\n      <td>11</td>\n      <td>4</td>\n      <td>8</td>\n      <td>50.0</td>\n      <td>0</td>\n      <td>2</td>\n      <td>0.0</td>\n      <td>3</td>\n      <td>4</td>\n      <td>75.0</td>\n      <td>0</td>\n      <td>7</td>\n      <td>7</td>\n      <td>2</td>\n      <td>2</td>\n      <td>2</td>\n      <td>0</td>\n      <td>3</td>\n      <td>12</td>\n      <td>BOS vs. OKC</td>\n    </tr>\n    <tr>\n      <td>2019-02-01</td>\n      <td>Feb 01, 2019 - BOS @ NYK</td>\n      <td>W</td>\n      <td>26</td>\n      <td>13</td>\n      <td>6</td>\n      <td>15</td>\n      <td>40.0</td>\n      <td>1</td>\n      <td>6</td>\n      <td>16.7</td>\n      <td>0</td>\n      <td>0</td>\n      <td>0.0</td>\n      <td>1</td>\n      <td>4</td>\n      <td>5</td>\n      <td>3</td>\n      <td>0</td>\n      <td>1</td>\n      <td>0</td>\n      <td>4</td>\n      <td>12</td>\n      <td>BOS @ NYK</td>\n    </tr>\n    <tr>\n      <td>2019-01-30</td>\n      <td>Jan 30, 2019 - BOS vs. CHA</td>\n      <td>W</td>\n      <td>27</td>\n      <td>20</td>\n      <td>9</td>\n      <td>15</td>\n      <td>60.0</td>\n      <td>2</td>\n      <td>5</td>\n      <td>40.0</td>\n      <td>0</td>\n      <td>0</td>\n      <td>0.0</td>\n      <td>1</td>\n      <td>4</td>\n      <td>5</td>\n      <td>1</td>\n      <td>0</td>\n      <td>1</td>\n      <td>0</td>\n      <td>1</td>\n      <td>26</td>\n      <td>BOS vs. CHA</td>\n    </tr>\n    <tr>\n      <td>2019-01-28</td>\n      <td>Jan 28, 2019 - BOS vs. BKN</td>\n      <td>W</td>\n      <td>30</td>\n      <td>6</td>\n      <td>3</td>\n      <td>9</td>\n      <td>33.3</td>\n      <td>0</td>\n      <td>1</td>\n      <td>0.0</td>\n      <td>0</td>\n      <td>0</td>\n      <td>0.0</td>\n      <td>2</td>\n      <td>4</td>\n      <td>6</td>\n      <td>1</td>\n      <td>1</td>\n      <td>2</td>\n      <td>2</td>\n      <td>1</td>\n      <td>7</td>\n      <td>BOS vs. BKN</td>\n    </tr>\n    <tr>\n      <td>2019-01-26</td>\n      <td>Jan 26, 2019 - BOS vs. GSW</td>\n      <td>L</td>\n      <td>31</td>\n      <td>20</td>\n      <td>7</td>\n      <td>15</td>\n      <td>46.7</td>\n      <td>3</td>\n      <td>5</td>\n      <td>60.0</td>\n      <td>3</td>\n      <td>3</td>\n      <td>100.0</td>\n      <td>0</td>\n      <td>5</td>\n      <td>5</td>\n      <td>3</td>\n      <td>0</td>\n      <td>1</td>\n      <td>0</td>\n      <td>1</td>\n      <td>4</td>\n      <td>BOS vs. GSW</td>\n    </tr>\n    <tr>\n      <td>2019-01-23</td>\n      <td>Jan 23, 2019 - BOS vs. CLE</td>\n      <td>W</td>\n      <td>31</td>\n      <td>15</td>\n      <td>7</td>\n      <td>16</td>\n      <td>43.8</td>\n      <td>0</td>\n      <td>0</td>\n      <td>0.0</td>\n      <td>1</td>\n      <td>1</td>\n      <td>100.0</td>\n      <td>0</td>\n      <td>2</td>\n      <td>2</td>\n      <td>3</td>\n      <td>3</td>\n      <td>0</td>\n      <td>3</td>\n      <td>2</td>\n      <td>6</td>\n      <td>BOS vs. CLE</td>\n    </tr>\n    <tr>\n      <td>2019-01-21</td>\n      <td>Jan 21, 2019 - BOS vs. MIA</td>\n      <td>W</td>\n      <td>31</td>\n      <td>19</td>\n      <td>8</td>\n      <td>13</td>\n      <td>61.5</td>\n      <td>3</td>\n      <td>3</td>\n      <td>100.0</td>\n      <td>0</td>\n      <td>0</td>\n      <td>0.0</td>\n      <td>0</td>\n      <td>6</td>\n      <td>6</td>\n      <td>1</td>\n      <td>0</td>\n      <td>0</td>\n      <td>4</td>\n      <td>2</td>\n      <td>18</td>\n      <td>BOS vs. MIA</td>\n    </tr>\n    <tr>\n      <td>2019-01-19</td>\n      <td>Jan 19, 2019 - BOS @ ATL</td>\n      <td>W</td>\n      <td>35</td>\n      <td>19</td>\n      <td>7</td>\n      <td>13</td>\n      <td>53.8</td>\n      <td>0</td>\n      <td>0</td>\n      <td>0.0</td>\n      <td>5</td>\n      <td>5</td>\n      <td>100.0</td>\n      <td>1</td>\n      <td>4</td>\n      <td>5</td>\n      <td>2</td>\n      <td>1</td>\n      <td>3</td>\n      <td>1</td>\n      <td>1</td>\n      <td>2</td>\n      <td>BOS @ ATL</td>\n    </tr>\n    <tr>\n      <td>2019-01-18</td>\n      <td>Jan 18, 2019 - BOS vs. MEM</td>\n      <td>W</td>\n      <td>29</td>\n      <td>2</td>\n      <td>0</td>\n      <td>6</td>\n      <td>0.0</td>\n      <td>0</td>\n      <td>2</td>\n      <td>0.0</td>\n      <td>2</td>\n      <td>2</td>\n      <td>100.0</td>\n      <td>1</td>\n      <td>5</td>\n      <td>6</td>\n      <td>4</td>\n      <td>0</td>\n      <td>1</td>\n      <td>2</td>\n      <td>1</td>\n      <td>-6</td>\n      <td>BOS vs. MEM</td>\n    </tr>\n    <tr>\n      <td>2019-01-16</td>\n      <td>Jan 16, 2019 - BOS vs. TOR</td>\n      <td>W</td>\n      <td>31</td>\n      <td>16</td>\n      <td>6</td>\n      <td>16</td>\n      <td>37.5</td>\n      <td>1</td>\n      <td>3</td>\n      <td>33.3</td>\n      <td>3</td>\n      <td>3</td>\n      <td>100.0</td>\n      <td>3</td>\n      <td>7</td>\n      <td>10</td>\n      <td>2</td>\n      <td>0</td>\n      <td>1</td>\n      <td>1</td>\n      <td>2</td>\n      <td>4</td>\n      <td>BOS vs. TOR</td>\n    </tr>\n    <tr>\n      <td>2019-01-14</td>\n      <td>Jan 14, 2019 - BOS @ BKN</td>\n      <td>L</td>\n      <td>36</td>\n      <td>34</td>\n      <td>12</td>\n      <td>19</td>\n      <td>63.2</td>\n      <td>3</td>\n      <td>5</td>\n      <td>60.0</td>\n      <td>7</td>\n      <td>11</td>\n      <td>63.6</td>\n      <td>0</td>\n      <td>5</td>\n      <td>5</td>\n      <td>3</td>\n      <td>1</td>\n      <td>3</td>\n      <td>0</td>\n      <td>3</td>\n      <td>-13</td>\n      <td>BOS @ BKN</td>\n    </tr>\n    <tr>\n      <td>2019-01-12</td>\n      <td>Jan 12, 2019 - BOS @ ORL</td>\n      <td>L</td>\n      <td>28</td>\n      <td>16</td>\n      <td>6</td>\n      <td>16</td>\n      <td>37.5</td>\n      <td>1</td>\n      <td>4</td>\n      <td>25.0</td>\n      <td>3</td>\n      <td>4</td>\n      <td>75.0</td>\n      <td>2</td>\n      <td>4</td>\n      <td>6</td>\n      <td>1</td>\n      <td>1</td>\n      <td>1</td>\n      <td>2</td>\n      <td>4</td>\n      <td>8</td>\n      <td>BOS @ ORL</td>\n    </tr>\n    <tr>\n      <td>2019-01-10</td>\n      <td>Jan 10, 2019 - BOS @ MIA</td>\n      <td>L</td>\n      <td>32</td>\n      <td>17</td>\n      <td>4</td>\n      <td>11</td>\n      <td>36.4</td>\n      <td>2</td>\n      <td>4</td>\n      <td>50.0</td>\n      <td>7</td>\n      <td>7</td>\n      <td>100.0</td>\n      <td>0</td>\n      <td>4</td>\n      <td>4</td>\n      <td>1</td>\n      <td>0</td>\n      <td>1</td>\n      <td>1</td>\n      <td>2</td>\n      <td>-11</td>\n      <td>BOS @ MIA</td>\n    </tr>\n    <tr>\n      <td>2019-01-09</td>\n      <td>Jan 09, 2019 - BOS vs. IND</td>\n      <td>W</td>\n      <td>25</td>\n      <td>20</td>\n      <td>9</td>\n      <td>15</td>\n      <td>60.0</td>\n      <td>2</td>\n      <td>5</td>\n      <td>40.0</td>\n      <td>0</td>\n      <td>0</td>\n      <td>0.0</td>\n      <td>0</td>\n      <td>4</td>\n      <td>4</td>\n      <td>0</td>\n      <td>1</td>\n      <td>0</td>\n      <td>1</td>\n      <td>1</td>\n      <td>17</td>\n      <td>BOS vs. IND</td>\n    </tr>\n    <tr>\n      <td>2019-01-07</td>\n      <td>Jan 07, 2019 - BOS vs. BKN</td>\n      <td>W</td>\n      <td>27</td>\n      <td>16</td>\n      <td>5</td>\n      <td>12</td>\n      <td>41.7</td>\n      <td>2</td>\n      <td>6</td>\n      <td>33.3</td>\n      <td>4</td>\n      <td>4</td>\n      <td>100.0</td>\n      <td>0</td>\n      <td>4</td>\n      <td>4</td>\n      <td>4</td>\n      <td>2</td>\n      <td>0</td>\n      <td>0</td>\n      <td>1</td>\n      <td>17</td>\n      <td>BOS vs. BKN</td>\n    </tr>\n    <tr>\n      <td>2019-01-04</td>\n      <td>Jan 04, 2019 - BOS vs. DAL</td>\n      <td>W</td>\n      <td>31</td>\n      <td>18</td>\n      <td>7</td>\n      <td>21</td>\n      <td>33.3</td>\n      <td>4</td>\n      <td>11</td>\n      <td>36.4</td>\n      <td>0</td>\n      <td>0</td>\n      <td>0.0</td>\n      <td>1</td>\n      <td>5</td>\n      <td>6</td>\n      <td>0</td>\n      <td>1</td>\n      <td>0</td>\n      <td>2</td>\n      <td>2</td>\n      <td>3</td>\n      <td>BOS vs. DAL</td>\n    </tr>\n    <tr>\n      <td>2019-01-02</td>\n      <td>Jan 02, 2019 - BOS vs. MIN</td>\n      <td>W</td>\n      <td>31</td>\n      <td>8</td>\n      <td>3</td>\n      <td>11</td>\n      <td>27.3</td>\n      <td>0</td>\n      <td>3</td>\n      <td>0.0</td>\n      <td>2</td>\n      <td>2</td>\n      <td>100.0</td>\n      <td>0</td>\n      <td>3</td>\n      <td>3</td>\n      <td>4</td>\n      <td>0</td>\n      <td>1</td>\n      <td>1</td>\n      <td>0</td>\n      <td>22</td>\n      <td>BOS vs. MIN</td>\n    </tr>\n    <tr>\n      <td>2018-12-31</td>\n      <td>Dec 31, 2018 - BOS @ SAS</td>\n      <td>L</td>\n      <td>35</td>\n      <td>12</td>\n      <td>6</td>\n      <td>14</td>\n      <td>42.9</td>\n      <td>0</td>\n      <td>5</td>\n      <td>0.0</td>\n      <td>0</td>\n      <td>0</td>\n      <td>0.0</td>\n      <td>2</td>\n      <td>9</td>\n      <td>11</td>\n      <td>1</td>\n      <td>0</td>\n      <td>2</td>\n      <td>2</td>\n      <td>3</td>\n      <td>-4</td>\n      <td>BOS @ SAS</td>\n    </tr>\n    <tr>\n      <td>2018-12-29</td>\n      <td>Dec 29, 2018 - BOS @ MEM</td>\n      <td>W</td>\n      <td>29</td>\n      <td>7</td>\n      <td>3</td>\n      <td>6</td>\n      <td>50.0</td>\n      <td>1</td>\n      <td>1</td>\n      <td>100.0</td>\n      <td>0</td>\n      <td>0</td>\n      <td>0.0</td>\n      <td>1</td>\n      <td>7</td>\n      <td>8</td>\n      <td>5</td>\n      <td>4</td>\n      <td>1</td>\n      <td>2</td>\n      <td>2</td>\n      <td>9</td>\n      <td>BOS @ MEM</td>\n    </tr>\n    <tr>\n      <td>2018-12-27</td>\n      <td>Dec 27, 2018 - BOS @ HOU</td>\n      <td>L</td>\n      <td>29</td>\n      <td>4</td>\n      <td>2</td>\n      <td>7</td>\n      <td>28.6</td>\n      <td>0</td>\n      <td>1</td>\n      <td>0.0</td>\n      <td>0</td>\n      <td>0</td>\n      <td>0.0</td>\n      <td>0</td>\n      <td>3</td>\n      <td>3</td>\n      <td>2</td>\n      <td>1</td>\n      <td>0</td>\n      <td>1</td>\n      <td>3</td>\n      <td>-12</td>\n      <td>BOS @ HOU</td>\n    </tr>\n    <tr>\n      <td>2018-12-25</td>\n      <td>Dec 25, 2018 - BOS vs. PHI</td>\n      <td>W</td>\n      <td>38</td>\n      <td>23</td>\n      <td>7</td>\n      <td>18</td>\n      <td>38.9</td>\n      <td>1</td>\n      <td>7</td>\n      <td>14.3</td>\n      <td>8</td>\n      <td>9</td>\n      <td>88.9</td>\n      <td>0</td>\n      <td>10</td>\n      <td>10</td>\n      <td>1</td>\n      <td>2</td>\n      <td>2</td>\n      <td>1</td>\n      <td>3</td>\n      <td>22</td>\n      <td>BOS vs. PHI</td>\n    </tr>\n    <tr>\n      <td>2018-12-23</td>\n      <td>Dec 23, 2018 - BOS vs. CHA</td>\n      <td>W</td>\n      <td>23</td>\n      <td>17</td>\n      <td>6</td>\n      <td>13</td>\n      <td>46.2</td>\n      <td>3</td>\n      <td>8</td>\n      <td>37.5</td>\n      <td>2</td>\n      <td>3</td>\n      <td>66.7</td>\n      <td>0</td>\n      <td>4</td>\n      <td>4</td>\n      <td>1</td>\n      <td>0</td>\n      <td>0</td>\n      <td>2</td>\n      <td>0</td>\n      <td>17</td>\n      <td>BOS vs. CHA</td>\n    </tr>\n    <tr>\n      <td>2018-12-21</td>\n      <td>Dec 21, 2018 - BOS vs. MIL</td>\n      <td>L</td>\n      <td>32</td>\n      <td>20</td>\n      <td>5</td>\n      <td>15</td>\n      <td>33.3</td>\n      <td>3</td>\n      <td>7</td>\n      <td>42.9</td>\n      <td>7</td>\n      <td>8</td>\n      <td>87.5</td>\n      <td>0</td>\n      <td>5</td>\n      <td>5</td>\n      <td>2</td>\n      <td>2</td>\n      <td>1</td>\n      <td>2</td>\n      <td>4</td>\n      <td>-7</td>\n      <td>BOS vs. MIL</td>\n    </tr>\n    <tr>\n      <td>2018-12-19</td>\n      <td>Dec 19, 2018 - BOS vs. PHX</td>\n      <td>L</td>\n      <td>36</td>\n      <td>18</td>\n      <td>7</td>\n      <td>17</td>\n      <td>41.2</td>\n      <td>2</td>\n      <td>5</td>\n      <td>40.0</td>\n      <td>2</td>\n      <td>2</td>\n      <td>100.0</td>\n      <td>0</td>\n      <td>8</td>\n      <td>8</td>\n      <td>0</td>\n      <td>1</td>\n      <td>4</td>\n      <td>2</td>\n      <td>2</td>\n      <td>5</td>\n      <td>BOS vs. PHX</td>\n    </tr>\n  </tbody>\n</table>\n</div>",
      "text/plain": "                              Match Up W/L  MIN  ...  PF  +/-         teams\ndate                                             ...                       \n2019-04-07  Apr 07, 2019 - BOS vs. ORL   L    6  ...   0    1   BOS vs. ORL\n2019-04-05    Apr 05, 2019 - BOS @ IND   W   34  ...   2   15     BOS @ IND\n2019-04-03    Apr 03, 2019 - BOS @ MIA   W   39  ...   0   16     BOS @ MIA\n2019-04-01  Apr 01, 2019 - BOS vs. MIA   W   34  ...   0   15   BOS vs. MIA\n2019-03-30    Mar 30, 2019 - BOS @ BKN   L   30  ...   4  -12     BOS @ BKN\n2019-03-29  Mar 29, 2019 - BOS vs. IND   W   24  ...   2   16   BOS vs. IND\n2019-03-26    Mar 26, 2019 - BOS @ CLE   W   34  ...   4   17     BOS @ CLE\n2019-03-23    Mar 23, 2019 - BOS @ CHA   L   37  ...   1  -19     BOS @ CHA\n2019-03-20    Mar 20, 2019 - BOS @ PHI   L   33  ...   3  -17     BOS @ PHI\n2019-03-18  Mar 18, 2019 - BOS vs. DEN   L   36  ...   1   -9   BOS vs. DEN\n2019-03-16  Mar 16, 2019 - BOS vs. ATL   W   33  ...   1    0   BOS vs. ATL\n2019-03-14  Mar 14, 2019 - BOS vs. SAC   W   29  ...   4   -5   BOS vs. SAC\n2019-03-09    Mar 09, 2019 - BOS @ LAL   W   27  ...   3    1     BOS @ LAL\n2019-03-06    Mar 06, 2019 - BOS @ SAC   W   33  ...   0   11     BOS @ SAC\n2019-03-05    Mar 05, 2019 - BOS @ GSW   W   27  ...   2    4     BOS @ GSW\n2019-03-03  Mar 03, 2019 - BOS vs. HOU   L   35  ...   4   -3   BOS vs. HOU\n2019-03-01  Mar 01, 2019 - BOS vs. WAS   W   31  ...   2   20   BOS vs. WAS\n2019-02-27  Feb 27, 2019 - BOS vs. POR   L   35  ...   2  -14   BOS vs. POR\n2019-02-26    Feb 26, 2019 - BOS @ TOR   L   24  ...   3   -8     BOS @ TOR\n2019-02-23    Feb 23, 2019 - BOS @ CHI   L   31  ...   2   -6     BOS @ CHI\n2019-02-21    Feb 21, 2019 - BOS @ MIL   L   34  ...   1    7     BOS @ MIL\n2019-02-13  Feb 13, 2019 - BOS vs. DET   W   34  ...   2   13   BOS vs. DET\n2019-02-12    Feb 12, 2019 - BOS @ PHI   W   35  ...   5    0     BOS @ PHI\n2019-02-09  Feb 09, 2019 - BOS vs. LAC   L   29  ...   6  -12   BOS vs. LAC\n2019-02-07  Feb 07, 2019 - BOS vs. LAL   L   36  ...   2   -2   BOS vs. LAL\n2019-02-05    Feb 05, 2019 - BOS @ CLE   W   34  ...   0    5     BOS @ CLE\n2019-02-03  Feb 03, 2019 - BOS vs. OKC   W   31  ...   3   12   BOS vs. OKC\n2019-02-01    Feb 01, 2019 - BOS @ NYK   W   26  ...   4   12     BOS @ NYK\n2019-01-30  Jan 30, 2019 - BOS vs. CHA   W   27  ...   1   26   BOS vs. CHA\n2019-01-28  Jan 28, 2019 - BOS vs. BKN   W   30  ...   1    7   BOS vs. BKN\n2019-01-26  Jan 26, 2019 - BOS vs. GSW   L   31  ...   1    4   BOS vs. GSW\n2019-01-23  Jan 23, 2019 - BOS vs. CLE   W   31  ...   2    6   BOS vs. CLE\n2019-01-21  Jan 21, 2019 - BOS vs. MIA   W   31  ...   2   18   BOS vs. MIA\n2019-01-19    Jan 19, 2019 - BOS @ ATL   W   35  ...   1    2     BOS @ ATL\n2019-01-18  Jan 18, 2019 - BOS vs. MEM   W   29  ...   1   -6   BOS vs. MEM\n2019-01-16  Jan 16, 2019 - BOS vs. TOR   W   31  ...   2    4   BOS vs. TOR\n2019-01-14    Jan 14, 2019 - BOS @ BKN   L   36  ...   3  -13     BOS @ BKN\n2019-01-12    Jan 12, 2019 - BOS @ ORL   L   28  ...   4    8     BOS @ ORL\n2019-01-10    Jan 10, 2019 - BOS @ MIA   L   32  ...   2  -11     BOS @ MIA\n2019-01-09  Jan 09, 2019 - BOS vs. IND   W   25  ...   1   17   BOS vs. IND\n2019-01-07  Jan 07, 2019 - BOS vs. BKN   W   27  ...   1   17   BOS vs. BKN\n2019-01-04  Jan 04, 2019 - BOS vs. DAL   W   31  ...   2    3   BOS vs. DAL\n2019-01-02  Jan 02, 2019 - BOS vs. MIN   W   31  ...   0   22   BOS vs. MIN\n2018-12-31    Dec 31, 2018 - BOS @ SAS   L   35  ...   3   -4     BOS @ SAS\n2018-12-29    Dec 29, 2018 - BOS @ MEM   W   29  ...   2    9     BOS @ MEM\n2018-12-27    Dec 27, 2018 - BOS @ HOU   L   29  ...   3  -12     BOS @ HOU\n2018-12-25  Dec 25, 2018 - BOS vs. PHI   W   38  ...   3   22   BOS vs. PHI\n2018-12-23  Dec 23, 2018 - BOS vs. CHA   W   23  ...   0   17   BOS vs. CHA\n2018-12-21  Dec 21, 2018 - BOS vs. MIL   L   32  ...   4   -7   BOS vs. MIL\n2018-12-19  Dec 19, 2018 - BOS vs. PHX   L   36  ...   2    5   BOS vs. PHX\n\n[50 rows x 23 columns]"
     },
     "execution_count": 34,
     "metadata": {},
     "output_type": "execute_result"
    }
   ],
   "source": [
    "df2 = ns.get_season_df(season_urls[1])\n",
    "df2"
   ]
  },
  {
   "cell_type": "code",
   "execution_count": 35,
   "metadata": {},
   "outputs": [
    {
     "data": {
      "text/plain": "{2019: {'start_YR': '2019', 'end_yr': '20'},\n 2018: {'start_YR': '2018', 'end_yr': '19'},\n 2017: {'start_YR': '2017', 'end_yr': '18'}}"
     },
     "execution_count": 35,
     "metadata": {},
     "output_type": "execute_result"
    }
   ],
   "source": [
    "season_years=[2019,2018,2017]\n",
    "seasons= {}\n",
    "for year in season_years:\n",
    "    seasons[year] = dict(start_YR = str(year), end_yr = str(year+1)[-2:])\n",
    "seasons"
   ]
  },
  {
   "cell_type": "code",
   "execution_count": 38,
   "metadata": {},
   "outputs": [
    {
     "name": "stdout",
     "output_type": "stream",
     "text": "Reloading...\n\n"
    },
    {
     "data": {
      "text/plain": "['https://stats.nba.com/player/1628369/boxscores-traditional/?Season=2019-20&SeasonType=Regular%20Season',\n 'https://stats.nba.com/player/1628369/boxscores-traditional/?Season=2018-19&SeasonType=Regular%20Season',\n 'https://stats.nba.com/player/1628369/boxscores-traditional/?Season=2017-18&SeasonType=Regular%20Season']"
     },
     "execution_count": 38,
     "metadata": {},
     "output_type": "execute_result"
    }
   ],
   "source": [
    "fs.reload(ns)\n",
    "ns.make_season_urls_from_playerid()"
   ]
  },
  {
   "cell_type": "code",
   "execution_count": 39,
   "metadata": {},
   "outputs": [
    {
     "name": "stdout",
     "output_type": "stream",
     "text": "Reloading...\n\n"
    }
   ],
   "source": [
    "fs.reload(ns)\n",
    "\n",
    "df_list = ns.get_all_seasons_df(player_id=1628369)"
   ]
  },
  {
   "cell_type": "code",
   "execution_count": 40,
   "metadata": {},
   "outputs": [
    {
     "data": {
      "text/html": "<div>\n<style scoped>\n    .dataframe tbody tr th:only-of-type {\n        vertical-align: middle;\n    }\n\n    .dataframe tbody tr th {\n        vertical-align: top;\n    }\n\n    .dataframe thead th {\n        text-align: right;\n    }\n</style>\n<table border=\"1\" class=\"dataframe\">\n  <thead>\n    <tr style=\"text-align: right;\">\n      <th></th>\n      <th>Match Up</th>\n      <th>W/L</th>\n      <th>MIN</th>\n      <th>PTS</th>\n      <th>FGM</th>\n      <th>FGA</th>\n      <th>FG%</th>\n      <th>3PM</th>\n      <th>3PA</th>\n      <th>3P%</th>\n      <th>FTM</th>\n      <th>FTA</th>\n      <th>FT%</th>\n      <th>OREB</th>\n      <th>DREB</th>\n      <th>REB</th>\n      <th>AST</th>\n      <th>STL</th>\n      <th>BLK</th>\n      <th>TOV</th>\n      <th>PF</th>\n      <th>+/-</th>\n      <th>teams</th>\n    </tr>\n    <tr>\n      <th>date</th>\n      <th></th>\n      <th></th>\n      <th></th>\n      <th></th>\n      <th></th>\n      <th></th>\n      <th></th>\n      <th></th>\n      <th></th>\n      <th></th>\n      <th></th>\n      <th></th>\n      <th></th>\n      <th></th>\n      <th></th>\n      <th></th>\n      <th></th>\n      <th></th>\n      <th></th>\n      <th></th>\n      <th></th>\n      <th></th>\n      <th></th>\n    </tr>\n  </thead>\n  <tbody>\n    <tr>\n      <td>2019-12-25</td>\n      <td>Dec 25, 2019 - BOS @ TOR</td>\n      <td>W</td>\n      <td>35</td>\n      <td>11</td>\n      <td>5</td>\n      <td>18</td>\n      <td>27.8</td>\n      <td>1</td>\n      <td>3</td>\n      <td>33.3</td>\n      <td>0</td>\n      <td>0</td>\n      <td>0.0</td>\n      <td>4</td>\n      <td>5</td>\n      <td>9</td>\n      <td>6</td>\n      <td>2</td>\n      <td>0</td>\n      <td>3</td>\n      <td>4</td>\n      <td>21</td>\n      <td>BOS @ TOR</td>\n    </tr>\n    <tr>\n      <td>2019-12-22</td>\n      <td>Dec 22, 2019 - BOS vs. CHA</td>\n      <td>W</td>\n      <td>36</td>\n      <td>39</td>\n      <td>15</td>\n      <td>29</td>\n      <td>51.7</td>\n      <td>4</td>\n      <td>9</td>\n      <td>44.4</td>\n      <td>5</td>\n      <td>5</td>\n      <td>100.0</td>\n      <td>1</td>\n      <td>11</td>\n      <td>12</td>\n      <td>2</td>\n      <td>1</td>\n      <td>3</td>\n      <td>2</td>\n      <td>1</td>\n      <td>10</td>\n      <td>BOS vs. CHA</td>\n    </tr>\n    <tr>\n      <td>2019-12-20</td>\n      <td>Dec 20, 2019 - BOS vs. DET</td>\n      <td>W</td>\n      <td>27</td>\n      <td>26</td>\n      <td>10</td>\n      <td>17</td>\n      <td>58.8</td>\n      <td>2</td>\n      <td>7</td>\n      <td>28.6</td>\n      <td>4</td>\n      <td>4</td>\n      <td>100.0</td>\n      <td>0</td>\n      <td>5</td>\n      <td>5</td>\n      <td>3</td>\n      <td>2</td>\n      <td>0</td>\n      <td>0</td>\n      <td>1</td>\n      <td>10</td>\n      <td>BOS vs. DET</td>\n    </tr>\n    <tr>\n      <td>2019-12-18</td>\n      <td>Dec 18, 2019 - BOS @ DAL</td>\n      <td>W</td>\n      <td>37</td>\n      <td>24</td>\n      <td>10</td>\n      <td>23</td>\n      <td>43.5</td>\n      <td>2</td>\n      <td>10</td>\n      <td>20.0</td>\n      <td>2</td>\n      <td>3</td>\n      <td>66.7</td>\n      <td>2</td>\n      <td>6</td>\n      <td>8</td>\n      <td>1</td>\n      <td>0</td>\n      <td>1</td>\n      <td>3</td>\n      <td>3</td>\n      <td>-2</td>\n      <td>BOS @ DAL</td>\n    </tr>\n    <tr>\n      <td>2019-12-12</td>\n      <td>Dec 12, 2019 - BOS vs. PHI</td>\n      <td>L</td>\n      <td>34</td>\n      <td>15</td>\n      <td>5</td>\n      <td>18</td>\n      <td>27.8</td>\n      <td>3</td>\n      <td>8</td>\n      <td>37.5</td>\n      <td>2</td>\n      <td>2</td>\n      <td>100.0</td>\n      <td>1</td>\n      <td>2</td>\n      <td>3</td>\n      <td>4</td>\n      <td>0</td>\n      <td>1</td>\n      <td>1</td>\n      <td>4</td>\n      <td>-2</td>\n      <td>BOS vs. PHI</td>\n    </tr>\n    <tr>\n      <td>2019-12-11</td>\n      <td>Dec 11, 2019 - BOS @ IND</td>\n      <td>L</td>\n      <td>37</td>\n      <td>16</td>\n      <td>4</td>\n      <td>13</td>\n      <td>30.8</td>\n      <td>2</td>\n      <td>8</td>\n      <td>25.0</td>\n      <td>6</td>\n      <td>6</td>\n      <td>100.0</td>\n      <td>0</td>\n      <td>6</td>\n      <td>6</td>\n      <td>3</td>\n      <td>2</td>\n      <td>0</td>\n      <td>3</td>\n      <td>2</td>\n      <td>-8</td>\n      <td>BOS @ IND</td>\n    </tr>\n    <tr>\n      <td>2019-12-09</td>\n      <td>Dec 09, 2019 - BOS vs. CLE</td>\n      <td>W</td>\n      <td>30</td>\n      <td>19</td>\n      <td>7</td>\n      <td>14</td>\n      <td>50.0</td>\n      <td>4</td>\n      <td>6</td>\n      <td>66.7</td>\n      <td>1</td>\n      <td>2</td>\n      <td>50.0</td>\n      <td>0</td>\n      <td>11</td>\n      <td>11</td>\n      <td>2</td>\n      <td>2</td>\n      <td>2</td>\n      <td>4</td>\n      <td>1</td>\n      <td>24</td>\n      <td>BOS vs. CLE</td>\n    </tr>\n    <tr>\n      <td>2019-12-06</td>\n      <td>Dec 06, 2019 - BOS vs. DEN</td>\n      <td>W</td>\n      <td>30</td>\n      <td>26</td>\n      <td>10</td>\n      <td>19</td>\n      <td>52.6</td>\n      <td>4</td>\n      <td>8</td>\n      <td>50.0</td>\n      <td>2</td>\n      <td>2</td>\n      <td>100.0</td>\n      <td>0</td>\n      <td>7</td>\n      <td>7</td>\n      <td>5</td>\n      <td>1</td>\n      <td>0</td>\n      <td>1</td>\n      <td>1</td>\n      <td>14</td>\n      <td>BOS vs. DEN</td>\n    </tr>\n    <tr>\n      <td>2019-12-04</td>\n      <td>Dec 04, 2019 - BOS vs. MIA</td>\n      <td>W</td>\n      <td>34</td>\n      <td>19</td>\n      <td>6</td>\n      <td>19</td>\n      <td>31.6</td>\n      <td>2</td>\n      <td>12</td>\n      <td>16.7</td>\n      <td>5</td>\n      <td>6</td>\n      <td>83.3</td>\n      <td>1</td>\n      <td>4</td>\n      <td>5</td>\n      <td>3</td>\n      <td>1</td>\n      <td>3</td>\n      <td>3</td>\n      <td>2</td>\n      <td>31</td>\n      <td>BOS vs. MIA</td>\n    </tr>\n    <tr>\n      <td>2019-12-01</td>\n      <td>Dec 01, 2019 - BOS @ NYK</td>\n      <td>W</td>\n      <td>37</td>\n      <td>30</td>\n      <td>10</td>\n      <td>23</td>\n      <td>43.5</td>\n      <td>5</td>\n      <td>11</td>\n      <td>45.5</td>\n      <td>5</td>\n      <td>6</td>\n      <td>83.3</td>\n      <td>0</td>\n      <td>6</td>\n      <td>6</td>\n      <td>7</td>\n      <td>2</td>\n      <td>2</td>\n      <td>1</td>\n      <td>4</td>\n      <td>11</td>\n      <td>BOS @ NYK</td>\n    </tr>\n    <tr>\n      <td>2019-11-29</td>\n      <td>Nov 29, 2019 - BOS @ BKN</td>\n      <td>L</td>\n      <td>37</td>\n      <td>26</td>\n      <td>10</td>\n      <td>19</td>\n      <td>52.6</td>\n      <td>4</td>\n      <td>8</td>\n      <td>50.0</td>\n      <td>2</td>\n      <td>2</td>\n      <td>100.0</td>\n      <td>1</td>\n      <td>8</td>\n      <td>9</td>\n      <td>0</td>\n      <td>4</td>\n      <td>0</td>\n      <td>6</td>\n      <td>0</td>\n      <td>13</td>\n      <td>BOS @ BKN</td>\n    </tr>\n    <tr>\n      <td>2019-11-27</td>\n      <td>Nov 27, 2019 - BOS vs. BKN</td>\n      <td>W</td>\n      <td>35</td>\n      <td>16</td>\n      <td>5</td>\n      <td>17</td>\n      <td>29.4</td>\n      <td>0</td>\n      <td>4</td>\n      <td>0.0</td>\n      <td>6</td>\n      <td>6</td>\n      <td>100.0</td>\n      <td>3</td>\n      <td>6</td>\n      <td>9</td>\n      <td>5</td>\n      <td>1</td>\n      <td>0</td>\n      <td>3</td>\n      <td>2</td>\n      <td>11</td>\n      <td>BOS vs. BKN</td>\n    </tr>\n    <tr>\n      <td>2019-11-25</td>\n      <td>Nov 25, 2019 - BOS vs. SAC</td>\n      <td>W</td>\n      <td>34</td>\n      <td>20</td>\n      <td>7</td>\n      <td>18</td>\n      <td>38.9</td>\n      <td>0</td>\n      <td>3</td>\n      <td>0.0</td>\n      <td>6</td>\n      <td>7</td>\n      <td>85.7</td>\n      <td>1</td>\n      <td>5</td>\n      <td>6</td>\n      <td>3</td>\n      <td>0</td>\n      <td>0</td>\n      <td>3</td>\n      <td>4</td>\n      <td>4</td>\n      <td>BOS vs. SAC</td>\n    </tr>\n    <tr>\n      <td>2019-11-22</td>\n      <td>Nov 22, 2019 - BOS @ DEN</td>\n      <td>L</td>\n      <td>32</td>\n      <td>16</td>\n      <td>6</td>\n      <td>16</td>\n      <td>37.5</td>\n      <td>0</td>\n      <td>5</td>\n      <td>0.0</td>\n      <td>4</td>\n      <td>5</td>\n      <td>80.0</td>\n      <td>0</td>\n      <td>2</td>\n      <td>2</td>\n      <td>3</td>\n      <td>0</td>\n      <td>1</td>\n      <td>0</td>\n      <td>1</td>\n      <td>-23</td>\n      <td>BOS @ DEN</td>\n    </tr>\n    <tr>\n      <td>2019-11-20</td>\n      <td>Nov 20, 2019 - BOS @ LAC</td>\n      <td>L</td>\n      <td>41</td>\n      <td>30</td>\n      <td>12</td>\n      <td>24</td>\n      <td>50.0</td>\n      <td>5</td>\n      <td>10</td>\n      <td>50.0</td>\n      <td>1</td>\n      <td>2</td>\n      <td>50.0</td>\n      <td>0</td>\n      <td>6</td>\n      <td>6</td>\n      <td>3</td>\n      <td>2</td>\n      <td>2</td>\n      <td>3</td>\n      <td>4</td>\n      <td>-6</td>\n      <td>BOS @ LAC</td>\n    </tr>\n    <tr>\n      <td>2019-11-18</td>\n      <td>Nov 18, 2019 - BOS @ PHX</td>\n      <td>W</td>\n      <td>27</td>\n      <td>26</td>\n      <td>8</td>\n      <td>16</td>\n      <td>50.0</td>\n      <td>3</td>\n      <td>9</td>\n      <td>33.3</td>\n      <td>7</td>\n      <td>9</td>\n      <td>77.8</td>\n      <td>2</td>\n      <td>9</td>\n      <td>11</td>\n      <td>3</td>\n      <td>1</td>\n      <td>0</td>\n      <td>4</td>\n      <td>3</td>\n      <td>8</td>\n      <td>BOS @ PHX</td>\n    </tr>\n    <tr>\n      <td>2019-11-17</td>\n      <td>Nov 17, 2019 - BOS @ SAC</td>\n      <td>L</td>\n      <td>30</td>\n      <td>14</td>\n      <td>6</td>\n      <td>13</td>\n      <td>46.2</td>\n      <td>1</td>\n      <td>4</td>\n      <td>25.0</td>\n      <td>1</td>\n      <td>1</td>\n      <td>100.0</td>\n      <td>0</td>\n      <td>6</td>\n      <td>6</td>\n      <td>2</td>\n      <td>0</td>\n      <td>1</td>\n      <td>1</td>\n      <td>0</td>\n      <td>12</td>\n      <td>BOS @ SAC</td>\n    </tr>\n    <tr>\n      <td>2019-11-15</td>\n      <td>Nov 15, 2019 - BOS @ GSW</td>\n      <td>W</td>\n      <td>38</td>\n      <td>24</td>\n      <td>8</td>\n      <td>23</td>\n      <td>34.8</td>\n      <td>2</td>\n      <td>7</td>\n      <td>28.6</td>\n      <td>6</td>\n      <td>7</td>\n      <td>85.7</td>\n      <td>3</td>\n      <td>5</td>\n      <td>8</td>\n      <td>1</td>\n      <td>3</td>\n      <td>0</td>\n      <td>2</td>\n      <td>3</td>\n      <td>6</td>\n      <td>BOS @ GSW</td>\n    </tr>\n    <tr>\n      <td>2019-11-13</td>\n      <td>Nov 13, 2019 - BOS vs. WAS</td>\n      <td>W</td>\n      <td>35</td>\n      <td>23</td>\n      <td>9</td>\n      <td>20</td>\n      <td>45.0</td>\n      <td>1</td>\n      <td>5</td>\n      <td>20.0</td>\n      <td>4</td>\n      <td>4</td>\n      <td>100.0</td>\n      <td>2</td>\n      <td>1</td>\n      <td>3</td>\n      <td>4</td>\n      <td>0</td>\n      <td>0</td>\n      <td>1</td>\n      <td>3</td>\n      <td>14</td>\n      <td>BOS vs. WAS</td>\n    </tr>\n    <tr>\n      <td>2019-11-11</td>\n      <td>Nov 11, 2019 - BOS vs. DAL</td>\n      <td>W</td>\n      <td>35</td>\n      <td>5</td>\n      <td>1</td>\n      <td>18</td>\n      <td>5.6</td>\n      <td>0</td>\n      <td>3</td>\n      <td>0.0</td>\n      <td>3</td>\n      <td>4</td>\n      <td>75.0</td>\n      <td>3</td>\n      <td>5</td>\n      <td>8</td>\n      <td>4</td>\n      <td>1</td>\n      <td>0</td>\n      <td>1</td>\n      <td>3</td>\n      <td>16</td>\n      <td>BOS vs. DAL</td>\n    </tr>\n    <tr>\n      <td>2019-11-09</td>\n      <td>Nov 09, 2019 - BOS @ SAS</td>\n      <td>W</td>\n      <td>34</td>\n      <td>19</td>\n      <td>6</td>\n      <td>13</td>\n      <td>46.2</td>\n      <td>2</td>\n      <td>6</td>\n      <td>33.3</td>\n      <td>5</td>\n      <td>6</td>\n      <td>83.3</td>\n      <td>1</td>\n      <td>6</td>\n      <td>7</td>\n      <td>4</td>\n      <td>3</td>\n      <td>0</td>\n      <td>2</td>\n      <td>3</td>\n      <td>23</td>\n      <td>BOS @ SAS</td>\n    </tr>\n    <tr>\n      <td>2019-11-07</td>\n      <td>Nov 07, 2019 - BOS @ CHA</td>\n      <td>W</td>\n      <td>29</td>\n      <td>23</td>\n      <td>8</td>\n      <td>17</td>\n      <td>47.1</td>\n      <td>4</td>\n      <td>6</td>\n      <td>66.7</td>\n      <td>3</td>\n      <td>4</td>\n      <td>75.0</td>\n      <td>2</td>\n      <td>7</td>\n      <td>9</td>\n      <td>1</td>\n      <td>2</td>\n      <td>1</td>\n      <td>1</td>\n      <td>0</td>\n      <td>13</td>\n      <td>BOS @ CHA</td>\n    </tr>\n    <tr>\n      <td>2019-11-05</td>\n      <td>Nov 05, 2019 - BOS @ CLE</td>\n      <td>W</td>\n      <td>34</td>\n      <td>18</td>\n      <td>9</td>\n      <td>16</td>\n      <td>56.3</td>\n      <td>0</td>\n      <td>5</td>\n      <td>0.0</td>\n      <td>0</td>\n      <td>0</td>\n      <td>0.0</td>\n      <td>0</td>\n      <td>7</td>\n      <td>7</td>\n      <td>1</td>\n      <td>1</td>\n      <td>2</td>\n      <td>4</td>\n      <td>1</td>\n      <td>9</td>\n      <td>BOS @ CLE</td>\n    </tr>\n    <tr>\n      <td>2019-11-01</td>\n      <td>Nov 01, 2019 - BOS vs. NYK</td>\n      <td>W</td>\n      <td>34</td>\n      <td>24</td>\n      <td>9</td>\n      <td>17</td>\n      <td>52.9</td>\n      <td>4</td>\n      <td>8</td>\n      <td>50.0</td>\n      <td>2</td>\n      <td>2</td>\n      <td>100.0</td>\n      <td>1</td>\n      <td>5</td>\n      <td>6</td>\n      <td>3</td>\n      <td>0</td>\n      <td>0</td>\n      <td>2</td>\n      <td>4</td>\n      <td>12</td>\n      <td>BOS vs. NYK</td>\n    </tr>\n    <tr>\n      <td>2019-10-30</td>\n      <td>Oct 30, 2019 - BOS vs. MIL</td>\n      <td>W</td>\n      <td>39</td>\n      <td>25</td>\n      <td>10</td>\n      <td>22</td>\n      <td>45.5</td>\n      <td>4</td>\n      <td>7</td>\n      <td>57.1</td>\n      <td>1</td>\n      <td>2</td>\n      <td>50.0</td>\n      <td>1</td>\n      <td>3</td>\n      <td>4</td>\n      <td>2</td>\n      <td>0</td>\n      <td>1</td>\n      <td>1</td>\n      <td>5</td>\n      <td>16</td>\n      <td>BOS vs. MIL</td>\n    </tr>\n    <tr>\n      <td>2019-10-26</td>\n      <td>Oct 26, 2019 - BOS @ NYK</td>\n      <td>W</td>\n      <td>34</td>\n      <td>15</td>\n      <td>5</td>\n      <td>17</td>\n      <td>29.4</td>\n      <td>2</td>\n      <td>7</td>\n      <td>28.6</td>\n      <td>3</td>\n      <td>4</td>\n      <td>75.0</td>\n      <td>2</td>\n      <td>7</td>\n      <td>9</td>\n      <td>0</td>\n      <td>3</td>\n      <td>2</td>\n      <td>2</td>\n      <td>3</td>\n      <td>20</td>\n      <td>BOS @ NYK</td>\n    </tr>\n    <tr>\n      <td>2019-10-25</td>\n      <td>Oct 25, 2019 - BOS vs. TOR</td>\n      <td>W</td>\n      <td>35</td>\n      <td>25</td>\n      <td>8</td>\n      <td>22</td>\n      <td>36.4</td>\n      <td>4</td>\n      <td>7</td>\n      <td>57.1</td>\n      <td>5</td>\n      <td>5</td>\n      <td>100.0</td>\n      <td>3</td>\n      <td>6</td>\n      <td>9</td>\n      <td>4</td>\n      <td>3</td>\n      <td>0</td>\n      <td>0</td>\n      <td>0</td>\n      <td>9</td>\n      <td>BOS vs. TOR</td>\n    </tr>\n    <tr>\n      <td>2019-10-23</td>\n      <td>Oct 23, 2019 - BOS @ PHI</td>\n      <td>L</td>\n      <td>37</td>\n      <td>21</td>\n      <td>8</td>\n      <td>22</td>\n      <td>36.4</td>\n      <td>4</td>\n      <td>8</td>\n      <td>50.0</td>\n      <td>1</td>\n      <td>3</td>\n      <td>33.3</td>\n      <td>1</td>\n      <td>9</td>\n      <td>10</td>\n      <td>2</td>\n      <td>2</td>\n      <td>0</td>\n      <td>4</td>\n      <td>2</td>\n      <td>-4</td>\n      <td>BOS @ PHI</td>\n    </tr>\n  </tbody>\n</table>\n</div>",
      "text/plain": "                              Match Up W/L  MIN  ...  PF  +/-         teams\ndate                                             ...                       \n2019-12-25    Dec 25, 2019 - BOS @ TOR   W   35  ...   4   21     BOS @ TOR\n2019-12-22  Dec 22, 2019 - BOS vs. CHA   W   36  ...   1   10   BOS vs. CHA\n2019-12-20  Dec 20, 2019 - BOS vs. DET   W   27  ...   1   10   BOS vs. DET\n2019-12-18    Dec 18, 2019 - BOS @ DAL   W   37  ...   3   -2     BOS @ DAL\n2019-12-12  Dec 12, 2019 - BOS vs. PHI   L   34  ...   4   -2   BOS vs. PHI\n2019-12-11    Dec 11, 2019 - BOS @ IND   L   37  ...   2   -8     BOS @ IND\n2019-12-09  Dec 09, 2019 - BOS vs. CLE   W   30  ...   1   24   BOS vs. CLE\n2019-12-06  Dec 06, 2019 - BOS vs. DEN   W   30  ...   1   14   BOS vs. DEN\n2019-12-04  Dec 04, 2019 - BOS vs. MIA   W   34  ...   2   31   BOS vs. MIA\n2019-12-01    Dec 01, 2019 - BOS @ NYK   W   37  ...   4   11     BOS @ NYK\n2019-11-29    Nov 29, 2019 - BOS @ BKN   L   37  ...   0   13     BOS @ BKN\n2019-11-27  Nov 27, 2019 - BOS vs. BKN   W   35  ...   2   11   BOS vs. BKN\n2019-11-25  Nov 25, 2019 - BOS vs. SAC   W   34  ...   4    4   BOS vs. SAC\n2019-11-22    Nov 22, 2019 - BOS @ DEN   L   32  ...   1  -23     BOS @ DEN\n2019-11-20    Nov 20, 2019 - BOS @ LAC   L   41  ...   4   -6     BOS @ LAC\n2019-11-18    Nov 18, 2019 - BOS @ PHX   W   27  ...   3    8     BOS @ PHX\n2019-11-17    Nov 17, 2019 - BOS @ SAC   L   30  ...   0   12     BOS @ SAC\n2019-11-15    Nov 15, 2019 - BOS @ GSW   W   38  ...   3    6     BOS @ GSW\n2019-11-13  Nov 13, 2019 - BOS vs. WAS   W   35  ...   3   14   BOS vs. WAS\n2019-11-11  Nov 11, 2019 - BOS vs. DAL   W   35  ...   3   16   BOS vs. DAL\n2019-11-09    Nov 09, 2019 - BOS @ SAS   W   34  ...   3   23     BOS @ SAS\n2019-11-07    Nov 07, 2019 - BOS @ CHA   W   29  ...   0   13     BOS @ CHA\n2019-11-05    Nov 05, 2019 - BOS @ CLE   W   34  ...   1    9     BOS @ CLE\n2019-11-01  Nov 01, 2019 - BOS vs. NYK   W   34  ...   4   12   BOS vs. NYK\n2019-10-30  Oct 30, 2019 - BOS vs. MIL   W   39  ...   5   16   BOS vs. MIL\n2019-10-26    Oct 26, 2019 - BOS @ NYK   W   34  ...   3   20     BOS @ NYK\n2019-10-25  Oct 25, 2019 - BOS vs. TOR   W   35  ...   0    9   BOS vs. TOR\n2019-10-23    Oct 23, 2019 - BOS @ PHI   L   37  ...   2   -4     BOS @ PHI\n\n[28 rows x 23 columns]"
     },
     "execution_count": 40,
     "metadata": {},
     "output_type": "execute_result"
    }
   ],
   "source": [
    "df_list[0]"
   ]
  },
  {
   "cell_type": "code",
   "execution_count": 41,
   "metadata": {},
   "outputs": [
    {
     "data": {
      "text/html": "<div>\n<style scoped>\n    .dataframe tbody tr th:only-of-type {\n        vertical-align: middle;\n    }\n\n    .dataframe tbody tr th {\n        vertical-align: top;\n    }\n\n    .dataframe thead th {\n        text-align: right;\n    }\n</style>\n<table border=\"1\" class=\"dataframe\">\n  <thead>\n    <tr style=\"text-align: right;\">\n      <th></th>\n      <th>Match Up</th>\n      <th>W/L</th>\n      <th>MIN</th>\n      <th>PTS</th>\n      <th>FGM</th>\n      <th>FGA</th>\n      <th>FG%</th>\n      <th>3PM</th>\n      <th>3PA</th>\n      <th>3P%</th>\n      <th>FTM</th>\n      <th>FTA</th>\n      <th>FT%</th>\n      <th>OREB</th>\n      <th>DREB</th>\n      <th>REB</th>\n      <th>AST</th>\n      <th>STL</th>\n      <th>BLK</th>\n      <th>TOV</th>\n      <th>PF</th>\n      <th>+/-</th>\n      <th>teams</th>\n    </tr>\n    <tr>\n      <th>date</th>\n      <th></th>\n      <th></th>\n      <th></th>\n      <th></th>\n      <th></th>\n      <th></th>\n      <th></th>\n      <th></th>\n      <th></th>\n      <th></th>\n      <th></th>\n      <th></th>\n      <th></th>\n      <th></th>\n      <th></th>\n      <th></th>\n      <th></th>\n      <th></th>\n      <th></th>\n      <th></th>\n      <th></th>\n      <th></th>\n      <th></th>\n    </tr>\n  </thead>\n  <tbody>\n    <tr>\n      <td>2019-12-25</td>\n      <td>Dec 25, 2019 - BOS @ TOR</td>\n      <td>W</td>\n      <td>35</td>\n      <td>11</td>\n      <td>5</td>\n      <td>18</td>\n      <td>27.8</td>\n      <td>1</td>\n      <td>3</td>\n      <td>33.3</td>\n      <td>0</td>\n      <td>0</td>\n      <td>0.0</td>\n      <td>4</td>\n      <td>5</td>\n      <td>9</td>\n      <td>6</td>\n      <td>2</td>\n      <td>0</td>\n      <td>3</td>\n      <td>4</td>\n      <td>21</td>\n      <td>BOS @ TOR</td>\n    </tr>\n    <tr>\n      <td>2019-12-22</td>\n      <td>Dec 22, 2019 - BOS vs. CHA</td>\n      <td>W</td>\n      <td>36</td>\n      <td>39</td>\n      <td>15</td>\n      <td>29</td>\n      <td>51.7</td>\n      <td>4</td>\n      <td>9</td>\n      <td>44.4</td>\n      <td>5</td>\n      <td>5</td>\n      <td>100.0</td>\n      <td>1</td>\n      <td>11</td>\n      <td>12</td>\n      <td>2</td>\n      <td>1</td>\n      <td>3</td>\n      <td>2</td>\n      <td>1</td>\n      <td>10</td>\n      <td>BOS vs. CHA</td>\n    </tr>\n    <tr>\n      <td>2019-12-20</td>\n      <td>Dec 20, 2019 - BOS vs. DET</td>\n      <td>W</td>\n      <td>27</td>\n      <td>26</td>\n      <td>10</td>\n      <td>17</td>\n      <td>58.8</td>\n      <td>2</td>\n      <td>7</td>\n      <td>28.6</td>\n      <td>4</td>\n      <td>4</td>\n      <td>100.0</td>\n      <td>0</td>\n      <td>5</td>\n      <td>5</td>\n      <td>3</td>\n      <td>2</td>\n      <td>0</td>\n      <td>0</td>\n      <td>1</td>\n      <td>10</td>\n      <td>BOS vs. DET</td>\n    </tr>\n    <tr>\n      <td>2019-12-18</td>\n      <td>Dec 18, 2019 - BOS @ DAL</td>\n      <td>W</td>\n      <td>37</td>\n      <td>24</td>\n      <td>10</td>\n      <td>23</td>\n      <td>43.5</td>\n      <td>2</td>\n      <td>10</td>\n      <td>20.0</td>\n      <td>2</td>\n      <td>3</td>\n      <td>66.7</td>\n      <td>2</td>\n      <td>6</td>\n      <td>8</td>\n      <td>1</td>\n      <td>0</td>\n      <td>1</td>\n      <td>3</td>\n      <td>3</td>\n      <td>-2</td>\n      <td>BOS @ DAL</td>\n    </tr>\n    <tr>\n      <td>2019-12-12</td>\n      <td>Dec 12, 2019 - BOS vs. PHI</td>\n      <td>L</td>\n      <td>34</td>\n      <td>15</td>\n      <td>5</td>\n      <td>18</td>\n      <td>27.8</td>\n      <td>3</td>\n      <td>8</td>\n      <td>37.5</td>\n      <td>2</td>\n      <td>2</td>\n      <td>100.0</td>\n      <td>1</td>\n      <td>2</td>\n      <td>3</td>\n      <td>4</td>\n      <td>0</td>\n      <td>1</td>\n      <td>1</td>\n      <td>4</td>\n      <td>-2</td>\n      <td>BOS vs. PHI</td>\n    </tr>\n    <tr>\n      <td>...</td>\n      <td>...</td>\n      <td>...</td>\n      <td>...</td>\n      <td>...</td>\n      <td>...</td>\n      <td>...</td>\n      <td>...</td>\n      <td>...</td>\n      <td>...</td>\n      <td>...</td>\n      <td>...</td>\n      <td>...</td>\n      <td>...</td>\n      <td>...</td>\n      <td>...</td>\n      <td>...</td>\n      <td>...</td>\n      <td>...</td>\n      <td>...</td>\n      <td>...</td>\n      <td>...</td>\n      <td>...</td>\n      <td>...</td>\n    </tr>\n    <tr>\n      <td>2017-12-21</td>\n      <td>Dec 21, 2017 - BOS @ NYK</td>\n      <td>L</td>\n      <td>34</td>\n      <td>17</td>\n      <td>6</td>\n      <td>10</td>\n      <td>60.0</td>\n      <td>2</td>\n      <td>6</td>\n      <td>33.3</td>\n      <td>3</td>\n      <td>4</td>\n      <td>75.0</td>\n      <td>1</td>\n      <td>2</td>\n      <td>3</td>\n      <td>0</td>\n      <td>2</td>\n      <td>0</td>\n      <td>3</td>\n      <td>1</td>\n      <td>-6</td>\n      <td>BOS @ NYK</td>\n    </tr>\n    <tr>\n      <td>2017-12-20</td>\n      <td>Dec 20, 2017 - BOS vs. MIA</td>\n      <td>L</td>\n      <td>28</td>\n      <td>11</td>\n      <td>4</td>\n      <td>9</td>\n      <td>44.4</td>\n      <td>0</td>\n      <td>2</td>\n      <td>0.0</td>\n      <td>3</td>\n      <td>4</td>\n      <td>75.0</td>\n      <td>0</td>\n      <td>7</td>\n      <td>7</td>\n      <td>2</td>\n      <td>0</td>\n      <td>1</td>\n      <td>1</td>\n      <td>2</td>\n      <td>3</td>\n      <td>BOS vs. MIA</td>\n    </tr>\n    <tr>\n      <td>2017-12-18</td>\n      <td>Dec 18, 2017 - BOS @ IND</td>\n      <td>W</td>\n      <td>31</td>\n      <td>16</td>\n      <td>6</td>\n      <td>8</td>\n      <td>75.0</td>\n      <td>1</td>\n      <td>1</td>\n      <td>100.0</td>\n      <td>3</td>\n      <td>3</td>\n      <td>100.0</td>\n      <td>0</td>\n      <td>5</td>\n      <td>5</td>\n      <td>4</td>\n      <td>1</td>\n      <td>1</td>\n      <td>2</td>\n      <td>3</td>\n      <td>6</td>\n      <td>BOS @ IND</td>\n    </tr>\n    <tr>\n      <td>2017-12-16</td>\n      <td>Dec 16, 2017 - BOS @ MEM</td>\n      <td>W</td>\n      <td>34</td>\n      <td>19</td>\n      <td>7</td>\n      <td>13</td>\n      <td>53.8</td>\n      <td>2</td>\n      <td>2</td>\n      <td>100.0</td>\n      <td>3</td>\n      <td>3</td>\n      <td>100.0</td>\n      <td>6</td>\n      <td>4</td>\n      <td>10</td>\n      <td>1</td>\n      <td>2</td>\n      <td>2</td>\n      <td>0</td>\n      <td>1</td>\n      <td>21</td>\n      <td>BOS @ MEM</td>\n    </tr>\n    <tr>\n      <td>2017-12-15</td>\n      <td>Dec 15, 2017 - BOS vs. UTA</td>\n      <td>L</td>\n      <td>26</td>\n      <td>7</td>\n      <td>1</td>\n      <td>6</td>\n      <td>16.7</td>\n      <td>1</td>\n      <td>3</td>\n      <td>33.3</td>\n      <td>4</td>\n      <td>4</td>\n      <td>100.0</td>\n      <td>0</td>\n      <td>4</td>\n      <td>4</td>\n      <td>2</td>\n      <td>0</td>\n      <td>0</td>\n      <td>1</td>\n      <td>4</td>\n      <td>-7</td>\n      <td>BOS vs. UTA</td>\n    </tr>\n  </tbody>\n</table>\n<p>128 rows × 23 columns</p>\n</div>",
      "text/plain": "                              Match Up W/L  MIN  ...  PF  +/-         teams\ndate                                             ...                       \n2019-12-25    Dec 25, 2019 - BOS @ TOR   W   35  ...   4   21     BOS @ TOR\n2019-12-22  Dec 22, 2019 - BOS vs. CHA   W   36  ...   1   10   BOS vs. CHA\n2019-12-20  Dec 20, 2019 - BOS vs. DET   W   27  ...   1   10   BOS vs. DET\n2019-12-18    Dec 18, 2019 - BOS @ DAL   W   37  ...   3   -2     BOS @ DAL\n2019-12-12  Dec 12, 2019 - BOS vs. PHI   L   34  ...   4   -2   BOS vs. PHI\n...                                ...  ..  ...  ...  ..  ...           ...\n2017-12-21    Dec 21, 2017 - BOS @ NYK   L   34  ...   1   -6     BOS @ NYK\n2017-12-20  Dec 20, 2017 - BOS vs. MIA   L   28  ...   2    3   BOS vs. MIA\n2017-12-18    Dec 18, 2017 - BOS @ IND   W   31  ...   3    6     BOS @ IND\n2017-12-16    Dec 16, 2017 - BOS @ MEM   W   34  ...   1   21     BOS @ MEM\n2017-12-15  Dec 15, 2017 - BOS vs. UTA   L   26  ...   4   -7   BOS vs. UTA\n\n[128 rows x 23 columns]"
     },
     "execution_count": 41,
     "metadata": {},
     "output_type": "execute_result"
    }
   ],
   "source": [
    "df_combined = pd.concat(df_list,axis=0)\n",
    "df_combined"
   ]
  },
  {
   "cell_type": "code",
   "execution_count": 48,
   "metadata": {},
   "outputs": [
    {
     "name": "stdout",
     "output_type": "stream",
     "text": "Reloading...\n\n"
    },
    {
     "data": {
      "text/html": "<div>\n<style scoped>\n    .dataframe tbody tr th:only-of-type {\n        vertical-align: middle;\n    }\n\n    .dataframe tbody tr th {\n        vertical-align: top;\n    }\n\n    .dataframe thead th {\n        text-align: right;\n    }\n</style>\n<table border=\"1\" class=\"dataframe\">\n  <thead>\n    <tr style=\"text-align: right;\">\n      <th></th>\n      <th>Match Up</th>\n      <th>W/L</th>\n      <th>MIN</th>\n      <th>PTS</th>\n      <th>FGM</th>\n      <th>FGA</th>\n      <th>FG%</th>\n      <th>3PM</th>\n      <th>3PA</th>\n      <th>3P%</th>\n      <th>FTM</th>\n      <th>FTA</th>\n      <th>FT%</th>\n      <th>OREB</th>\n      <th>DREB</th>\n      <th>REB</th>\n      <th>AST</th>\n      <th>STL</th>\n      <th>BLK</th>\n      <th>TOV</th>\n      <th>PF</th>\n      <th>+/-</th>\n      <th>teams</th>\n      <th>player_id</th>\n    </tr>\n    <tr>\n      <th>date</th>\n      <th></th>\n      <th></th>\n      <th></th>\n      <th></th>\n      <th></th>\n      <th></th>\n      <th></th>\n      <th></th>\n      <th></th>\n      <th></th>\n      <th></th>\n      <th></th>\n      <th></th>\n      <th></th>\n      <th></th>\n      <th></th>\n      <th></th>\n      <th></th>\n      <th></th>\n      <th></th>\n      <th></th>\n      <th></th>\n      <th></th>\n      <th></th>\n    </tr>\n  </thead>\n  <tbody>\n    <tr>\n      <td>2019-12-25</td>\n      <td>Dec 25, 2019 - BOS @ TOR</td>\n      <td>W</td>\n      <td>35</td>\n      <td>11</td>\n      <td>5</td>\n      <td>18</td>\n      <td>27.8</td>\n      <td>1</td>\n      <td>3</td>\n      <td>33.3</td>\n      <td>0</td>\n      <td>0</td>\n      <td>0.0</td>\n      <td>4</td>\n      <td>5</td>\n      <td>9</td>\n      <td>6</td>\n      <td>2</td>\n      <td>0</td>\n      <td>3</td>\n      <td>4</td>\n      <td>21</td>\n      <td>BOS @ TOR</td>\n      <td>1628369</td>\n    </tr>\n    <tr>\n      <td>2019-12-22</td>\n      <td>Dec 22, 2019 - BOS vs. CHA</td>\n      <td>W</td>\n      <td>36</td>\n      <td>39</td>\n      <td>15</td>\n      <td>29</td>\n      <td>51.7</td>\n      <td>4</td>\n      <td>9</td>\n      <td>44.4</td>\n      <td>5</td>\n      <td>5</td>\n      <td>100.0</td>\n      <td>1</td>\n      <td>11</td>\n      <td>12</td>\n      <td>2</td>\n      <td>1</td>\n      <td>3</td>\n      <td>2</td>\n      <td>1</td>\n      <td>10</td>\n      <td>BOS vs. CHA</td>\n      <td>1628369</td>\n    </tr>\n    <tr>\n      <td>2019-12-20</td>\n      <td>Dec 20, 2019 - BOS vs. DET</td>\n      <td>W</td>\n      <td>27</td>\n      <td>26</td>\n      <td>10</td>\n      <td>17</td>\n      <td>58.8</td>\n      <td>2</td>\n      <td>7</td>\n      <td>28.6</td>\n      <td>4</td>\n      <td>4</td>\n      <td>100.0</td>\n      <td>0</td>\n      <td>5</td>\n      <td>5</td>\n      <td>3</td>\n      <td>2</td>\n      <td>0</td>\n      <td>0</td>\n      <td>1</td>\n      <td>10</td>\n      <td>BOS vs. DET</td>\n      <td>1628369</td>\n    </tr>\n    <tr>\n      <td>2019-12-18</td>\n      <td>Dec 18, 2019 - BOS @ DAL</td>\n      <td>W</td>\n      <td>37</td>\n      <td>24</td>\n      <td>10</td>\n      <td>23</td>\n      <td>43.5</td>\n      <td>2</td>\n      <td>10</td>\n      <td>20.0</td>\n      <td>2</td>\n      <td>3</td>\n      <td>66.7</td>\n      <td>2</td>\n      <td>6</td>\n      <td>8</td>\n      <td>1</td>\n      <td>0</td>\n      <td>1</td>\n      <td>3</td>\n      <td>3</td>\n      <td>-2</td>\n      <td>BOS @ DAL</td>\n      <td>1628369</td>\n    </tr>\n    <tr>\n      <td>2019-12-12</td>\n      <td>Dec 12, 2019 - BOS vs. PHI</td>\n      <td>L</td>\n      <td>34</td>\n      <td>15</td>\n      <td>5</td>\n      <td>18</td>\n      <td>27.8</td>\n      <td>3</td>\n      <td>8</td>\n      <td>37.5</td>\n      <td>2</td>\n      <td>2</td>\n      <td>100.0</td>\n      <td>1</td>\n      <td>2</td>\n      <td>3</td>\n      <td>4</td>\n      <td>0</td>\n      <td>1</td>\n      <td>1</td>\n      <td>4</td>\n      <td>-2</td>\n      <td>BOS vs. PHI</td>\n      <td>1628369</td>\n    </tr>\n  </tbody>\n</table>\n</div>",
      "text/plain": "                              Match Up W/L  MIN  ...  +/-         teams  player_id\ndate                                             ...                              \n2019-12-25    Dec 25, 2019 - BOS @ TOR   W   35  ...   21     BOS @ TOR    1628369\n2019-12-22  Dec 22, 2019 - BOS vs. CHA   W   36  ...   10   BOS vs. CHA    1628369\n2019-12-20  Dec 20, 2019 - BOS vs. DET   W   27  ...   10   BOS vs. DET    1628369\n2019-12-18    Dec 18, 2019 - BOS @ DAL   W   37  ...   -2     BOS @ DAL    1628369\n2019-12-12  Dec 12, 2019 - BOS vs. PHI   L   34  ...   -2   BOS vs. PHI    1628369\n\n[5 rows x 24 columns]"
     },
     "metadata": {},
     "output_type": "display_data"
    },
    {
     "data": {
      "text/html": "<div>\n<style scoped>\n    .dataframe tbody tr th:only-of-type {\n        vertical-align: middle;\n    }\n\n    .dataframe tbody tr th {\n        vertical-align: top;\n    }\n\n    .dataframe thead th {\n        text-align: right;\n    }\n</style>\n<table border=\"1\" class=\"dataframe\">\n  <thead>\n    <tr style=\"text-align: right;\">\n      <th></th>\n      <th>Match Up</th>\n      <th>W/L</th>\n      <th>MIN</th>\n      <th>PTS</th>\n      <th>FGM</th>\n      <th>FGA</th>\n      <th>FG%</th>\n      <th>3PM</th>\n      <th>3PA</th>\n      <th>3P%</th>\n      <th>FTM</th>\n      <th>FTA</th>\n      <th>FT%</th>\n      <th>OREB</th>\n      <th>DREB</th>\n      <th>REB</th>\n      <th>AST</th>\n      <th>STL</th>\n      <th>BLK</th>\n      <th>TOV</th>\n      <th>PF</th>\n      <th>+/-</th>\n      <th>teams</th>\n      <th>player_id</th>\n    </tr>\n    <tr>\n      <th>date</th>\n      <th></th>\n      <th></th>\n      <th></th>\n      <th></th>\n      <th></th>\n      <th></th>\n      <th></th>\n      <th></th>\n      <th></th>\n      <th></th>\n      <th></th>\n      <th></th>\n      <th></th>\n      <th></th>\n      <th></th>\n      <th></th>\n      <th></th>\n      <th></th>\n      <th></th>\n      <th></th>\n      <th></th>\n      <th></th>\n      <th></th>\n      <th></th>\n    </tr>\n  </thead>\n  <tbody>\n    <tr>\n      <td>2017-12-21</td>\n      <td>Dec 21, 2017 - BOS @ NYK</td>\n      <td>L</td>\n      <td>34</td>\n      <td>17</td>\n      <td>6</td>\n      <td>10</td>\n      <td>60.0</td>\n      <td>2</td>\n      <td>6</td>\n      <td>33.3</td>\n      <td>3</td>\n      <td>4</td>\n      <td>75.0</td>\n      <td>1</td>\n      <td>2</td>\n      <td>3</td>\n      <td>0</td>\n      <td>2</td>\n      <td>0</td>\n      <td>3</td>\n      <td>1</td>\n      <td>-6</td>\n      <td>BOS @ NYK</td>\n      <td>1628369</td>\n    </tr>\n    <tr>\n      <td>2017-12-20</td>\n      <td>Dec 20, 2017 - BOS vs. MIA</td>\n      <td>L</td>\n      <td>28</td>\n      <td>11</td>\n      <td>4</td>\n      <td>9</td>\n      <td>44.4</td>\n      <td>0</td>\n      <td>2</td>\n      <td>0.0</td>\n      <td>3</td>\n      <td>4</td>\n      <td>75.0</td>\n      <td>0</td>\n      <td>7</td>\n      <td>7</td>\n      <td>2</td>\n      <td>0</td>\n      <td>1</td>\n      <td>1</td>\n      <td>2</td>\n      <td>3</td>\n      <td>BOS vs. MIA</td>\n      <td>1628369</td>\n    </tr>\n    <tr>\n      <td>2017-12-18</td>\n      <td>Dec 18, 2017 - BOS @ IND</td>\n      <td>W</td>\n      <td>31</td>\n      <td>16</td>\n      <td>6</td>\n      <td>8</td>\n      <td>75.0</td>\n      <td>1</td>\n      <td>1</td>\n      <td>100.0</td>\n      <td>3</td>\n      <td>3</td>\n      <td>100.0</td>\n      <td>0</td>\n      <td>5</td>\n      <td>5</td>\n      <td>4</td>\n      <td>1</td>\n      <td>1</td>\n      <td>2</td>\n      <td>3</td>\n      <td>6</td>\n      <td>BOS @ IND</td>\n      <td>1628369</td>\n    </tr>\n    <tr>\n      <td>2017-12-16</td>\n      <td>Dec 16, 2017 - BOS @ MEM</td>\n      <td>W</td>\n      <td>34</td>\n      <td>19</td>\n      <td>7</td>\n      <td>13</td>\n      <td>53.8</td>\n      <td>2</td>\n      <td>2</td>\n      <td>100.0</td>\n      <td>3</td>\n      <td>3</td>\n      <td>100.0</td>\n      <td>6</td>\n      <td>4</td>\n      <td>10</td>\n      <td>1</td>\n      <td>2</td>\n      <td>2</td>\n      <td>0</td>\n      <td>1</td>\n      <td>21</td>\n      <td>BOS @ MEM</td>\n      <td>1628369</td>\n    </tr>\n    <tr>\n      <td>2017-12-15</td>\n      <td>Dec 15, 2017 - BOS vs. UTA</td>\n      <td>L</td>\n      <td>26</td>\n      <td>7</td>\n      <td>1</td>\n      <td>6</td>\n      <td>16.7</td>\n      <td>1</td>\n      <td>3</td>\n      <td>33.3</td>\n      <td>4</td>\n      <td>4</td>\n      <td>100.0</td>\n      <td>0</td>\n      <td>4</td>\n      <td>4</td>\n      <td>2</td>\n      <td>0</td>\n      <td>0</td>\n      <td>1</td>\n      <td>4</td>\n      <td>-7</td>\n      <td>BOS vs. UTA</td>\n      <td>1628369</td>\n    </tr>\n  </tbody>\n</table>\n</div>",
      "text/plain": "                              Match Up W/L  MIN  ...  +/-         teams  player_id\ndate                                             ...                              \n2017-12-21    Dec 21, 2017 - BOS @ NYK   L   34  ...   -6     BOS @ NYK    1628369\n2017-12-20  Dec 20, 2017 - BOS vs. MIA   L   28  ...    3   BOS vs. MIA    1628369\n2017-12-18    Dec 18, 2017 - BOS @ IND   W   31  ...    6     BOS @ IND    1628369\n2017-12-16    Dec 16, 2017 - BOS @ MEM   W   34  ...   21     BOS @ MEM    1628369\n2017-12-15  Dec 15, 2017 - BOS vs. UTA   L   26  ...   -7   BOS vs. UTA    1628369\n\n[5 rows x 24 columns]"
     },
     "metadata": {},
     "output_type": "display_data"
    }
   ],
   "source": [
    "fs.reload(ns)\n",
    "df_full = ns.get_all_seasons_df(player_id=1628369)\n",
    "display(df_full.head(),df_full.tail())"
   ]
  },
  {
   "cell_type": "code",
   "execution_count": 44,
   "metadata": {},
   "outputs": [
    {
     "data": {
      "text/plain": "['https://stats.nba.com/player/1628369/boxscores-traditional/?Season=2019-20&SeasonType=Regular%20Season',\n 'https://stats.nba.com/player/1628369/boxscores-traditional/?Season=2018-19&SeasonType=Regular%20Season',\n 'https://stats.nba.com/player/1628369/boxscores-traditional/?Season=2017-18&SeasonType=Regular%20Season']"
     },
     "execution_count": 44,
     "metadata": {},
     "output_type": "execute_result"
    }
   ],
   "source": [
    "season_urls"
   ]
  },
  {
   "cell_type": "code",
   "execution_count": 47,
   "metadata": {},
   "outputs": [
    {
     "data": {
      "text/plain": "'1628369'"
     },
     "execution_count": 47,
     "metadata": {},
     "output_type": "execute_result"
    }
   ],
   "source": [
    "season_urls[0].split('/')[4]"
   ]
  },
  {
   "cell_type": "markdown",
   "execution_count": 49,
   "metadata": {},
   "outputs": [
    {
     "data": {
      "text/html": "<div>\n<style scoped>\n    .dataframe tbody tr th:only-of-type {\n        vertical-align: middle;\n    }\n\n    .dataframe tbody tr th {\n        vertical-align: top;\n    }\n\n    .dataframe thead th {\n        text-align: right;\n    }\n</style>\n<table border=\"1\" class=\"dataframe\">\n  <thead>\n    <tr style=\"text-align: right;\">\n      <th></th>\n      <th>W/L</th>\n      <th>Win/Loss</th>\n      <th>MIN</th>\n      <th>Minutes</th>\n      <th>Played</th>\n      <th>PTS</th>\n      <th>Points</th>\n      <th>FGM</th>\n      <th>Field</th>\n      <th>Goals</th>\n      <th>Made</th>\n      <th>FGA</th>\n      <th>Field.1</th>\n      <th>Goals.1</th>\n      <th>Attempted</th>\n      <th>FG%</th>\n      <th>Field.2</th>\n      <th>Goal</th>\n      <th>Percentage</th>\n      <th>3PM</th>\n      <th>3</th>\n      <th>Point</th>\n      <th>Field.3</th>\n      <th>Goals.2</th>\n      <th>Made.1</th>\n      <th>3PA</th>\n      <th>3.1</th>\n      <th>Point.1</th>\n      <th>Field.4</th>\n      <th>Goals.3</th>\n      <th>Attempted.1</th>\n      <th>3P%</th>\n      <th>3.2</th>\n      <th>Point.2</th>\n      <th>Field.5</th>\n      <th>Goals.4</th>\n      <th>Percentage.1</th>\n      <th>FTM</th>\n      <th>Free</th>\n      <th>Throws</th>\n      <th>Made.2</th>\n      <th>FTA</th>\n      <th>Free.1</th>\n      <th>Throws.1</th>\n      <th>Attempted.2</th>\n      <th>FT%</th>\n      <th>Free.2</th>\n      <th>Throw</th>\n      <th>Percentage.2</th>\n      <th>OREB</th>\n      <th>Offensive</th>\n      <th>Rebounds</th>\n      <th>DREB</th>\n      <th>Defensive</th>\n      <th>Rebounds.1</th>\n      <th>REB</th>\n      <th>Rebounds.2</th>\n      <th>AST</th>\n      <th>Assists</th>\n      <th>STL</th>\n      <th>Steals</th>\n      <th>BLK</th>\n      <th>Blocks</th>\n      <th>TOV</th>\n      <th>Turnovers</th>\n      <th>PF</th>\n      <th>Personal</th>\n      <th>Fouls</th>\n      <th>+/-</th>\n      <th>Plus-Minus</th>\n    </tr>\n  </thead>\n  <tbody>\n  </tbody>\n</table>\n</div>",
      "text/plain": "Empty DataFrame\nColumns: [W/L, Win/Loss, MIN, Minutes, Played, PTS, Points, FGM, Field, Goals, Made, FGA, Field.1, Goals.1, Attempted, FG%, Field.2, Goal, Percentage, 3PM, 3, Point, Field.3, Goals.2, Made.1, 3PA, 3.1, Point.1, Field.4, Goals.3, Attempted.1, 3P%, 3.2, Point.2, Field.5, Goals.4, Percentage.1, FTM, Free, Throws, Made.2, FTA, Free.1, Throws.1, Attempted.2, FT%, Free.2, Throw, Percentage.2, OREB, Offensive, Rebounds, DREB, Defensive, Rebounds.1, REB, Rebounds.2, AST, Assists, STL, Steals, BLK, Blocks, TOV, Turnovers, PF, Personal, Fouls, +/-, Plus-Minus]\nIndex: []"
     },
     "execution_count": 49,
     "metadata": {},
     "output_type": "execute_result"
    }
   ],
   "source": [
    "# SAVING COPIED MARKDOWN TABLES TO CSVS"
   ]
  },
  {
   "cell_type": "code",
   "execution_count": 66,
   "metadata": {},
   "outputs": [],
   "source": [
    "# df_nba_stats_glossary = pd.read_clipboard(sep='|')"
   ]
  },
  {
   "cell_type": "code",
   "execution_count": 67,
   "metadata": {},
   "outputs": [],
   "source": [
    "# df_nba_stats_glossary.columns = [col.strip() for col in df_nba_stats_glossary.columns]"
   ]
  },
  {
   "cell_type": "code",
   "execution_count": 59,
   "metadata": {},
   "outputs": [],
   "source": [
    "# df_nba_stats_glossary = df_nba_stats_glossary[['COLUMN','MEANING']]"
   ]
  },
  {
   "cell_type": "code",
   "execution_count": 68,
   "metadata": {},
   "outputs": [],
   "source": [
    "# df_nba_stats_glossary.drop(0,inplace=True)\n",
    "# df_nba_stats_glossary"
   ]
  },
  {
   "cell_type": "code",
   "execution_count": 70,
   "metadata": {},
   "outputs": [
    {
     "data": {
      "text/html": "<div>\n<style scoped>\n    .dataframe tbody tr th:only-of-type {\n        vertical-align: middle;\n    }\n\n    .dataframe tbody tr th {\n        vertical-align: top;\n    }\n\n    .dataframe thead th {\n        text-align: right;\n    }\n</style>\n<table border=\"1\" class=\"dataframe\">\n  <thead>\n    <tr style=\"text-align: right;\">\n      <th></th>\n      <th>COLUMN</th>\n      <th>MEANING</th>\n    </tr>\n  </thead>\n  <tbody>\n    <tr>\n      <td>1</td>\n      <td>W/L</td>\n      <td>Win/Loss</td>\n    </tr>\n    <tr>\n      <td>2</td>\n      <td>MIN</td>\n      <td>Minutes Played</td>\n    </tr>\n    <tr>\n      <td>3</td>\n      <td>PTS</td>\n      <td>Points</td>\n    </tr>\n    <tr>\n      <td>4</td>\n      <td>FGM</td>\n      <td>Field Goals Made</td>\n    </tr>\n    <tr>\n      <td>5</td>\n      <td>FGA</td>\n      <td>Field Goals Attempted</td>\n    </tr>\n    <tr>\n      <td>6</td>\n      <td>FG%</td>\n      <td>Field Goal Percentage</td>\n    </tr>\n    <tr>\n      <td>7</td>\n      <td>3PM</td>\n      <td>3 Point Field Goals Made</td>\n    </tr>\n    <tr>\n      <td>8</td>\n      <td>3PA</td>\n      <td>3 Point Field Goals Attempted</td>\n    </tr>\n    <tr>\n      <td>9</td>\n      <td>3P%</td>\n      <td>3 Point Field Goals Percentage</td>\n    </tr>\n    <tr>\n      <td>10</td>\n      <td>FTM</td>\n      <td>Free Throws Made</td>\n    </tr>\n    <tr>\n      <td>11</td>\n      <td>FTA</td>\n      <td>Free Throws Attempted</td>\n    </tr>\n    <tr>\n      <td>12</td>\n      <td>FT%</td>\n      <td>Free Throw Percentage</td>\n    </tr>\n    <tr>\n      <td>13</td>\n      <td>OREB</td>\n      <td>Offensive Rebounds</td>\n    </tr>\n    <tr>\n      <td>14</td>\n      <td>DREB</td>\n      <td>Defensive Rebounds</td>\n    </tr>\n    <tr>\n      <td>15</td>\n      <td>REB</td>\n      <td>Rebounds</td>\n    </tr>\n    <tr>\n      <td>16</td>\n      <td>AST</td>\n      <td>Assists</td>\n    </tr>\n    <tr>\n      <td>17</td>\n      <td>STL</td>\n      <td>Steals</td>\n    </tr>\n    <tr>\n      <td>18</td>\n      <td>BLK</td>\n      <td>Blocks</td>\n    </tr>\n    <tr>\n      <td>19</td>\n      <td>TOV</td>\n      <td>Turnovers</td>\n    </tr>\n    <tr>\n      <td>20</td>\n      <td>PF</td>\n      <td>Personal Fouls</td>\n    </tr>\n    <tr>\n      <td>21</td>\n      <td>+/-</td>\n      <td>Plus-Minus</td>\n    </tr>\n  </tbody>\n</table>\n</div>",
      "text/plain": "   COLUMN                         MEANING\n1     W/L                        Win/Loss\n2     MIN                  Minutes Played\n3     PTS                          Points\n4     FGM                Field Goals Made\n5     FGA           Field Goals Attempted\n6     FG%           Field Goal Percentage\n7     3PM        3 Point Field Goals Made\n8     3PA   3 Point Field Goals Attempted\n9     3P%  3 Point Field Goals Percentage\n10    FTM                Free Throws Made\n11    FTA           Free Throws Attempted\n12    FT%           Free Throw Percentage\n13   OREB              Offensive Rebounds\n14   DREB              Defensive Rebounds\n15    REB                        Rebounds\n16    AST                         Assists\n17    STL                          Steals\n18    BLK                          Blocks\n19    TOV                       Turnovers\n20     PF                  Personal Fouls\n21    +/-                      Plus-Minus"
     },
     "execution_count": 70,
     "metadata": {},
     "output_type": "execute_result"
    }
   ],
   "source": [
    "# df_nba_stats_glossary.to_csv('nba_stats_glossary.csv')\n",
    "df_nba_stats_glossary=pd.read_csv('nba_stats_glossary.csv',index_col=0)\n",
    "df_nba_stats_glossary"
   ]
  },
  {
   "cell_type": "code",
   "execution_count": 64,
   "metadata": {},
   "outputs": [
    {
     "data": {
      "text/html": "<div>\n<style scoped>\n    .dataframe tbody tr th:only-of-type {\n        vertical-align: middle;\n    }\n\n    .dataframe tbody tr th {\n        vertical-align: top;\n    }\n\n    .dataframe thead th {\n        text-align: right;\n    }\n</style>\n<table border=\"1\" class=\"dataframe\">\n  <thead>\n    <tr style=\"text-align: right;\">\n      <th></th>\n      <th>STAT</th>\n      <th>PTS</th>\n    </tr>\n  </thead>\n  <tbody>\n    <tr>\n      <td>1</td>\n      <td>3PM</td>\n      <td>1</td>\n    </tr>\n    <tr>\n      <td>2</td>\n      <td>AST</td>\n      <td>1.5</td>\n    </tr>\n    <tr>\n      <td>3</td>\n      <td>BLK</td>\n      <td>3</td>\n    </tr>\n    <tr>\n      <td>4</td>\n      <td>FGM</td>\n      <td>2</td>\n    </tr>\n    <tr>\n      <td>5</td>\n      <td>FTM</td>\n      <td>1</td>\n    </tr>\n    <tr>\n      <td>6</td>\n      <td>REB</td>\n      <td>1.2</td>\n    </tr>\n    <tr>\n      <td>7</td>\n      <td>STL</td>\n      <td>3</td>\n    </tr>\n    <tr>\n      <td>8</td>\n      <td>TOV</td>\n      <td>-1</td>\n    </tr>\n  </tbody>\n</table>\n</div>",
      "text/plain": "  STAT   PTS\n1  3PM     1\n2  AST   1.5\n3  BLK     3\n4  FGM     2\n5  FTM     1\n6  REB   1.2\n7  STL     3\n8  TOV    -1"
     },
     "execution_count": 64,
     "metadata": {},
     "output_type": "execute_result"
    }
   ],
   "source": [
    "# df_pts = pd.read_clipboard(sep='|')\n",
    "# df_pts.columns = [col.strip() for col in df_pts.columns]\n",
    "# df_pts.drop(0,inplace=True)\n",
    "# df_pts = df_pts[['STAT','PTS']]\n",
    "# df_pts"
   ]
  },
  {
   "cell_type": "code",
   "execution_count": 71,
   "metadata": {},
   "outputs": [
    {
     "data": {
      "text/html": "<div>\n<style scoped>\n    .dataframe tbody tr th:only-of-type {\n        vertical-align: middle;\n    }\n\n    .dataframe tbody tr th {\n        vertical-align: top;\n    }\n\n    .dataframe thead th {\n        text-align: right;\n    }\n</style>\n<table border=\"1\" class=\"dataframe\">\n  <thead>\n    <tr style=\"text-align: right;\">\n      <th></th>\n      <th>STAT</th>\n      <th>PTS</th>\n    </tr>\n  </thead>\n  <tbody>\n    <tr>\n      <td>1</td>\n      <td>3PM</td>\n      <td>1.0</td>\n    </tr>\n    <tr>\n      <td>2</td>\n      <td>AST</td>\n      <td>1.5</td>\n    </tr>\n    <tr>\n      <td>3</td>\n      <td>BLK</td>\n      <td>3.0</td>\n    </tr>\n    <tr>\n      <td>4</td>\n      <td>FGM</td>\n      <td>2.0</td>\n    </tr>\n    <tr>\n      <td>5</td>\n      <td>FTM</td>\n      <td>1.0</td>\n    </tr>\n    <tr>\n      <td>6</td>\n      <td>REB</td>\n      <td>1.2</td>\n    </tr>\n    <tr>\n      <td>7</td>\n      <td>STL</td>\n      <td>3.0</td>\n    </tr>\n    <tr>\n      <td>8</td>\n      <td>TOV</td>\n      <td>-1.0</td>\n    </tr>\n  </tbody>\n</table>\n</div>",
      "text/plain": "  STAT  PTS\n1  3PM  1.0\n2  AST  1.5\n3  BLK  3.0\n4  FGM  2.0\n5  FTM  1.0\n6  REB  1.2\n7  STL  3.0\n8  TOV -1.0"
     },
     "execution_count": 71,
     "metadata": {},
     "output_type": "execute_result"
    }
   ],
   "source": [
    "# df_pts.to_csv('fantasy_points_conversion.csv')\n",
    "df_pts = pd.read_csv('fantasy_points_conversion.csv',index_col=0)\n",
    "df_pts"
   ]
  },
  {
   "cell_type": "markdown",
   "execution_count": null,
   "metadata": {},
   "outputs": [],
   "source": [
    "## SAVING PLAYER CSV\n",
    "- Now in ns.save_player_df"
   ]
  },
  {
   "cell_type": "code",
   "execution_count": 92,
   "metadata": {},
   "outputs": [
    {
     "data": {
      "text/html": "<div>\n<style scoped>\n    .dataframe tbody tr th:only-of-type {\n        vertical-align: middle;\n    }\n\n    .dataframe tbody tr th {\n        vertical-align: top;\n    }\n\n    .dataframe thead th {\n        text-align: right;\n    }\n</style>\n<table border=\"1\" class=\"dataframe\">\n  <thead>\n    <tr style=\"text-align: right;\">\n      <th></th>\n      <th>Match Up</th>\n      <th>W/L</th>\n      <th>MIN</th>\n      <th>PTS</th>\n      <th>FGM</th>\n      <th>FGA</th>\n      <th>FG%</th>\n      <th>3PM</th>\n      <th>3PA</th>\n      <th>3P%</th>\n      <th>FTM</th>\n      <th>FTA</th>\n      <th>FT%</th>\n      <th>OREB</th>\n      <th>DREB</th>\n      <th>REB</th>\n      <th>AST</th>\n      <th>STL</th>\n      <th>BLK</th>\n      <th>TOV</th>\n      <th>PF</th>\n      <th>+/-</th>\n      <th>teams</th>\n      <th>player_id</th>\n    </tr>\n    <tr>\n      <th>date</th>\n      <th></th>\n      <th></th>\n      <th></th>\n      <th></th>\n      <th></th>\n      <th></th>\n      <th></th>\n      <th></th>\n      <th></th>\n      <th></th>\n      <th></th>\n      <th></th>\n      <th></th>\n      <th></th>\n      <th></th>\n      <th></th>\n      <th></th>\n      <th></th>\n      <th></th>\n      <th></th>\n      <th></th>\n      <th></th>\n      <th></th>\n      <th></th>\n    </tr>\n  </thead>\n  <tbody>\n    <tr>\n      <td>2019-12-25</td>\n      <td>Dec 25, 2019 - BOS @ TOR</td>\n      <td>W</td>\n      <td>35</td>\n      <td>11</td>\n      <td>5</td>\n      <td>18</td>\n      <td>27.8</td>\n      <td>1</td>\n      <td>3</td>\n      <td>33.3</td>\n      <td>0</td>\n      <td>0</td>\n      <td>0.0</td>\n      <td>4</td>\n      <td>5</td>\n      <td>9</td>\n      <td>6</td>\n      <td>2</td>\n      <td>0</td>\n      <td>3</td>\n      <td>4</td>\n      <td>21</td>\n      <td>BOS @ TOR</td>\n      <td>1628369</td>\n    </tr>\n    <tr>\n      <td>2019-12-22</td>\n      <td>Dec 22, 2019 - BOS vs. CHA</td>\n      <td>W</td>\n      <td>36</td>\n      <td>39</td>\n      <td>15</td>\n      <td>29</td>\n      <td>51.7</td>\n      <td>4</td>\n      <td>9</td>\n      <td>44.4</td>\n      <td>5</td>\n      <td>5</td>\n      <td>100.0</td>\n      <td>1</td>\n      <td>11</td>\n      <td>12</td>\n      <td>2</td>\n      <td>1</td>\n      <td>3</td>\n      <td>2</td>\n      <td>1</td>\n      <td>10</td>\n      <td>BOS vs. CHA</td>\n      <td>1628369</td>\n    </tr>\n    <tr>\n      <td>2019-12-20</td>\n      <td>Dec 20, 2019 - BOS vs. DET</td>\n      <td>W</td>\n      <td>27</td>\n      <td>26</td>\n      <td>10</td>\n      <td>17</td>\n      <td>58.8</td>\n      <td>2</td>\n      <td>7</td>\n      <td>28.6</td>\n      <td>4</td>\n      <td>4</td>\n      <td>100.0</td>\n      <td>0</td>\n      <td>5</td>\n      <td>5</td>\n      <td>3</td>\n      <td>2</td>\n      <td>0</td>\n      <td>0</td>\n      <td>1</td>\n      <td>10</td>\n      <td>BOS vs. DET</td>\n      <td>1628369</td>\n    </tr>\n    <tr>\n      <td>2019-12-18</td>\n      <td>Dec 18, 2019 - BOS @ DAL</td>\n      <td>W</td>\n      <td>37</td>\n      <td>24</td>\n      <td>10</td>\n      <td>23</td>\n      <td>43.5</td>\n      <td>2</td>\n      <td>10</td>\n      <td>20.0</td>\n      <td>2</td>\n      <td>3</td>\n      <td>66.7</td>\n      <td>2</td>\n      <td>6</td>\n      <td>8</td>\n      <td>1</td>\n      <td>0</td>\n      <td>1</td>\n      <td>3</td>\n      <td>3</td>\n      <td>-2</td>\n      <td>BOS @ DAL</td>\n      <td>1628369</td>\n    </tr>\n    <tr>\n      <td>2019-12-12</td>\n      <td>Dec 12, 2019 - BOS vs. PHI</td>\n      <td>L</td>\n      <td>34</td>\n      <td>15</td>\n      <td>5</td>\n      <td>18</td>\n      <td>27.8</td>\n      <td>3</td>\n      <td>8</td>\n      <td>37.5</td>\n      <td>2</td>\n      <td>2</td>\n      <td>100.0</td>\n      <td>1</td>\n      <td>2</td>\n      <td>3</td>\n      <td>4</td>\n      <td>0</td>\n      <td>1</td>\n      <td>1</td>\n      <td>4</td>\n      <td>-2</td>\n      <td>BOS vs. PHI</td>\n      <td>1628369</td>\n    </tr>\n  </tbody>\n</table>\n</div>",
      "text/plain": "                              Match Up W/L  MIN  ...  +/-         teams  player_id\ndate                                             ...                              \n2019-12-25    Dec 25, 2019 - BOS @ TOR   W   35  ...   21     BOS @ TOR    1628369\n2019-12-22  Dec 22, 2019 - BOS vs. CHA   W   36  ...   10   BOS vs. CHA    1628369\n2019-12-20  Dec 20, 2019 - BOS vs. DET   W   27  ...   10   BOS vs. DET    1628369\n2019-12-18    Dec 18, 2019 - BOS @ DAL   W   37  ...   -2     BOS @ DAL    1628369\n2019-12-12  Dec 12, 2019 - BOS vs. PHI   L   34  ...   -2   BOS vs. PHI    1628369\n\n[5 rows x 24 columns]"
     },
     "execution_count": 92,
     "metadata": {},
     "output_type": "execute_result"
    }
   ],
   "source": [
    "# import os,sys\n",
    "# print(os.listdir())\n",
    "# os.makedirs(\"data/players/\" ,exist_ok=True)\n",
    "# # print('\\n\\n',os.listdir('/data'))\n",
    "df_full.head()"
   ]
  },
  {
   "cell_type": "code",
   "execution_count": 91,
   "metadata": {},
   "outputs": [],
   "source": [
    "filename=f\"data/players/player_id_{df_full['player_id'][0]}.csv\"\n",
    "filename\n",
    "df_full.to_csv(filename)"
   ]
  },
  {
   "cell_type": "markdown",
   "execution_count": null,
   "metadata": {},
   "outputs": [],
   "source": [
    "# CALCULATING FANTASY POINTS"
   ]
  },
  {
   "cell_type": "code",
   "execution_count": 93,
   "metadata": {},
   "outputs": [
    {
     "data": {
      "text/html": "<div>\n<style scoped>\n    .dataframe tbody tr th:only-of-type {\n        vertical-align: middle;\n    }\n\n    .dataframe tbody tr th {\n        vertical-align: top;\n    }\n\n    .dataframe thead th {\n        text-align: right;\n    }\n</style>\n<table border=\"1\" class=\"dataframe\">\n  <thead>\n    <tr style=\"text-align: right;\">\n      <th></th>\n      <th>STAT</th>\n      <th>PTS</th>\n    </tr>\n  </thead>\n  <tbody>\n    <tr>\n      <td>1</td>\n      <td>3PM</td>\n      <td>1.0</td>\n    </tr>\n    <tr>\n      <td>2</td>\n      <td>AST</td>\n      <td>1.5</td>\n    </tr>\n    <tr>\n      <td>3</td>\n      <td>BLK</td>\n      <td>3.0</td>\n    </tr>\n    <tr>\n      <td>4</td>\n      <td>FGM</td>\n      <td>2.0</td>\n    </tr>\n    <tr>\n      <td>5</td>\n      <td>FTM</td>\n      <td>1.0</td>\n    </tr>\n    <tr>\n      <td>6</td>\n      <td>REB</td>\n      <td>1.2</td>\n    </tr>\n    <tr>\n      <td>7</td>\n      <td>STL</td>\n      <td>3.0</td>\n    </tr>\n    <tr>\n      <td>8</td>\n      <td>TOV</td>\n      <td>-1.0</td>\n    </tr>\n  </tbody>\n</table>\n</div>",
      "text/plain": "  STAT  PTS\n1  3PM  1.0\n2  AST  1.5\n3  BLK  3.0\n4  FGM  2.0\n5  FTM  1.0\n6  REB  1.2\n7  STL  3.0\n8  TOV -1.0"
     },
     "execution_count": 93,
     "metadata": {},
     "output_type": "execute_result"
    }
   ],
   "source": [
    "points = pd.read_csv('fantasy_points_conversion.csv',index_col=0)\n",
    "points"
   ]
  },
  {
   "cell_type": "code",
   "execution_count": 111,
   "metadata": {},
   "outputs": [
    {
     "data": {
      "text/plain": "{'3PM': 1.0,\n 'AST': 1.5,\n 'BLK': 3.0,\n 'FGM': 2.0,\n 'FTM': 1.0,\n 'REB': 1.2,\n 'STL': 3.0,\n 'TOV': -1.0}"
     },
     "execution_count": 111,
     "metadata": {},
     "output_type": "execute_result"
    }
   ],
   "source": [
    "pts = dict(zip(points['STAT'],points['PTS']))\n",
    "pts"
   ]
  },
  {
   "cell_type": "code",
   "execution_count": 114,
   "metadata": {},
   "outputs": [
    {
     "data": {
      "text/html": "<div>\n<style scoped>\n    .dataframe tbody tr th:only-of-type {\n        vertical-align: middle;\n    }\n\n    .dataframe tbody tr th {\n        vertical-align: top;\n    }\n\n    .dataframe thead th {\n        text-align: right;\n    }\n</style>\n<table border=\"1\" class=\"dataframe\">\n  <thead>\n    <tr style=\"text-align: right;\">\n      <th></th>\n      <th>Match Up</th>\n      <th>W/L</th>\n      <th>MIN</th>\n      <th>PTS</th>\n      <th>FGM</th>\n      <th>FGA</th>\n      <th>FG%</th>\n      <th>3PM</th>\n      <th>3PA</th>\n      <th>3P%</th>\n      <th>FTM</th>\n      <th>FTA</th>\n      <th>FT%</th>\n      <th>OREB</th>\n      <th>DREB</th>\n      <th>REB</th>\n      <th>AST</th>\n      <th>STL</th>\n      <th>BLK</th>\n      <th>TOV</th>\n      <th>PF</th>\n      <th>+/-</th>\n      <th>teams</th>\n      <th>player_id</th>\n      <th>3PM_pts</th>\n      <th>AST_pts</th>\n      <th>BLK_pts</th>\n      <th>FGM_pts</th>\n      <th>FTM_pts</th>\n      <th>REB_pts</th>\n      <th>STL_pts</th>\n      <th>TOV_pts</th>\n      <th>total_pts</th>\n    </tr>\n    <tr>\n      <th>date</th>\n      <th></th>\n      <th></th>\n      <th></th>\n      <th></th>\n      <th></th>\n      <th></th>\n      <th></th>\n      <th></th>\n      <th></th>\n      <th></th>\n      <th></th>\n      <th></th>\n      <th></th>\n      <th></th>\n      <th></th>\n      <th></th>\n      <th></th>\n      <th></th>\n      <th></th>\n      <th></th>\n      <th></th>\n      <th></th>\n      <th></th>\n      <th></th>\n      <th></th>\n      <th></th>\n      <th></th>\n      <th></th>\n      <th></th>\n      <th></th>\n      <th></th>\n      <th></th>\n      <th></th>\n    </tr>\n  </thead>\n  <tbody>\n    <tr>\n      <td>2019-12-25</td>\n      <td>Dec 25, 2019 - BOS @ TOR</td>\n      <td>W</td>\n      <td>35</td>\n      <td>11</td>\n      <td>5</td>\n      <td>18</td>\n      <td>27.8</td>\n      <td>1</td>\n      <td>3</td>\n      <td>33.3</td>\n      <td>0</td>\n      <td>0</td>\n      <td>0.0</td>\n      <td>4</td>\n      <td>5</td>\n      <td>9</td>\n      <td>6</td>\n      <td>2</td>\n      <td>0</td>\n      <td>3</td>\n      <td>4</td>\n      <td>21</td>\n      <td>BOS @ TOR</td>\n      <td>1628369</td>\n      <td>1.0</td>\n      <td>9.0</td>\n      <td>0.0</td>\n      <td>10.0</td>\n      <td>0.0</td>\n      <td>10.8</td>\n      <td>6.0</td>\n      <td>-3.0</td>\n      <td>33.8</td>\n    </tr>\n    <tr>\n      <td>2019-12-22</td>\n      <td>Dec 22, 2019 - BOS vs. CHA</td>\n      <td>W</td>\n      <td>36</td>\n      <td>39</td>\n      <td>15</td>\n      <td>29</td>\n      <td>51.7</td>\n      <td>4</td>\n      <td>9</td>\n      <td>44.4</td>\n      <td>5</td>\n      <td>5</td>\n      <td>100.0</td>\n      <td>1</td>\n      <td>11</td>\n      <td>12</td>\n      <td>2</td>\n      <td>1</td>\n      <td>3</td>\n      <td>2</td>\n      <td>1</td>\n      <td>10</td>\n      <td>BOS vs. CHA</td>\n      <td>1628369</td>\n      <td>4.0</td>\n      <td>3.0</td>\n      <td>9.0</td>\n      <td>30.0</td>\n      <td>5.0</td>\n      <td>14.4</td>\n      <td>3.0</td>\n      <td>-2.0</td>\n      <td>66.4</td>\n    </tr>\n    <tr>\n      <td>2019-12-20</td>\n      <td>Dec 20, 2019 - BOS vs. DET</td>\n      <td>W</td>\n      <td>27</td>\n      <td>26</td>\n      <td>10</td>\n      <td>17</td>\n      <td>58.8</td>\n      <td>2</td>\n      <td>7</td>\n      <td>28.6</td>\n      <td>4</td>\n      <td>4</td>\n      <td>100.0</td>\n      <td>0</td>\n      <td>5</td>\n      <td>5</td>\n      <td>3</td>\n      <td>2</td>\n      <td>0</td>\n      <td>0</td>\n      <td>1</td>\n      <td>10</td>\n      <td>BOS vs. DET</td>\n      <td>1628369</td>\n      <td>2.0</td>\n      <td>4.5</td>\n      <td>0.0</td>\n      <td>20.0</td>\n      <td>4.0</td>\n      <td>6.0</td>\n      <td>6.0</td>\n      <td>-0.0</td>\n      <td>42.5</td>\n    </tr>\n    <tr>\n      <td>2019-12-18</td>\n      <td>Dec 18, 2019 - BOS @ DAL</td>\n      <td>W</td>\n      <td>37</td>\n      <td>24</td>\n      <td>10</td>\n      <td>23</td>\n      <td>43.5</td>\n      <td>2</td>\n      <td>10</td>\n      <td>20.0</td>\n      <td>2</td>\n      <td>3</td>\n      <td>66.7</td>\n      <td>2</td>\n      <td>6</td>\n      <td>8</td>\n      <td>1</td>\n      <td>0</td>\n      <td>1</td>\n      <td>3</td>\n      <td>3</td>\n      <td>-2</td>\n      <td>BOS @ DAL</td>\n      <td>1628369</td>\n      <td>2.0</td>\n      <td>1.5</td>\n      <td>3.0</td>\n      <td>20.0</td>\n      <td>2.0</td>\n      <td>9.6</td>\n      <td>0.0</td>\n      <td>-3.0</td>\n      <td>35.1</td>\n    </tr>\n    <tr>\n      <td>2019-12-12</td>\n      <td>Dec 12, 2019 - BOS vs. PHI</td>\n      <td>L</td>\n      <td>34</td>\n      <td>15</td>\n      <td>5</td>\n      <td>18</td>\n      <td>27.8</td>\n      <td>3</td>\n      <td>8</td>\n      <td>37.5</td>\n      <td>2</td>\n      <td>2</td>\n      <td>100.0</td>\n      <td>1</td>\n      <td>2</td>\n      <td>3</td>\n      <td>4</td>\n      <td>0</td>\n      <td>1</td>\n      <td>1</td>\n      <td>4</td>\n      <td>-2</td>\n      <td>BOS vs. PHI</td>\n      <td>1628369</td>\n      <td>3.0</td>\n      <td>6.0</td>\n      <td>3.0</td>\n      <td>10.0</td>\n      <td>2.0</td>\n      <td>3.6</td>\n      <td>0.0</td>\n      <td>-1.0</td>\n      <td>26.6</td>\n    </tr>\n    <tr>\n      <td>...</td>\n      <td>...</td>\n      <td>...</td>\n      <td>...</td>\n      <td>...</td>\n      <td>...</td>\n      <td>...</td>\n      <td>...</td>\n      <td>...</td>\n      <td>...</td>\n      <td>...</td>\n      <td>...</td>\n      <td>...</td>\n      <td>...</td>\n      <td>...</td>\n      <td>...</td>\n      <td>...</td>\n      <td>...</td>\n      <td>...</td>\n      <td>...</td>\n      <td>...</td>\n      <td>...</td>\n      <td>...</td>\n      <td>...</td>\n      <td>...</td>\n      <td>...</td>\n      <td>...</td>\n      <td>...</td>\n      <td>...</td>\n      <td>...</td>\n      <td>...</td>\n      <td>...</td>\n      <td>...</td>\n      <td>...</td>\n    </tr>\n    <tr>\n      <td>2017-12-21</td>\n      <td>Dec 21, 2017 - BOS @ NYK</td>\n      <td>L</td>\n      <td>34</td>\n      <td>17</td>\n      <td>6</td>\n      <td>10</td>\n      <td>60.0</td>\n      <td>2</td>\n      <td>6</td>\n      <td>33.3</td>\n      <td>3</td>\n      <td>4</td>\n      <td>75.0</td>\n      <td>1</td>\n      <td>2</td>\n      <td>3</td>\n      <td>0</td>\n      <td>2</td>\n      <td>0</td>\n      <td>3</td>\n      <td>1</td>\n      <td>-6</td>\n      <td>BOS @ NYK</td>\n      <td>1628369</td>\n      <td>2.0</td>\n      <td>0.0</td>\n      <td>0.0</td>\n      <td>12.0</td>\n      <td>3.0</td>\n      <td>3.6</td>\n      <td>6.0</td>\n      <td>-3.0</td>\n      <td>23.6</td>\n    </tr>\n    <tr>\n      <td>2017-12-20</td>\n      <td>Dec 20, 2017 - BOS vs. MIA</td>\n      <td>L</td>\n      <td>28</td>\n      <td>11</td>\n      <td>4</td>\n      <td>9</td>\n      <td>44.4</td>\n      <td>0</td>\n      <td>2</td>\n      <td>0.0</td>\n      <td>3</td>\n      <td>4</td>\n      <td>75.0</td>\n      <td>0</td>\n      <td>7</td>\n      <td>7</td>\n      <td>2</td>\n      <td>0</td>\n      <td>1</td>\n      <td>1</td>\n      <td>2</td>\n      <td>3</td>\n      <td>BOS vs. MIA</td>\n      <td>1628369</td>\n      <td>0.0</td>\n      <td>3.0</td>\n      <td>3.0</td>\n      <td>8.0</td>\n      <td>3.0</td>\n      <td>8.4</td>\n      <td>0.0</td>\n      <td>-1.0</td>\n      <td>24.4</td>\n    </tr>\n    <tr>\n      <td>2017-12-18</td>\n      <td>Dec 18, 2017 - BOS @ IND</td>\n      <td>W</td>\n      <td>31</td>\n      <td>16</td>\n      <td>6</td>\n      <td>8</td>\n      <td>75.0</td>\n      <td>1</td>\n      <td>1</td>\n      <td>100.0</td>\n      <td>3</td>\n      <td>3</td>\n      <td>100.0</td>\n      <td>0</td>\n      <td>5</td>\n      <td>5</td>\n      <td>4</td>\n      <td>1</td>\n      <td>1</td>\n      <td>2</td>\n      <td>3</td>\n      <td>6</td>\n      <td>BOS @ IND</td>\n      <td>1628369</td>\n      <td>1.0</td>\n      <td>6.0</td>\n      <td>3.0</td>\n      <td>12.0</td>\n      <td>3.0</td>\n      <td>6.0</td>\n      <td>3.0</td>\n      <td>-2.0</td>\n      <td>32.0</td>\n    </tr>\n    <tr>\n      <td>2017-12-16</td>\n      <td>Dec 16, 2017 - BOS @ MEM</td>\n      <td>W</td>\n      <td>34</td>\n      <td>19</td>\n      <td>7</td>\n      <td>13</td>\n      <td>53.8</td>\n      <td>2</td>\n      <td>2</td>\n      <td>100.0</td>\n      <td>3</td>\n      <td>3</td>\n      <td>100.0</td>\n      <td>6</td>\n      <td>4</td>\n      <td>10</td>\n      <td>1</td>\n      <td>2</td>\n      <td>2</td>\n      <td>0</td>\n      <td>1</td>\n      <td>21</td>\n      <td>BOS @ MEM</td>\n      <td>1628369</td>\n      <td>2.0</td>\n      <td>1.5</td>\n      <td>6.0</td>\n      <td>14.0</td>\n      <td>3.0</td>\n      <td>12.0</td>\n      <td>6.0</td>\n      <td>-0.0</td>\n      <td>44.5</td>\n    </tr>\n    <tr>\n      <td>2017-12-15</td>\n      <td>Dec 15, 2017 - BOS vs. UTA</td>\n      <td>L</td>\n      <td>26</td>\n      <td>7</td>\n      <td>1</td>\n      <td>6</td>\n      <td>16.7</td>\n      <td>1</td>\n      <td>3</td>\n      <td>33.3</td>\n      <td>4</td>\n      <td>4</td>\n      <td>100.0</td>\n      <td>0</td>\n      <td>4</td>\n      <td>4</td>\n      <td>2</td>\n      <td>0</td>\n      <td>0</td>\n      <td>1</td>\n      <td>4</td>\n      <td>-7</td>\n      <td>BOS vs. UTA</td>\n      <td>1628369</td>\n      <td>1.0</td>\n      <td>3.0</td>\n      <td>0.0</td>\n      <td>2.0</td>\n      <td>4.0</td>\n      <td>4.8</td>\n      <td>0.0</td>\n      <td>-1.0</td>\n      <td>13.8</td>\n    </tr>\n  </tbody>\n</table>\n<p>128 rows × 33 columns</p>\n</div>",
      "text/plain": "                              Match Up W/L  MIN  ...  STL_pts  TOV_pts  total_pts\ndate                                             ...                             \n2019-12-25    Dec 25, 2019 - BOS @ TOR   W   35  ...      6.0     -3.0       33.8\n2019-12-22  Dec 22, 2019 - BOS vs. CHA   W   36  ...      3.0     -2.0       66.4\n2019-12-20  Dec 20, 2019 - BOS vs. DET   W   27  ...      6.0     -0.0       42.5\n2019-12-18    Dec 18, 2019 - BOS @ DAL   W   37  ...      0.0     -3.0       35.1\n2019-12-12  Dec 12, 2019 - BOS vs. PHI   L   34  ...      0.0     -1.0       26.6\n...                                ...  ..  ...  ...      ...      ...        ...\n2017-12-21    Dec 21, 2017 - BOS @ NYK   L   34  ...      6.0     -3.0       23.6\n2017-12-20  Dec 20, 2017 - BOS vs. MIA   L   28  ...      0.0     -1.0       24.4\n2017-12-18    Dec 18, 2017 - BOS @ IND   W   31  ...      3.0     -2.0       32.0\n2017-12-16    Dec 16, 2017 - BOS @ MEM   W   34  ...      6.0     -0.0       44.5\n2017-12-15  Dec 15, 2017 - BOS vs. UTA   L   26  ...      0.0     -1.0       13.8\n\n[128 rows x 33 columns]"
     },
     "execution_count": 114,
     "metadata": {},
     "output_type": "execute_result"
    }
   ],
   "source": [
    "df_fantasy = df_full.copy()\n",
    "pts_cols= []\n",
    "for k,v in pts.items():\n",
    "    col_name = k+'_pts'\n",
    "    df_fantasy[col_name] = df_fantasy[k].apply(lambda x: x*pts[k])\n",
    "    pts_cols.append(col_name)\n",
    "\n",
    "\n",
    "df_fantasy['total_pts'] = df_fantasy.apply(lambda x: x[pts_cols].sum(),axis=1)\n",
    "df_fantasy\n",
    "    "
   ]
  },
  {
   "cell_type": "code",
   "execution_count": 115,
   "metadata": {},
   "outputs": [
    {
     "name": "stdout",
     "output_type": "stream",
     "text": "Reloading...\n\n"
    }
   ],
   "source": [
    "fs.reload(ns)\n",
    "test_df = ns.calc_fantasy_stats(df_full)"
   ]
  },
  {
   "cell_type": "code",
   "execution_count": 116,
   "metadata": {},
   "outputs": [
    {
     "data": {
      "text/html": "<div>\n<style scoped>\n    .dataframe tbody tr th:only-of-type {\n        vertical-align: middle;\n    }\n\n    .dataframe tbody tr th {\n        vertical-align: top;\n    }\n\n    .dataframe thead th {\n        text-align: right;\n    }\n</style>\n<table border=\"1\" class=\"dataframe\">\n  <thead>\n    <tr style=\"text-align: right;\">\n      <th></th>\n      <th>Match Up</th>\n      <th>W/L</th>\n      <th>MIN</th>\n      <th>PTS</th>\n      <th>FGM</th>\n      <th>FGA</th>\n      <th>FG%</th>\n      <th>3PM</th>\n      <th>3PA</th>\n      <th>3P%</th>\n      <th>FTM</th>\n      <th>FTA</th>\n      <th>FT%</th>\n      <th>OREB</th>\n      <th>DREB</th>\n      <th>REB</th>\n      <th>AST</th>\n      <th>STL</th>\n      <th>BLK</th>\n      <th>TOV</th>\n      <th>PF</th>\n      <th>+/-</th>\n      <th>teams</th>\n      <th>player_id</th>\n      <th>3PM_pts</th>\n      <th>AST_pts</th>\n      <th>BLK_pts</th>\n      <th>FGM_pts</th>\n      <th>FTM_pts</th>\n      <th>REB_pts</th>\n      <th>STL_pts</th>\n      <th>TOV_pts</th>\n      <th>total_pts</th>\n    </tr>\n    <tr>\n      <th>date</th>\n      <th></th>\n      <th></th>\n      <th></th>\n      <th></th>\n      <th></th>\n      <th></th>\n      <th></th>\n      <th></th>\n      <th></th>\n      <th></th>\n      <th></th>\n      <th></th>\n      <th></th>\n      <th></th>\n      <th></th>\n      <th></th>\n      <th></th>\n      <th></th>\n      <th></th>\n      <th></th>\n      <th></th>\n      <th></th>\n      <th></th>\n      <th></th>\n      <th></th>\n      <th></th>\n      <th></th>\n      <th></th>\n      <th></th>\n      <th></th>\n      <th></th>\n      <th></th>\n      <th></th>\n    </tr>\n  </thead>\n  <tbody>\n    <tr>\n      <td>2019-12-25</td>\n      <td>Dec 25, 2019 - BOS @ TOR</td>\n      <td>W</td>\n      <td>35</td>\n      <td>11</td>\n      <td>5</td>\n      <td>18</td>\n      <td>27.8</td>\n      <td>1</td>\n      <td>3</td>\n      <td>33.3</td>\n      <td>0</td>\n      <td>0</td>\n      <td>0.0</td>\n      <td>4</td>\n      <td>5</td>\n      <td>9</td>\n      <td>6</td>\n      <td>2</td>\n      <td>0</td>\n      <td>3</td>\n      <td>4</td>\n      <td>21</td>\n      <td>BOS @ TOR</td>\n      <td>1628369</td>\n      <td>1.0</td>\n      <td>9.0</td>\n      <td>0.0</td>\n      <td>10.0</td>\n      <td>0.0</td>\n      <td>10.8</td>\n      <td>6.0</td>\n      <td>-3.0</td>\n      <td>33.8</td>\n    </tr>\n    <tr>\n      <td>2019-12-22</td>\n      <td>Dec 22, 2019 - BOS vs. CHA</td>\n      <td>W</td>\n      <td>36</td>\n      <td>39</td>\n      <td>15</td>\n      <td>29</td>\n      <td>51.7</td>\n      <td>4</td>\n      <td>9</td>\n      <td>44.4</td>\n      <td>5</td>\n      <td>5</td>\n      <td>100.0</td>\n      <td>1</td>\n      <td>11</td>\n      <td>12</td>\n      <td>2</td>\n      <td>1</td>\n      <td>3</td>\n      <td>2</td>\n      <td>1</td>\n      <td>10</td>\n      <td>BOS vs. CHA</td>\n      <td>1628369</td>\n      <td>4.0</td>\n      <td>3.0</td>\n      <td>9.0</td>\n      <td>30.0</td>\n      <td>5.0</td>\n      <td>14.4</td>\n      <td>3.0</td>\n      <td>-2.0</td>\n      <td>66.4</td>\n    </tr>\n    <tr>\n      <td>2019-12-20</td>\n      <td>Dec 20, 2019 - BOS vs. DET</td>\n      <td>W</td>\n      <td>27</td>\n      <td>26</td>\n      <td>10</td>\n      <td>17</td>\n      <td>58.8</td>\n      <td>2</td>\n      <td>7</td>\n      <td>28.6</td>\n      <td>4</td>\n      <td>4</td>\n      <td>100.0</td>\n      <td>0</td>\n      <td>5</td>\n      <td>5</td>\n      <td>3</td>\n      <td>2</td>\n      <td>0</td>\n      <td>0</td>\n      <td>1</td>\n      <td>10</td>\n      <td>BOS vs. DET</td>\n      <td>1628369</td>\n      <td>2.0</td>\n      <td>4.5</td>\n      <td>0.0</td>\n      <td>20.0</td>\n      <td>4.0</td>\n      <td>6.0</td>\n      <td>6.0</td>\n      <td>-0.0</td>\n      <td>42.5</td>\n    </tr>\n    <tr>\n      <td>2019-12-18</td>\n      <td>Dec 18, 2019 - BOS @ DAL</td>\n      <td>W</td>\n      <td>37</td>\n      <td>24</td>\n      <td>10</td>\n      <td>23</td>\n      <td>43.5</td>\n      <td>2</td>\n      <td>10</td>\n      <td>20.0</td>\n      <td>2</td>\n      <td>3</td>\n      <td>66.7</td>\n      <td>2</td>\n      <td>6</td>\n      <td>8</td>\n      <td>1</td>\n      <td>0</td>\n      <td>1</td>\n      <td>3</td>\n      <td>3</td>\n      <td>-2</td>\n      <td>BOS @ DAL</td>\n      <td>1628369</td>\n      <td>2.0</td>\n      <td>1.5</td>\n      <td>3.0</td>\n      <td>20.0</td>\n      <td>2.0</td>\n      <td>9.6</td>\n      <td>0.0</td>\n      <td>-3.0</td>\n      <td>35.1</td>\n    </tr>\n    <tr>\n      <td>2019-12-12</td>\n      <td>Dec 12, 2019 - BOS vs. PHI</td>\n      <td>L</td>\n      <td>34</td>\n      <td>15</td>\n      <td>5</td>\n      <td>18</td>\n      <td>27.8</td>\n      <td>3</td>\n      <td>8</td>\n      <td>37.5</td>\n      <td>2</td>\n      <td>2</td>\n      <td>100.0</td>\n      <td>1</td>\n      <td>2</td>\n      <td>3</td>\n      <td>4</td>\n      <td>0</td>\n      <td>1</td>\n      <td>1</td>\n      <td>4</td>\n      <td>-2</td>\n      <td>BOS vs. PHI</td>\n      <td>1628369</td>\n      <td>3.0</td>\n      <td>6.0</td>\n      <td>3.0</td>\n      <td>10.0</td>\n      <td>2.0</td>\n      <td>3.6</td>\n      <td>0.0</td>\n      <td>-1.0</td>\n      <td>26.6</td>\n    </tr>\n    <tr>\n      <td>...</td>\n      <td>...</td>\n      <td>...</td>\n      <td>...</td>\n      <td>...</td>\n      <td>...</td>\n      <td>...</td>\n      <td>...</td>\n      <td>...</td>\n      <td>...</td>\n      <td>...</td>\n      <td>...</td>\n      <td>...</td>\n      <td>...</td>\n      <td>...</td>\n      <td>...</td>\n      <td>...</td>\n      <td>...</td>\n      <td>...</td>\n      <td>...</td>\n      <td>...</td>\n      <td>...</td>\n      <td>...</td>\n      <td>...</td>\n      <td>...</td>\n      <td>...</td>\n      <td>...</td>\n      <td>...</td>\n      <td>...</td>\n      <td>...</td>\n      <td>...</td>\n      <td>...</td>\n      <td>...</td>\n      <td>...</td>\n    </tr>\n    <tr>\n      <td>2017-12-21</td>\n      <td>Dec 21, 2017 - BOS @ NYK</td>\n      <td>L</td>\n      <td>34</td>\n      <td>17</td>\n      <td>6</td>\n      <td>10</td>\n      <td>60.0</td>\n      <td>2</td>\n      <td>6</td>\n      <td>33.3</td>\n      <td>3</td>\n      <td>4</td>\n      <td>75.0</td>\n      <td>1</td>\n      <td>2</td>\n      <td>3</td>\n      <td>0</td>\n      <td>2</td>\n      <td>0</td>\n      <td>3</td>\n      <td>1</td>\n      <td>-6</td>\n      <td>BOS @ NYK</td>\n      <td>1628369</td>\n      <td>2.0</td>\n      <td>0.0</td>\n      <td>0.0</td>\n      <td>12.0</td>\n      <td>3.0</td>\n      <td>3.6</td>\n      <td>6.0</td>\n      <td>-3.0</td>\n      <td>23.6</td>\n    </tr>\n    <tr>\n      <td>2017-12-20</td>\n      <td>Dec 20, 2017 - BOS vs. MIA</td>\n      <td>L</td>\n      <td>28</td>\n      <td>11</td>\n      <td>4</td>\n      <td>9</td>\n      <td>44.4</td>\n      <td>0</td>\n      <td>2</td>\n      <td>0.0</td>\n      <td>3</td>\n      <td>4</td>\n      <td>75.0</td>\n      <td>0</td>\n      <td>7</td>\n      <td>7</td>\n      <td>2</td>\n      <td>0</td>\n      <td>1</td>\n      <td>1</td>\n      <td>2</td>\n      <td>3</td>\n      <td>BOS vs. MIA</td>\n      <td>1628369</td>\n      <td>0.0</td>\n      <td>3.0</td>\n      <td>3.0</td>\n      <td>8.0</td>\n      <td>3.0</td>\n      <td>8.4</td>\n      <td>0.0</td>\n      <td>-1.0</td>\n      <td>24.4</td>\n    </tr>\n    <tr>\n      <td>2017-12-18</td>\n      <td>Dec 18, 2017 - BOS @ IND</td>\n      <td>W</td>\n      <td>31</td>\n      <td>16</td>\n      <td>6</td>\n      <td>8</td>\n      <td>75.0</td>\n      <td>1</td>\n      <td>1</td>\n      <td>100.0</td>\n      <td>3</td>\n      <td>3</td>\n      <td>100.0</td>\n      <td>0</td>\n      <td>5</td>\n      <td>5</td>\n      <td>4</td>\n      <td>1</td>\n      <td>1</td>\n      <td>2</td>\n      <td>3</td>\n      <td>6</td>\n      <td>BOS @ IND</td>\n      <td>1628369</td>\n      <td>1.0</td>\n      <td>6.0</td>\n      <td>3.0</td>\n      <td>12.0</td>\n      <td>3.0</td>\n      <td>6.0</td>\n      <td>3.0</td>\n      <td>-2.0</td>\n      <td>32.0</td>\n    </tr>\n    <tr>\n      <td>2017-12-16</td>\n      <td>Dec 16, 2017 - BOS @ MEM</td>\n      <td>W</td>\n      <td>34</td>\n      <td>19</td>\n      <td>7</td>\n      <td>13</td>\n      <td>53.8</td>\n      <td>2</td>\n      <td>2</td>\n      <td>100.0</td>\n      <td>3</td>\n      <td>3</td>\n      <td>100.0</td>\n      <td>6</td>\n      <td>4</td>\n      <td>10</td>\n      <td>1</td>\n      <td>2</td>\n      <td>2</td>\n      <td>0</td>\n      <td>1</td>\n      <td>21</td>\n      <td>BOS @ MEM</td>\n      <td>1628369</td>\n      <td>2.0</td>\n      <td>1.5</td>\n      <td>6.0</td>\n      <td>14.0</td>\n      <td>3.0</td>\n      <td>12.0</td>\n      <td>6.0</td>\n      <td>-0.0</td>\n      <td>44.5</td>\n    </tr>\n    <tr>\n      <td>2017-12-15</td>\n      <td>Dec 15, 2017 - BOS vs. UTA</td>\n      <td>L</td>\n      <td>26</td>\n      <td>7</td>\n      <td>1</td>\n      <td>6</td>\n      <td>16.7</td>\n      <td>1</td>\n      <td>3</td>\n      <td>33.3</td>\n      <td>4</td>\n      <td>4</td>\n      <td>100.0</td>\n      <td>0</td>\n      <td>4</td>\n      <td>4</td>\n      <td>2</td>\n      <td>0</td>\n      <td>0</td>\n      <td>1</td>\n      <td>4</td>\n      <td>-7</td>\n      <td>BOS vs. UTA</td>\n      <td>1628369</td>\n      <td>1.0</td>\n      <td>3.0</td>\n      <td>0.0</td>\n      <td>2.0</td>\n      <td>4.0</td>\n      <td>4.8</td>\n      <td>0.0</td>\n      <td>-1.0</td>\n      <td>13.8</td>\n    </tr>\n  </tbody>\n</table>\n<p>128 rows × 33 columns</p>\n</div>",
      "text/plain": "                              Match Up W/L  MIN  ...  STL_pts  TOV_pts  total_pts\ndate                                             ...                             \n2019-12-25    Dec 25, 2019 - BOS @ TOR   W   35  ...      6.0     -3.0       33.8\n2019-12-22  Dec 22, 2019 - BOS vs. CHA   W   36  ...      3.0     -2.0       66.4\n2019-12-20  Dec 20, 2019 - BOS vs. DET   W   27  ...      6.0     -0.0       42.5\n2019-12-18    Dec 18, 2019 - BOS @ DAL   W   37  ...      0.0     -3.0       35.1\n2019-12-12  Dec 12, 2019 - BOS vs. PHI   L   34  ...      0.0     -1.0       26.6\n...                                ...  ..  ...  ...      ...      ...        ...\n2017-12-21    Dec 21, 2017 - BOS @ NYK   L   34  ...      6.0     -3.0       23.6\n2017-12-20  Dec 20, 2017 - BOS vs. MIA   L   28  ...      0.0     -1.0       24.4\n2017-12-18    Dec 18, 2017 - BOS @ IND   W   31  ...      3.0     -2.0       32.0\n2017-12-16    Dec 16, 2017 - BOS @ MEM   W   34  ...      6.0     -0.0       44.5\n2017-12-15  Dec 15, 2017 - BOS vs. UTA   L   26  ...      0.0     -1.0       13.8\n\n[128 rows x 33 columns]"
     },
     "execution_count": 116,
     "metadata": {},
     "output_type": "execute_result"
    }
   ],
   "source": [
    "test_df"
   ]
  },
  {
   "cell_type": "markdown",
   "execution_count": null,
   "metadata": {},
   "outputs": [],
   "source": [
    "# WORKFLOW SUMMARY"
   ]
  },
  {
   "cell_type": "markdown",
   "execution_count": null,
   "metadata": {},
   "outputs": [],
   "source": [
    "1. Get player's nba_stats id#\n",
    "2. `import nba_stats as ns`\n",
    "3. Can directly run `df = ns.get_all_seasons_df(player_id= the_players_id)` (see note below: \\$:)\n",
    "4. `df = ns.calc_fantasy_stats(df)`\n",
    "5. `ns.save_player_df(df)`\n",
    "\n",
    "\\$: Can instead run helper functions individually if don't want all seasons\n",
    "- `season_urls=ns.make_season_urls_from_playerid`\n",
    "- `df = ns.get_season_df(season_url[0])`\n",
    "\n",
    "\n",
    "\n"
   ]
  },
  {
   "cell_type": "code",
   "execution_count": 118,
   "metadata": {},
   "outputs": [],
   "source": [
    "import nba_stats as ns\n",
    "player_id=1628369\n",
    "df = ns.get_all_seasons_df(player_id=player_id)\n",
    "df = ns.calc_fantasy_stats(df)\n",
    "ns.save_player_df(df)\n"
   ]
  },
  {
   "cell_type": "code",
   "execution_count": 0,
   "metadata": {},
   "outputs": [],
   "source": [
    "df"
   ]
  },
  {
   "cell_type": "code",
   "execution_count": null,
   "metadata": {},
   "outputs": [],
   "source": []
  }
 ]
}